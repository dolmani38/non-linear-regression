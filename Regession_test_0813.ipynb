{
  "nbformat": 4,
  "nbformat_minor": 0,
  "metadata": {
    "colab": {
      "name": "Untitled3.ipynb",
      "provenance": [],
      "authorship_tag": "ABX9TyMdHfs2I2+V+FlaVDLbymNW",
      "include_colab_link": true
    },
    "kernelspec": {
      "name": "python3",
      "display_name": "Python 3"
    },
    "accelerator": "GPU"
  },
  "cells": [
    {
      "cell_type": "markdown",
      "metadata": {
        "id": "view-in-github",
        "colab_type": "text"
      },
      "source": [
        "<a href=\"https://colab.research.google.com/github/dolmani38/non-linear-regression/blob/master/Regession_test_0813.ipynb\" target=\"_parent\"><img src=\"https://colab.research.google.com/assets/colab-badge.svg\" alt=\"Open In Colab\"/></a>"
      ]
    },
    {
      "cell_type": "code",
      "metadata": {
        "id": "mF_FfL2i1yWV",
        "colab_type": "code",
        "colab": {
          "base_uri": "https://localhost:8080/",
          "height": 521
        },
        "outputId": "a0e6062c-bca7-4887-ace6-ac3acfee5978"
      },
      "source": [
        "!pip install lime\n",
        "\n",
        "import numpy as np\n",
        "import pandas as pd\n",
        "import numpy as np\n",
        "import pandas as pd\n",
        "import keras\n",
        "from keras.models import Sequential\n",
        "from keras.layers import Dense, BatchNormalization\n",
        "from keras.layers import Input, Embedding, Dense\n",
        "from keras.models import Model\n",
        "from keras.callbacks import Callback\n",
        "import matplotlib.pyplot as plt\n",
        "from sklearn.model_selection import train_test_split\n",
        "from lime import lime_tabular, lime_text\n",
        "from keras.utils import to_categorical\n",
        "import datetime\n",
        "import random\n",
        "\n",
        "# Bayesian Methods for Hackers style sheet\n",
        "plt.style.use('bmh')\n",
        "\n",
        "np.random.seed(1234567890)\n",
        "\n",
        "from keras import backend as K\n",
        "\n",
        "def r2(y_true, y_pred):\n",
        "    \"\"\"\n",
        "    # custom R2-score metrics for keras backend\n",
        "    :param y_true: 실측 데이터\n",
        "    :param y_pred: 모델에 의한 예측 데이테\n",
        "    :return: R^2 value, 이 값이 높다고 (예:0.99)해서 예측 값이 정확 하다고 할 수 는 없음...\n",
        "    \"\"\"\n",
        "    SS_res = K.sum(K.square(y_true - y_pred))\n",
        "    SS_tot = K.sum(K.square(y_true - K.mean(y_true)))\n",
        "    return (1 - SS_res / (SS_tot + K.epsilon()))\n",
        "\n",
        "def soft_500_acc(y_true, y_pred):\n",
        "    delta = 500\n",
        "    return K.mean(K.less_equal(K.abs(y_true-y_pred),delta))\n",
        "\n",
        "def soft_1000_acc(y_true, y_pred):\n",
        "    delta = 1000\n",
        "    return K.mean(K.less_equal(K.abs(y_true-y_pred),delta))\n",
        "\n",
        "def soft_10000_acc(y_true, y_pred):\n",
        "    delta = 10000\n",
        "    return K.mean(K.less_equal(K.abs(y_true-y_pred),delta))\n",
        "\n",
        "def soft_5perc_acc(y_true, y_pred):\n",
        "    delta = 0.05\n",
        "    return K.mean(K.less_equal(K.abs((y_true-y_pred)/y_true),delta))\n",
        "\n",
        "def soft_10perc_acc(y_true, y_pred):\n",
        "    delta = 0.10\n",
        "    return K.mean(K.less_equal(K.abs((y_true-y_pred)/y_true),delta))\n",
        "\n",
        "\n",
        "def structure(df):\n",
        "    \"\"\"\n",
        "    DataFrame의 column 등 전반적인 구조를 표출 한다.\n",
        "    :param df:\n",
        "    :return:\n",
        "    \"\"\"\n",
        "    df1 = df.describe(include='all').T\n",
        "    df1['type'] = df.dtypes\n",
        "    df1['null count'] = df.isnull().sum()\n",
        "    if 'freq' in df1.columns:\n",
        "        df2 = df1[\n",
        "            ['type', 'count', 'null count', 'mean', 'std', 'min', '25%', '50%', '75%', 'max', 'unique', 'top',\n",
        "             'freq']]\n",
        "    else:\n",
        "        df2 = df1[['type', 'count', 'null count', 'mean', 'std', 'min', '25%', '50%', '75%', 'max']]\n",
        "\n",
        "    return df2\n",
        "\n",
        "class EmbeddingMapping():\n",
        "    \"\"\"\n",
        "    Helper class for handling categorical variables\n",
        "    An instance of this class should be defined for each categorical variable we want to use.\n",
        "    \"\"\"\n",
        "    def __init__(self, series):\n",
        "        # get a list of unique values\n",
        "        values = series.unique().tolist()\n",
        "        \n",
        "        # Set a dictionary mapping from values to integer value\n",
        "        # In our example this will be {'Mercaz': 1, 'Old North': 2, 'Florentine': 3}\n",
        "        self.embedding_dict = {value: int_value+1 for int_value, value in enumerate(values)}\n",
        "        \n",
        "        # The num_values will be used as the input_dim when defining the embedding layer. \n",
        "        # It will also be returned for unseen values \n",
        "        self.num_values = len(values) + 1\n",
        "\n",
        "    def get_mapping(self, value):\n",
        "        # If the value was seen in the training set, return its integer mapping\n",
        "        if value in self.embedding_dict:\n",
        "            return self.embedding_dict[value]\n",
        "        \n",
        "        # Else, return the same integer for unseen values\n",
        "        else:\n",
        "            return self.num_values\n",
        "            \n",
        "class VerboseCallback(keras.callbacks.Callback):\n",
        "    \"\"\"\n",
        "    kerase.model.fit 함수에서, log 출력을 위한 callback\n",
        "    \"\"\"\n",
        "    def __init__(self, epoch):\n",
        "        self.epoch = epoch\n",
        "        self.progress(\"learning:\", 0, [])\n",
        "\n",
        "    def progress(self, text, current=0, log=None):\n",
        "        g = self.epoch - current\n",
        "        f = 50 / self.epoch\n",
        "        c = int(current * f)\n",
        "        pg = ['=' for i in range(c)] + ['.' for i in range(50 - c)]\n",
        "        print(\"\\r\" + str(text) + \"{}/{}[{}]{}\".format(current, self.epoch, ''.join(pg), ('' if log is None else str(log).strip())),\n",
        "              end=\"\", flush=True)\n",
        "        if self.epoch - current == 0:\n",
        "            print(\"\")\n",
        "\n",
        "    def on_epoch_end(self, epoch, logs=None):\n",
        "        self.progress(\"learning:\", epoch + 1, logs)\n",
        "\n",
        "\n",
        "class PeriodicLogger(Callback):\n",
        "    \"\"\"\n",
        "    A helper callback class that only prints the losses once in 'display' epochs\n",
        "    \"\"\"\n",
        "    def __init__(self, display=100):\n",
        "        self.display = display\n",
        "\n",
        "    def on_train_begin(self, logs={}):      \n",
        "        self.epochs = 0    \n",
        "\n",
        "    def on_epoch_end(self, batch, logs={}):    \n",
        "        self.epochs += 1     \n",
        "        if self.epochs % self.display == 0:\n",
        "            print (\"Epoch: %d - %s\" % (self.epochs, str(logs)))\n",
        "\n",
        "periodic_logger_10 = PeriodicLogger(10) \n",
        "periodic_logger_50 = PeriodicLogger(50)\n",
        "periodic_logger_250 = PeriodicLogger(250)\n",
        "periodic_logger_1000 = PeriodicLogger(1000)"
      ],
      "execution_count": 1,
      "outputs": [
        {
          "output_type": "stream",
          "text": [
            "Collecting lime\n",
            "\u001b[?25l  Downloading https://files.pythonhosted.org/packages/f5/86/91a13127d83d793ecb50eb75e716f76e6eda809b6803c5a4ff462339789e/lime-0.2.0.1.tar.gz (275kB)\n",
            "\r\u001b[K     |█▏                              | 10kB 16.7MB/s eta 0:00:01\r\u001b[K     |██▍                             | 20kB 1.6MB/s eta 0:00:01\r\u001b[K     |███▋                            | 30kB 2.1MB/s eta 0:00:01\r\u001b[K     |████▊                           | 40kB 1.6MB/s eta 0:00:01\r\u001b[K     |██████                          | 51kB 1.8MB/s eta 0:00:01\r\u001b[K     |███████▏                        | 61kB 2.2MB/s eta 0:00:01\r\u001b[K     |████████▎                       | 71kB 2.4MB/s eta 0:00:01\r\u001b[K     |█████████▌                      | 81kB 2.6MB/s eta 0:00:01\r\u001b[K     |██████████▊                     | 92kB 2.8MB/s eta 0:00:01\r\u001b[K     |███████████▉                    | 102kB 2.7MB/s eta 0:00:01\r\u001b[K     |█████████████                   | 112kB 2.7MB/s eta 0:00:01\r\u001b[K     |██████████████▎                 | 122kB 2.7MB/s eta 0:00:01\r\u001b[K     |███████████████▌                | 133kB 2.7MB/s eta 0:00:01\r\u001b[K     |████████████████▋               | 143kB 2.7MB/s eta 0:00:01\r\u001b[K     |█████████████████▉              | 153kB 2.7MB/s eta 0:00:01\r\u001b[K     |███████████████████             | 163kB 2.7MB/s eta 0:00:01\r\u001b[K     |████████████████████▏           | 174kB 2.7MB/s eta 0:00:01\r\u001b[K     |█████████████████████▍          | 184kB 2.7MB/s eta 0:00:01\r\u001b[K     |██████████████████████▋         | 194kB 2.7MB/s eta 0:00:01\r\u001b[K     |███████████████████████▊        | 204kB 2.7MB/s eta 0:00:01\r\u001b[K     |█████████████████████████       | 215kB 2.7MB/s eta 0:00:01\r\u001b[K     |██████████████████████████▏     | 225kB 2.7MB/s eta 0:00:01\r\u001b[K     |███████████████████████████▍    | 235kB 2.7MB/s eta 0:00:01\r\u001b[K     |████████████████████████████▌   | 245kB 2.7MB/s eta 0:00:01\r\u001b[K     |█████████████████████████████▊  | 256kB 2.7MB/s eta 0:00:01\r\u001b[K     |███████████████████████████████ | 266kB 2.7MB/s eta 0:00:01\r\u001b[K     |████████████████████████████████| 276kB 2.7MB/s \n",
            "\u001b[?25hRequirement already satisfied: matplotlib in /usr/local/lib/python3.6/dist-packages (from lime) (3.2.2)\n",
            "Requirement already satisfied: numpy in /usr/local/lib/python3.6/dist-packages (from lime) (1.18.5)\n",
            "Requirement already satisfied: scipy in /usr/local/lib/python3.6/dist-packages (from lime) (1.4.1)\n",
            "Requirement already satisfied: tqdm in /usr/local/lib/python3.6/dist-packages (from lime) (4.41.1)\n",
            "Requirement already satisfied: scikit-learn>=0.18 in /usr/local/lib/python3.6/dist-packages (from lime) (0.22.2.post1)\n",
            "Requirement already satisfied: scikit-image>=0.12 in /usr/local/lib/python3.6/dist-packages (from lime) (0.16.2)\n",
            "Requirement already satisfied: pyparsing!=2.0.4,!=2.1.2,!=2.1.6,>=2.0.1 in /usr/local/lib/python3.6/dist-packages (from matplotlib->lime) (2.4.7)\n",
            "Requirement already satisfied: python-dateutil>=2.1 in /usr/local/lib/python3.6/dist-packages (from matplotlib->lime) (2.8.1)\n",
            "Requirement already satisfied: cycler>=0.10 in /usr/local/lib/python3.6/dist-packages (from matplotlib->lime) (0.10.0)\n",
            "Requirement already satisfied: kiwisolver>=1.0.1 in /usr/local/lib/python3.6/dist-packages (from matplotlib->lime) (1.2.0)\n",
            "Requirement already satisfied: joblib>=0.11 in /usr/local/lib/python3.6/dist-packages (from scikit-learn>=0.18->lime) (0.16.0)\n",
            "Requirement already satisfied: networkx>=2.0 in /usr/local/lib/python3.6/dist-packages (from scikit-image>=0.12->lime) (2.4)\n",
            "Requirement already satisfied: pillow>=4.3.0 in /usr/local/lib/python3.6/dist-packages (from scikit-image>=0.12->lime) (7.0.0)\n",
            "Requirement already satisfied: imageio>=2.3.0 in /usr/local/lib/python3.6/dist-packages (from scikit-image>=0.12->lime) (2.4.1)\n",
            "Requirement already satisfied: PyWavelets>=0.4.0 in /usr/local/lib/python3.6/dist-packages (from scikit-image>=0.12->lime) (1.1.1)\n",
            "Requirement already satisfied: six>=1.5 in /usr/local/lib/python3.6/dist-packages (from python-dateutil>=2.1->matplotlib->lime) (1.15.0)\n",
            "Requirement already satisfied: decorator>=4.3.0 in /usr/local/lib/python3.6/dist-packages (from networkx>=2.0->scikit-image>=0.12->lime) (4.4.2)\n",
            "Building wheels for collected packages: lime\n",
            "  Building wheel for lime (setup.py) ... \u001b[?25l\u001b[?25hdone\n",
            "  Created wheel for lime: filename=lime-0.2.0.1-cp36-none-any.whl size=283845 sha256=3314ce5cb5c42aeacd821083fc6e1d4d1492cad6a2848c3b1d4c3d4b7866d0e0\n",
            "  Stored in directory: /root/.cache/pip/wheels/4c/4f/a5/0bc765457bd41378bf3ce8d17d7495369d6e7ca3b712c60c89\n",
            "Successfully built lime\n",
            "Installing collected packages: lime\n",
            "Successfully installed lime-0.2.0.1\n"
          ],
          "name": "stdout"
        }
      ]
    },
    {
      "cell_type": "markdown",
      "metadata": {
        "id": "-DmwPVWRpE16",
        "colab_type": "text"
      },
      "source": [
        "## 성립 실험을 위한 시뮬레이션 데이터 생성\n",
        "\n",
        "극단적인 power law 형태의 distribution을 시뮬레이션 한다.\n",
        "\n",
        "\n",
        "<img src='https://miro.medium.com/max/2704/1*FLyS1quRikOyL_-dCA73yg.png' width='500'/>\n"
      ]
    },
    {
      "cell_type": "code",
      "metadata": {
        "id": "tthKAtzt18kc",
        "colab_type": "code",
        "colab": {}
      },
      "source": [
        "def nafyc_func(row):\n",
        "    code,real_yy,rate = row['CODE'],row['REAL_YY'],row['COM_RATE']\n",
        "    return real_yy * rate + 99"
      ],
      "execution_count": 27,
      "outputs": []
    },
    {
      "cell_type": "code",
      "metadata": {
        "id": "SmbSpj8G2OBL",
        "colab_type": "code",
        "colab": {
          "base_uri": "https://localhost:8080/",
          "height": 281
        },
        "outputId": "fa120b4e-d7d5-48e5-9f63-68d4978d06da"
      },
      "source": [
        "# random choice의 provability distribution 생성\n",
        "p = [1000-i for i in range(1000-1)]\n",
        "p = p/np.sum(p)\n",
        "plt.plot(p)"
      ],
      "execution_count": 28,
      "outputs": [
        {
          "output_type": "execute_result",
          "data": {
            "text/plain": [
              "[<matplotlib.lines.Line2D at 0x7f78eeae5908>]"
            ]
          },
          "metadata": {
            "tags": []
          },
          "execution_count": 28
        },
        {
          "output_type": "display_data",
          "data": {
            "image/png": "[encoded data removed]",
            "text/plain": [
              "<Figure size 432x288 with 1 Axes>"
            ]
          },
          "metadata": {
            "tags": [],
            "needs_background": "light"
          }
        }
      ]
    },
    {
      "cell_type": "code",
      "metadata": {
        "id": "Tuh6NMlr2xPB",
        "colab_type": "code",
        "colab": {}
      },
      "source": [
        "def create_samples(n_samples):\n",
        "    rate_table = {}\n",
        "    samples = []\n",
        "    for i in range(1000,2520):\n",
        "      code = i #np.random.choice(range(1000,1520))\n",
        "      count = np.random.choice(range(10,500))\n",
        "      for j in range(count):\n",
        "        real_yy = int((np.random.choice(range(1,1000),p=p)/10)**6/100000 + 100)\n",
        "        if code not in rate_table:\n",
        "          rate = np.random.choice(range(1,100)) / 100\n",
        "          rate_table[code] = rate\n",
        "        else:\n",
        "          rate = rate_table[code]\n",
        "        samples.append([code,real_yy,rate])\n",
        "        \n",
        "    return pd.DataFrame(samples, columns=['CODE','REAL_YY','COM_RATE'])"
      ],
      "execution_count": 123,
      "outputs": []
    },
    {
      "cell_type": "code",
      "metadata": {
        "id": "HP9wq4Rd4f4E",
        "colab_type": "code",
        "colab": {
          "base_uri": "https://localhost:8080/",
          "height": 415
        },
        "outputId": "e4810c82-abcf-4237-a24c-459a67637de2"
      },
      "source": [
        "dataset = create_samples(n_samples=100)\n",
        "dataset['NAFYC'] = dataset.apply(nafyc_func, axis=1)\n",
        "dataset"
      ],
      "execution_count": 124,
      "outputs": [
        {
          "output_type": "execute_result",
          "data": {
            "text/html": [
              "<div>\n",
              "<style scoped>\n",
              "    .dataframe tbody tr th:only-of-type {\n",
              "        vertical-align: middle;\n",
              "    }\n",
              "\n",
              "    .dataframe tbody tr th {\n",
              "        vertical-align: top;\n",
              "    }\n",
              "\n",
              "    .dataframe thead th {\n",
              "        text-align: right;\n",
              "    }\n",
              "</style>\n",
              "<table border=\"1\" class=\"dataframe\">\n",
              "  <thead>\n",
              "    <tr style=\"text-align: right;\">\n",
              "      <th></th>\n",
              "      <th>CODE</th>\n",
              "      <th>REAL_YY</th>\n",
              "      <th>COM_RATE</th>\n",
              "      <th>NAFYC</th>\n",
              "    </tr>\n",
              "  </thead>\n",
              "  <tbody>\n",
              "    <tr>\n",
              "      <th>0</th>\n",
              "      <td>1000</td>\n",
              "      <td>106</td>\n",
              "      <td>0.27</td>\n",
              "      <td>127.62</td>\n",
              "    </tr>\n",
              "    <tr>\n",
              "      <th>1</th>\n",
              "      <td>1000</td>\n",
              "      <td>283000</td>\n",
              "      <td>0.27</td>\n",
              "      <td>76509.00</td>\n",
              "    </tr>\n",
              "    <tr>\n",
              "      <th>2</th>\n",
              "      <td>1000</td>\n",
              "      <td>14748</td>\n",
              "      <td>0.27</td>\n",
              "      <td>4080.96</td>\n",
              "    </tr>\n",
              "    <tr>\n",
              "      <th>3</th>\n",
              "      <td>1000</td>\n",
              "      <td>849439</td>\n",
              "      <td>0.27</td>\n",
              "      <td>229447.53</td>\n",
              "    </tr>\n",
              "    <tr>\n",
              "      <th>4</th>\n",
              "      <td>1000</td>\n",
              "      <td>2914</td>\n",
              "      <td>0.27</td>\n",
              "      <td>885.78</td>\n",
              "    </tr>\n",
              "    <tr>\n",
              "      <th>...</th>\n",
              "      <td>...</td>\n",
              "      <td>...</td>\n",
              "      <td>...</td>\n",
              "      <td>...</td>\n",
              "    </tr>\n",
              "    <tr>\n",
              "      <th>384630</th>\n",
              "      <td>2519</td>\n",
              "      <td>2269474</td>\n",
              "      <td>0.24</td>\n",
              "      <td>544772.76</td>\n",
              "    </tr>\n",
              "    <tr>\n",
              "      <th>384631</th>\n",
              "      <td>2519</td>\n",
              "      <td>2370</td>\n",
              "      <td>0.24</td>\n",
              "      <td>667.80</td>\n",
              "    </tr>\n",
              "    <tr>\n",
              "      <th>384632</th>\n",
              "      <td>2519</td>\n",
              "      <td>1015235</td>\n",
              "      <td>0.24</td>\n",
              "      <td>243755.40</td>\n",
              "    </tr>\n",
              "    <tr>\n",
              "      <th>384633</th>\n",
              "      <td>2519</td>\n",
              "      <td>100</td>\n",
              "      <td>0.24</td>\n",
              "      <td>123.00</td>\n",
              "    </tr>\n",
              "    <tr>\n",
              "      <th>384634</th>\n",
              "      <td>2519</td>\n",
              "      <td>527</td>\n",
              "      <td>0.24</td>\n",
              "      <td>225.48</td>\n",
              "    </tr>\n",
              "  </tbody>\n",
              "</table>\n",
              "<p>384635 rows × 4 columns</p>\n",
              "</div>"
            ],
            "text/plain": [
              "        CODE  REAL_YY  COM_RATE      NAFYC\n",
              "0       1000      106      0.27     127.62\n",
              "1       1000   283000      0.27   76509.00\n",
              "2       1000    14748      0.27    4080.96\n",
              "3       1000   849439      0.27  229447.53\n",
              "4       1000     2914      0.27     885.78\n",
              "...      ...      ...       ...        ...\n",
              "384630  2519  2269474      0.24  544772.76\n",
              "384631  2519     2370      0.24     667.80\n",
              "384632  2519  1015235      0.24  243755.40\n",
              "384633  2519      100      0.24     123.00\n",
              "384634  2519      527      0.24     225.48\n",
              "\n",
              "[384635 rows x 4 columns]"
            ]
          },
          "metadata": {
            "tags": []
          },
          "execution_count": 124
        }
      ]
    },
    {
      "cell_type": "markdown",
      "metadata": {
        "id": "d60o9rKypOJK",
        "colab_type": "text"
      },
      "source": [
        "## 성립 데이터 EDA"
      ]
    },
    {
      "cell_type": "code",
      "metadata": {
        "id": "ffVbCOQE5_7L",
        "colab_type": "code",
        "colab": {
          "base_uri": "https://localhost:8080/",
          "height": 171
        },
        "outputId": "5f6a0897-6937-412e-eef8-bf5c95885463"
      },
      "source": [
        "structure(dataset)"
      ],
      "execution_count": 125,
      "outputs": [
        {
          "output_type": "execute_result",
          "data": {
            "text/html": [
              "<div>\n",
              "<style scoped>\n",
              "    .dataframe tbody tr th:only-of-type {\n",
              "        vertical-align: middle;\n",
              "    }\n",
              "\n",
              "    .dataframe tbody tr th {\n",
              "        vertical-align: top;\n",
              "    }\n",
              "\n",
              "    .dataframe thead th {\n",
              "        text-align: right;\n",
              "    }\n",
              "</style>\n",
              "<table border=\"1\" class=\"dataframe\">\n",
              "  <thead>\n",
              "    <tr style=\"text-align: right;\">\n",
              "      <th></th>\n",
              "      <th>type</th>\n",
              "      <th>count</th>\n",
              "      <th>null count</th>\n",
              "      <th>mean</th>\n",
              "      <th>std</th>\n",
              "      <th>min</th>\n",
              "      <th>25%</th>\n",
              "      <th>50%</th>\n",
              "      <th>75%</th>\n",
              "      <th>max</th>\n",
              "    </tr>\n",
              "  </thead>\n",
              "  <tbody>\n",
              "    <tr>\n",
              "      <th>CODE</th>\n",
              "      <td>int64</td>\n",
              "      <td>384635.0</td>\n",
              "      <td>0</td>\n",
              "      <td>1760.612877</td>\n",
              "      <td>446.526636</td>\n",
              "      <td>1000.00</td>\n",
              "      <td>1369.00</td>\n",
              "      <td>1765.00</td>\n",
              "      <td>2154.00</td>\n",
              "      <td>2519.00</td>\n",
              "    </tr>\n",
              "    <tr>\n",
              "      <th>REAL_YY</th>\n",
              "      <td>int64</td>\n",
              "      <td>384635.0</td>\n",
              "      <td>0</td>\n",
              "      <td>359685.443545</td>\n",
              "      <td>988684.219433</td>\n",
              "      <td>100.00</td>\n",
              "      <td>157.00</td>\n",
              "      <td>6557.00</td>\n",
              "      <td>159185.50</td>\n",
              "      <td>9940249.00</td>\n",
              "    </tr>\n",
              "    <tr>\n",
              "      <th>COM_RATE</th>\n",
              "      <td>float64</td>\n",
              "      <td>384635.0</td>\n",
              "      <td>0</td>\n",
              "      <td>0.472223</td>\n",
              "      <td>0.279435</td>\n",
              "      <td>0.01</td>\n",
              "      <td>0.24</td>\n",
              "      <td>0.47</td>\n",
              "      <td>0.70</td>\n",
              "      <td>0.99</td>\n",
              "    </tr>\n",
              "    <tr>\n",
              "      <th>NAFYC</th>\n",
              "      <td>float64</td>\n",
              "      <td>384635.0</td>\n",
              "      <td>0</td>\n",
              "      <td>169775.793118</td>\n",
              "      <td>549956.141853</td>\n",
              "      <td>100.00</td>\n",
              "      <td>184.05</td>\n",
              "      <td>2308.87</td>\n",
              "      <td>56865.41</td>\n",
              "      <td>9012237.14</td>\n",
              "    </tr>\n",
              "  </tbody>\n",
              "</table>\n",
              "</div>"
            ],
            "text/plain": [
              "             type     count  null count  ...      50%        75%         max\n",
              "CODE        int64  384635.0           0  ...  1765.00    2154.00     2519.00\n",
              "REAL_YY     int64  384635.0           0  ...  6557.00  159185.50  9940249.00\n",
              "COM_RATE  float64  384635.0           0  ...     0.47       0.70        0.99\n",
              "NAFYC     float64  384635.0           0  ...  2308.87   56865.41  9012237.14\n",
              "\n",
              "[4 rows x 10 columns]"
            ]
          },
          "metadata": {
            "tags": []
          },
          "execution_count": 125
        }
      ]
    },
    {
      "cell_type": "code",
      "metadata": {
        "id": "Q4NtXgshnRDQ",
        "colab_type": "code",
        "colab": {
          "base_uri": "https://localhost:8080/",
          "height": 552
        },
        "outputId": "4ffef9af-048e-48a3-d199-1675a95f154b"
      },
      "source": [
        "# 극단적인 power law 형태 확인  \n",
        "\n",
        "dataset['NAFYC'].hist(bins=1000)\n",
        "plt.show()\n",
        "dataset['REAL_YY'].hist(bins=1000)"
      ],
      "execution_count": 126,
      "outputs": [
        {
          "output_type": "display_data",
          "data": {
            "image/png": "[encoded data removed]",
            "text/plain": [
              "<Figure size 432x288 with 1 Axes>"
            ]
          },
          "metadata": {
            "tags": [],
            "needs_background": "light"
          }
        },
        {
          "output_type": "execute_result",
          "data": {
            "text/plain": [
              "<matplotlib.axes._subplots.AxesSubplot at 0x7f78df479438>"
            ]
          },
          "metadata": {
            "tags": []
          },
          "execution_count": 126
        },
        {
          "output_type": "display_data",
          "data": {
            "image/png": "[encoded data removed]",
            "text/plain": [
              "<Figure size 432x288 with 1 Axes>"
            ]
          },
          "metadata": {
            "tags": [],
            "needs_background": "light"
          }
        }
      ]
    },
    {
      "cell_type": "code",
      "metadata": {
        "id": "ExsY2mmt7Bda",
        "colab_type": "code",
        "colab": {}
      },
      "source": [
        "dataset = dataset.astype({\"CODE\": object})"
      ],
      "execution_count": 127,
      "outputs": []
    },
    {
      "cell_type": "code",
      "metadata": {
        "id": "VP-IC-Ve7JS2",
        "colab_type": "code",
        "colab": {
          "base_uri": "https://localhost:8080/",
          "height": 171
        },
        "outputId": "a25f48e1-e09b-4a55-f16d-268608f8eb67"
      },
      "source": [
        "structure(dataset)"
      ],
      "execution_count": 128,
      "outputs": [
        {
          "output_type": "execute_result",
          "data": {
            "text/html": [
              "<div>\n",
              "<style scoped>\n",
              "    .dataframe tbody tr th:only-of-type {\n",
              "        vertical-align: middle;\n",
              "    }\n",
              "\n",
              "    .dataframe tbody tr th {\n",
              "        vertical-align: top;\n",
              "    }\n",
              "\n",
              "    .dataframe thead th {\n",
              "        text-align: right;\n",
              "    }\n",
              "</style>\n",
              "<table border=\"1\" class=\"dataframe\">\n",
              "  <thead>\n",
              "    <tr style=\"text-align: right;\">\n",
              "      <th></th>\n",
              "      <th>type</th>\n",
              "      <th>count</th>\n",
              "      <th>null count</th>\n",
              "      <th>mean</th>\n",
              "      <th>std</th>\n",
              "      <th>min</th>\n",
              "      <th>25%</th>\n",
              "      <th>50%</th>\n",
              "      <th>75%</th>\n",
              "      <th>max</th>\n",
              "      <th>unique</th>\n",
              "      <th>top</th>\n",
              "      <th>freq</th>\n",
              "    </tr>\n",
              "  </thead>\n",
              "  <tbody>\n",
              "    <tr>\n",
              "      <th>CODE</th>\n",
              "      <td>object</td>\n",
              "      <td>384635.0</td>\n",
              "      <td>0</td>\n",
              "      <td>NaN</td>\n",
              "      <td>NaN</td>\n",
              "      <td>NaN</td>\n",
              "      <td>NaN</td>\n",
              "      <td>NaN</td>\n",
              "      <td>NaN</td>\n",
              "      <td>NaN</td>\n",
              "      <td>1520.0</td>\n",
              "      <td>2183.0</td>\n",
              "      <td>499.0</td>\n",
              "    </tr>\n",
              "    <tr>\n",
              "      <th>REAL_YY</th>\n",
              "      <td>int64</td>\n",
              "      <td>384635.0</td>\n",
              "      <td>0</td>\n",
              "      <td>359685.443545</td>\n",
              "      <td>988684.219433</td>\n",
              "      <td>100.00</td>\n",
              "      <td>157.00</td>\n",
              "      <td>6557.00</td>\n",
              "      <td>159185.50</td>\n",
              "      <td>9940249.00</td>\n",
              "      <td>NaN</td>\n",
              "      <td>NaN</td>\n",
              "      <td>NaN</td>\n",
              "    </tr>\n",
              "    <tr>\n",
              "      <th>COM_RATE</th>\n",
              "      <td>float64</td>\n",
              "      <td>384635.0</td>\n",
              "      <td>0</td>\n",
              "      <td>0.472223</td>\n",
              "      <td>0.279435</td>\n",
              "      <td>0.01</td>\n",
              "      <td>0.24</td>\n",
              "      <td>0.47</td>\n",
              "      <td>0.70</td>\n",
              "      <td>0.99</td>\n",
              "      <td>NaN</td>\n",
              "      <td>NaN</td>\n",
              "      <td>NaN</td>\n",
              "    </tr>\n",
              "    <tr>\n",
              "      <th>NAFYC</th>\n",
              "      <td>float64</td>\n",
              "      <td>384635.0</td>\n",
              "      <td>0</td>\n",
              "      <td>169775.793118</td>\n",
              "      <td>549956.141853</td>\n",
              "      <td>100.00</td>\n",
              "      <td>184.05</td>\n",
              "      <td>2308.87</td>\n",
              "      <td>56865.41</td>\n",
              "      <td>9012237.14</td>\n",
              "      <td>NaN</td>\n",
              "      <td>NaN</td>\n",
              "      <td>NaN</td>\n",
              "    </tr>\n",
              "  </tbody>\n",
              "</table>\n",
              "</div>"
            ],
            "text/plain": [
              "             type     count  null count  ...  unique     top   freq\n",
              "CODE       object  384635.0           0  ...  1520.0  2183.0  499.0\n",
              "REAL_YY     int64  384635.0           0  ...     NaN     NaN    NaN\n",
              "COM_RATE  float64  384635.0           0  ...     NaN     NaN    NaN\n",
              "NAFYC     float64  384635.0           0  ...     NaN     NaN    NaN\n",
              "\n",
              "[4 rows x 13 columns]"
            ]
          },
          "metadata": {
            "tags": []
          },
          "execution_count": 128
        }
      ]
    },
    {
      "cell_type": "code",
      "metadata": {
        "id": "M6DUcVuXB4C1",
        "colab_type": "code",
        "colab": {
          "base_uri": "https://localhost:8080/",
          "height": 415
        },
        "outputId": "812f99d7-6b6e-4695-c878-a1eaf0a34d2a"
      },
      "source": [
        "dataset[dataset['CODE'] == 1386]"
      ],
      "execution_count": 129,
      "outputs": [
        {
          "output_type": "execute_result",
          "data": {
            "text/html": [
              "<div>\n",
              "<style scoped>\n",
              "    .dataframe tbody tr th:only-of-type {\n",
              "        vertical-align: middle;\n",
              "    }\n",
              "\n",
              "    .dataframe tbody tr th {\n",
              "        vertical-align: top;\n",
              "    }\n",
              "\n",
              "    .dataframe thead th {\n",
              "        text-align: right;\n",
              "    }\n",
              "</style>\n",
              "<table border=\"1\" class=\"dataframe\">\n",
              "  <thead>\n",
              "    <tr style=\"text-align: right;\">\n",
              "      <th></th>\n",
              "      <th>CODE</th>\n",
              "      <th>REAL_YY</th>\n",
              "      <th>COM_RATE</th>\n",
              "      <th>NAFYC</th>\n",
              "    </tr>\n",
              "  </thead>\n",
              "  <tbody>\n",
              "    <tr>\n",
              "      <th>99962</th>\n",
              "      <td>1386</td>\n",
              "      <td>1428434</td>\n",
              "      <td>0.12</td>\n",
              "      <td>171511.08</td>\n",
              "    </tr>\n",
              "    <tr>\n",
              "      <th>99963</th>\n",
              "      <td>1386</td>\n",
              "      <td>733643</td>\n",
              "      <td>0.12</td>\n",
              "      <td>88136.16</td>\n",
              "    </tr>\n",
              "    <tr>\n",
              "      <th>99964</th>\n",
              "      <td>1386</td>\n",
              "      <td>31664</td>\n",
              "      <td>0.12</td>\n",
              "      <td>3898.68</td>\n",
              "    </tr>\n",
              "    <tr>\n",
              "      <th>99965</th>\n",
              "      <td>1386</td>\n",
              "      <td>350</td>\n",
              "      <td>0.12</td>\n",
              "      <td>141.00</td>\n",
              "    </tr>\n",
              "    <tr>\n",
              "      <th>99966</th>\n",
              "      <td>1386</td>\n",
              "      <td>114</td>\n",
              "      <td>0.12</td>\n",
              "      <td>112.68</td>\n",
              "    </tr>\n",
              "    <tr>\n",
              "      <th>...</th>\n",
              "      <td>...</td>\n",
              "      <td>...</td>\n",
              "      <td>...</td>\n",
              "      <td>...</td>\n",
              "    </tr>\n",
              "    <tr>\n",
              "      <th>100221</th>\n",
              "      <td>1386</td>\n",
              "      <td>4488053</td>\n",
              "      <td>0.12</td>\n",
              "      <td>538665.36</td>\n",
              "    </tr>\n",
              "    <tr>\n",
              "      <th>100222</th>\n",
              "      <td>1386</td>\n",
              "      <td>100</td>\n",
              "      <td>0.12</td>\n",
              "      <td>111.00</td>\n",
              "    </tr>\n",
              "    <tr>\n",
              "      <th>100223</th>\n",
              "      <td>1386</td>\n",
              "      <td>761277</td>\n",
              "      <td>0.12</td>\n",
              "      <td>91452.24</td>\n",
              "    </tr>\n",
              "    <tr>\n",
              "      <th>100224</th>\n",
              "      <td>1386</td>\n",
              "      <td>23359</td>\n",
              "      <td>0.12</td>\n",
              "      <td>2902.08</td>\n",
              "    </tr>\n",
              "    <tr>\n",
              "      <th>100225</th>\n",
              "      <td>1386</td>\n",
              "      <td>100</td>\n",
              "      <td>0.12</td>\n",
              "      <td>111.00</td>\n",
              "    </tr>\n",
              "  </tbody>\n",
              "</table>\n",
              "<p>264 rows × 4 columns</p>\n",
              "</div>"
            ],
            "text/plain": [
              "        CODE  REAL_YY  COM_RATE      NAFYC\n",
              "99962   1386  1428434      0.12  171511.08\n",
              "99963   1386   733643      0.12   88136.16\n",
              "99964   1386    31664      0.12    3898.68\n",
              "99965   1386      350      0.12     141.00\n",
              "99966   1386      114      0.12     112.68\n",
              "...      ...      ...       ...        ...\n",
              "100221  1386  4488053      0.12  538665.36\n",
              "100222  1386      100      0.12     111.00\n",
              "100223  1386   761277      0.12   91452.24\n",
              "100224  1386    23359      0.12    2902.08\n",
              "100225  1386      100      0.12     111.00\n",
              "\n",
              "[264 rows x 4 columns]"
            ]
          },
          "metadata": {
            "tags": []
          },
          "execution_count": 129
        }
      ]
    },
    {
      "cell_type": "code",
      "metadata": {
        "id": "qCNjL4XrfQ9Q",
        "colab_type": "code",
        "colab": {
          "base_uri": "https://localhost:8080/",
          "height": 281
        },
        "outputId": "15aa56e9-b623-43c6-a75a-a8f439a67b38"
      },
      "source": [
        "plt.plot(dataset.groupby('CODE')['CODE'].count())"
      ],
      "execution_count": 130,
      "outputs": [
        {
          "output_type": "execute_result",
          "data": {
            "text/plain": [
              "[<matplotlib.lines.Line2D at 0x7f78dd0f8c18>]"
            ]
          },
          "metadata": {
            "tags": []
          },
          "execution_count": 130
        },
        {
          "output_type": "display_data",
          "data": {
            "image/png": "[encoded data removed]",
            "text/plain": [
              "<Figure size 432x288 with 1 Axes>"
            ]
          },
          "metadata": {
            "tags": [],
            "needs_background": "light"
          }
        }
      ]
    },
    {
      "cell_type": "markdown",
      "metadata": {
        "id": "lPXKsrgupSFD",
        "colab_type": "text"
      },
      "source": [
        "## 성립데이터 전처리"
      ]
    },
    {
      "cell_type": "code",
      "metadata": {
        "id": "PZDr0elE7VUD",
        "colab_type": "code",
        "colab": {
          "base_uri": "https://localhost:8080/",
          "height": 415
        },
        "outputId": "bead0ee3-9e9e-402b-8711-f3d8ec5e3674"
      },
      "source": [
        "# zscore norm\n",
        "\n",
        "ds = dataset[['REAL_YY','COM_RATE']]\n",
        "\n",
        "_mean = ds.mean(axis=0)\n",
        "_std = ds.std(axis=0)\n",
        "\n",
        "ds = ds - _mean\n",
        "ds /= _std\n",
        "\n",
        "dataset.update(ds)\n",
        "dataset"
      ],
      "execution_count": 131,
      "outputs": [
        {
          "output_type": "execute_result",
          "data": {
            "text/html": [
              "<div>\n",
              "<style scoped>\n",
              "    .dataframe tbody tr th:only-of-type {\n",
              "        vertical-align: middle;\n",
              "    }\n",
              "\n",
              "    .dataframe tbody tr th {\n",
              "        vertical-align: top;\n",
              "    }\n",
              "\n",
              "    .dataframe thead th {\n",
              "        text-align: right;\n",
              "    }\n",
              "</style>\n",
              "<table border=\"1\" class=\"dataframe\">\n",
              "  <thead>\n",
              "    <tr style=\"text-align: right;\">\n",
              "      <th></th>\n",
              "      <th>CODE</th>\n",
              "      <th>REAL_YY</th>\n",
              "      <th>COM_RATE</th>\n",
              "      <th>NAFYC</th>\n",
              "    </tr>\n",
              "  </thead>\n",
              "  <tbody>\n",
              "    <tr>\n",
              "      <th>0</th>\n",
              "      <td>1000</td>\n",
              "      <td>-0.363695</td>\n",
              "      <td>-0.723687</td>\n",
              "      <td>127.62</td>\n",
              "    </tr>\n",
              "    <tr>\n",
              "      <th>1</th>\n",
              "      <td>1000</td>\n",
              "      <td>-0.077563</td>\n",
              "      <td>-0.723687</td>\n",
              "      <td>76509.00</td>\n",
              "    </tr>\n",
              "    <tr>\n",
              "      <th>2</th>\n",
              "      <td>1000</td>\n",
              "      <td>-0.348885</td>\n",
              "      <td>-0.723687</td>\n",
              "      <td>4080.96</td>\n",
              "    </tr>\n",
              "    <tr>\n",
              "      <th>3</th>\n",
              "      <td>1000</td>\n",
              "      <td>0.495359</td>\n",
              "      <td>-0.723687</td>\n",
              "      <td>229447.53</td>\n",
              "    </tr>\n",
              "    <tr>\n",
              "      <th>4</th>\n",
              "      <td>1000</td>\n",
              "      <td>-0.360855</td>\n",
              "      <td>-0.723687</td>\n",
              "      <td>885.78</td>\n",
              "    </tr>\n",
              "    <tr>\n",
              "      <th>...</th>\n",
              "      <td>...</td>\n",
              "      <td>...</td>\n",
              "      <td>...</td>\n",
              "      <td>...</td>\n",
              "    </tr>\n",
              "    <tr>\n",
              "      <th>384630</th>\n",
              "      <td>2519</td>\n",
              "      <td>1.931647</td>\n",
              "      <td>-0.831046</td>\n",
              "      <td>544772.76</td>\n",
              "    </tr>\n",
              "    <tr>\n",
              "      <th>384631</th>\n",
              "      <td>2519</td>\n",
              "      <td>-0.361405</td>\n",
              "      <td>-0.831046</td>\n",
              "      <td>667.80</td>\n",
              "    </tr>\n",
              "    <tr>\n",
              "      <th>384632</th>\n",
              "      <td>2519</td>\n",
              "      <td>0.663053</td>\n",
              "      <td>-0.831046</td>\n",
              "      <td>243755.40</td>\n",
              "    </tr>\n",
              "    <tr>\n",
              "      <th>384633</th>\n",
              "      <td>2519</td>\n",
              "      <td>-0.363701</td>\n",
              "      <td>-0.831046</td>\n",
              "      <td>123.00</td>\n",
              "    </tr>\n",
              "    <tr>\n",
              "      <th>384634</th>\n",
              "      <td>2519</td>\n",
              "      <td>-0.363269</td>\n",
              "      <td>-0.831046</td>\n",
              "      <td>225.48</td>\n",
              "    </tr>\n",
              "  </tbody>\n",
              "</table>\n",
              "<p>384635 rows × 4 columns</p>\n",
              "</div>"
            ],
            "text/plain": [
              "        CODE   REAL_YY  COM_RATE      NAFYC\n",
              "0       1000 -0.363695 -0.723687     127.62\n",
              "1       1000 -0.077563 -0.723687   76509.00\n",
              "2       1000 -0.348885 -0.723687    4080.96\n",
              "3       1000  0.495359 -0.723687  229447.53\n",
              "4       1000 -0.360855 -0.723687     885.78\n",
              "...      ...       ...       ...        ...\n",
              "384630  2519  1.931647 -0.831046  544772.76\n",
              "384631  2519 -0.361405 -0.831046     667.80\n",
              "384632  2519  0.663053 -0.831046  243755.40\n",
              "384633  2519 -0.363701 -0.831046     123.00\n",
              "384634  2519 -0.363269 -0.831046     225.48\n",
              "\n",
              "[384635 rows x 4 columns]"
            ]
          },
          "metadata": {
            "tags": []
          },
          "execution_count": 131
        }
      ]
    },
    {
      "cell_type": "code",
      "metadata": {
        "id": "Y83lz80w8AyG",
        "colab_type": "code",
        "colab": {
          "base_uri": "https://localhost:8080/",
          "height": 415
        },
        "outputId": "37efafbe-6b58-4b8c-c701-079f71ab930e"
      },
      "source": [
        "code_mapping = EmbeddingMapping(dataset['CODE'])\n",
        "dataset = dataset.assign(code_mapping=dataset['CODE'].apply(code_mapping.get_mapping))\n",
        "dataset"
      ],
      "execution_count": 132,
      "outputs": [
        {
          "output_type": "execute_result",
          "data": {
            "text/html": [
              "<div>\n",
              "<style scoped>\n",
              "    .dataframe tbody tr th:only-of-type {\n",
              "        vertical-align: middle;\n",
              "    }\n",
              "\n",
              "    .dataframe tbody tr th {\n",
              "        vertical-align: top;\n",
              "    }\n",
              "\n",
              "    .dataframe thead th {\n",
              "        text-align: right;\n",
              "    }\n",
              "</style>\n",
              "<table border=\"1\" class=\"dataframe\">\n",
              "  <thead>\n",
              "    <tr style=\"text-align: right;\">\n",
              "      <th></th>\n",
              "      <th>CODE</th>\n",
              "      <th>REAL_YY</th>\n",
              "      <th>COM_RATE</th>\n",
              "      <th>NAFYC</th>\n",
              "      <th>code_mapping</th>\n",
              "    </tr>\n",
              "  </thead>\n",
              "  <tbody>\n",
              "    <tr>\n",
              "      <th>0</th>\n",
              "      <td>1000</td>\n",
              "      <td>-0.363695</td>\n",
              "      <td>-0.723687</td>\n",
              "      <td>127.62</td>\n",
              "      <td>1</td>\n",
              "    </tr>\n",
              "    <tr>\n",
              "      <th>1</th>\n",
              "      <td>1000</td>\n",
              "      <td>-0.077563</td>\n",
              "      <td>-0.723687</td>\n",
              "      <td>76509.00</td>\n",
              "      <td>1</td>\n",
              "    </tr>\n",
              "    <tr>\n",
              "      <th>2</th>\n",
              "      <td>1000</td>\n",
              "      <td>-0.348885</td>\n",
              "      <td>-0.723687</td>\n",
              "      <td>4080.96</td>\n",
              "      <td>1</td>\n",
              "    </tr>\n",
              "    <tr>\n",
              "      <th>3</th>\n",
              "      <td>1000</td>\n",
              "      <td>0.495359</td>\n",
              "      <td>-0.723687</td>\n",
              "      <td>229447.53</td>\n",
              "      <td>1</td>\n",
              "    </tr>\n",
              "    <tr>\n",
              "      <th>4</th>\n",
              "      <td>1000</td>\n",
              "      <td>-0.360855</td>\n",
              "      <td>-0.723687</td>\n",
              "      <td>885.78</td>\n",
              "      <td>1</td>\n",
              "    </tr>\n",
              "    <tr>\n",
              "      <th>...</th>\n",
              "      <td>...</td>\n",
              "      <td>...</td>\n",
              "      <td>...</td>\n",
              "      <td>...</td>\n",
              "      <td>...</td>\n",
              "    </tr>\n",
              "    <tr>\n",
              "      <th>384630</th>\n",
              "      <td>2519</td>\n",
              "      <td>1.931647</td>\n",
              "      <td>-0.831046</td>\n",
              "      <td>544772.76</td>\n",
              "      <td>1520</td>\n",
              "    </tr>\n",
              "    <tr>\n",
              "      <th>384631</th>\n",
              "      <td>2519</td>\n",
              "      <td>-0.361405</td>\n",
              "      <td>-0.831046</td>\n",
              "      <td>667.80</td>\n",
              "      <td>1520</td>\n",
              "    </tr>\n",
              "    <tr>\n",
              "      <th>384632</th>\n",
              "      <td>2519</td>\n",
              "      <td>0.663053</td>\n",
              "      <td>-0.831046</td>\n",
              "      <td>243755.40</td>\n",
              "      <td>1520</td>\n",
              "    </tr>\n",
              "    <tr>\n",
              "      <th>384633</th>\n",
              "      <td>2519</td>\n",
              "      <td>-0.363701</td>\n",
              "      <td>-0.831046</td>\n",
              "      <td>123.00</td>\n",
              "      <td>1520</td>\n",
              "    </tr>\n",
              "    <tr>\n",
              "      <th>384634</th>\n",
              "      <td>2519</td>\n",
              "      <td>-0.363269</td>\n",
              "      <td>-0.831046</td>\n",
              "      <td>225.48</td>\n",
              "      <td>1520</td>\n",
              "    </tr>\n",
              "  </tbody>\n",
              "</table>\n",
              "<p>384635 rows × 5 columns</p>\n",
              "</div>"
            ],
            "text/plain": [
              "        CODE   REAL_YY  COM_RATE      NAFYC  code_mapping\n",
              "0       1000 -0.363695 -0.723687     127.62             1\n",
              "1       1000 -0.077563 -0.723687   76509.00             1\n",
              "2       1000 -0.348885 -0.723687    4080.96             1\n",
              "3       1000  0.495359 -0.723687  229447.53             1\n",
              "4       1000 -0.360855 -0.723687     885.78             1\n",
              "...      ...       ...       ...        ...           ...\n",
              "384630  2519  1.931647 -0.831046  544772.76          1520\n",
              "384631  2519 -0.361405 -0.831046     667.80          1520\n",
              "384632  2519  0.663053 -0.831046  243755.40          1520\n",
              "384633  2519 -0.363701 -0.831046     123.00          1520\n",
              "384634  2519 -0.363269 -0.831046     225.48          1520\n",
              "\n",
              "[384635 rows x 5 columns]"
            ]
          },
          "metadata": {
            "tags": []
          },
          "execution_count": 132
        }
      ]
    },
    {
      "cell_type": "code",
      "metadata": {
        "id": "LE8WQQx78R07",
        "colab_type": "code",
        "colab": {}
      },
      "source": [
        "# trainset과 validationset 나누고... 기타 정리\n",
        "\n",
        "X_train_org, X_val_org, Y_train, Y_val = train_test_split(dataset[['REAL_YY','code_mapping']],\n",
        "    dataset['NAFYC'], test_size=0.1, random_state=0)\n",
        "\n",
        "# 학습 대상 변수만 선택\n",
        "X_train_continuous = X_train_org[['REAL_YY']]\n",
        "X_train_categorical = X_train_org[['code_mapping']]\n",
        "\n",
        "X_val_continuous  = X_val_org[['REAL_YY']]\n",
        "X_val_categorical = X_val_org[['code_mapping']]\n"
      ],
      "execution_count": 133,
      "outputs": []
    },
    {
      "cell_type": "markdown",
      "metadata": {
        "id": "xOvmtq3gpaoM",
        "colab_type": "text"
      },
      "source": [
        "## 성립 데이터 학습 네트워크 구성 및 학습"
      ]
    },
    {
      "cell_type": "code",
      "metadata": {
        "id": "PRhyTqAD9I-V",
        "colab_type": "code",
        "colab": {
          "base_uri": "https://localhost:8080/",
          "height": 709
        },
        "outputId": "f4239ee0-d9ec-4f5f-c76f-94cc6eef0925"
      },
      "source": [
        "# Define the embedding input\n",
        "code_input = Input(shape=(1,), dtype='int32') \n",
        "output_dim=32*2   #X_train_categorical['code_mapping'].max()*1\n",
        "code_embedings = Embedding(output_dim=output_dim, input_dim=X_train_categorical['code_mapping'].max()+1)(code_input)\n",
        "code_embedings = keras.layers.Reshape((output_dim,))(code_embedings)\n",
        "\n",
        "# Define the continuous variables input (just like before)\n",
        "continuous_input = Input(shape=(X_train_continuous.shape[1], ))\n",
        "\n",
        "# Concatenate continuous and embeddings inputs\n",
        "all_input = keras.layers.concatenate([continuous_input, code_embedings])\n",
        "print(all_input)\n",
        "\n",
        "# Define the model\n",
        "dense1 = Dense(all_input.shape[1]*3, activation='relu')(all_input)\n",
        "dense2 = Dense(5, activation='relu')(dense1)\n",
        "predictions = Dense(1)(dense2)\n",
        "\n",
        "# Note using the input object 'area_input' not 'area_embeddings'\n",
        "model = Model(inputs=[continuous_input, code_input], outputs=predictions)\n",
        "model.compile(loss='mse', optimizer=keras.optimizers.Adam(lr=.8, beta_1=0.9, beta_2=0.999, decay=1e-03, amsgrad=True),metrics=[soft_5perc_acc,soft_10perc_acc,soft_500_acc,soft_1000_acc,soft_10000_acc,r2])\n",
        "model.summary()\n",
        "\n",
        "epochs = 100\n",
        "\n",
        "# Note continuous and categorical columns are inserted in the same order as defined in all_inputs\n",
        "history = model.fit([X_train_continuous, X_train_categorical['code_mapping']], Y_train, \n",
        "          epochs=epochs, batch_size=10000, \n",
        "          callbacks=[periodic_logger_10], verbose=0,\n",
        "          validation_data=([X_val_continuous, X_val_categorical['code_mapping']], Y_val))"
      ],
      "execution_count": 134,
      "outputs": [
        {
          "output_type": "stream",
          "text": [
            "Tensor(\"concatenate_9/concat:0\", shape=(None, 65), dtype=float32)\n",
            "Model: \"functional_19\"\n",
            "__________________________________________________________________________________________________\n",
            "Layer (type)                    Output Shape         Param #     Connected to                     \n",
            "==================================================================================================\n",
            "input_19 (InputLayer)           [(None, 1)]          0                                            \n",
            "__________________________________________________________________________________________________\n",
            "embedding_9 (Embedding)         (None, 1, 64)        97344       input_19[0][0]                   \n",
            "__________________________________________________________________________________________________\n",
            "input_20 (InputLayer)           [(None, 1)]          0                                            \n",
            "__________________________________________________________________________________________________\n",
            "reshape_9 (Reshape)             (None, 64)           0           embedding_9[0][0]                \n",
            "__________________________________________________________________________________________________\n",
            "concatenate_9 (Concatenate)     (None, 65)           0           input_20[0][0]                   \n",
            "                                                                 reshape_9[0][0]                  \n",
            "__________________________________________________________________________________________________\n",
            "dense_27 (Dense)                (None, 195)          12870       concatenate_9[0][0]              \n",
            "__________________________________________________________________________________________________\n",
            "dense_28 (Dense)                (None, 5)            980         dense_27[0][0]                   \n",
            "__________________________________________________________________________________________________\n",
            "dense_29 (Dense)                (None, 1)            6           dense_28[0][0]                   \n",
            "==================================================================================================\n",
            "Total params: 111,200\n",
            "Trainable params: 111,200\n",
            "Non-trainable params: 0\n",
            "__________________________________________________________________________________________________\n",
            "Epoch: 10 - {'loss': 2544787712.0, 'soft_5perc_acc': 0.06486307084560394, 'soft_10perc_acc': 0.10637200623750687, 'soft_500_acc': 0.2330082207918167, 'soft_1000_acc': 0.2707037925720215, 'soft_10000_acc': 0.47602343559265137, 'r2': 0.9915959239006042, 'val_loss': 2682356992.0, 'val_soft_5perc_acc': 0.08795708417892456, 'val_soft_10perc_acc': 0.1460094004869461, 'val_soft_500_acc': 0.18277575075626373, 'val_soft_1000_acc': 0.214455246925354, 'val_soft_10000_acc': 0.447756290435791, 'val_r2': 0.9910335540771484}\n",
            "Epoch: 20 - {'loss': 393614336.0, 'soft_5perc_acc': 0.14946618676185608, 'soft_10perc_acc': 0.20599602162837982, 'soft_500_acc': 0.21874995529651642, 'soft_1000_acc': 0.26818421483039856, 'soft_10000_acc': 0.6581149697303772, 'r2': 0.9986945986747742, 'val_loss': 1347459456.0, 'val_soft_5perc_acc': 0.20814135670661926, 'val_soft_10perc_acc': 0.2671549618244171, 'val_soft_500_acc': 0.18581445515155792, 'val_soft_1000_acc': 0.2441830039024353, 'val_soft_10000_acc': 0.7908881902694702, 'val_r2': 0.9954339861869812}\n",
            "Epoch: 30 - {'loss': 51535232.0, 'soft_5perc_acc': 0.2505335807800293, 'soft_10perc_acc': 0.31436046957969666, 'soft_500_acc': 0.26211291551589966, 'soft_1000_acc': 0.3553416132926941, 'soft_10000_acc': 0.9314592480659485, 'r2': 0.9998286366462708, 'val_loss': 1133832704.0, 'val_soft_5perc_acc': 0.267016738653183, 'val_soft_10perc_acc': 0.3339141309261322, 'val_soft_500_acc': 0.25663840770721436, 'val_soft_1000_acc': 0.3760865032672882, 'val_soft_10000_acc': 0.9378340840339661, 'val_r2': 0.9961258769035339}\n",
            "Epoch: 40 - {'loss': 34734816.0, 'soft_5perc_acc': 0.2761712074279785, 'soft_10perc_acc': 0.3413666784763336, 'soft_500_acc': 0.276812344789505, 'soft_1000_acc': 0.3916657567024231, 'soft_10000_acc': 0.9611108899116516, 'r2': 0.9998843669891357, 'val_loss': 1101707648.0, 'val_soft_5perc_acc': 0.30550259351730347, 'val_soft_10perc_acc': 0.36680716276168823, 'val_soft_500_acc': 0.20940765738487244, 'val_soft_1000_acc': 0.3441546559333801, 'val_soft_10000_acc': 0.9578007459640503, 'val_r2': 0.9962388277053833}\n",
            "Epoch: 50 - {'loss': 25264486.0, 'soft_5perc_acc': 0.33114761114120483, 'soft_10perc_acc': 0.3962497115135193, 'soft_500_acc': 0.2965061366558075, 'soft_1000_acc': 0.4699441194534302, 'soft_10000_acc': 0.9700355529785156, 'r2': 0.9999163150787354, 'val_loss': 1079528448.0, 'val_soft_5perc_acc': 0.3301824927330017, 'val_soft_10perc_acc': 0.391471266746521, 'val_soft_500_acc': 0.28021812438964844, 'val_soft_1000_acc': 0.46016839146614075, 'val_soft_10000_acc': 0.9648889303207397, 'val_r2': 0.9963128566741943}\n",
            "Epoch: 60 - {'loss': 21941426.0, 'soft_5perc_acc': 0.3416285216808319, 'soft_10perc_acc': 0.40522220730781555, 'soft_500_acc': 0.30576249957084656, 'soft_1000_acc': 0.4911387860774994, 'soft_10000_acc': 0.974183976650238, 'r2': 0.9999269843101501, 'val_loss': 1061214976.0, 'val_soft_5perc_acc': 0.34378838539123535, 'val_soft_10perc_acc': 0.412972092628479, 'val_soft_500_acc': 0.31519776582717896, 'val_soft_1000_acc': 0.5020313858985901, 'val_soft_10000_acc': 0.9677864909172058, 'val_r2': 0.99637371301651}\n",
            "Epoch: 70 - {'loss': 20113076.0, 'soft_5perc_acc': 0.34569162130355835, 'soft_10perc_acc': 0.40868985652923584, 'soft_500_acc': 0.31369563937187195, 'soft_1000_acc': 0.5037299394607544, 'soft_10000_acc': 0.977084219455719, 'r2': 0.9999318718910217, 'val_loss': 1046502272.0, 'val_soft_5perc_acc': 0.34411337971687317, 'val_soft_10perc_acc': 0.4121902287006378, 'val_soft_500_acc': 0.33069655299186707, 'val_soft_1000_acc': 0.5137696266174316, 'val_soft_10000_acc': 0.9707770943641663, 'val_r2': 0.996422290802002}\n",
            "Epoch: 80 - {'loss': 18179494.0, 'soft_5perc_acc': 0.35529279708862305, 'soft_10perc_acc': 0.4173624813556671, 'soft_500_acc': 0.3227822184562683, 'soft_1000_acc': 0.5301550030708313, 'soft_10000_acc': 0.978543221950531, 'r2': 0.9999398589134216, 'val_loss': 1034021312.0, 'val_soft_5perc_acc': 0.3413293957710266, 'val_soft_10perc_acc': 0.39685267210006714, 'val_soft_500_acc': 0.21656125783920288, 'val_soft_1000_acc': 0.3926715552806854, 'val_soft_10000_acc': 0.9710087776184082, 'val_r2': 0.9964653253555298}\n",
            "Epoch: 90 - {'loss': 16669577.0, 'soft_5perc_acc': 0.3608015775680542, 'soft_10perc_acc': 0.4224604666233063, 'soft_500_acc': 0.32832321524620056, 'soft_1000_acc': 0.5450716018676758, 'soft_10000_acc': 0.9801540970802307, 'r2': 0.9999445080757141, 'val_loss': 1022715584.0, 'val_soft_5perc_acc': 0.35578763484954834, 'val_soft_10perc_acc': 0.41927605867385864, 'val_soft_500_acc': 0.3428458869457245, 'val_soft_1000_acc': 0.556666374206543, 'val_soft_10000_acc': 0.9736518263816833, 'val_r2': 0.9965038299560547}\n",
            "Epoch: 100 - {'loss': 16116565.0, 'soft_5perc_acc': 0.368171751499176, 'soft_10perc_acc': 0.4284377694129944, 'soft_500_acc': 0.3378453254699707, 'soft_1000_acc': 0.565841794013977, 'soft_10000_acc': 0.9819656610488892, 'r2': 0.9999464750289917, 'val_loss': 1007020480.0, 'val_soft_5perc_acc': 0.3651890754699707, 'val_soft_10perc_acc': 0.4276345372200012, 'val_soft_500_acc': 0.34118402004241943, 'val_soft_1000_acc': 0.5674610137939453, 'val_soft_10000_acc': 0.973515510559082, 'val_r2': 0.9965570569038391}\n"
          ],
          "name": "stdout"
        }
      ]
    },
    {
      "cell_type": "markdown",
      "metadata": {
        "id": "JOX0cmylqGQa",
        "colab_type": "text"
      },
      "source": [
        "## Non-linearity 대응을 위한 polynomial Regression 적용\n",
        "https://medium.com/analytics-vidhya/polynomial-regression-with-keras-ef1797b39b88"
      ]
    },
    {
      "cell_type": "code",
      "metadata": {
        "id": "rO2Y1idqqcL1",
        "colab_type": "code",
        "colab": {
          "base_uri": "https://localhost:8080/",
          "height": 709
        },
        "outputId": "0c4fad06-6fd3-4900-9a9e-0d2951991803"
      },
      "source": [
        "from sklearn.preprocessing import PolynomialFeatures\n",
        "\n",
        "# Define the embedding input\n",
        "code_input = Input(shape=(1,), dtype='int32') \n",
        "output_dim=32*2   #X_train_categorical['code_mapping'].max()*1\n",
        "code_embedings = Embedding(output_dim=output_dim, input_dim=X_train_categorical['code_mapping'].max()+1)(code_input)\n",
        "code_embedings = keras.layers.Reshape((output_dim,))(code_embedings)\n",
        "\n",
        "n = 3\n",
        "trX_expanded = np.expand_dims(X_train_continuous, axis=1)\n",
        "poly = PolynomialFeatures(n)\n",
        "X_train_continuous = poly.fit_transform(X_train_continuous)\n",
        "X_val_continuous = poly.fit_transform(X_val_continuous)\n",
        "\n",
        "# Define the continuous variables input (just like before)\n",
        "continuous_input = Input(shape=(X_train_continuous.shape[1], ))\n",
        "\n",
        "# Concatenate continuous and embeddings inputs\n",
        "all_input = keras.layers.concatenate([continuous_input, code_embedings])\n",
        "print(all_input)\n",
        "\n",
        "# Define the model\n",
        "dense1 = Dense(all_input.shape[1]*3, activation='relu')(all_input)\n",
        "dense2 = Dense(5, activation='relu')(dense1)\n",
        "predictions = Dense(1)(dense2)\n",
        "\n",
        "# Note using the input object 'area_input' not 'area_embeddings'\n",
        "model = Model(inputs=[continuous_input, code_input], outputs=predictions)\n",
        "model.compile(loss='mse', optimizer=keras.optimizers.Adam(lr=.8, beta_1=0.9, beta_2=0.999, decay=1e-03, amsgrad=True),metrics=[soft_5perc_acc,soft_10perc_acc,soft_500_acc,soft_1000_acc,soft_10000_acc,r2])\n",
        "model.summary()\n",
        "\n",
        "epochs = 100\n",
        "\n",
        "# Note continuous and categorical columns are inserted in the same order as defined in all_inputs\n",
        "history = model.fit([X_train_continuous, X_train_categorical['code_mapping']], Y_train, \n",
        "          epochs=epochs, batch_size=10000, \n",
        "          callbacks=[periodic_logger_10], verbose=0,\n",
        "          validation_data=([X_val_continuous, X_val_categorical['code_mapping']], Y_val))"
      ],
      "execution_count": 110,
      "outputs": [
        {
          "output_type": "stream",
          "text": [
            "Tensor(\"concatenate_7/concat:0\", shape=(None, 68), dtype=float32)\n",
            "Model: \"functional_15\"\n",
            "__________________________________________________________________________________________________\n",
            "Layer (type)                    Output Shape         Param #     Connected to                     \n",
            "==================================================================================================\n",
            "input_15 (InputLayer)           [(None, 1)]          0                                            \n",
            "__________________________________________________________________________________________________\n",
            "embedding_7 (Embedding)         (None, 1, 64)        97344       input_15[0][0]                   \n",
            "__________________________________________________________________________________________________\n",
            "input_16 (InputLayer)           [(None, 4)]          0                                            \n",
            "__________________________________________________________________________________________________\n",
            "reshape_7 (Reshape)             (None, 64)           0           embedding_7[0][0]                \n",
            "__________________________________________________________________________________________________\n",
            "concatenate_7 (Concatenate)     (None, 68)           0           input_16[0][0]                   \n",
            "                                                                 reshape_7[0][0]                  \n",
            "__________________________________________________________________________________________________\n",
            "dense_21 (Dense)                (None, 204)          14076       concatenate_7[0][0]              \n",
            "__________________________________________________________________________________________________\n",
            "dense_22 (Dense)                (None, 5)            1025        dense_21[0][0]                   \n",
            "__________________________________________________________________________________________________\n",
            "dense_23 (Dense)                (None, 1)            6           dense_22[0][0]                   \n",
            "==================================================================================================\n",
            "Total params: 112,451\n",
            "Trainable params: 112,451\n",
            "Non-trainable params: 0\n",
            "__________________________________________________________________________________________________\n",
            "Epoch: 10 - {'loss': 19943292665856.0, 'soft_5perc_acc': 0.06838792562484741, 'soft_10perc_acc': 0.10630151629447937, 'soft_500_acc': 0.006794788409024477, 'soft_1000_acc': 0.007769313175231218, 'soft_10000_acc': 0.013104559853672981, 'r2': 0.9939821362495422, 'val_loss': 14255002746880.0, 'val_soft_5perc_acc': 0.07817003130912781, 'val_soft_10perc_acc': 0.12525641918182373, 'val_soft_500_acc': 0.013071361929178238, 'val_soft_1000_acc': 0.015156827867031097, 'val_soft_10000_acc': 0.024096067994832993, 'val_r2': 0.9954054951667786}\n",
            "Epoch: 20 - {'loss': 3661900808192.0, 'soft_5perc_acc': 0.12694606184959412, 'soft_10perc_acc': 0.18271495401859283, 'soft_500_acc': 0.014942877925932407, 'soft_1000_acc': 0.017243359237909317, 'soft_10000_acc': 0.03067694418132305, 'r2': 0.9989000558853149, 'val_loss': 5033757769728.0, 'val_soft_5perc_acc': 0.15177983045578003, 'val_soft_10perc_acc': 0.23239433765411377, 'val_soft_500_acc': 0.011563514359295368, 'val_soft_1000_acc': 0.013471363112330437, 'val_soft_10000_acc': 0.022852974012494087, 'val_r2': 0.9983853697776794}\n",
            "Epoch: 30 - {'loss': 1073840193536.0, 'soft_5perc_acc': 0.1654672622680664, 'soft_10perc_acc': 0.2581031024456024, 'soft_500_acc': 0.010866913944482803, 'soft_1000_acc': 0.012924296781420708, 'soft_10000_acc': 0.027086937800049782, 'r2': 0.9996774792671204, 'val_loss': 2509117063168.0, 'val_soft_5perc_acc': 0.1891191303730011, 'val_soft_10perc_acc': 0.2892244756221771, 'val_soft_500_acc': 0.00713829742744565, 'val_soft_1000_acc': 0.00834781862795353, 'val_soft_10000_acc': 0.019801083952188492, 'val_r2': 0.9992114305496216}\n",
            "Epoch: 40 - {'loss': 964413620224.0, 'soft_5perc_acc': 0.1837054193019867, 'soft_10perc_acc': 0.2762685716152191, 'soft_500_acc': 0.00834905169904232, 'soft_1000_acc': 0.010072629898786545, 'soft_10000_acc': 0.02422146312892437, 'r2': 0.9997087717056274, 'val_loss': 2209593163776.0, 'val_soft_5perc_acc': 0.20263025164604187, 'val_soft_10perc_acc': 0.29943159222602844, 'val_soft_500_acc': 0.007597818039357662, 'val_soft_1000_acc': 0.009028050117194653, 'val_soft_10000_acc': 0.02179774083197117, 'val_r2': 0.9993076920509338}\n",
            "Epoch: 50 - {'loss': 526957903872.0, 'soft_5perc_acc': 0.20912255346775055, 'soft_10perc_acc': 0.3144172132015228, 'soft_500_acc': 0.009087154641747475, 'soft_1000_acc': 0.010961919091641903, 'soft_10000_acc': 0.027846695855259895, 'r2': 0.9998415112495422, 'val_loss': 1852794601472.0, 'val_soft_5perc_acc': 0.1756872981786728, 'val_soft_10perc_acc': 0.2700574994087219, 'val_soft_500_acc': 0.008579721674323082, 'val_soft_1000_acc': 0.010665186680853367, 'val_soft_10000_acc': 0.03197412192821503, 'val_r2': 0.9994203448295593}\n",
            "Epoch: 60 - {'loss': 401801412608.0, 'soft_5perc_acc': 0.22557377815246582, 'soft_10perc_acc': 0.3377535939216614, 'soft_500_acc': 0.008178101852536201, 'soft_1000_acc': 0.010052627883851528, 'soft_10000_acc': 0.029375743120908737, 'r2': 0.9998788833618164, 'val_loss': 1678575796224.0, 'val_soft_5perc_acc': 0.1948176920413971, 'val_soft_10perc_acc': 0.3025698959827423, 'val_soft_500_acc': 0.007622817996889353, 'val_soft_1000_acc': 0.009287569671869278, 'val_soft_10000_acc': 0.032008640468120575, 'val_r2': 0.9994767904281616}\n",
            "Epoch: 70 - {'loss': 328721694720.0, 'soft_5perc_acc': 0.24165071547031403, 'soft_10perc_acc': 0.3642463982105255, 'soft_500_acc': 0.007349051535129547, 'soft_1000_acc': 0.008980478160083294, 'soft_10000_acc': 0.028400499373674393, 'r2': 0.9999017119407654, 'val_loss': 1460096991232.0, 'val_soft_5perc_acc': 0.23794883489608765, 'val_soft_10perc_acc': 0.35746291279792786, 'val_soft_500_acc': 0.007654721848666668, 'val_soft_1000_acc': 0.009366858750581741, 'val_soft_10000_acc': 0.028272230178117752, 'val_r2': 0.9995441436767578}\n",
            "Epoch: 80 - {'loss': 276787757056.0, 'soft_5perc_acc': 0.25425902009010315, 'soft_10perc_acc': 0.37489327788352966, 'soft_500_acc': 0.00762857124209404, 'soft_1000_acc': 0.009537862613797188, 'soft_10000_acc': 0.029932407662272453, 'r2': 0.9999161958694458, 'val_loss': 1357372850176.0, 'val_soft_5perc_acc': 0.2592741847038269, 'val_soft_10perc_acc': 0.37842851877212524, 'val_soft_500_acc': 0.007814241573214531, 'val_soft_1000_acc': 0.009883282706141472, 'val_soft_10000_acc': 0.029661983251571655, 'val_r2': 0.999576210975647}\n",
            "Epoch: 90 - {'loss': 244637384704.0, 'soft_5perc_acc': 0.264458566904068, 'soft_10perc_acc': 0.38585445284843445, 'soft_500_acc': 0.008190489374101162, 'soft_1000_acc': 0.010161918587982655, 'soft_10000_acc': 0.03203194960951805, 'r2': 0.9999263286590576, 'val_loss': 1328142352384.0, 'val_soft_5perc_acc': 0.24867281317710876, 'val_soft_10perc_acc': 0.3756130635738373, 'val_soft_500_acc': 0.008171145804226398, 'val_soft_1000_acc': 0.010338514111936092, 'val_soft_10000_acc': 0.03497099503874779, 'val_r2': 0.9995861649513245}\n",
            "Epoch: 100 - {'loss': 217201098752.0, 'soft_5perc_acc': 0.2679283618927002, 'soft_10perc_acc': 0.3858356177806854, 'soft_500_acc': 0.008077862672507763, 'soft_1000_acc': 0.010220959782600403, 'soft_10000_acc': 0.033690035343170166, 'r2': 0.9999346137046814, 'val_loss': 1292841779200.0, 'val_soft_5perc_acc': 0.2724645733833313, 'val_soft_10perc_acc': 0.3932182192802429, 'val_soft_500_acc': 0.007586625870317221, 'val_soft_1000_acc': 0.009758282452821732, 'val_soft_10000_acc': 0.031087927520275116, 'val_r2': 0.9995968341827393}\n"
          ],
          "name": "stdout"
        }
      ]
    },
    {
      "cell_type": "markdown",
      "metadata": {
        "id": "7hVcIRhnpho7",
        "colab_type": "text"
      },
      "source": [
        "## 학습 결과 확인"
      ]
    },
    {
      "cell_type": "code",
      "metadata": {
        "id": "_Ehqk5Lde2mc",
        "colab_type": "code",
        "colab": {
          "base_uri": "https://localhost:8080/",
          "height": 599
        },
        "outputId": "fa471159-6382-476b-c176-32fa948da2f4"
      },
      "source": [
        "# Plot the train/validation loss values\n",
        "plt.figure(figsize=(20,10))\n",
        "_loss = history.history['loss'][5:]\n",
        "_val_loss = history.history['val_loss'][5:]\n",
        "\n",
        "train_loss_plot, = plt.plot(range(1, len(_loss)+1), _loss, label='Train Loss')\n",
        "val_loss_plot, = plt.plot(range(1, len(_val_loss)+1), _val_loss, label='Validation Loss')\n",
        "\n",
        "_ = plt.legend(handles=[train_loss_plot, val_loss_plot])"
      ],
      "execution_count": null,
      "outputs": [
        {
          "output_type": "display_data",
          "data": {
            "image/png": "[encoded data removed]",
            "text/plain": [
              "<Figure size 1440x720 with 1 Axes>"
            ]
          },
          "metadata": {
            "tags": [],
            "needs_background": "light"
          }
        }
      ]
    },
    {
      "cell_type": "code",
      "metadata": {
        "id": "TYNahs_Nj87h",
        "colab_type": "code",
        "colab": {
          "base_uri": "https://localhost:8080/",
          "height": 992
        },
        "outputId": "b0254ea9-45ce-49d8-edbb-5a59c69e969f"
      },
      "source": [
        "df = pd.DataFrame(Y_val,columns=['NAFYC'])\n",
        "\n",
        "print (\"This is the average value we are trying to predict: %d\" % df['NAFYC'].mean())\n",
        "\n",
        "# Add a column for the model's predicted values\n",
        "df['pred'] = model.predict([X_val_continuous, X_val_categorical['code_mapping']])\n",
        "\n",
        "# Calculate the difference between the predicted and the actual price\n",
        "df['diff'] = df['pred'] - df['NAFYC']\n",
        "\n",
        "# Calculate the absolute difference between the predicted and the actual price\n",
        "df['abs_diff'] = np.abs(df['diff'])\n",
        "\n",
        "# Calculate the percentage of the difference from the actual price\n",
        "df['%diff'] = 100 * (df['diff'] / df['NAFYC'])\n",
        "\n",
        "# Calculate the absolute percentage difference from the actual price\n",
        "df['abs_%diff'] = np.abs(df['%diff'])\n",
        "\n",
        "# Calculate the mean and std. of the diff field\n",
        "diff_mean, diff_std = df['diff'].mean(), df['diff'].std()\n",
        "print(\"The mean is very close to 0 ({mean}) with std. {std}.\".format(mean=round(diff_mean, 2), std=round(diff_std, 2)))\n",
        "\n",
        "# Here is the histogram of the differences\n",
        "plt.figure(figsize=(20,10))\n",
        "plt.hist(df['diff'], bins=100)\n",
        "plt.xlabel(\"\\\\\")\n",
        "plt.ylabel(\"# samples\")\n",
        "_ = plt.title(\"Difference between predicted and actual price\")\n",
        "\n",
        "plt.show()\n",
        "\n",
        "# Sort by the 'abs_diff' field and show the 5 largest mistakes in absolute values\n",
        "a = df.sort_values(\"abs_diff\", ascending=False)\n",
        "a.drop(columns=['NAFYC'],inplace=True)\n",
        "b = a.join(dataset)\n",
        "b.head(10)"
      ],
      "execution_count": null,
      "outputs": [
        {
          "output_type": "stream",
          "text": [
            "This is the average value we are trying to predict: 12604089\n",
            "The mean is very close to 0 (3162.25) with std. 58018.97.\n"
          ],
          "name": "stdout"
        },
        {
          "output_type": "display_data",
          "data": {
            "image/png": "[encoded data removed]",
            "text/plain": [
              "<Figure size 1440x720 with 1 Axes>"
            ]
          },
          "metadata": {
            "tags": [],
            "needs_background": "light"
          }
        },
        {
          "output_type": "execute_result",
          "data": {
            "text/html": [
              "<div>\n",
              "<style scoped>\n",
              "    .dataframe tbody tr th:only-of-type {\n",
              "        vertical-align: middle;\n",
              "    }\n",
              "\n",
              "    .dataframe tbody tr th {\n",
              "        vertical-align: top;\n",
              "    }\n",
              "\n",
              "    .dataframe thead th {\n",
              "        text-align: right;\n",
              "    }\n",
              "</style>\n",
              "<table border=\"1\" class=\"dataframe\">\n",
              "  <thead>\n",
              "    <tr style=\"text-align: right;\">\n",
              "      <th></th>\n",
              "      <th>pred</th>\n",
              "      <th>diff</th>\n",
              "      <th>abs_diff</th>\n",
              "      <th>%diff</th>\n",
              "      <th>abs_%diff</th>\n",
              "      <th>CODE</th>\n",
              "      <th>REAL_YY</th>\n",
              "      <th>COM_RATE</th>\n",
              "      <th>NAFYC</th>\n",
              "      <th>code_mapping</th>\n",
              "    </tr>\n",
              "  </thead>\n",
              "  <tbody>\n",
              "    <tr>\n",
              "      <th>81592</th>\n",
              "      <td>40496612.00</td>\n",
              "      <td>4784117.00</td>\n",
              "      <td>4784117.00</td>\n",
              "      <td>13.396199</td>\n",
              "      <td>13.396199</td>\n",
              "      <td>1307</td>\n",
              "      <td>2.045077</td>\n",
              "      <td>0.028820</td>\n",
              "      <td>35712495.0</td>\n",
              "      <td>308</td>\n",
              "    </tr>\n",
              "    <tr>\n",
              "      <th>171327</th>\n",
              "      <td>44001340.00</td>\n",
              "      <td>2731540.00</td>\n",
              "      <td>2731540.00</td>\n",
              "      <td>6.618738</td>\n",
              "      <td>6.618738</td>\n",
              "      <td>1666</td>\n",
              "      <td>2.469352</td>\n",
              "      <td>0.063892</td>\n",
              "      <td>41269800.0</td>\n",
              "      <td>667</td>\n",
              "    </tr>\n",
              "    <tr>\n",
              "      <th>383166</th>\n",
              "      <td>2657801.75</td>\n",
              "      <td>2553081.75</td>\n",
              "      <td>2553081.75</td>\n",
              "      <td>2438.007783</td>\n",
              "      <td>2438.007783</td>\n",
              "      <td>2499</td>\n",
              "      <td>-1.130250</td>\n",
              "      <td>1.326476</td>\n",
              "      <td>104720.0</td>\n",
              "      <td>1500</td>\n",
              "    </tr>\n",
              "    <tr>\n",
              "      <th>44561</th>\n",
              "      <td>75698904.00</td>\n",
              "      <td>1737072.00</td>\n",
              "      <td>1737072.00</td>\n",
              "      <td>2.348606</td>\n",
              "      <td>2.348606</td>\n",
              "      <td>1166</td>\n",
              "      <td>3.284843</td>\n",
              "      <td>0.905614</td>\n",
              "      <td>73961832.0</td>\n",
              "      <td>167</td>\n",
              "    </tr>\n",
              "    <tr>\n",
              "      <th>383165</th>\n",
              "      <td>3956649.00</td>\n",
              "      <td>1575545.00</td>\n",
              "      <td>1575545.00</td>\n",
              "      <td>66.168676</td>\n",
              "      <td>66.168676</td>\n",
              "      <td>2499</td>\n",
              "      <td>-1.012749</td>\n",
              "      <td>1.326476</td>\n",
              "      <td>2381104.0</td>\n",
              "      <td>1500</td>\n",
              "    </tr>\n",
              "    <tr>\n",
              "      <th>338627</th>\n",
              "      <td>11480491.00</td>\n",
              "      <td>1484274.00</td>\n",
              "      <td>1484274.00</td>\n",
              "      <td>14.848357</td>\n",
              "      <td>14.848357</td>\n",
              "      <td>2320</td>\n",
              "      <td>2.992159</td>\n",
              "      <td>-1.374051</td>\n",
              "      <td>9996217.0</td>\n",
              "      <td>1321</td>\n",
              "    </tr>\n",
              "    <tr>\n",
              "      <th>81594</th>\n",
              "      <td>6817967.00</td>\n",
              "      <td>-1219888.00</td>\n",
              "      <td>1219888.00</td>\n",
              "      <td>-15.176785</td>\n",
              "      <td>15.176785</td>\n",
              "      <td>1307</td>\n",
              "      <td>-0.419764</td>\n",
              "      <td>0.028820</td>\n",
              "      <td>8037855.0</td>\n",
              "      <td>308</td>\n",
              "    </tr>\n",
              "    <tr>\n",
              "      <th>329701</th>\n",
              "      <td>86113016.00</td>\n",
              "      <td>1189880.00</td>\n",
              "      <td>1189880.00</td>\n",
              "      <td>1.401126</td>\n",
              "      <td>1.401126</td>\n",
              "      <td>2287</td>\n",
              "      <td>3.298224</td>\n",
              "      <td>1.291404</td>\n",
              "      <td>84923136.0</td>\n",
              "      <td>1288</td>\n",
              "    </tr>\n",
              "    <tr>\n",
              "      <th>44006</th>\n",
              "      <td>16511478.00</td>\n",
              "      <td>1176422.00</td>\n",
              "      <td>1176422.00</td>\n",
              "      <td>7.671456</td>\n",
              "      <td>7.671456</td>\n",
              "      <td>1164</td>\n",
              "      <td>3.217884</td>\n",
              "      <td>-1.198692</td>\n",
              "      <td>15335056.0</td>\n",
              "      <td>165</td>\n",
              "    </tr>\n",
              "    <tr>\n",
              "      <th>228468</th>\n",
              "      <td>90827096.00</td>\n",
              "      <td>-1173109.00</td>\n",
              "      <td>1173109.00</td>\n",
              "      <td>-1.275116</td>\n",
              "      <td>1.275116</td>\n",
              "      <td>1885</td>\n",
              "      <td>3.085494</td>\n",
              "      <td>1.712265</td>\n",
              "      <td>92000205.0</td>\n",
              "      <td>886</td>\n",
              "    </tr>\n",
              "  </tbody>\n",
              "</table>\n",
              "</div>"
            ],
            "text/plain": [
              "               pred        diff    abs_diff  ...  COM_RATE       NAFYC code_mapping\n",
              "81592   40496612.00  4784117.00  4784117.00  ...  0.028820  35712495.0          308\n",
              "171327  44001340.00  2731540.00  2731540.00  ...  0.063892  41269800.0          667\n",
              "383166   2657801.75  2553081.75  2553081.75  ...  1.326476    104720.0         1500\n",
              "44561   75698904.00  1737072.00  1737072.00  ...  0.905614  73961832.0          167\n",
              "383165   3956649.00  1575545.00  1575545.00  ...  1.326476   2381104.0         1500\n",
              "338627  11480491.00  1484274.00  1484274.00  ... -1.374051   9996217.0         1321\n",
              "81594    6817967.00 -1219888.00  1219888.00  ...  0.028820   8037855.0          308\n",
              "329701  86113016.00  1189880.00  1189880.00  ...  1.291404  84923136.0         1288\n",
              "44006   16511478.00  1176422.00  1176422.00  ... -1.198692  15335056.0          165\n",
              "228468  90827096.00 -1173109.00  1173109.00  ...  1.712265  92000205.0          886\n",
              "\n",
              "[10 rows x 10 columns]"
            ]
          },
          "metadata": {
            "tags": []
          },
          "execution_count": 31
        }
      ]
    },
    {
      "cell_type": "code",
      "metadata": {
        "id": "5wcNJ81Sk1VR",
        "colab_type": "code",
        "colab": {
          "base_uri": "https://localhost:8080/",
          "height": 411
        },
        "outputId": "971df662-8a97-498c-f535-4e8d42a0d9db"
      },
      "source": [
        "dataset[dataset['code_mapping']==3]"
      ],
      "execution_count": null,
      "outputs": [
        {
          "output_type": "execute_result",
          "data": {
            "text/html": [
              "<div>\n",
              "<style scoped>\n",
              "    .dataframe tbody tr th:only-of-type {\n",
              "        vertical-align: middle;\n",
              "    }\n",
              "\n",
              "    .dataframe tbody tr th {\n",
              "        vertical-align: top;\n",
              "    }\n",
              "\n",
              "    .dataframe thead th {\n",
              "        text-align: right;\n",
              "    }\n",
              "</style>\n",
              "<table border=\"1\" class=\"dataframe\">\n",
              "  <thead>\n",
              "    <tr style=\"text-align: right;\">\n",
              "      <th></th>\n",
              "      <th>CODE</th>\n",
              "      <th>REAL_YY</th>\n",
              "      <th>COM_RATE</th>\n",
              "      <th>NAFYC</th>\n",
              "      <th>code_mapping</th>\n",
              "    </tr>\n",
              "  </thead>\n",
              "  <tbody>\n",
              "    <tr>\n",
              "      <th>233</th>\n",
              "      <td>1002</td>\n",
              "      <td>-0.967499</td>\n",
              "      <td>0.730255</td>\n",
              "      <td>2628420.0</td>\n",
              "      <td>3</td>\n",
              "    </tr>\n",
              "    <tr>\n",
              "      <th>234</th>\n",
              "      <td>1002</td>\n",
              "      <td>2.657077</td>\n",
              "      <td>0.730255</td>\n",
              "      <td>59283438.0</td>\n",
              "      <td>3</td>\n",
              "    </tr>\n",
              "    <tr>\n",
              "      <th>235</th>\n",
              "      <td>1002</td>\n",
              "      <td>-0.113090</td>\n",
              "      <td>0.730255</td>\n",
              "      <td>15983520.0</td>\n",
              "      <td>3</td>\n",
              "    </tr>\n",
              "    <tr>\n",
              "      <th>236</th>\n",
              "      <td>1002</td>\n",
              "      <td>0.302078</td>\n",
              "      <td>0.730255</td>\n",
              "      <td>22472920.0</td>\n",
              "      <td>3</td>\n",
              "    </tr>\n",
              "    <tr>\n",
              "      <th>237</th>\n",
              "      <td>1002</td>\n",
              "      <td>-0.424738</td>\n",
              "      <td>0.730255</td>\n",
              "      <td>11112210.0</td>\n",
              "      <td>3</td>\n",
              "    </tr>\n",
              "    <tr>\n",
              "      <th>...</th>\n",
              "      <td>...</td>\n",
              "      <td>...</td>\n",
              "      <td>...</td>\n",
              "      <td>...</td>\n",
              "      <td>...</td>\n",
              "    </tr>\n",
              "    <tr>\n",
              "      <th>570</th>\n",
              "      <td>1002</td>\n",
              "      <td>-0.084873</td>\n",
              "      <td>0.730255</td>\n",
              "      <td>16424572.0</td>\n",
              "      <td>3</td>\n",
              "    </tr>\n",
              "    <tr>\n",
              "      <th>571</th>\n",
              "      <td>1002</td>\n",
              "      <td>-0.243454</td>\n",
              "      <td>0.730255</td>\n",
              "      <td>13945820.0</td>\n",
              "      <td>3</td>\n",
              "    </tr>\n",
              "    <tr>\n",
              "      <th>572</th>\n",
              "      <td>1002</td>\n",
              "      <td>-0.457760</td>\n",
              "      <td>0.730255</td>\n",
              "      <td>10596040.0</td>\n",
              "      <td>3</td>\n",
              "    </tr>\n",
              "    <tr>\n",
              "      <th>573</th>\n",
              "      <td>1002</td>\n",
              "      <td>-0.299370</td>\n",
              "      <td>0.730255</td>\n",
              "      <td>13071810.0</td>\n",
              "      <td>3</td>\n",
              "    </tr>\n",
              "    <tr>\n",
              "      <th>574</th>\n",
              "      <td>1002</td>\n",
              "      <td>0.154543</td>\n",
              "      <td>0.730255</td>\n",
              "      <td>20166840.0</td>\n",
              "      <td>3</td>\n",
              "    </tr>\n",
              "  </tbody>\n",
              "</table>\n",
              "<p>342 rows × 5 columns</p>\n",
              "</div>"
            ],
            "text/plain": [
              "     CODE   REAL_YY  COM_RATE       NAFYC  code_mapping\n",
              "233  1002 -0.967499  0.730255   2628420.0             3\n",
              "234  1002  2.657077  0.730255  59283438.0             3\n",
              "235  1002 -0.113090  0.730255  15983520.0             3\n",
              "236  1002  0.302078  0.730255  22472920.0             3\n",
              "237  1002 -0.424738  0.730255  11112210.0             3\n",
              "..    ...       ...       ...         ...           ...\n",
              "570  1002 -0.084873  0.730255  16424572.0             3\n",
              "571  1002 -0.243454  0.730255  13945820.0             3\n",
              "572  1002 -0.457760  0.730255  10596040.0             3\n",
              "573  1002 -0.299370  0.730255  13071810.0             3\n",
              "574  1002  0.154543  0.730255  20166840.0             3\n",
              "\n",
              "[342 rows x 5 columns]"
            ]
          },
          "metadata": {
            "tags": []
          },
          "execution_count": 32
        }
      ]
    },
    {
      "cell_type": "code",
      "metadata": {
        "id": "S5eCEQVSliQe",
        "colab_type": "code",
        "colab": {
          "base_uri": "https://localhost:8080/",
          "height": 411
        },
        "outputId": "4b0ff4a9-f68b-41c8-c78b-626f6fbce26b"
      },
      "source": [
        "dataset"
      ],
      "execution_count": null,
      "outputs": [
        {
          "output_type": "execute_result",
          "data": {
            "text/html": [
              "<div>\n",
              "<style scoped>\n",
              "    .dataframe tbody tr th:only-of-type {\n",
              "        vertical-align: middle;\n",
              "    }\n",
              "\n",
              "    .dataframe tbody tr th {\n",
              "        vertical-align: top;\n",
              "    }\n",
              "\n",
              "    .dataframe thead th {\n",
              "        text-align: right;\n",
              "    }\n",
              "</style>\n",
              "<table border=\"1\" class=\"dataframe\">\n",
              "  <thead>\n",
              "    <tr style=\"text-align: right;\">\n",
              "      <th></th>\n",
              "      <th>CODE</th>\n",
              "      <th>REAL_YY</th>\n",
              "      <th>COM_RATE</th>\n",
              "      <th>NAFYC</th>\n",
              "      <th>code_mapping</th>\n",
              "    </tr>\n",
              "  </thead>\n",
              "  <tbody>\n",
              "    <tr>\n",
              "      <th>0</th>\n",
              "      <td>1000</td>\n",
              "      <td>-0.906546</td>\n",
              "      <td>-0.462185</td>\n",
              "      <td>1866243.0</td>\n",
              "      <td>1</td>\n",
              "    </tr>\n",
              "    <tr>\n",
              "      <th>1</th>\n",
              "      <td>1000</td>\n",
              "      <td>-0.053195</td>\n",
              "      <td>-0.462185</td>\n",
              "      <td>8817322.0</td>\n",
              "      <td>1</td>\n",
              "    </tr>\n",
              "    <tr>\n",
              "      <th>2</th>\n",
              "      <td>1000</td>\n",
              "      <td>1.183714</td>\n",
              "      <td>-0.462185</td>\n",
              "      <td>18892718.0</td>\n",
              "      <td>1</td>\n",
              "    </tr>\n",
              "    <tr>\n",
              "      <th>3</th>\n",
              "      <td>1000</td>\n",
              "      <td>0.561807</td>\n",
              "      <td>-0.462185</td>\n",
              "      <td>13826900.0</td>\n",
              "      <td>1</td>\n",
              "    </tr>\n",
              "    <tr>\n",
              "      <th>4</th>\n",
              "      <td>1000</td>\n",
              "      <td>0.437321</td>\n",
              "      <td>-0.462185</td>\n",
              "      <td>12812878.0</td>\n",
              "      <td>1</td>\n",
              "    </tr>\n",
              "    <tr>\n",
              "      <th>...</th>\n",
              "      <td>...</td>\n",
              "      <td>...</td>\n",
              "      <td>...</td>\n",
              "      <td>...</td>\n",
              "      <td>...</td>\n",
              "    </tr>\n",
              "    <tr>\n",
              "      <th>388065</th>\n",
              "      <td>2519</td>\n",
              "      <td>-0.791257</td>\n",
              "      <td>-1.268835</td>\n",
              "      <td>1061480.0</td>\n",
              "      <td>1520</td>\n",
              "    </tr>\n",
              "    <tr>\n",
              "      <th>388066</th>\n",
              "      <td>2519</td>\n",
              "      <td>0.062789</td>\n",
              "      <td>-1.268835</td>\n",
              "      <td>3693760.0</td>\n",
              "      <td>1520</td>\n",
              "    </tr>\n",
              "    <tr>\n",
              "      <th>388067</th>\n",
              "      <td>2519</td>\n",
              "      <td>0.966346</td>\n",
              "      <td>-1.268835</td>\n",
              "      <td>6478640.0</td>\n",
              "      <td>1520</td>\n",
              "    </tr>\n",
              "    <tr>\n",
              "      <th>388068</th>\n",
              "      <td>2519</td>\n",
              "      <td>2.110623</td>\n",
              "      <td>-1.268835</td>\n",
              "      <td>10005450.0</td>\n",
              "      <td>1520</td>\n",
              "    </tr>\n",
              "    <tr>\n",
              "      <th>388069</th>\n",
              "      <td>2519</td>\n",
              "      <td>-0.063174</td>\n",
              "      <td>-1.268835</td>\n",
              "      <td>3305526.0</td>\n",
              "      <td>1520</td>\n",
              "    </tr>\n",
              "  </tbody>\n",
              "</table>\n",
              "<p>388070 rows × 5 columns</p>\n",
              "</div>"
            ],
            "text/plain": [
              "        CODE   REAL_YY  COM_RATE       NAFYC  code_mapping\n",
              "0       1000 -0.906546 -0.462185   1866243.0             1\n",
              "1       1000 -0.053195 -0.462185   8817322.0             1\n",
              "2       1000  1.183714 -0.462185  18892718.0             1\n",
              "3       1000  0.561807 -0.462185  13826900.0             1\n",
              "4       1000  0.437321 -0.462185  12812878.0             1\n",
              "...      ...       ...       ...         ...           ...\n",
              "388065  2519 -0.791257 -1.268835   1061480.0          1520\n",
              "388066  2519  0.062789 -1.268835   3693760.0          1520\n",
              "388067  2519  0.966346 -1.268835   6478640.0          1520\n",
              "388068  2519  2.110623 -1.268835  10005450.0          1520\n",
              "388069  2519 -0.063174 -1.268835   3305526.0          1520\n",
              "\n",
              "[388070 rows x 5 columns]"
            ]
          },
          "metadata": {
            "tags": []
          },
          "execution_count": 33
        }
      ]
    },
    {
      "cell_type": "markdown",
      "metadata": {
        "id": "5psELZ36pqeP",
        "colab_type": "text"
      },
      "source": [
        "## 성립 데이터에 대한 파생변수 추가 실험\n",
        "# NAFYC 산출 관계식에 의한 파생변수 추가 "
      ]
    },
    {
      "cell_type": "code",
      "metadata": {
        "id": "JkAeRMlXmWR7",
        "colab_type": "code",
        "colab": {}
      },
      "source": [
        "dataset['ft1'] = dataset['REAL_YY']* dataset['COM_RATE']"
      ],
      "execution_count": null,
      "outputs": []
    },
    {
      "cell_type": "code",
      "metadata": {
        "id": "zv-iy_-vmjCu",
        "colab_type": "code",
        "colab": {
          "base_uri": "https://localhost:8080/",
          "height": 411
        },
        "outputId": "cab734e7-6efb-4f67-eca3-0359d5d63217"
      },
      "source": [
        "dataset"
      ],
      "execution_count": null,
      "outputs": [
        {
          "output_type": "execute_result",
          "data": {
            "text/html": [
              "<div>\n",
              "<style scoped>\n",
              "    .dataframe tbody tr th:only-of-type {\n",
              "        vertical-align: middle;\n",
              "    }\n",
              "\n",
              "    .dataframe tbody tr th {\n",
              "        vertical-align: top;\n",
              "    }\n",
              "\n",
              "    .dataframe thead th {\n",
              "        text-align: right;\n",
              "    }\n",
              "</style>\n",
              "<table border=\"1\" class=\"dataframe\">\n",
              "  <thead>\n",
              "    <tr style=\"text-align: right;\">\n",
              "      <th></th>\n",
              "      <th>CODE</th>\n",
              "      <th>REAL_YY</th>\n",
              "      <th>COM_RATE</th>\n",
              "      <th>NAFYC</th>\n",
              "      <th>code_mapping</th>\n",
              "      <th>ft1</th>\n",
              "    </tr>\n",
              "  </thead>\n",
              "  <tbody>\n",
              "    <tr>\n",
              "      <th>0</th>\n",
              "      <td>1000</td>\n",
              "      <td>-0.497537</td>\n",
              "      <td>-1.084695</td>\n",
              "      <td>69600.42</td>\n",
              "      <td>1</td>\n",
              "      <td>0.539676</td>\n",
              "    </tr>\n",
              "    <tr>\n",
              "      <th>1</th>\n",
              "      <td>1000</td>\n",
              "      <td>-0.482363</td>\n",
              "      <td>-1.084695</td>\n",
              "      <td>686612.12</td>\n",
              "      <td>1</td>\n",
              "      <td>0.523217</td>\n",
              "    </tr>\n",
              "    <tr>\n",
              "      <th>2</th>\n",
              "      <td>1000</td>\n",
              "      <td>-0.499242</td>\n",
              "      <td>-1.084695</td>\n",
              "      <td>265.24</td>\n",
              "      <td>1</td>\n",
              "      <td>0.541526</td>\n",
              "    </tr>\n",
              "    <tr>\n",
              "      <th>3</th>\n",
              "      <td>1000</td>\n",
              "      <td>-0.488875</td>\n",
              "      <td>-1.084695</td>\n",
              "      <td>421815.20</td>\n",
              "      <td>1</td>\n",
              "      <td>0.530280</td>\n",
              "    </tr>\n",
              "    <tr>\n",
              "      <th>4</th>\n",
              "      <td>1000</td>\n",
              "      <td>-0.496209</td>\n",
              "      <td>-1.084695</td>\n",
              "      <td>123621.41</td>\n",
              "      <td>1</td>\n",
              "      <td>0.538235</td>\n",
              "    </tr>\n",
              "    <tr>\n",
              "      <th>...</th>\n",
              "      <td>...</td>\n",
              "      <td>...</td>\n",
              "      <td>...</td>\n",
              "      <td>...</td>\n",
              "      <td>...</td>\n",
              "      <td>...</td>\n",
              "    </tr>\n",
              "    <tr>\n",
              "      <th>383709</th>\n",
              "      <td>2519</td>\n",
              "      <td>-0.499175</td>\n",
              "      <td>0.644901</td>\n",
              "      <td>10926.15</td>\n",
              "      <td>1520</td>\n",
              "      <td>-0.321918</td>\n",
              "    </tr>\n",
              "    <tr>\n",
              "      <th>383710</th>\n",
              "      <td>2519</td>\n",
              "      <td>-0.487524</td>\n",
              "      <td>0.644901</td>\n",
              "      <td>1731404.58</td>\n",
              "      <td>1520</td>\n",
              "      <td>-0.314405</td>\n",
              "    </tr>\n",
              "    <tr>\n",
              "      <th>383711</th>\n",
              "      <td>2519</td>\n",
              "      <td>-0.108952</td>\n",
              "      <td>0.644901</td>\n",
              "      <td>57634320.69</td>\n",
              "      <td>1520</td>\n",
              "      <td>-0.070263</td>\n",
              "    </tr>\n",
              "    <tr>\n",
              "      <th>383712</th>\n",
              "      <td>2519</td>\n",
              "      <td>-0.099061</td>\n",
              "      <td>0.644901</td>\n",
              "      <td>59094883.71</td>\n",
              "      <td>1520</td>\n",
              "      <td>-0.063885</td>\n",
              "    </tr>\n",
              "    <tr>\n",
              "      <th>383713</th>\n",
              "      <td>2519</td>\n",
              "      <td>-0.498985</td>\n",
              "      <td>0.644901</td>\n",
              "      <td>38877.36</td>\n",
              "      <td>1520</td>\n",
              "      <td>-0.321796</td>\n",
              "    </tr>\n",
              "  </tbody>\n",
              "</table>\n",
              "<p>383714 rows × 6 columns</p>\n",
              "</div>"
            ],
            "text/plain": [
              "        CODE   REAL_YY  COM_RATE        NAFYC  code_mapping       ft1\n",
              "0       1000 -0.497537 -1.084695     69600.42             1  0.539676\n",
              "1       1000 -0.482363 -1.084695    686612.12             1  0.523217\n",
              "2       1000 -0.499242 -1.084695       265.24             1  0.541526\n",
              "3       1000 -0.488875 -1.084695    421815.20             1  0.530280\n",
              "4       1000 -0.496209 -1.084695    123621.41             1  0.538235\n",
              "...      ...       ...       ...          ...           ...       ...\n",
              "383709  2519 -0.499175  0.644901     10926.15          1520 -0.321918\n",
              "383710  2519 -0.487524  0.644901   1731404.58          1520 -0.314405\n",
              "383711  2519 -0.108952  0.644901  57634320.69          1520 -0.070263\n",
              "383712  2519 -0.099061  0.644901  59094883.71          1520 -0.063885\n",
              "383713  2519 -0.498985  0.644901     38877.36          1520 -0.321796\n",
              "\n",
              "[383714 rows x 6 columns]"
            ]
          },
          "metadata": {
            "tags": []
          },
          "execution_count": 86
        }
      ]
    },
    {
      "cell_type": "code",
      "metadata": {
        "id": "zhCAKzWjlm3Q",
        "colab_type": "code",
        "colab": {}
      },
      "source": [
        "# trainset과 validationset 나누고... 기타 정리\n",
        "\n",
        "X_train_org, X_val_org, Y_train, Y_val = train_test_split(dataset[['REAL_YY','ft1','code_mapping']],\n",
        "    dataset['NAFYC'], test_size=0.1, random_state=0)\n",
        "\n",
        "# 학습 대상 변수만 선택\n",
        "X_train_continuous = X_train_org[['REAL_YY','ft1']]\n",
        "X_train_categorical = X_train_org[['code_mapping']]\n",
        "\n",
        "X_val_continuous  = X_val_org[['REAL_YY','ft1']]\n",
        "X_val_categorical = X_val_org[['code_mapping']]\n"
      ],
      "execution_count": null,
      "outputs": []
    },
    {
      "cell_type": "code",
      "metadata": {
        "id": "-iHvJfEXVO9T",
        "colab_type": "code",
        "colab": {
          "base_uri": "https://localhost:8080/",
          "height": 230
        },
        "outputId": "273ac5db-55f5-42cf-d46d-2133ca1864ca"
      },
      "source": [
        "Y_train"
      ],
      "execution_count": null,
      "outputs": [
        {
          "output_type": "execute_result",
          "data": {
            "text/plain": [
              "225181    1.499210e+06\n",
              "105434    9.798358e+07\n",
              "39305     5.160489e+06\n",
              "151677    6.741836e+08\n",
              "86507     6.528000e+01\n",
              "              ...     \n",
              "359783    1.756332e+08\n",
              "358083    3.491232e+04\n",
              "152315    5.441101e+06\n",
              "117952    7.804143e+05\n",
              "305711    3.964330e+06\n",
              "Name: NAFYC, Length: 345342, dtype: float64"
            ]
          },
          "metadata": {
            "tags": []
          },
          "execution_count": 88
        }
      ]
    },
    {
      "cell_type": "markdown",
      "metadata": {
        "id": "xftQSoqoqBiS",
        "colab_type": "text"
      },
      "source": [
        "## 네크워크 구성 (기존과 동일) 및 학습"
      ]
    },
    {
      "cell_type": "code",
      "metadata": {
        "id": "Se-0H_D5lzt_",
        "colab_type": "code",
        "colab": {
          "base_uri": "https://localhost:8080/",
          "height": 677
        },
        "outputId": "ac012cd0-b6d1-4aa1-fa8b-d02c9434d587"
      },
      "source": [
        "# Define the embedding input\n",
        "code_input = Input(shape=(1,), dtype='int32') \n",
        "output_dim=32*2   #X_train_categorical['code_mapping'].max()*1\n",
        "code_embedings = Embedding(output_dim=output_dim, input_dim=X_train_categorical['code_mapping'].max()+1)(code_input)\n",
        "code_embedings = keras.layers.Reshape((output_dim,))(code_embedings)\n",
        "\n",
        "# Define the continuous variables input (just like before)\n",
        "continuous_input = Input(shape=(X_train_continuous.shape[1], ))\n",
        "\n",
        "# Concatenate continuous and embeddings inputs\n",
        "all_input = keras.layers.concatenate([continuous_input, code_embedings])\n",
        "print(all_input)\n",
        "\n",
        "# Define the model\n",
        "dense1 = Dense(all_input.shape[1]*3, activation='relu')(all_input)\n",
        "dense2 = Dense(5, activation='relu')(dense1)\n",
        "predictions = Dense(1)(dense2)\n",
        "\n",
        "# Note using the input object 'area_input' not 'area_embeddings'\n",
        "model = Model(inputs=[continuous_input, code_input], outputs=predictions)\n",
        "model.compile(loss='mse', optimizer=keras.optimizers.Adam(lr=.8, beta_1=0.9, beta_2=0.999, decay=1e-03, amsgrad=True),metrics=[soft_5perc_acc,soft_10perc_acc,soft_500_acc,soft_1000_acc,soft_10000_acc,r2])\n",
        "model.summary()\n",
        "\n",
        "epochs = 100\n",
        "\n",
        "# Note continuous and categorical columns are inserted in the same order as defined in all_inputs\n",
        "history = model.fit([X_train_continuous, X_train_categorical['code_mapping']], Y_train, \n",
        "          epochs=epochs, batch_size=10000, \n",
        "          callbacks=[periodic_logger_10], verbose=0,\n",
        "          validation_data=([X_val_continuous, X_val_categorical['code_mapping']], Y_val))"
      ],
      "execution_count": null,
      "outputs": [
        {
          "output_type": "stream",
          "text": [
            "Tensor(\"concatenate_5/concat:0\", shape=(None, 66), dtype=float32)\n",
            "Model: \"functional_11\"\n",
            "__________________________________________________________________________________________________\n",
            "Layer (type)                    Output Shape         Param #     Connected to                     \n",
            "==================================================================================================\n",
            "input_11 (InputLayer)           [(None, 1)]          0                                            \n",
            "__________________________________________________________________________________________________\n",
            "embedding_5 (Embedding)         (None, 1, 64)        97344       input_11[0][0]                   \n",
            "__________________________________________________________________________________________________\n",
            "input_12 (InputLayer)           [(None, 2)]          0                                            \n",
            "__________________________________________________________________________________________________\n",
            "reshape_5 (Reshape)             (None, 64)           0           embedding_5[0][0]                \n",
            "__________________________________________________________________________________________________\n",
            "concatenate_5 (Concatenate)     (None, 66)           0           input_12[0][0]                   \n",
            "                                                                 reshape_5[0][0]                  \n",
            "__________________________________________________________________________________________________\n",
            "dense_15 (Dense)                (None, 198)          13266       concatenate_5[0][0]              \n",
            "__________________________________________________________________________________________________\n",
            "dense_16 (Dense)                (None, 5)            995         dense_15[0][0]                   \n",
            "__________________________________________________________________________________________________\n",
            "dense_17 (Dense)                (None, 1)            6           dense_16[0][0]                   \n",
            "==================================================================================================\n",
            "Total params: 111,611\n",
            "Trainable params: 111,611\n",
            "Non-trainable params: 0\n",
            "__________________________________________________________________________________________________\n",
            "Epoch: 10 - {'loss': 870155616256.0, 'soft_5perc_acc': 0.5011361837387085, 'soft_10perc_acc': 0.5538304448127747, 'soft_500_acc': 0.0006249825237318873, 'soft_1000_acc': 0.0011895992793142796, 'soft_10000_acc': 0.012325749732553959, 'r2': 0.9999472498893738, 'val_loss': 858428866560.0, 'val_soft_5perc_acc': 0.5112937688827515, 'val_soft_10perc_acc': 0.5637619495391846, 'val_soft_500_acc': 0.0006784758297726512, 'val_soft_1000_acc': 0.0012680601794272661, 'val_soft_10000_acc': 0.012853510677814484, 'val_r2': 0.9999489784240723}\n",
            "Epoch: 20 - {'loss': 226024751104.0, 'soft_5perc_acc': 0.5623228549957275, 'soft_10perc_acc': 0.6098313927650452, 'soft_500_acc': 0.0014156793477013707, 'soft_1000_acc': 0.0027942161541432142, 'soft_10000_acc': 0.028921008110046387, 'r2': 0.9999862909317017, 'val_loss': 254594416640.0, 'val_soft_5perc_acc': 0.568314790725708, 'val_soft_10perc_acc': 0.6147037744522095, 'val_soft_500_acc': 0.0016326445620507002, 'val_soft_1000_acc': 0.0031062590423971415, 'val_soft_10000_acc': 0.030916746705770493, 'val_r2': 0.999984860420227}\n",
            "Epoch: 30 - {'loss': 97438736384.0, 'soft_5perc_acc': 0.5961773991584778, 'soft_10perc_acc': 0.6441445350646973, 'soft_500_acc': 0.0023419861681759357, 'soft_1000_acc': 0.004637160804122686, 'soft_10000_acc': 0.04641251638531685, 'r2': 0.9999940991401672, 'val_loss': 124287885312.0, 'val_soft_5perc_acc': 0.6038064956665039, 'val_soft_10perc_acc': 0.6487677693367004, 'val_soft_500_acc': 0.002517367247492075, 'val_soft_1000_acc': 0.004679873585700989, 'val_soft_10000_acc': 0.04416818171739578, 'val_r2': 0.9999926090240479}\n",
            "Epoch: 40 - {'loss': 52670812160.0, 'soft_5perc_acc': 0.6223686337471008, 'soft_10perc_acc': 0.6650533676147461, 'soft_500_acc': 0.0035940774250775576, 'soft_1000_acc': 0.007056063041090965, 'soft_10000_acc': 0.0683145597577095, 'r2': 0.9999966025352478, 'val_loss': 74025795584.0, 'val_soft_5perc_acc': 0.6308871507644653, 'val_soft_10perc_acc': 0.6714802980422974, 'val_soft_500_acc': 0.0038263974711298943, 'val_soft_1000_acc': 0.007247241213917732, 'val_soft_10000_acc': 0.07775507867336273, 'val_r2': 0.9999955892562866}\n",
            "Epoch: 50 - {'loss': 33541193728.0, 'soft_5perc_acc': 0.6417282819747925, 'soft_10perc_acc': 0.6797906756401062, 'soft_500_acc': 0.004594146739691496, 'soft_1000_acc': 0.00931533146649599, 'soft_10000_acc': 0.09354668110609055, 'r2': 0.9999980330467224, 'val_loss': 52093861888.0, 'val_soft_5perc_acc': 0.6488677263259888, 'val_soft_10perc_acc': 0.6862852573394775, 'val_soft_500_acc': 0.0035513974726200104, 'val_soft_1000_acc': 0.0074916863813996315, 'val_soft_10000_acc': 0.08150855451822281, 'val_r2': 0.9999969005584717}\n",
            "Epoch: 60 - {'loss': 23869433856.0, 'soft_5perc_acc': 0.6590279936790466, 'soft_10perc_acc': 0.6930342316627502, 'soft_500_acc': 0.005639651790261269, 'soft_1000_acc': 0.01137505378574133, 'soft_10000_acc': 0.11755736172199249, 'r2': 0.9999984502792358, 'val_loss': 43371200512.0, 'val_soft_5perc_acc': 0.6620073318481445, 'val_soft_10perc_acc': 0.6965894103050232, 'val_soft_500_acc': 0.005549319088459015, 'val_soft_1000_acc': 0.011202114634215832, 'val_soft_10000_acc': 0.11566072702407837, 'val_r2': 0.9999974370002747}\n",
            "Epoch: 70 - {'loss': 18047488000.0, 'soft_5perc_acc': 0.6709684729576111, 'soft_10perc_acc': 0.7021697759628296, 'soft_500_acc': 0.007119286339730024, 'soft_1000_acc': 0.014270300045609474, 'soft_10000_acc': 0.14396364986896515, 'r2': 0.9999988079071045, 'val_loss': 31554101248.0, 'val_soft_5perc_acc': 0.6760656833648682, 'val_soft_10perc_acc': 0.7058922052383423, 'val_soft_500_acc': 0.007247240748256445, 'val_soft_1000_acc': 0.014577819034457207, 'val_soft_10000_acc': 0.14011150598526, 'val_r2': 0.9999980926513672}\n",
            "Epoch: 80 - {'loss': 14620196864.0, 'soft_5perc_acc': 0.6800928115844727, 'soft_10perc_acc': 0.7093529105186462, 'soft_500_acc': 0.008408223278820515, 'soft_1000_acc': 0.016251761466264725, 'soft_10000_acc': 0.16700513660907745, 'r2': 0.999999463558197, 'val_loss': 26926301184.0, 'val_soft_5perc_acc': 0.6797650456428528, 'val_soft_10perc_acc': 0.7101956605911255, 'val_soft_500_acc': 0.010054192505776882, 'val_soft_1000_acc': 0.021616723388433456, 'val_soft_10000_acc': 0.22323185205459595, 'val_r2': 0.9999983906745911}\n",
            "Epoch: 90 - {'loss': 12326888448.0, 'soft_5perc_acc': 0.6882221698760986, 'soft_10perc_acc': 0.715314507484436, 'soft_500_acc': 0.008803904056549072, 'soft_1000_acc': 0.017656972631812096, 'soft_10000_acc': 0.1845109462738037, 'r2': 0.9999995827674866, 'val_loss': 23734726656.0, 'val_soft_5perc_acc': 0.6916261911392212, 'val_soft_10perc_acc': 0.717988133430481, 'val_soft_500_acc': 0.008484747260808945, 'val_soft_1000_acc': 0.0164312943816185, 'val_soft_10000_acc': 0.18084284663200378, 'val_r2': 0.9999985694885254}\n",
            "Epoch: 100 - {'loss': 10546169856.0, 'soft_5perc_acc': 0.6938413977622986, 'soft_10perc_acc': 0.7203750610351562, 'soft_500_acc': 0.0102170929312706, 'soft_1000_acc': 0.02079491689801216, 'soft_10000_acc': 0.21048390865325928, 'r2': 0.9999995827674866, 'val_loss': 20985501696.0, 'val_soft_5perc_acc': 0.6965144276618958, 'val_soft_10perc_acc': 0.7227318286895752, 'val_soft_500_acc': 0.009406975470483303, 'val_soft_1000_acc': 0.01813686266541481, 'val_soft_10000_acc': 0.183647021651268, 'val_r2': 0.9999987483024597}\n"
          ],
          "name": "stdout"
        }
      ]
    },
    {
      "cell_type": "markdown",
      "metadata": {
        "id": "ou0EwZQJwJCQ",
        "colab_type": "text"
      },
      "source": [
        "## poly regression 적용"
      ]
    },
    {
      "cell_type": "code",
      "metadata": {
        "id": "HvGNQj9ewNBX",
        "colab_type": "code",
        "colab": {
          "base_uri": "https://localhost:8080/",
          "height": 677
        },
        "outputId": "1b666ba1-d667-48e7-b4a0-dd27712d37ff"
      },
      "source": [
        "from sklearn.preprocessing import PolynomialFeatures\n",
        "\n",
        "# Define the embedding input\n",
        "code_input = Input(shape=(1,), dtype='int32') \n",
        "output_dim=32*2   #X_train_categorical['code_mapping'].max()*1\n",
        "code_embedings = Embedding(output_dim=output_dim, input_dim=X_train_categorical['code_mapping'].max()+1)(code_input)\n",
        "code_embedings = keras.layers.Reshape((output_dim,))(code_embedings)\n",
        "\n",
        "n = 3\n",
        "trX_expanded = np.expand_dims(X_train_continuous, axis=1)\n",
        "poly = PolynomialFeatures(n)\n",
        "X_train_continuous = poly.fit_transform(X_train_continuous)\n",
        "X_val_continuous = poly.fit_transform(X_val_continuous)\n",
        "\n",
        "# Define the continuous variables input (just like before)\n",
        "continuous_input = Input(shape=(X_train_continuous.shape[1], ))\n",
        "\n",
        "# Concatenate continuous and embeddings inputs\n",
        "all_input = keras.layers.concatenate([continuous_input, code_embedings])\n",
        "print(all_input)\n",
        "\n",
        "# Define the model\n",
        "dense1 = Dense(all_input.shape[1]*3, activation='relu')(all_input)\n",
        "dense2 = Dense(5, activation='relu')(dense1)\n",
        "predictions = Dense(1)(dense2)\n",
        "\n",
        "# Note using the input object 'area_input' not 'area_embeddings'\n",
        "model = Model(inputs=[continuous_input, code_input], outputs=predictions)\n",
        "model.compile(loss='mse', optimizer=keras.optimizers.Adam(lr=.8, beta_1=0.9, beta_2=0.999, decay=1e-03, amsgrad=True),metrics=[soft_5perc_acc,soft_10perc_acc,soft_500_acc,soft_1000_acc,soft_10000_acc,r2])\n",
        "model.summary()\n",
        "\n",
        "epochs = 100\n",
        "\n",
        "# Note continuous and categorical columns are inserted in the same order as defined in all_inputs\n",
        "history = model.fit([X_train_continuous, X_train_categorical['code_mapping']], Y_train, \n",
        "          epochs=epochs, batch_size=10000, \n",
        "          callbacks=[periodic_logger_10], verbose=0,\n",
        "          validation_data=([X_val_continuous, X_val_categorical['code_mapping']], Y_val))"
      ],
      "execution_count": null,
      "outputs": [
        {
          "output_type": "stream",
          "text": [
            "Tensor(\"concatenate_6/concat:0\", shape=(None, 74), dtype=float32)\n",
            "Model: \"functional_13\"\n",
            "__________________________________________________________________________________________________\n",
            "Layer (type)                    Output Shape         Param #     Connected to                     \n",
            "==================================================================================================\n",
            "input_13 (InputLayer)           [(None, 1)]          0                                            \n",
            "__________________________________________________________________________________________________\n",
            "embedding_6 (Embedding)         (None, 1, 64)        97344       input_13[0][0]                   \n",
            "__________________________________________________________________________________________________\n",
            "input_14 (InputLayer)           [(None, 10)]         0                                            \n",
            "__________________________________________________________________________________________________\n",
            "reshape_6 (Reshape)             (None, 64)           0           embedding_6[0][0]                \n",
            "__________________________________________________________________________________________________\n",
            "concatenate_6 (Concatenate)     (None, 74)           0           input_14[0][0]                   \n",
            "                                                                 reshape_6[0][0]                  \n",
            "__________________________________________________________________________________________________\n",
            "dense_18 (Dense)                (None, 222)          16650       concatenate_6[0][0]              \n",
            "__________________________________________________________________________________________________\n",
            "dense_19 (Dense)                (None, 5)            1115        dense_18[0][0]                   \n",
            "__________________________________________________________________________________________________\n",
            "dense_20 (Dense)                (None, 1)            6           dense_19[0][0]                   \n",
            "==================================================================================================\n",
            "Total params: 115,115\n",
            "Trainable params: 115,115\n",
            "Non-trainable params: 0\n",
            "__________________________________________________________________________________________________\n",
            "Epoch: 10 - {'loss': 20334229061632.0, 'soft_5perc_acc': 0.1834959238767624, 'soft_10perc_acc': 0.2690698206424713, 'soft_500_acc': 7.926832040539011e-05, 'soft_1000_acc': 0.00017641118029132485, 'soft_10000_acc': 0.001440662075765431, 'r2': 0.9987675547599792, 'val_loss': 17013656256512.0, 'val_soft_5perc_acc': 0.19255122542381287, 'val_soft_10perc_acc': 0.27677440643310547, 'val_soft_500_acc': 9.999999747378752e-05, 'val_soft_1000_acc': 0.00014999999257270247, 'val_soft_10000_acc': 0.0014187530614435673, 'val_r2': 0.9989914894104004}\n",
            "Epoch: 20 - {'loss': 4617549643776.0, 'soft_5perc_acc': 0.29388171434402466, 'soft_10perc_acc': 0.43872708082199097, 'soft_500_acc': 0.000213919862289913, 'soft_1000_acc': 0.00044783976045437157, 'soft_10000_acc': 0.00474301353096962, 'r2': 0.9997195601463318, 'val_loss': 4371281346560.0, 'val_soft_5perc_acc': 0.3151598870754242, 'val_soft_10perc_acc': 0.47277212142944336, 'val_soft_500_acc': 0.00032986144651658833, 'val_soft_1000_acc': 0.0006145843653939664, 'val_soft_10000_acc': 0.005672933999449015, 'val_r2': 0.9997408390045166}\n",
            "Epoch: 30 - {'loss': 2321842438144.0, 'soft_5perc_acc': 0.3472861647605896, 'soft_10perc_acc': 0.5048532485961914, 'soft_500_acc': 0.0003785366134252399, 'soft_1000_acc': 0.0007406621589325368, 'soft_10000_acc': 0.006969251669943333, 'r2': 0.9998589754104614, 'val_loss': 2337261223936.0, 'val_soft_5perc_acc': 0.3936454951763153, 'val_soft_10perc_acc': 0.5254785418510437, 'val_soft_500_acc': 0.00023958433303050697, 'val_soft_1000_acc': 0.0004993072361685336, 'val_soft_10000_acc': 0.0065666865557432175, 'val_r2': 0.9998614192008972}\n",
            "Epoch: 40 - {'loss': 1348767449088.0, 'soft_5perc_acc': 0.39840269088745117, 'soft_10perc_acc': 0.5621049404144287, 'soft_500_acc': 0.000536045350600034, 'soft_1000_acc': 0.0010863764910027385, 'soft_10000_acc': 0.010445593856275082, 'r2': 0.9999178051948547, 'val_loss': 1415906983936.0, 'val_soft_5perc_acc': 0.37670794129371643, 'val_soft_10perc_acc': 0.5660793781280518, 'val_soft_500_acc': 0.0005444457638077438, 'val_soft_1000_acc': 0.0009888915810734034, 'val_soft_10000_acc': 0.010772252455353737, 'val_r2': 0.9999161958694458}\n",
            "Epoch: 50 - {'loss': 930464989184.0, 'soft_5perc_acc': 0.4386674761772156, 'soft_10perc_acc': 0.5834624171257019, 'soft_500_acc': 0.0005985367461107671, 'soft_1000_acc': 0.001241324353031814, 'soft_10000_acc': 0.012781428173184395, 'r2': 0.9999434351921082, 'val_loss': 1025333788672.0, 'val_soft_5perc_acc': 0.46245962381362915, 'val_soft_10perc_acc': 0.555963397026062, 'val_soft_500_acc': 0.0005493072094395757, 'val_soft_1000_acc': 0.001272921683266759, 'val_soft_10000_acc': 0.009707668796181679, 'val_r2': 0.9999393224716187}\n",
            "Epoch: 60 - {'loss': 697101320192.0, 'soft_5perc_acc': 0.47376763820648193, 'soft_10perc_acc': 0.5949054956436157, 'soft_500_acc': 0.0007735540857538581, 'soft_1000_acc': 0.0014410278527066112, 'soft_10000_acc': 0.014910071156919003, 'r2': 0.9999577403068542, 'val_loss': 747385323520.0, 'val_soft_5perc_acc': 0.4615249037742615, 'val_soft_10perc_acc': 0.6082079410552979, 'val_soft_500_acc': 0.000584722904022783, 'val_soft_1000_acc': 0.0015986142680048943, 'val_soft_10000_acc': 0.01592295803129673, 'val_r2': 0.9999558329582214}\n",
            "Epoch: 70 - {'loss': 554937876480.0, 'soft_5perc_acc': 0.5008708238601685, 'soft_10perc_acc': 0.6033466458320618, 'soft_500_acc': 0.000763885211199522, 'soft_1000_acc': 0.0016016904264688492, 'soft_10000_acc': 0.01661996729671955, 'r2': 0.9999662041664124, 'val_loss': 606130536448.0, 'val_soft_5perc_acc': 0.4920034110546112, 'val_soft_10perc_acc': 0.6144975423812866, 'val_soft_500_acc': 0.0010131987510249019, 'val_soft_1000_acc': 0.002066674642264843, 'val_soft_10000_acc': 0.01757504791021347, 'val_r2': 0.99996417760849}\n",
            "Epoch: 80 - {'loss': 459706302464.0, 'soft_5perc_acc': 0.5250611901283264, 'soft_10perc_acc': 0.6092630624771118, 'soft_500_acc': 0.0009349480387754738, 'soft_1000_acc': 0.0018784668063744903, 'soft_10000_acc': 0.01896693743765354, 'r2': 0.9999722242355347, 'val_loss': 507762311168.0, 'val_soft_5perc_acc': 0.525013267993927, 'val_soft_10perc_acc': 0.6142398715019226, 'val_soft_500_acc': 0.0009937530849128962, 'val_soft_1000_acc': 0.001808337401598692, 'val_soft_10000_acc': 0.01844935491681099, 'val_r2': 0.999970018863678}\n",
            "Epoch: 90 - {'loss': 394405871616.0, 'soft_5perc_acc': 0.5400449633598328, 'soft_10perc_acc': 0.6137921810150146, 'soft_500_acc': 0.0010381708852946758, 'soft_1000_acc': 0.002088502049446106, 'soft_10000_acc': 0.02097872830927372, 'r2': 0.9999759197235107, 'val_loss': 443021950976.0, 'val_soft_5perc_acc': 0.5435285568237305, 'val_soft_10perc_acc': 0.6221232414245605, 'val_soft_500_acc': 0.00095903011970222, 'val_soft_1000_acc': 0.0021972288377583027, 'val_soft_10000_acc': 0.020325753837823868, 'val_r2': 0.9999738931655884}\n",
            "Epoch: 100 - {'loss': 346419265536.0, 'soft_5perc_acc': 0.5526029467582703, 'soft_10perc_acc': 0.6173558831214905, 'soft_500_acc': 0.0010849826503545046, 'soft_1000_acc': 0.002168501727283001, 'soft_10000_acc': 0.021953608840703964, 'r2': 0.9999789595603943, 'val_loss': 396792037376.0, 'val_soft_5perc_acc': 0.5522758364677429, 'val_soft_10perc_acc': 0.6170558929443359, 'val_soft_500_acc': 0.001063891570083797, 'val_soft_1000_acc': 0.002122228965163231, 'val_soft_10000_acc': 0.02073061466217041, 'val_r2': 0.9999765753746033}\n"
          ],
          "name": "stdout"
        }
      ]
    },
    {
      "cell_type": "markdown",
      "metadata": {
        "id": "9AkpA_FrqIl7",
        "colab_type": "text"
      },
      "source": [
        "## 학습 결과 확인"
      ]
    },
    {
      "cell_type": "code",
      "metadata": {
        "id": "WDK34mkKqf2b",
        "colab_type": "code",
        "colab": {
          "base_uri": "https://localhost:8080/",
          "height": 599
        },
        "outputId": "f6fe5c10-ab10-40f5-dda9-8c502e243768"
      },
      "source": [
        "# Plot the train/validation loss values\n",
        "plt.figure(figsize=(20,10))\n",
        "_loss = history.history['loss'][5:]\n",
        "_val_loss = history.history['val_loss'][5:]\n",
        "\n",
        "train_loss_plot, = plt.plot(range(1, len(_loss)+1), _loss, label='Train Loss')\n",
        "val_loss_plot, = plt.plot(range(1, len(_val_loss)+1), _val_loss, label='Validation Loss')\n",
        "\n",
        "_ = plt.legend(handles=[train_loss_plot, val_loss_plot])"
      ],
      "execution_count": null,
      "outputs": [
        {
          "output_type": "display_data",
          "data": {
            "image/png": "[encoded data removed]",
            "text/plain": [
              "<Figure size 1440x720 with 1 Axes>"
            ]
          },
          "metadata": {
            "tags": [],
            "needs_background": "light"
          }
        }
      ]
    },
    {
      "cell_type": "code",
      "metadata": {
        "id": "jiLi8SfkqqIF",
        "colab_type": "code",
        "colab": {
          "base_uri": "https://localhost:8080/",
          "height": 588
        },
        "outputId": "f5de93c2-8be5-488d-b27e-5314a11ec5d1"
      },
      "source": [
        "plt.figure(figsize=(20,10))\n",
        "_loss = history.history['soft_10000_acc'][5:]\n",
        "_val_loss = history.history['val_soft_10000_acc'][5:]\n",
        "\n",
        "train_loss_plot, = plt.plot(range(1, len(_loss)+1), _loss, label='soft_10000_acc')\n",
        "val_loss_plot, = plt.plot(range(1, len(_val_loss)+1), _val_loss, label='val_soft_10000_acc')\n",
        "\n",
        "_ = plt.legend(handles=[train_loss_plot, val_loss_plot])"
      ],
      "execution_count": null,
      "outputs": [
        {
          "output_type": "display_data",
          "data": {
            "image/png": "[encoded data removed]",
            "text/plain": [
              "<Figure size 1440x720 with 1 Axes>"
            ]
          },
          "metadata": {
            "tags": [],
            "needs_background": "light"
          }
        }
      ]
    },
    {
      "cell_type": "code",
      "metadata": {
        "id": "XjGioVIkogC_",
        "colab_type": "code",
        "colab": {
          "base_uri": "https://localhost:8080/",
          "height": 992
        },
        "outputId": "420ae183-6d56-4182-93bd-e5d689a4ac5e"
      },
      "source": [
        "df = pd.DataFrame(Y_val,columns=['NAFYC'])\n",
        "\n",
        "print (\"This is the average value we are trying to predict: %d\" % df['NAFYC'].mean())\n",
        "\n",
        "# Add a column for the model's predicted values\n",
        "df['pred'] = model.predict([X_val_continuous, X_val_categorical['code_mapping']])\n",
        "\n",
        "# Calculate the difference between the predicted and the actual price\n",
        "df['diff'] = df['pred'] - df['NAFYC']\n",
        "\n",
        "# Calculate the absolute difference between the predicted and the actual price\n",
        "df['abs_diff'] = np.abs(df['diff'])\n",
        "\n",
        "# Calculate the percentage of the difference from the actual price\n",
        "df['%diff'] = 100 * (df['diff'] / df['NAFYC'])\n",
        "\n",
        "# Calculate the absolute percentage difference from the actual price\n",
        "df['abs_%diff'] = np.abs(df['%diff'])\n",
        "\n",
        "# Calculate the mean and std. of the diff field\n",
        "diff_mean, diff_std = df['diff'].mean(), df['diff'].std()\n",
        "print(\"The mean is very close to 0 ({mean}) with std. {std}.\".format(mean=round(diff_mean, 2), std=round(diff_std, 2)))\n",
        "\n",
        "# Here is the histogram of the differences\n",
        "plt.figure(figsize=(20,10))\n",
        "plt.hist(df['diff'], bins=100)\n",
        "plt.xlabel(\"\\\\\")\n",
        "plt.ylabel(\"# samples\")\n",
        "_ = plt.title(\"Difference between predicted and actual price\")\n",
        "\n",
        "plt.show()\n",
        "\n",
        "# Sort by the 'abs_diff' field and show the 5 largest mistakes in absolute values\n",
        "a = df.sort_values(\"abs_diff\", ascending=False)\n",
        "a.drop(columns=['NAFYC'],inplace=True)\n",
        "b = a.join(dataset)\n",
        "b.head(10)"
      ],
      "execution_count": null,
      "outputs": [
        {
          "output_type": "stream",
          "text": [
            "This is the average value we are trying to predict: 12739733\n",
            "The mean is very close to 0 (683.15) with std. 14556.2.\n"
          ],
          "name": "stdout"
        },
        {
          "output_type": "display_data",
          "data": {
            "image/png": "[encoded data removed]",
            "text/plain": [
              "<Figure size 1440x720 with 1 Axes>"
            ]
          },
          "metadata": {
            "tags": [],
            "needs_background": "light"
          }
        },
        {
          "output_type": "execute_result",
          "data": {
            "text/html": [
              "<div>\n",
              "<style scoped>\n",
              "    .dataframe tbody tr th:only-of-type {\n",
              "        vertical-align: middle;\n",
              "    }\n",
              "\n",
              "    .dataframe tbody tr th {\n",
              "        vertical-align: top;\n",
              "    }\n",
              "\n",
              "    .dataframe thead th {\n",
              "        text-align: right;\n",
              "    }\n",
              "</style>\n",
              "<table border=\"1\" class=\"dataframe\">\n",
              "  <thead>\n",
              "    <tr style=\"text-align: right;\">\n",
              "      <th></th>\n",
              "      <th>pred</th>\n",
              "      <th>diff</th>\n",
              "      <th>abs_diff</th>\n",
              "      <th>%diff</th>\n",
              "      <th>abs_%diff</th>\n",
              "      <th>CODE</th>\n",
              "      <th>REAL_YY</th>\n",
              "      <th>COM_RATE</th>\n",
              "      <th>NAFYC</th>\n",
              "      <th>code_mapping</th>\n",
              "      <th>ft1</th>\n",
              "    </tr>\n",
              "  </thead>\n",
              "  <tbody>\n",
              "    <tr>\n",
              "      <th>332164</th>\n",
              "      <td>5.549403e+05</td>\n",
              "      <td>525180.312500</td>\n",
              "      <td>525180.312500</td>\n",
              "      <td>1764.718792</td>\n",
              "      <td>1764.718792</td>\n",
              "      <td>2302</td>\n",
              "      <td>-1.131859</td>\n",
              "      <td>-0.690566</td>\n",
              "      <td>29760.0</td>\n",
              "      <td>1303</td>\n",
              "      <td>0.781623</td>\n",
              "    </tr>\n",
              "    <tr>\n",
              "      <th>318939</th>\n",
              "      <td>8.771789e+05</td>\n",
              "      <td>275949.875000</td>\n",
              "      <td>275949.875000</td>\n",
              "      <td>45.897632</td>\n",
              "      <td>45.897632</td>\n",
              "      <td>2255</td>\n",
              "      <td>1.590676</td>\n",
              "      <td>-1.736187</td>\n",
              "      <td>601229.0</td>\n",
              "      <td>1256</td>\n",
              "      <td>-2.761710</td>\n",
              "    </tr>\n",
              "    <tr>\n",
              "      <th>169370</th>\n",
              "      <td>9.636630e+07</td>\n",
              "      <td>227404.000000</td>\n",
              "      <td>227404.000000</td>\n",
              "      <td>0.236537</td>\n",
              "      <td>0.236537</td>\n",
              "      <td>1655</td>\n",
              "      <td>3.268234</td>\n",
              "      <td>1.679508</td>\n",
              "      <td>96138900.0</td>\n",
              "      <td>656</td>\n",
              "      <td>5.489024</td>\n",
              "    </tr>\n",
              "    <tr>\n",
              "      <th>3258</th>\n",
              "      <td>2.898155e+05</td>\n",
              "      <td>223255.531250</td>\n",
              "      <td>223255.531250</td>\n",
              "      <td>335.419969</td>\n",
              "      <td>335.419969</td>\n",
              "      <td>1012</td>\n",
              "      <td>-1.132439</td>\n",
              "      <td>1.017281</td>\n",
              "      <td>66560.0</td>\n",
              "      <td>13</td>\n",
              "      <td>-1.152009</td>\n",
              "    </tr>\n",
              "    <tr>\n",
              "      <th>53861</th>\n",
              "      <td>2.292626e+07</td>\n",
              "      <td>201524.000000</td>\n",
              "      <td>201524.000000</td>\n",
              "      <td>0.886805</td>\n",
              "      <td>0.886805</td>\n",
              "      <td>1195</td>\n",
              "      <td>3.345030</td>\n",
              "      <td>-0.969398</td>\n",
              "      <td>22724736.0</td>\n",
              "      <td>196</td>\n",
              "      <td>-3.242665</td>\n",
              "    </tr>\n",
              "    <tr>\n",
              "      <th>118527</th>\n",
              "      <td>2.645377e+05</td>\n",
              "      <td>200853.718750</td>\n",
              "      <td>200853.718750</td>\n",
              "      <td>315.391179</td>\n",
              "      <td>315.391179</td>\n",
              "      <td>1464</td>\n",
              "      <td>-1.132893</td>\n",
              "      <td>1.261259</td>\n",
              "      <td>63684.0</td>\n",
              "      <td>465</td>\n",
              "      <td>-1.428872</td>\n",
              "    </tr>\n",
              "    <tr>\n",
              "      <th>98500</th>\n",
              "      <td>2.084155e+05</td>\n",
              "      <td>196015.468750</td>\n",
              "      <td>196015.468750</td>\n",
              "      <td>1580.769909</td>\n",
              "      <td>1580.769909</td>\n",
              "      <td>1384</td>\n",
              "      <td>-1.133963</td>\n",
              "      <td>-0.899690</td>\n",
              "      <td>12400.0</td>\n",
              "      <td>385</td>\n",
              "      <td>1.020215</td>\n",
              "    </tr>\n",
              "    <tr>\n",
              "      <th>332166</th>\n",
              "      <td>1.644945e+07</td>\n",
              "      <td>195898.000000</td>\n",
              "      <td>195898.000000</td>\n",
              "      <td>1.205263</td>\n",
              "      <td>1.205263</td>\n",
              "      <td>2302</td>\n",
              "      <td>1.241799</td>\n",
              "      <td>-0.690566</td>\n",
              "      <td>16253548.0</td>\n",
              "      <td>1303</td>\n",
              "      <td>-0.857544</td>\n",
              "    </tr>\n",
              "    <tr>\n",
              "      <th>337266</th>\n",
              "      <td>2.254195e+05</td>\n",
              "      <td>193419.546875</td>\n",
              "      <td>193419.546875</td>\n",
              "      <td>604.436084</td>\n",
              "      <td>604.436084</td>\n",
              "      <td>2325</td>\n",
              "      <td>-1.134399</td>\n",
              "      <td>1.017281</td>\n",
              "      <td>32000.0</td>\n",
              "      <td>1326</td>\n",
              "      <td>-1.154002</td>\n",
              "    </tr>\n",
              "    <tr>\n",
              "      <th>94816</th>\n",
              "      <td>3.618914e+07</td>\n",
              "      <td>186286.000000</td>\n",
              "      <td>186286.000000</td>\n",
              "      <td>0.517420</td>\n",
              "      <td>0.517420</td>\n",
              "      <td>1370</td>\n",
              "      <td>3.277078</td>\n",
              "      <td>-0.481442</td>\n",
              "      <td>36002850.0</td>\n",
              "      <td>371</td>\n",
              "      <td>-1.577722</td>\n",
              "    </tr>\n",
              "  </tbody>\n",
              "</table>\n",
              "</div>"
            ],
            "text/plain": [
              "                pred           diff  ...  code_mapping       ft1\n",
              "332164  5.549403e+05  525180.312500  ...          1303  0.781623\n",
              "318939  8.771789e+05  275949.875000  ...          1256 -2.761710\n",
              "169370  9.636630e+07  227404.000000  ...           656  5.489024\n",
              "3258    2.898155e+05  223255.531250  ...            13 -1.152009\n",
              "53861   2.292626e+07  201524.000000  ...           196 -3.242665\n",
              "118527  2.645377e+05  200853.718750  ...           465 -1.428872\n",
              "98500   2.084155e+05  196015.468750  ...           385  1.020215\n",
              "332166  1.644945e+07  195898.000000  ...          1303 -0.857544\n",
              "337266  2.254195e+05  193419.546875  ...          1326 -1.154002\n",
              "94816   3.618914e+07  186286.000000  ...           371 -1.577722\n",
              "\n",
              "[10 rows x 11 columns]"
            ]
          },
          "metadata": {
            "tags": []
          },
          "execution_count": 23
        }
      ]
    },
    {
      "cell_type": "markdown",
      "metadata": {
        "id": "sQoGxkEI3j4s",
        "colab_type": "text"
      },
      "source": [
        "## polynomial + Support vector Regression\n",
        "\n",
        "https://keras.io/examples/keras_recipes/quasi_svm/"
      ]
    },
    {
      "cell_type": "code",
      "metadata": {
        "id": "pFEGMYtu3eLh",
        "colab_type": "code",
        "colab": {
          "base_uri": "https://localhost:8080/",
          "height": 677
        },
        "outputId": "b88e0a18-2bae-4690-bef6-a243fc7ac66d"
      },
      "source": [
        "from sklearn.preprocessing import PolynomialFeatures\n",
        "from tensorflow.keras.layers.experimental import RandomFourierFeatures\n",
        "\n",
        "# Define the embedding input\n",
        "code_input = Input(shape=(1,), dtype='int32') \n",
        "output_dim=32*2   #X_train_categorical['code_mapping'].max()*1\n",
        "code_embedings = Embedding(output_dim=output_dim, input_dim=X_train_categorical['code_mapping'].max()+1)(code_input)\n",
        "code_embedings = keras.layers.Reshape((output_dim,))(code_embedings)\n",
        "\n",
        "######################### polynomial\n",
        "n = 3\n",
        "trX_expanded = np.expand_dims(X_train_continuous, axis=1)\n",
        "poly = PolynomialFeatures(n)\n",
        "X_train_continuous = poly.fit_transform(X_train_continuous)\n",
        "X_val_continuous = poly.fit_transform(X_val_continuous)\n",
        "\n",
        "# Define the continuous variables input (just like before)\n",
        "continuous_input = Input(shape=(X_train_continuous.shape[1], ))\n",
        "######################## Support vector \n",
        "#svr_layer = RandomFourierFeatures(output_dim=X_train_continuous.shape[1]*4, scale=10.0, kernel_initializer=\"gaussian\")(continuous_input)\n",
        "# Concatenate continuous and embeddings inputs\n",
        "all_input = keras.layers.concatenate([continuous_input, code_embedings])\n",
        "print(all_input)\n",
        "\n",
        "# Define the model\n",
        "dense1 = Dense(all_input.shape[1]*3, activation='relu', kernel_initializer=\"uniform\")(all_input)\n",
        "dense2 = Dense(3, activation='relu', kernel_initializer=\"uniform\")(dense1)\n",
        "predictions = Dense(1, kernel_initializer=\"uniform\")(dense2)\n",
        "\n",
        "# Note using the input object 'area_input' not 'area_embeddings'\n",
        "model = Model(inputs=[continuous_input, code_input], outputs=predictions)\n",
        "model.compile(loss='mse', optimizer=keras.optimizers.Adam(lr=.8, beta_1=0.9, beta_2=0.999, decay=1e-03, amsgrad=True),metrics=[soft_5perc_acc,soft_10perc_acc,soft_500_acc,soft_1000_acc,soft_10000_acc,r2])\n",
        "#model.compile(loss=keras.losses.hinge, optimizer=keras.optimizers.Adam(lr=.8, beta_1=0.9, beta_2=0.999, decay=1e-03, amsgrad=True),metrics=[soft_5perc_acc,soft_10perc_acc,soft_500_acc,soft_1000_acc,soft_10000_acc,r2])\n",
        "model.summary()\n",
        "\n",
        "epochs = 100\n",
        "\n",
        "# Note continuous and categorical columns are inserted in the same order as defined in all_inputs\n",
        "history = model.fit([X_train_continuous, X_train_categorical['code_mapping']], Y_train, \n",
        "          epochs=epochs, batch_size=5000, \n",
        "          callbacks=[periodic_logger_10], verbose=0,\n",
        "          validation_data=([X_val_continuous, X_val_categorical['code_mapping']], Y_val))"
      ],
      "execution_count": null,
      "outputs": [
        {
          "output_type": "stream",
          "text": [
            "Tensor(\"concatenate_29/concat:0\", shape=(None, 74), dtype=float32)\n",
            "Model: \"functional_59\"\n",
            "__________________________________________________________________________________________________\n",
            "Layer (type)                    Output Shape         Param #     Connected to                     \n",
            "==================================================================================================\n",
            "input_61 (InputLayer)           [(None, 1)]          0                                            \n",
            "__________________________________________________________________________________________________\n",
            "embedding_30 (Embedding)        (None, 1, 64)        97344       input_61[0][0]                   \n",
            "__________________________________________________________________________________________________\n",
            "input_62 (InputLayer)           [(None, 10)]         0                                            \n",
            "__________________________________________________________________________________________________\n",
            "reshape_30 (Reshape)            (None, 64)           0           embedding_30[0][0]               \n",
            "__________________________________________________________________________________________________\n",
            "concatenate_29 (Concatenate)    (None, 74)           0           input_62[0][0]                   \n",
            "                                                                 reshape_30[0][0]                 \n",
            "__________________________________________________________________________________________________\n",
            "dense_86 (Dense)                (None, 222)          16650       concatenate_29[0][0]             \n",
            "__________________________________________________________________________________________________\n",
            "dense_87 (Dense)                (None, 3)            669         dense_86[0][0]                   \n",
            "__________________________________________________________________________________________________\n",
            "dense_88 (Dense)                (None, 1)            4           dense_87[0][0]                   \n",
            "==================================================================================================\n",
            "Total params: 114,667\n",
            "Trainable params: 114,667\n",
            "Non-trainable params: 0\n",
            "__________________________________________________________________________________________________\n",
            "Epoch: 10 - {'loss': 2850350336.0, 'soft_5perc_acc': 0.8947356343269348, 'soft_10perc_acc': 0.9281710982322693, 'soft_500_acc': 0.012677991762757301, 'soft_1000_acc': 0.02554992400109768, 'soft_10000_acc': 0.25088807940483093, 'r2': 0.9999872446060181, 'val_loss': 2706557696.0, 'val_soft_5perc_acc': 0.8991398811340332, 'val_soft_10perc_acc': 0.9273067712783813, 'val_soft_500_acc': 0.01216540951281786, 'val_soft_1000_acc': 0.023885419592261314, 'val_soft_10000_acc': 0.23938219249248505, 'val_r2': 0.9999873042106628}\n",
            "Epoch: 20 - {'loss': 660359808.0, 'soft_5perc_acc': 0.9411109685897827, 'soft_10perc_acc': 0.9547984600067139, 'soft_500_acc': 0.031150072813034058, 'soft_1000_acc': 0.06249961256980896, 'soft_10000_acc': 0.5302465558052063, 'r2': 0.9999967217445374, 'val_loss': 728605056.0, 'val_soft_5perc_acc': 0.9396313428878784, 'val_soft_10perc_acc': 0.9530938863754272, 'val_soft_500_acc': 0.030011223629117012, 'val_soft_1000_acc': 0.05966784432530403, 'val_soft_10000_acc': 0.5230754613876343, 'val_r2': 0.999996542930603}\n",
            "Epoch: 30 - {'loss': 352920256.0, 'soft_5perc_acc': 0.950560450553894, 'soft_10perc_acc': 0.9617464542388916, 'soft_500_acc': 0.04200015589594841, 'soft_1000_acc': 0.08318134397268295, 'soft_10000_acc': 0.6554660201072693, 'r2': 0.9999991059303284, 'val_loss': 392583488.0, 'val_soft_5perc_acc': 0.9492079615592957, 'val_soft_10perc_acc': 0.9604734182357788, 'val_soft_500_acc': 0.04204622656106949, 'val_soft_1000_acc': 0.08373865485191345, 'val_soft_10000_acc': 0.6668205261230469, 'val_r2': 0.9999980926513672}\n",
            "Epoch: 40 - {'loss': 249425872.0, 'soft_5perc_acc': 0.9550687670707703, 'soft_10perc_acc': 0.9648496508598328, 'soft_500_acc': 0.04924604296684265, 'soft_1000_acc': 0.09771867096424103, 'soft_10000_acc': 0.718904435634613, 'r2': 0.9999992251396179, 'val_loss': 292063552.0, 'val_soft_5perc_acc': 0.9537503719329834, 'val_soft_10perc_acc': 0.9634389877319336, 'val_soft_500_acc': 0.04285603389143944, 'val_soft_1000_acc': 0.08679187297821045, 'val_soft_10000_acc': 0.6934770941734314, 'val_r2': 0.9999986290931702}\n",
            "Epoch: 50 - {'loss': 197166608.0, 'soft_5perc_acc': 0.9575503468513489, 'soft_10perc_acc': 0.9669533967971802, 'soft_500_acc': 0.055100057274103165, 'soft_1000_acc': 0.10946566611528397, 'soft_10000_acc': 0.7625729441642761, 'r2': 0.9999997019767761, 'val_loss': 229544528.0, 'val_soft_5perc_acc': 0.9567845463752747, 'val_soft_10perc_acc': 0.9659056067466736, 'val_soft_500_acc': 0.054253239184617996, 'val_soft_1000_acc': 0.10940728336572647, 'val_soft_10000_acc': 0.7582290172576904, 'val_r2': 0.9999989867210388}\n",
            "Epoch: 60 - {'loss': 167381200.0, 'soft_5perc_acc': 0.959345817565918, 'soft_10perc_acc': 0.9681721329689026, 'soft_500_acc': 0.06047391891479492, 'soft_1000_acc': 0.1196737140417099, 'soft_10000_acc': 0.7930049896240234, 'r2': 0.9999997615814209, 'val_loss': 194207792.0, 'val_soft_5perc_acc': 0.9580937623977661, 'val_soft_10perc_acc': 0.9669750332832336, 'val_soft_500_acc': 0.06225284934043884, 'val_soft_1000_acc': 0.12077070027589798, 'val_soft_10000_acc': 0.7932122349739075, 'val_r2': 0.9999990463256836}\n",
            "Epoch: 70 - {'loss': 147362928.0, 'soft_5perc_acc': 0.9606536030769348, 'soft_10perc_acc': 0.9691113233566284, 'soft_500_acc': 0.06385000795125961, 'soft_1000_acc': 0.1271527260541916, 'soft_10000_acc': 0.8157081007957458, 'r2': 0.9999997615814209, 'val_loss': 172975776.0, 'val_soft_5perc_acc': 0.9595159292221069, 'val_soft_10perc_acc': 0.9682795405387878, 'val_soft_500_acc': 0.06418245285749435, 'val_soft_1000_acc': 0.1266455054283142, 'val_soft_10000_acc': 0.8114590644836426, 'val_r2': 0.9999991655349731}\n",
            "Epoch: 80 - {'loss': 133367800.0, 'soft_5perc_acc': 0.9616075754165649, 'soft_10perc_acc': 0.9699769020080566, 'soft_500_acc': 0.06751101464033127, 'soft_1000_acc': 0.13310083746910095, 'soft_10000_acc': 0.8311452269554138, 'r2': 0.9999997615814209, 'val_loss': 157679680.0, 'val_soft_5perc_acc': 0.9605501890182495, 'val_soft_10perc_acc': 0.9688591957092285, 'val_soft_500_acc': 0.06738685816526413, 'val_soft_1000_acc': 0.13246110081672668, 'val_soft_10000_acc': 0.8238558769226074, 'val_r2': 0.9999992847442627}\n",
            "Epoch: 90 - {'loss': 122758448.0, 'soft_5perc_acc': 0.9625179767608643, 'soft_10perc_acc': 0.9707050919532776, 'soft_500_acc': 0.07122012972831726, 'soft_1000_acc': 0.13929907977581024, 'soft_10000_acc': 0.8441083431243896, 'r2': 0.9999997615814209, 'val_loss': 144638960.0, 'val_soft_5perc_acc': 0.9614251852035522, 'val_soft_10perc_acc': 0.9695563912391663, 'val_soft_500_acc': 0.06931865215301514, 'val_soft_1000_acc': 0.13945190608501434, 'val_soft_10000_acc': 0.8379582762718201, 'val_r2': 0.9999993443489075}\n",
            "Epoch: 100 - {'loss': 114233624.0, 'soft_5perc_acc': 0.9631147980690002, 'soft_10perc_acc': 0.971186637878418, 'soft_500_acc': 0.07374408096075058, 'soft_1000_acc': 0.14578574895858765, 'soft_10000_acc': 0.8549729585647583, 'r2': 0.9999997615814209, 'val_loss': 135450560.0, 'val_soft_5perc_acc': 0.962769627571106, 'val_soft_10perc_acc': 0.9699137806892395, 'val_soft_500_acc': 0.07436645776033401, 'val_soft_1000_acc': 0.14427731931209564, 'val_soft_10000_acc': 0.8486449718475342, 'val_r2': 0.9999994039535522}\n"
          ],
          "name": "stdout"
        }
      ]
    },
    {
      "cell_type": "markdown",
      "metadata": {
        "id": "ayUxBuwlqMcN",
        "colab_type": "text"
      },
      "source": [
        "## lime에 의한 XAI 싷험"
      ]
    },
    {
      "cell_type": "code",
      "metadata": {
        "id": "lY88I6eCqZMF",
        "colab_type": "code",
        "colab": {}
      },
      "source": [
        "train_ds = pd.concat([X_train_continuous,X_train_categorical], axis=1)\n",
        "val_ds = pd.concat([X_val_continuous,X_val_categorical], axis=1)\n",
        "\n",
        "# XAI를 위한 lime  정의\n",
        "from lime import lime_tabular, lime_text\n",
        "exp = lime_tabular.LimeTabularExplainer(\n",
        "    train_ds.to_numpy(),\n",
        "    training_labels=Y_train,\n",
        "    feature_names=train_ds.columns,\n",
        "    class_names= ['NAFYC'],\n",
        "    mode=\"regression\"\n",
        ")"
      ],
      "execution_count": null,
      "outputs": []
    },
    {
      "cell_type": "code",
      "metadata": {
        "id": "CvYfszijrUYQ",
        "colab_type": "code",
        "colab": {}
      },
      "source": [
        "# 변수의 영향력 분석\n",
        "# 소팅을 위한 초기화 \n",
        "exp_ana = {}\n",
        "for k in train_ds.columns:\n",
        "  exp_ana[k] = 0\n",
        "\n",
        "# predict 함수 재정의 - lime에서 사용 가능하도록...\n",
        "continue_dim = X_train_continuous.shape[1]\n",
        "input_dim = train_ds.shape[1]\n",
        "def predict(data):\n",
        "    return model.predict([data[:,0:continue_dim],data[:,continue_dim:input_dim]])\n",
        "\n",
        "# validation set의 변수 영향력 분석...\n",
        "for i in range(40): #range(val_ds.shape[0]):\n",
        "    p = exp.explain_instance(np.asarray(val_ds.iloc[i]),predict,num_features=val_ds.shape[1])\n",
        "    for t in p.as_map()[0]:\n",
        "      exp_ana[train_ds.columns[t[0]]] += np.abs(t[1])\n",
        "\n",
        "import operator\n",
        "\n",
        "sorted_x = sorted(exp_ana.items(), key=operator.itemgetter(1))\n",
        "\n",
        "effect_result_table = pd.DataFrame(sorted_x,columns=['Feature', 'Effect'])\n",
        "effect_result_table['Effect'] = effect_result_table['Effect']/10000\n",
        "effect_result_table.plot(x='Feature',y='Effect', figsize=(8, 10),kind='barh')\n",
        "plt.show()\n",
        "effect_result_table"
      ],
      "execution_count": null,
      "outputs": []
    },
    {
      "cell_type": "markdown",
      "metadata": {
        "id": "10J9MJb0fxZA",
        "colab_type": "text"
      },
      "source": [
        "## 실효/해약 등 Event 시뮬레이션 데이터 생성"
      ]
    },
    {
      "cell_type": "code",
      "metadata": {
        "id": "0xZQWnhcAN6f",
        "colab_type": "code",
        "colab": {}
      },
      "source": [
        "contract_change_rules = {\n",
        "    '성립': 0,\n",
        "    '실효': -0.4,\n",
        "    '해약': -0.8,\n",
        "    '철회': -0.5,\n",
        "    '변경': -0.1\n",
        "}\n",
        "\n",
        "def create_samples2():\n",
        "    rate_table = {}\n",
        "    samples = []\n",
        "    start_date = datetime.date(2015, 1, 1)\n",
        "    end_date = datetime.date(2020, 8, 8)\n",
        "\n",
        "    for i in range(1000,1520):\n",
        "      code = i #np.random.choice(range(1000,1520))\n",
        "      count = np.random.choice(range(10,250))\n",
        "      for j in range(count):\n",
        "        cntr_no = str(random.choice(range(100000,500000))) + ':' + str(random.choice(range(100000,500000)))\n",
        "        real_yy = random.choice(range(1,1000)) * random.choice(range(1,1000)) # * 100\n",
        "        if code not in rate_table:\n",
        "          rate = np.random.choice(range(1,100)) / 100\n",
        "          rate_table[code] = rate\n",
        "        else:\n",
        "          rate = rate_table[code]\n",
        "\n",
        "        div = '성립'\n",
        "        minus_rate = 0\n",
        "\n",
        "        # 계약일 생성\n",
        "        time_between_dates = end_date - start_date\n",
        "        days_between_dates = time_between_dates.days\n",
        "        random_number_of_days = random.randrange(days_between_dates)\n",
        "        contract_date = start_date + datetime.timedelta(days=random_number_of_days)\n",
        "        event_date = contract_date\n",
        "        # 계약 총개월수 생성 \n",
        "        contract_months = np.random.choice(range(12,12*30))\n",
        "        event_num = 0\n",
        "        samples.append([cntr_no,div,event_num,minus_rate,contract_date,contract_months,event_date,code,real_yy,rate])\n",
        "        for changes in range(19):\n",
        "          event_num += 1\n",
        "          div = random.choice(['실효','해약','철회','변경'])\n",
        "          # Event 발생일 생성 \n",
        "          time_between_dates = end_date - event_date\n",
        "          days_between_dates = time_between_dates.days\n",
        "          random_number_of_days = random.randrange(days_between_dates)\n",
        "          event_date = event_date + datetime.timedelta(days=random_number_of_days)\n",
        "          if div=='변경':\n",
        "            contract_date = event_date\n",
        "            code = np.random.choice(range(1000,1520))\n",
        "            real_yy = random.choice(range(1,1000)) * random.choice(range(1,1000)) # * 100\n",
        "            contract_months = np.random.choice(range(12,12*30))       \n",
        "            if code not in rate_table:\n",
        "              rate = np.random.choice(range(1,100)) / 100\n",
        "              rate_table[code] = rate\n",
        "            else:\n",
        "              rate = rate_table[code]\n",
        "          elif div=='해약':\n",
        "            samples.append([cntr_no,div,event_num,contract_change_rules[div],contract_date,contract_months,event_date,code,real_yy,rate])\n",
        "            break\n",
        "\n",
        "          samples.append([cntr_no,div,event_num,contract_change_rules[div],contract_date,contract_months,event_date,code,real_yy,rate])\n",
        "        \n",
        "    return pd.DataFrame(samples, columns=['CONTRACT_ID','DIV','EVENT_NUM','MINUS_RATE','CONTRACT_DATE','CONTRACT_MONTHS','EVENT_DATE','CODE','REAL_YY','COM_RATE'])"
      ],
      "execution_count": null,
      "outputs": []
    },
    {
      "cell_type": "code",
      "metadata": {
        "id": "m8SL8jqCAsgX",
        "colab_type": "code",
        "colab": {}
      },
      "source": [
        "dataset2 = create_samples2()"
      ],
      "execution_count": null,
      "outputs": []
    },
    {
      "cell_type": "code",
      "metadata": {
        "id": "uUEx922sAxT8",
        "colab_type": "code",
        "colab": {}
      },
      "source": [
        "dataset2.head(10)"
      ],
      "execution_count": null,
      "outputs": []
    },
    {
      "cell_type": "code",
      "metadata": {
        "id": "XSJQXJeCXR7_",
        "colab_type": "code",
        "colab": {}
      },
      "source": [
        "def diff_month(d1, d2):\n",
        "    return (d1.year - d2.year) * 12 + d1.month - d2.month"
      ],
      "execution_count": null,
      "outputs": []
    },
    {
      "cell_type": "code",
      "metadata": {
        "id": "zNed00hrXSs2",
        "colab_type": "code",
        "colab": {}
      },
      "source": [
        "back_nafyc = {}\n",
        "\n",
        "def nafyc_func2(row):\n",
        "  CONTRACT_ID = row['CONTRACT_ID']\n",
        "  DIV = row['DIV']\n",
        "  MINUS_RATE = row['MINUS_RATE']\n",
        "  CONTRACT_DATE = row['CONTRACT_DATE']\n",
        "  CONTRACT_MONTHS = row['CONTRACT_MONTHS']\n",
        "  EVENT_DATE = row['EVENT_DATE']\n",
        "  CODE = row['CODE']\n",
        "  REAL_YY = row['REAL_YY']\n",
        "  COM_RATE = row['COM_RATE']\n",
        "  if DIV=='성립':\n",
        "    nafyc = REAL_YY * COM_RATE\n",
        "    back_nafyc[CONTRACT_ID] = nafyc\n",
        "  else:\n",
        "    nafyc = back_nafyc[CONTRACT_ID]\n",
        "    # event가 발생하면 nafyc = nafyc + nafyc * (남은기간/전체기간 * 마이너스비율) --> 이건 임의도 관계식 넣은것임... 실 처리과정은 아님\n",
        "    nafyc = nafyc + nafyc * MINUS_RATE * ((diff_month(EVENT_DATE,CONTRACT_DATE))/CONTRACT_MONTHS)\n",
        "    back_nafyc[CONTRACT_ID] = nafyc\n",
        "\n",
        "  return nafyc"
      ],
      "execution_count": null,
      "outputs": []
    },
    {
      "cell_type": "code",
      "metadata": {
        "id": "muG40LIKZY6o",
        "colab_type": "code",
        "colab": {}
      },
      "source": [
        "dataset2['NAFYC'] = dataset2.apply(nafyc_func2, axis=1)"
      ],
      "execution_count": null,
      "outputs": []
    },
    {
      "cell_type": "code",
      "metadata": {
        "id": "LBCilUDaZjXX",
        "colab_type": "code",
        "colab": {}
      },
      "source": [
        "dataset2"
      ],
      "execution_count": null,
      "outputs": []
    },
    {
      "cell_type": "markdown",
      "metadata": {
        "id": "kozAA3AiEOIT",
        "colab_type": "text"
      },
      "source": [
        "## EDA 과정"
      ]
    },
    {
      "cell_type": "code",
      "metadata": {
        "id": "9O0Z1Ft2ENir",
        "colab_type": "code",
        "colab": {}
      },
      "source": [
        "dataset2.groupby('CONTRACT_ID').count().max()"
      ],
      "execution_count": null,
      "outputs": []
    },
    {
      "cell_type": "markdown",
      "metadata": {
        "id": "NhYPAl25f41T",
        "colab_type": "text"
      },
      "source": [
        "## 데이터 전처리..."
      ]
    },
    {
      "cell_type": "code",
      "metadata": {
        "id": "_PpVhmVAa5wO",
        "colab_type": "code",
        "colab": {}
      },
      "source": [
        "dataset2 = dataset2.astype({\"CODE\": object})"
      ],
      "execution_count": null,
      "outputs": []
    },
    {
      "cell_type": "code",
      "metadata": {
        "id": "LUC1_8fwbG4X",
        "colab_type": "code",
        "colab": {}
      },
      "source": [
        "structure(dataset2)"
      ],
      "execution_count": null,
      "outputs": []
    },
    {
      "cell_type": "markdown",
      "metadata": {
        "id": "YiM_I3M8rFvb",
        "colab_type": "text"
      },
      "source": [
        "## 파생변수의 추가"
      ]
    },
    {
      "cell_type": "code",
      "metadata": {
        "id": "W98dho8LrTk4",
        "colab_type": "code",
        "colab": {}
      },
      "source": [
        "pre_nafycs = []\n",
        "pre_nafyc = 0\n",
        "for row in dataset2.iterrows():\n",
        "  if row[1][2] == 0:\n",
        "    pre_nafycs.append(0)\n",
        "  else:\n",
        "    pre_nafycs.append(pre_nafyc)\n",
        "  pre_nafyc = row[1][10]\n",
        "  \n",
        "dataset2['PRE_NAFYC'] = pre_nafycs"
      ],
      "execution_count": null,
      "outputs": []
    },
    {
      "cell_type": "code",
      "metadata": {
        "id": "g_rxqTUewTex",
        "colab_type": "code",
        "colab": {}
      },
      "source": [
        "def last_months(row):\n",
        "  CONTRACT_DATE = row['CONTRACT_DATE']\n",
        "  CONTRACT_MONTHS = row['CONTRACT_MONTHS']\n",
        "  EVENT_DATE = row['EVENT_DATE']\n",
        "  return diff_month(EVENT_DATE,CONTRACT_DATE)\n",
        "\n",
        "dataset2['LAST_MONTHS'] = dataset2.apply(last_months, axis=1)"
      ],
      "execution_count": null,
      "outputs": []
    },
    {
      "cell_type": "code",
      "metadata": {
        "id": "gM3Oh_YG0Lrl",
        "colab_type": "code",
        "colab": {}
      },
      "source": [
        "# zscore norm\n",
        "\n",
        "ds = dataset2[['MINUS_RATE','REAL_YY','COM_RATE','PRE_NAFYC','CONTRACT_MONTHS','LAST_MONTHS']]\n",
        "\n",
        "_mean = ds.mean(axis=0)\n",
        "_std = ds.std(axis=0)\n",
        "\n",
        "ds = ds - _mean\n",
        "ds /= _std\n",
        "\n",
        "dataset2.update(ds)\n",
        "dataset2"
      ],
      "execution_count": null,
      "outputs": []
    },
    {
      "cell_type": "code",
      "metadata": {
        "id": "wWmDBJY-0OCb",
        "colab_type": "code",
        "colab": {}
      },
      "source": [
        "dataset2['ft1'] = dataset2['REAL_YY']* dataset2['COM_RATE']\n",
        "dataset2['ft2'] = dataset2['LAST_MONTHS']/dataset2['CONTRACT_MONTHS']\n",
        "dataset2['ft3'] = dataset2['MINUS_RATE']*dataset2['LAST_MONTHS']/dataset2['CONTRACT_MONTHS']\n",
        "dataset2['ft4'] = dataset2['PRE_NAFYC']+dataset2['PRE_NAFYC']*dataset2['MINUS_RATE']*dataset2['LAST_MONTHS']/dataset2['CONTRACT_MONTHS']"
      ],
      "execution_count": null,
      "outputs": []
    },
    {
      "cell_type": "code",
      "metadata": {
        "id": "JSGi2GUTdvRe",
        "colab_type": "code",
        "colab": {}
      },
      "source": [
        "dataset2"
      ],
      "execution_count": null,
      "outputs": []
    },
    {
      "cell_type": "code",
      "metadata": {
        "id": "pOel1nYugoZU",
        "colab_type": "code",
        "colab": {}
      },
      "source": [
        "# 상품코드의 categpry mapping\n",
        "code_mapping = EmbeddingMapping(dataset2['CODE'])\n",
        "dataset2 = dataset2.assign(code_mapping=dataset2['CODE'].apply(code_mapping.get_mapping))\n",
        "# event구분의 category mapping\n",
        "div_mapping = EmbeddingMapping(dataset2['DIV'])\n",
        "dataset2 = dataset2.assign(div_mapping=dataset2['DIV'].apply(div_mapping.get_mapping))\n",
        "# EVENT_NUM의 category mapping\n",
        "eventint_mapping = EmbeddingMapping(dataset2['EVENT_NUM'])\n",
        "dataset2 = dataset2.assign(eventint_mapping=dataset2['EVENT_NUM'].apply(eventint_mapping.get_mapping))\n",
        "dataset2"
      ],
      "execution_count": null,
      "outputs": []
    },
    {
      "cell_type": "code",
      "metadata": {
        "id": "BrQP-q00HTfm",
        "colab_type": "code",
        "colab": {}
      },
      "source": [
        "dataset_net = dataset2[['CONTRACT_ID','MINUS_RATE','REAL_YY','COM_RATE','ft1','ft2','ft3','ft4','PRE_NAFYC','code_mapping','div_mapping','eventint_mapping','NAFYC']]\n",
        "dataset_net.shape"
      ],
      "execution_count": null,
      "outputs": []
    },
    {
      "cell_type": "markdown",
      "metadata": {
        "id": "5ayKTdN-LAhi",
        "colab_type": "text"
      },
      "source": [
        "## Trainset과 Validationset의 분리  "
      ]
    },
    {
      "cell_type": "code",
      "metadata": {
        "id": "r9QpcLT9uU6T",
        "colab_type": "code",
        "colab": {}
      },
      "source": [
        "# trainset과 validationset 나누고... 기타 정리\n",
        "\n",
        "X_train_org, X_val_org, Y_train, Y_val = train_test_split(dataset_net[['CONTRACT_ID','MINUS_RATE','REAL_YY','COM_RATE','ft1','ft2','ft3','ft4','PRE_NAFYC','code_mapping','div_mapping','eventint_mapping']],\n",
        "    dataset_net['NAFYC'], test_size=0.1, random_state=0)\n",
        "\n",
        "# 학습 대상 변수만 선택\n",
        "\n",
        "X_train_continuous = X_train_org[['MINUS_RATE','REAL_YY','COM_RATE','ft1','ft2','ft3','ft4','PRE_NAFYC']]\n",
        "X_train_categorical = X_train_org[['code_mapping','div_mapping','eventint_mapping']]\n",
        "\n",
        "X_val_continuous  = X_val_org[['MINUS_RATE','REAL_YY','COM_RATE','ft1','ft2','ft3','ft4','PRE_NAFYC']]\n",
        "X_val_categorical = X_val_org[['code_mapping','div_mapping','eventint_mapping']]\n"
      ],
      "execution_count": null,
      "outputs": []
    },
    {
      "cell_type": "code",
      "metadata": {
        "id": "pb84LRUszVz_",
        "colab_type": "code",
        "colab": {}
      },
      "source": [
        "X_train_categorical"
      ],
      "execution_count": null,
      "outputs": []
    },
    {
      "cell_type": "markdown",
      "metadata": {
        "id": "9cDbi4ebLJCf",
        "colab_type": "text"
      },
      "source": [
        "## Network의 구성"
      ]
    },
    {
      "cell_type": "code",
      "metadata": {
        "id": "6qQVRJCyu6bn",
        "colab_type": "code",
        "colab": {}
      },
      "source": [
        "import keras\n",
        "from keras import Input, Model\n",
        "from keras.layers import Dense, Activation, Flatten, Conv1D, MaxPooling1D, Conv2D, MaxPooling2D, concatenate\n",
        "\n",
        "# custom R2-score metrics for keras backend\n",
        "from keras import backend as K\n",
        "\n",
        "# Define the continuous variables input (just like before)\n",
        "continuous_input = Input(shape=(X_train_continuous.shape[1], ))\n",
        "\n",
        "# Define the embedding input\n",
        "code_input = Input(shape=(3,), dtype='int32') \n",
        "output_dim=32*2   #X_train_categorical['code_mapping'].max()*1\n",
        "code_embedings = Embedding(output_dim=output_dim, input_dim=X_train_categorical['code_mapping'].max()+1)(code_input)\n",
        "code_embedings = keras.layers.Reshape((output_dim*3,))(code_embedings)\n",
        "\n",
        "# Concatenate continuous and embeddings inputs\n",
        "all_input = keras.layers.concatenate([continuous_input,code_embedings])\n",
        "print(all_input)\n",
        "\n",
        "# Define the model\n",
        "dense1 = Dense(all_input.shape[1]*3, activation='relu')(all_input)\n",
        "dense2 = Dense(5, activation='relu')(dense1)\n",
        "predictions = Dense(1)(dense2)\n",
        "\n",
        "# Note using the input object 'area_input' not 'area_embeddings'\n",
        "model = Model(inputs=[continuous_input, code_input], outputs=predictions)\n",
        "model.compile(loss='mse', optimizer=keras.optimizers.Adam(lr=.8, beta_1=0.9, beta_2=0.999, decay=1e-03, amsgrad=True),metrics=[soft_500_acc,soft_1000_acc,soft_10000_acc,r2])\n",
        "model.summary()\n"
      ],
      "execution_count": null,
      "outputs": []
    },
    {
      "cell_type": "code",
      "metadata": {
        "id": "NKtLCmLqvYNZ",
        "colab_type": "code",
        "colab": {}
      },
      "source": [
        "epochs = 500\n",
        "\n",
        "# Note continuous and categorical columns are inserted in the same order as defined in all_inputs\n",
        "history = model.fit([X_train_continuous, X_train_categorical], Y_train, \n",
        "          epochs=epochs, batch_size=10000, \n",
        "          callbacks=[periodic_logger_10], verbose=0,\n",
        "          validation_data=([X_val_continuous, X_val_categorical], Y_val))"
      ],
      "execution_count": null,
      "outputs": []
    },
    {
      "cell_type": "code",
      "metadata": {
        "id": "PH7BnOME3eDc",
        "colab_type": "code",
        "colab": {}
      },
      "source": [
        "# Plot the train/validation loss values\n",
        "plt.figure(figsize=(20,10))\n",
        "_loss = history.history['loss'][50:]\n",
        "_val_loss = history.history['val_loss'][50:]\n",
        "\n",
        "train_loss_plot, = plt.plot(range(1, len(_loss)+1), _loss, label='Train Loss')\n",
        "val_loss_plot, = plt.plot(range(1, len(_val_loss)+1), _val_loss, label='Validation Loss')\n",
        "\n",
        "_ = plt.legend(handles=[train_loss_plot, val_loss_plot])"
      ],
      "execution_count": null,
      "outputs": []
    },
    {
      "cell_type": "code",
      "metadata": {
        "id": "2FoEJyc23kmR",
        "colab_type": "code",
        "colab": {}
      },
      "source": [
        "plt.figure(figsize=(20,10))\n",
        "_loss = history.history['soft_10000_acc'][5:]\n",
        "_val_loss = history.history['val_soft_10000_acc'][5:]\n",
        "\n",
        "train_loss_plot, = plt.plot(range(1, len(_loss)+1), _loss, label='soft_10000_acc')\n",
        "val_loss_plot, = plt.plot(range(1, len(_val_loss)+1), _val_loss, label='val_soft_10000_acc')\n",
        "\n",
        "_ = plt.legend(handles=[train_loss_plot, val_loss_plot])"
      ],
      "execution_count": null,
      "outputs": []
    },
    {
      "cell_type": "code",
      "metadata": {
        "id": "kTnX8fZm3sYt",
        "colab_type": "code",
        "colab": {}
      },
      "source": [
        "df = pd.DataFrame(Y_val,columns=['NAFYC'])\n",
        "\n",
        "print (\"This is the average value we are trying to predict: %d\" % df['NAFYC'].mean())\n",
        "\n",
        "# Add a column for the model's predicted values\n",
        "df['pred'] = model.predict([X_val_continuous, X_val_categorical])\n",
        "\n",
        "# Calculate the difference between the predicted and the actual price\n",
        "df['diff'] = df['pred'] - df['NAFYC']\n",
        "\n",
        "# Calculate the absolute difference between the predicted and the actual price\n",
        "df['abs_diff'] = np.abs(df['diff'])\n",
        "\n",
        "# Calculate the percentage of the difference from the actual price\n",
        "df['%diff'] = 100 * (df['diff'] / df['NAFYC'])\n",
        "\n",
        "# Calculate the absolute percentage difference from the actual price\n",
        "df['abs_%diff'] = np.abs(df['%diff'])\n",
        "\n",
        "# Calculate the mean and std. of the diff field\n",
        "diff_mean, diff_std = df['diff'].mean(), df['diff'].std()\n",
        "print(\"The mean is very close to 0 ({mean}) with std. {std}.\".format(mean=round(diff_mean, 2), std=round(diff_std, 2)))\n",
        "\n",
        "# Here is the histogram of the differences\n",
        "plt.figure(figsize=(20,10))\n",
        "plt.hist(df['diff'], bins=100)\n",
        "plt.xlabel(\"\\\\\")\n",
        "plt.ylabel(\"# samples\")\n",
        "_ = plt.title(\"Difference between predicted and actual price\")\n",
        "\n",
        "plt.show()\n",
        "\n",
        "# Sort by the 'abs_diff' field and show the 5 largest mistakes in absolute values\n",
        "a = df.sort_values(\"abs_diff\", ascending=False)\n",
        "a.drop(columns=['NAFYC'],inplace=True)\n",
        "b = a.join(dataset2)\n",
        "b.head(10)"
      ],
      "execution_count": null,
      "outputs": []
    }
  ]
}