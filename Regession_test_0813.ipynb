{
  "nbformat": 4,
  "nbformat_minor": 0,
  "metadata": {
    "colab": {
      "name": "Untitled3.ipynb",
      "provenance": [],
      "authorship_tag": "ABX9TyPL3uzKyI9GIJMX/QLXkrHt",
      "include_colab_link": true
    },
    "kernelspec": {
      "name": "python3",
      "display_name": "Python 3"
    },
    "accelerator": "GPU"
  },
  "cells": [
    {
      "cell_type": "markdown",
      "metadata": {
        "id": "view-in-github",
        "colab_type": "text"
      },
      "source": [
        "<a href=\"https://colab.research.google.com/github/dolmani38/non-linear-regression/blob/master/Regession_test_0813.ipynb\" target=\"_parent\"><img src=\"https://colab.research.google.com/assets/colab-badge.svg\" alt=\"Open In Colab\"/></a>"
      ]
    },
    {
      "cell_type": "code",
      "metadata": {
        "id": "mF_FfL2i1yWV",
        "colab_type": "code",
        "colab": {
          "base_uri": "https://localhost:8080/",
          "height": 497
        },
        "outputId": "88c10ce5-7185-4c5b-be30-dcca84340abe"
      },
      "source": [
        "!pip install lime\n",
        "\n",
        "import numpy as np\n",
        "import pandas as pd\n",
        "import numpy as np\n",
        "import pandas as pd\n",
        "import keras\n",
        "from keras.models import Sequential\n",
        "from keras.layers import Dense, BatchNormalization\n",
        "from keras.layers import Input, Embedding, Dense\n",
        "from keras.models import Model\n",
        "from keras.callbacks import Callback\n",
        "import matplotlib.pyplot as plt\n",
        "from sklearn.model_selection import train_test_split\n",
        "from lime import lime_tabular, lime_text\n",
        "from keras.utils import to_categorical\n",
        "import datetime\n",
        "import random\n",
        "\n",
        "# Bayesian Methods for Hackers style sheet\n",
        "plt.style.use('bmh')\n",
        "\n",
        "np.random.seed(1234567890)\n",
        "\n",
        "from keras import backend as K\n",
        "\n",
        "def r2(y_true, y_pred):\n",
        "    \"\"\"\n",
        "    # custom R2-score metrics for keras backend\n",
        "    :param y_true: 실측 데이터\n",
        "    :param y_pred: 모델에 의한 예측 데이테\n",
        "    :return: R^2 value, 이 값이 높다고 (예:0.99)해서 예측 값이 정확 하다고 할 수 는 없음...\n",
        "    \"\"\"\n",
        "    SS_res = K.sum(K.square(y_true - y_pred))\n",
        "    SS_tot = K.sum(K.square(y_true - K.mean(y_true)))\n",
        "    return (1 - SS_res / (SS_tot + K.epsilon()))\n",
        "\n",
        "def soft_500_acc(y_true, y_pred):\n",
        "    delta = 500\n",
        "    return K.mean(K.less_equal(K.abs(y_true-y_pred),delta))\n",
        "\n",
        "def soft_1000_acc(y_true, y_pred):\n",
        "    delta = 1000\n",
        "    return K.mean(K.less_equal(K.abs(y_true-y_pred),delta))\n",
        "\n",
        "def soft_10000_acc(y_true, y_pred):\n",
        "    delta = 10000\n",
        "    return K.mean(K.less_equal(K.abs(y_true-y_pred),delta))\n",
        "\n",
        "def soft_5perc_acc(y_true, y_pred):\n",
        "    delta = 0.05\n",
        "    return K.mean(K.less_equal(K.abs((y_true-y_pred)/y_true),delta))\n",
        "\n",
        "def soft_10perc_acc(y_true, y_pred):\n",
        "    delta = 0.10\n",
        "    return K.mean(K.less_equal(K.abs((y_true-y_pred)/y_true),delta))\n",
        "\n",
        "\n",
        "def structure(df):\n",
        "    \"\"\"\n",
        "    DataFrame의 column 등 전반적인 구조를 표출 한다.\n",
        "    :param df:\n",
        "    :return:\n",
        "    \"\"\"\n",
        "    df1 = df.describe(include='all').T\n",
        "    df1['type'] = df.dtypes\n",
        "    df1['null count'] = df.isnull().sum()\n",
        "    if 'freq' in df1.columns:\n",
        "        df2 = df1[\n",
        "            ['type', 'count', 'null count', 'mean', 'std', 'min', '25%', '50%', '75%', 'max', 'unique', 'top',\n",
        "             'freq']]\n",
        "    else:\n",
        "        df2 = df1[['type', 'count', 'null count', 'mean', 'std', 'min', '25%', '50%', '75%', 'max']]\n",
        "\n",
        "    return df2\n",
        "\n",
        "class EmbeddingMapping():\n",
        "    \"\"\"\n",
        "    Helper class for handling categorical variables\n",
        "    An instance of this class should be defined for each categorical variable we want to use.\n",
        "    \"\"\"\n",
        "    def __init__(self, series):\n",
        "        # get a list of unique values\n",
        "        values = series.unique().tolist()\n",
        "        \n",
        "        # Set a dictionary mapping from values to integer value\n",
        "        # In our example this will be {'Mercaz': 1, 'Old North': 2, 'Florentine': 3}\n",
        "        self.embedding_dict = {value: int_value+1 for int_value, value in enumerate(values)}\n",
        "        \n",
        "        # The num_values will be used as the input_dim when defining the embedding layer. \n",
        "        # It will also be returned for unseen values \n",
        "        self.num_values = len(values) + 1\n",
        "\n",
        "    def get_mapping(self, value):\n",
        "        # If the value was seen in the training set, return its integer mapping\n",
        "        if value in self.embedding_dict:\n",
        "            return self.embedding_dict[value]\n",
        "        \n",
        "        # Else, return the same integer for unseen values\n",
        "        else:\n",
        "            return self.num_values\n",
        "            \n",
        "class VerboseCallback(keras.callbacks.Callback):\n",
        "    \"\"\"\n",
        "    kerase.model.fit 함수에서, log 출력을 위한 callback\n",
        "    \"\"\"\n",
        "    def __init__(self, epoch):\n",
        "        self.epoch = epoch\n",
        "        self.progress(\"learning:\", 0, [])\n",
        "\n",
        "    def progress(self, text, current=0, log=None):\n",
        "        g = self.epoch - current\n",
        "        f = 50 / self.epoch\n",
        "        c = int(current * f)\n",
        "        pg = ['=' for i in range(c)] + ['.' for i in range(50 - c)]\n",
        "        print(\"\\r\" + str(text) + \"{}/{}[{}]{}\".format(current, self.epoch, ''.join(pg), ('' if log is None else str(log).strip())),\n",
        "              end=\"\", flush=True)\n",
        "        if self.epoch - current == 0:\n",
        "            print(\"\")\n",
        "\n",
        "    def on_epoch_end(self, epoch, logs=None):\n",
        "        self.progress(\"learning:\", epoch + 1, logs)\n",
        "\n",
        "\n",
        "class PeriodicLogger(Callback):\n",
        "    \"\"\"\n",
        "    A helper callback class that only prints the losses once in 'display' epochs\n",
        "    \"\"\"\n",
        "    def __init__(self, display=100):\n",
        "        self.display = display\n",
        "\n",
        "    def on_train_begin(self, logs={}):      \n",
        "        self.epochs = 0    \n",
        "\n",
        "    def on_epoch_end(self, batch, logs={}):    \n",
        "        self.epochs += 1     \n",
        "        if self.epochs % self.display == 0:\n",
        "            print (\"Epoch: %d - %s\" % (self.epochs, str(logs)))\n",
        "\n",
        "periodic_logger_10 = PeriodicLogger(10) \n",
        "periodic_logger_50 = PeriodicLogger(50)\n",
        "periodic_logger_250 = PeriodicLogger(250)\n",
        "periodic_logger_1000 = PeriodicLogger(1000)"
      ],
      "execution_count": 2,
      "outputs": [
        {
          "output_type": "stream",
          "text": [
            "Collecting lime\n",
            "\u001b[?25l  Downloading https://files.pythonhosted.org/packages/f5/86/91a13127d83d793ecb50eb75e716f76e6eda809b6803c5a4ff462339789e/lime-0.2.0.1.tar.gz (275kB)\n",
            "\r\u001b[K     |█▏                              | 10kB 17.2MB/s eta 0:00:01\r\u001b[K     |██▍                             | 20kB 1.7MB/s eta 0:00:01\r\u001b[K     |███▋                            | 30kB 2.3MB/s eta 0:00:01\r\u001b[K     |████▊                           | 40kB 2.5MB/s eta 0:00:01\r\u001b[K     |██████                          | 51kB 2.0MB/s eta 0:00:01\r\u001b[K     |███████▏                        | 61kB 2.2MB/s eta 0:00:01\r\u001b[K     |████████▎                       | 71kB 2.5MB/s eta 0:00:01\r\u001b[K     |█████████▌                      | 81kB 2.8MB/s eta 0:00:01\r\u001b[K     |██████████▊                     | 92kB 2.9MB/s eta 0:00:01\r\u001b[K     |███████████▉                    | 102kB 2.8MB/s eta 0:00:01\r\u001b[K     |█████████████                   | 112kB 2.8MB/s eta 0:00:01\r\u001b[K     |██████████████▎                 | 122kB 2.8MB/s eta 0:00:01\r\u001b[K     |███████████████▌                | 133kB 2.8MB/s eta 0:00:01\r\u001b[K     |████████████████▋               | 143kB 2.8MB/s eta 0:00:01\r\u001b[K     |█████████████████▉              | 153kB 2.8MB/s eta 0:00:01\r\u001b[K     |███████████████████             | 163kB 2.8MB/s eta 0:00:01\r\u001b[K     |████████████████████▏           | 174kB 2.8MB/s eta 0:00:01\r\u001b[K     |█████████████████████▍          | 184kB 2.8MB/s eta 0:00:01\r\u001b[K     |██████████████████████▋         | 194kB 2.8MB/s eta 0:00:01\r\u001b[K     |███████████████████████▊        | 204kB 2.8MB/s eta 0:00:01\r\u001b[K     |█████████████████████████       | 215kB 2.8MB/s eta 0:00:01\r\u001b[K     |██████████████████████████▏     | 225kB 2.8MB/s eta 0:00:01\r\u001b[K     |███████████████████████████▍    | 235kB 2.8MB/s eta 0:00:01\r\u001b[K     |████████████████████████████▌   | 245kB 2.8MB/s eta 0:00:01\r\u001b[K     |█████████████████████████████▊  | 256kB 2.8MB/s eta 0:00:01\r\u001b[K     |███████████████████████████████ | 266kB 2.8MB/s eta 0:00:01\r\u001b[K     |████████████████████████████████| 276kB 2.8MB/s \n",
            "\u001b[?25hRequirement already satisfied: matplotlib in /usr/local/lib/python3.6/dist-packages (from lime) (3.2.2)\n",
            "Requirement already satisfied: numpy in /usr/local/lib/python3.6/dist-packages (from lime) (1.18.5)\n",
            "Requirement already satisfied: scipy in /usr/local/lib/python3.6/dist-packages (from lime) (1.4.1)\n",
            "Requirement already satisfied: tqdm in /usr/local/lib/python3.6/dist-packages (from lime) (4.41.1)\n",
            "Requirement already satisfied: scikit-learn>=0.18 in /usr/local/lib/python3.6/dist-packages (from lime) (0.22.2.post1)\n",
            "Requirement already satisfied: scikit-image>=0.12 in /usr/local/lib/python3.6/dist-packages (from lime) (0.16.2)\n",
            "Requirement already satisfied: cycler>=0.10 in /usr/local/lib/python3.6/dist-packages (from matplotlib->lime) (0.10.0)\n",
            "Requirement already satisfied: pyparsing!=2.0.4,!=2.1.2,!=2.1.6,>=2.0.1 in /usr/local/lib/python3.6/dist-packages (from matplotlib->lime) (2.4.7)\n",
            "Requirement already satisfied: kiwisolver>=1.0.1 in /usr/local/lib/python3.6/dist-packages (from matplotlib->lime) (1.2.0)\n",
            "Requirement already satisfied: python-dateutil>=2.1 in /usr/local/lib/python3.6/dist-packages (from matplotlib->lime) (2.8.1)\n",
            "Requirement already satisfied: joblib>=0.11 in /usr/local/lib/python3.6/dist-packages (from scikit-learn>=0.18->lime) (0.16.0)\n",
            "Requirement already satisfied: networkx>=2.0 in /usr/local/lib/python3.6/dist-packages (from scikit-image>=0.12->lime) (2.4)\n",
            "Requirement already satisfied: imageio>=2.3.0 in /usr/local/lib/python3.6/dist-packages (from scikit-image>=0.12->lime) (2.4.1)\n",
            "Requirement already satisfied: pillow>=4.3.0 in /usr/local/lib/python3.6/dist-packages (from scikit-image>=0.12->lime) (7.0.0)\n",
            "Requirement already satisfied: PyWavelets>=0.4.0 in /usr/local/lib/python3.6/dist-packages (from scikit-image>=0.12->lime) (1.1.1)\n",
            "Requirement already satisfied: six in /usr/local/lib/python3.6/dist-packages (from cycler>=0.10->matplotlib->lime) (1.15.0)\n",
            "Requirement already satisfied: decorator>=4.3.0 in /usr/local/lib/python3.6/dist-packages (from networkx>=2.0->scikit-image>=0.12->lime) (4.4.2)\n",
            "Building wheels for collected packages: lime\n",
            "  Building wheel for lime (setup.py) ... \u001b[?25l\u001b[?25hdone\n",
            "  Created wheel for lime: filename=lime-0.2.0.1-cp36-none-any.whl size=283845 sha256=c39e1fded4563e294b5b5a73faf6a46bd9e18b32418a0641fb0b40f9af7712ef\n",
            "  Stored in directory: /root/.cache/pip/wheels/4c/4f/a5/0bc765457bd41378bf3ce8d17d7495369d6e7ca3b712c60c89\n",
            "Successfully built lime\n",
            "Installing collected packages: lime\n",
            "Successfully installed lime-0.2.0.1\n"
          ],
          "name": "stdout"
        }
      ]
    },
    {
      "cell_type": "markdown",
      "metadata": {
        "id": "-DmwPVWRpE16",
        "colab_type": "text"
      },
      "source": [
        "## 성립 실험을 위한 시뮬레이션 데이터 생성"
      ]
    },
    {
      "cell_type": "code",
      "metadata": {
        "id": "tthKAtzt18kc",
        "colab_type": "code",
        "colab": {}
      },
      "source": [
        "def nafyc_func(row):\n",
        "    code,real_yy,rate = row['CODE'],row['REAL_YY'],row['COM_RATE']\n",
        "    return real_yy * rate"
      ],
      "execution_count": 3,
      "outputs": []
    },
    {
      "cell_type": "code",
      "metadata": {
        "id": "Tuh6NMlr2xPB",
        "colab_type": "code",
        "colab": {}
      },
      "source": [
        "def create_samples(n_samples):\n",
        "    rate_table = {}\n",
        "    samples = []\n",
        "    for i in range(1000,2520):\n",
        "      code = i #np.random.choice(range(1000,1520))\n",
        "      count = np.random.choice(range(10,500))\n",
        "      for j in range(count):\n",
        "        real_yy = random.choice(range(1,1000)) * random.choice(range(1,1000)) * 100\n",
        "        if code not in rate_table:\n",
        "          rate = np.random.choice(range(1,100)) / 100\n",
        "          rate_table[code] = rate\n",
        "        else:\n",
        "          rate = rate_table[code]\n",
        "        samples.append([code,real_yy,rate])\n",
        "        \n",
        "    return pd.DataFrame(samples, columns=['CODE','REAL_YY','COM_RATE'])"
      ],
      "execution_count": 4,
      "outputs": []
    },
    {
      "cell_type": "code",
      "metadata": {
        "id": "HP9wq4Rd4f4E",
        "colab_type": "code",
        "colab": {
          "base_uri": "https://localhost:8080/",
          "height": 411
        },
        "outputId": "4bb0e304-2c99-4c59-86bc-106f39b025b4"
      },
      "source": [
        "dataset = create_samples(n_samples=100)\n",
        "dataset['NAFYC'] = dataset.apply(nafyc_func, axis=1)\n",
        "dataset"
      ],
      "execution_count": 5,
      "outputs": [
        {
          "output_type": "execute_result",
          "data": {
            "text/html": [
              "<div>\n",
              "<style scoped>\n",
              "    .dataframe tbody tr th:only-of-type {\n",
              "        vertical-align: middle;\n",
              "    }\n",
              "\n",
              "    .dataframe tbody tr th {\n",
              "        vertical-align: top;\n",
              "    }\n",
              "\n",
              "    .dataframe thead th {\n",
              "        text-align: right;\n",
              "    }\n",
              "</style>\n",
              "<table border=\"1\" class=\"dataframe\">\n",
              "  <thead>\n",
              "    <tr style=\"text-align: right;\">\n",
              "      <th></th>\n",
              "      <th>CODE</th>\n",
              "      <th>REAL_YY</th>\n",
              "      <th>COM_RATE</th>\n",
              "      <th>NAFYC</th>\n",
              "    </tr>\n",
              "  </thead>\n",
              "  <tbody>\n",
              "    <tr>\n",
              "      <th>0</th>\n",
              "      <td>1000</td>\n",
              "      <td>6737300</td>\n",
              "      <td>0.48</td>\n",
              "      <td>3233904.0</td>\n",
              "    </tr>\n",
              "    <tr>\n",
              "      <th>1</th>\n",
              "      <td>1000</td>\n",
              "      <td>56710800</td>\n",
              "      <td>0.48</td>\n",
              "      <td>27221184.0</td>\n",
              "    </tr>\n",
              "    <tr>\n",
              "      <th>2</th>\n",
              "      <td>1000</td>\n",
              "      <td>5868200</td>\n",
              "      <td>0.48</td>\n",
              "      <td>2816736.0</td>\n",
              "    </tr>\n",
              "    <tr>\n",
              "      <th>3</th>\n",
              "      <td>1000</td>\n",
              "      <td>75812800</td>\n",
              "      <td>0.48</td>\n",
              "      <td>36390144.0</td>\n",
              "    </tr>\n",
              "    <tr>\n",
              "      <th>4</th>\n",
              "      <td>1000</td>\n",
              "      <td>11329500</td>\n",
              "      <td>0.48</td>\n",
              "      <td>5438160.0</td>\n",
              "    </tr>\n",
              "    <tr>\n",
              "      <th>...</th>\n",
              "      <td>...</td>\n",
              "      <td>...</td>\n",
              "      <td>...</td>\n",
              "      <td>...</td>\n",
              "    </tr>\n",
              "    <tr>\n",
              "      <th>388568</th>\n",
              "      <td>2519</td>\n",
              "      <td>1640000</td>\n",
              "      <td>0.24</td>\n",
              "      <td>393600.0</td>\n",
              "    </tr>\n",
              "    <tr>\n",
              "      <th>388569</th>\n",
              "      <td>2519</td>\n",
              "      <td>40689400</td>\n",
              "      <td>0.24</td>\n",
              "      <td>9765456.0</td>\n",
              "    </tr>\n",
              "    <tr>\n",
              "      <th>388570</th>\n",
              "      <td>2519</td>\n",
              "      <td>32732100</td>\n",
              "      <td>0.24</td>\n",
              "      <td>7855704.0</td>\n",
              "    </tr>\n",
              "    <tr>\n",
              "      <th>388571</th>\n",
              "      <td>2519</td>\n",
              "      <td>3636300</td>\n",
              "      <td>0.24</td>\n",
              "      <td>872712.0</td>\n",
              "    </tr>\n",
              "    <tr>\n",
              "      <th>388572</th>\n",
              "      <td>2519</td>\n",
              "      <td>8331200</td>\n",
              "      <td>0.24</td>\n",
              "      <td>1999488.0</td>\n",
              "    </tr>\n",
              "  </tbody>\n",
              "</table>\n",
              "<p>388573 rows × 4 columns</p>\n",
              "</div>"
            ],
            "text/plain": [
              "        CODE   REAL_YY  COM_RATE       NAFYC\n",
              "0       1000   6737300      0.48   3233904.0\n",
              "1       1000  56710800      0.48  27221184.0\n",
              "2       1000   5868200      0.48   2816736.0\n",
              "3       1000  75812800      0.48  36390144.0\n",
              "4       1000  11329500      0.48   5438160.0\n",
              "...      ...       ...       ...         ...\n",
              "388568  2519   1640000      0.24    393600.0\n",
              "388569  2519  40689400      0.24   9765456.0\n",
              "388570  2519  32732100      0.24   7855704.0\n",
              "388571  2519   3636300      0.24    872712.0\n",
              "388572  2519   8331200      0.24   1999488.0\n",
              "\n",
              "[388573 rows x 4 columns]"
            ]
          },
          "metadata": {
            "tags": []
          },
          "execution_count": 5
        }
      ]
    },
    {
      "cell_type": "markdown",
      "metadata": {
        "id": "d60o9rKypOJK",
        "colab_type": "text"
      },
      "source": [
        "## 성립 데이터 EDA"
      ]
    },
    {
      "cell_type": "code",
      "metadata": {
        "id": "ffVbCOQE5_7L",
        "colab_type": "code",
        "colab": {
          "base_uri": "https://localhost:8080/",
          "height": 170
        },
        "outputId": "75e882c3-e984-4a5f-9cf5-1c5093e5acaa"
      },
      "source": [
        "structure(dataset)"
      ],
      "execution_count": 6,
      "outputs": [
        {
          "output_type": "execute_result",
          "data": {
            "text/html": [
              "<div>\n",
              "<style scoped>\n",
              "    .dataframe tbody tr th:only-of-type {\n",
              "        vertical-align: middle;\n",
              "    }\n",
              "\n",
              "    .dataframe tbody tr th {\n",
              "        vertical-align: top;\n",
              "    }\n",
              "\n",
              "    .dataframe thead th {\n",
              "        text-align: right;\n",
              "    }\n",
              "</style>\n",
              "<table border=\"1\" class=\"dataframe\">\n",
              "  <thead>\n",
              "    <tr style=\"text-align: right;\">\n",
              "      <th></th>\n",
              "      <th>type</th>\n",
              "      <th>count</th>\n",
              "      <th>null count</th>\n",
              "      <th>mean</th>\n",
              "      <th>std</th>\n",
              "      <th>min</th>\n",
              "      <th>25%</th>\n",
              "      <th>50%</th>\n",
              "      <th>75%</th>\n",
              "      <th>max</th>\n",
              "    </tr>\n",
              "  </thead>\n",
              "  <tbody>\n",
              "    <tr>\n",
              "      <th>CODE</th>\n",
              "      <td>int64</td>\n",
              "      <td>388573.0</td>\n",
              "      <td>0</td>\n",
              "      <td>1.761253e+03</td>\n",
              "      <td>4.431871e+02</td>\n",
              "      <td>1000.00</td>\n",
              "      <td>1378.00</td>\n",
              "      <td>1767.00</td>\n",
              "      <td>2154.00</td>\n",
              "      <td>2519.00</td>\n",
              "    </tr>\n",
              "    <tr>\n",
              "      <th>REAL_YY</th>\n",
              "      <td>int64</td>\n",
              "      <td>388573.0</td>\n",
              "      <td>0</td>\n",
              "      <td>2.501184e+07</td>\n",
              "      <td>2.201663e+07</td>\n",
              "      <td>400.00</td>\n",
              "      <td>6806000.00</td>\n",
              "      <td>18721000.00</td>\n",
              "      <td>38222800.00</td>\n",
              "      <td>99700200.00</td>\n",
              "    </tr>\n",
              "    <tr>\n",
              "      <th>COM_RATE</th>\n",
              "      <td>float64</td>\n",
              "      <td>388573.0</td>\n",
              "      <td>0</td>\n",
              "      <td>5.081309e-01</td>\n",
              "      <td>2.869109e-01</td>\n",
              "      <td>0.01</td>\n",
              "      <td>0.26</td>\n",
              "      <td>0.51</td>\n",
              "      <td>0.76</td>\n",
              "      <td>0.99</td>\n",
              "    </tr>\n",
              "    <tr>\n",
              "      <th>NAFYC</th>\n",
              "      <td>float64</td>\n",
              "      <td>388573.0</td>\n",
              "      <td>0</td>\n",
              "      <td>1.270459e+07</td>\n",
              "      <td>1.470395e+07</td>\n",
              "      <td>12.00</td>\n",
              "      <td>2102828.00</td>\n",
              "      <td>7090356.00</td>\n",
              "      <td>18138400.00</td>\n",
              "      <td>98703198.00</td>\n",
              "    </tr>\n",
              "  </tbody>\n",
              "</table>\n",
              "</div>"
            ],
            "text/plain": [
              "             type     count  null count  ...          50%          75%          max\n",
              "CODE        int64  388573.0           0  ...      1767.00      2154.00      2519.00\n",
              "REAL_YY     int64  388573.0           0  ...  18721000.00  38222800.00  99700200.00\n",
              "COM_RATE  float64  388573.0           0  ...         0.51         0.76         0.99\n",
              "NAFYC     float64  388573.0           0  ...   7090356.00  18138400.00  98703198.00\n",
              "\n",
              "[4 rows x 10 columns]"
            ]
          },
          "metadata": {
            "tags": []
          },
          "execution_count": 6
        }
      ]
    },
    {
      "cell_type": "code",
      "metadata": {
        "id": "Q4NtXgshnRDQ",
        "colab_type": "code",
        "colab": {
          "base_uri": "https://localhost:8080/",
          "height": 292
        },
        "outputId": "26277252-4a38-4bc0-d4ee-f185e4ce66f7"
      },
      "source": [
        "dataset['REAL_YY'].hist(bins=1000)"
      ],
      "execution_count": 7,
      "outputs": [
        {
          "output_type": "execute_result",
          "data": {
            "text/plain": [
              "<matplotlib.axes._subplots.AxesSubplot at 0x7f635ee33080>"
            ]
          },
          "metadata": {
            "tags": []
          },
          "execution_count": 7
        },
        {
          "output_type": "display_data",
          "data": {
            "image/png": "[encoded data removed]",
            "text/plain": [
              "<Figure size 432x288 with 1 Axes>"
            ]
          },
          "metadata": {
            "tags": [],
            "needs_background": "light"
          }
        }
      ]
    },
    {
      "cell_type": "code",
      "metadata": {
        "id": "ExsY2mmt7Bda",
        "colab_type": "code",
        "colab": {}
      },
      "source": [
        "dataset = dataset.astype({\"CODE\": object})"
      ],
      "execution_count": 8,
      "outputs": []
    },
    {
      "cell_type": "code",
      "metadata": {
        "id": "VP-IC-Ve7JS2",
        "colab_type": "code",
        "colab": {
          "base_uri": "https://localhost:8080/",
          "height": 170
        },
        "outputId": "9db5f627-e4de-475c-988a-a31d63d75b18"
      },
      "source": [
        "structure(dataset)"
      ],
      "execution_count": 9,
      "outputs": [
        {
          "output_type": "execute_result",
          "data": {
            "text/html": [
              "<div>\n",
              "<style scoped>\n",
              "    .dataframe tbody tr th:only-of-type {\n",
              "        vertical-align: middle;\n",
              "    }\n",
              "\n",
              "    .dataframe tbody tr th {\n",
              "        vertical-align: top;\n",
              "    }\n",
              "\n",
              "    .dataframe thead th {\n",
              "        text-align: right;\n",
              "    }\n",
              "</style>\n",
              "<table border=\"1\" class=\"dataframe\">\n",
              "  <thead>\n",
              "    <tr style=\"text-align: right;\">\n",
              "      <th></th>\n",
              "      <th>type</th>\n",
              "      <th>count</th>\n",
              "      <th>null count</th>\n",
              "      <th>mean</th>\n",
              "      <th>std</th>\n",
              "      <th>min</th>\n",
              "      <th>25%</th>\n",
              "      <th>50%</th>\n",
              "      <th>75%</th>\n",
              "      <th>max</th>\n",
              "      <th>unique</th>\n",
              "      <th>top</th>\n",
              "      <th>freq</th>\n",
              "    </tr>\n",
              "  </thead>\n",
              "  <tbody>\n",
              "    <tr>\n",
              "      <th>CODE</th>\n",
              "      <td>object</td>\n",
              "      <td>388573.0</td>\n",
              "      <td>0</td>\n",
              "      <td>NaN</td>\n",
              "      <td>NaN</td>\n",
              "      <td>NaN</td>\n",
              "      <td>NaN</td>\n",
              "      <td>NaN</td>\n",
              "      <td>NaN</td>\n",
              "      <td>NaN</td>\n",
              "      <td>1520.0</td>\n",
              "      <td>2317.0</td>\n",
              "      <td>499.0</td>\n",
              "    </tr>\n",
              "    <tr>\n",
              "      <th>REAL_YY</th>\n",
              "      <td>int64</td>\n",
              "      <td>388573.0</td>\n",
              "      <td>0</td>\n",
              "      <td>2.501184e+07</td>\n",
              "      <td>2.201663e+07</td>\n",
              "      <td>400.00</td>\n",
              "      <td>6806000.00</td>\n",
              "      <td>18721000.00</td>\n",
              "      <td>38222800.00</td>\n",
              "      <td>99700200.00</td>\n",
              "      <td>NaN</td>\n",
              "      <td>NaN</td>\n",
              "      <td>NaN</td>\n",
              "    </tr>\n",
              "    <tr>\n",
              "      <th>COM_RATE</th>\n",
              "      <td>float64</td>\n",
              "      <td>388573.0</td>\n",
              "      <td>0</td>\n",
              "      <td>5.081309e-01</td>\n",
              "      <td>2.869109e-01</td>\n",
              "      <td>0.01</td>\n",
              "      <td>0.26</td>\n",
              "      <td>0.51</td>\n",
              "      <td>0.76</td>\n",
              "      <td>0.99</td>\n",
              "      <td>NaN</td>\n",
              "      <td>NaN</td>\n",
              "      <td>NaN</td>\n",
              "    </tr>\n",
              "    <tr>\n",
              "      <th>NAFYC</th>\n",
              "      <td>float64</td>\n",
              "      <td>388573.0</td>\n",
              "      <td>0</td>\n",
              "      <td>1.270459e+07</td>\n",
              "      <td>1.470395e+07</td>\n",
              "      <td>12.00</td>\n",
              "      <td>2102828.00</td>\n",
              "      <td>7090356.00</td>\n",
              "      <td>18138400.00</td>\n",
              "      <td>98703198.00</td>\n",
              "      <td>NaN</td>\n",
              "      <td>NaN</td>\n",
              "      <td>NaN</td>\n",
              "    </tr>\n",
              "  </tbody>\n",
              "</table>\n",
              "</div>"
            ],
            "text/plain": [
              "             type     count  null count  ...  unique     top   freq\n",
              "CODE       object  388573.0           0  ...  1520.0  2317.0  499.0\n",
              "REAL_YY     int64  388573.0           0  ...     NaN     NaN    NaN\n",
              "COM_RATE  float64  388573.0           0  ...     NaN     NaN    NaN\n",
              "NAFYC     float64  388573.0           0  ...     NaN     NaN    NaN\n",
              "\n",
              "[4 rows x 13 columns]"
            ]
          },
          "metadata": {
            "tags": []
          },
          "execution_count": 9
        }
      ]
    },
    {
      "cell_type": "code",
      "metadata": {
        "id": "M6DUcVuXB4C1",
        "colab_type": "code",
        "colab": {
          "base_uri": "https://localhost:8080/",
          "height": 411
        },
        "outputId": "b6fe4e51-4cc9-495b-9a25-181a74e2f3e1"
      },
      "source": [
        "dataset[dataset['CODE'] == 1386]"
      ],
      "execution_count": 10,
      "outputs": [
        {
          "output_type": "execute_result",
          "data": {
            "text/html": [
              "<div>\n",
              "<style scoped>\n",
              "    .dataframe tbody tr th:only-of-type {\n",
              "        vertical-align: middle;\n",
              "    }\n",
              "\n",
              "    .dataframe tbody tr th {\n",
              "        vertical-align: top;\n",
              "    }\n",
              "\n",
              "    .dataframe thead th {\n",
              "        text-align: right;\n",
              "    }\n",
              "</style>\n",
              "<table border=\"1\" class=\"dataframe\">\n",
              "  <thead>\n",
              "    <tr style=\"text-align: right;\">\n",
              "      <th></th>\n",
              "      <th>CODE</th>\n",
              "      <th>REAL_YY</th>\n",
              "      <th>COM_RATE</th>\n",
              "      <th>NAFYC</th>\n",
              "    </tr>\n",
              "  </thead>\n",
              "  <tbody>\n",
              "    <tr>\n",
              "      <th>98867</th>\n",
              "      <td>1386</td>\n",
              "      <td>1047800</td>\n",
              "      <td>0.8</td>\n",
              "      <td>838240.0</td>\n",
              "    </tr>\n",
              "    <tr>\n",
              "      <th>98868</th>\n",
              "      <td>1386</td>\n",
              "      <td>18079200</td>\n",
              "      <td>0.8</td>\n",
              "      <td>14463360.0</td>\n",
              "    </tr>\n",
              "    <tr>\n",
              "      <th>98869</th>\n",
              "      <td>1386</td>\n",
              "      <td>13286000</td>\n",
              "      <td>0.8</td>\n",
              "      <td>10628800.0</td>\n",
              "    </tr>\n",
              "    <tr>\n",
              "      <th>98870</th>\n",
              "      <td>1386</td>\n",
              "      <td>12435500</td>\n",
              "      <td>0.8</td>\n",
              "      <td>9948400.0</td>\n",
              "    </tr>\n",
              "    <tr>\n",
              "      <th>98871</th>\n",
              "      <td>1386</td>\n",
              "      <td>8564400</td>\n",
              "      <td>0.8</td>\n",
              "      <td>6851520.0</td>\n",
              "    </tr>\n",
              "    <tr>\n",
              "      <th>...</th>\n",
              "      <td>...</td>\n",
              "      <td>...</td>\n",
              "      <td>...</td>\n",
              "      <td>...</td>\n",
              "    </tr>\n",
              "    <tr>\n",
              "      <th>99283</th>\n",
              "      <td>1386</td>\n",
              "      <td>9636000</td>\n",
              "      <td>0.8</td>\n",
              "      <td>7708800.0</td>\n",
              "    </tr>\n",
              "    <tr>\n",
              "      <th>99284</th>\n",
              "      <td>1386</td>\n",
              "      <td>43724400</td>\n",
              "      <td>0.8</td>\n",
              "      <td>34979520.0</td>\n",
              "    </tr>\n",
              "    <tr>\n",
              "      <th>99285</th>\n",
              "      <td>1386</td>\n",
              "      <td>21708000</td>\n",
              "      <td>0.8</td>\n",
              "      <td>17366400.0</td>\n",
              "    </tr>\n",
              "    <tr>\n",
              "      <th>99286</th>\n",
              "      <td>1386</td>\n",
              "      <td>8817900</td>\n",
              "      <td>0.8</td>\n",
              "      <td>7054320.0</td>\n",
              "    </tr>\n",
              "    <tr>\n",
              "      <th>99287</th>\n",
              "      <td>1386</td>\n",
              "      <td>55165500</td>\n",
              "      <td>0.8</td>\n",
              "      <td>44132400.0</td>\n",
              "    </tr>\n",
              "  </tbody>\n",
              "</table>\n",
              "<p>421 rows × 4 columns</p>\n",
              "</div>"
            ],
            "text/plain": [
              "       CODE   REAL_YY  COM_RATE       NAFYC\n",
              "98867  1386   1047800       0.8    838240.0\n",
              "98868  1386  18079200       0.8  14463360.0\n",
              "98869  1386  13286000       0.8  10628800.0\n",
              "98870  1386  12435500       0.8   9948400.0\n",
              "98871  1386   8564400       0.8   6851520.0\n",
              "...     ...       ...       ...         ...\n",
              "99283  1386   9636000       0.8   7708800.0\n",
              "99284  1386  43724400       0.8  34979520.0\n",
              "99285  1386  21708000       0.8  17366400.0\n",
              "99286  1386   8817900       0.8   7054320.0\n",
              "99287  1386  55165500       0.8  44132400.0\n",
              "\n",
              "[421 rows x 4 columns]"
            ]
          },
          "metadata": {
            "tags": []
          },
          "execution_count": 10
        }
      ]
    },
    {
      "cell_type": "code",
      "metadata": {
        "id": "qCNjL4XrfQ9Q",
        "colab_type": "code",
        "colab": {
          "base_uri": "https://localhost:8080/",
          "height": 280
        },
        "outputId": "cc38f7a0-ff08-43df-f2ee-049e4d358ec5"
      },
      "source": [
        "plt.plot(dataset.groupby('CODE')['CODE'].count())"
      ],
      "execution_count": 11,
      "outputs": [
        {
          "output_type": "execute_result",
          "data": {
            "text/plain": [
              "[<matplotlib.lines.Line2D at 0x7f635d17b668>]"
            ]
          },
          "metadata": {
            "tags": []
          },
          "execution_count": 11
        },
        {
          "output_type": "display_data",
          "data": {
            "image/png": "[encoded data removed]",
            "text/plain": [
              "<Figure size 432x288 with 1 Axes>"
            ]
          },
          "metadata": {
            "tags": [],
            "needs_background": "light"
          }
        }
      ]
    },
    {
      "cell_type": "markdown",
      "metadata": {
        "id": "lPXKsrgupSFD",
        "colab_type": "text"
      },
      "source": [
        "## 성립데이터 전처리"
      ]
    },
    {
      "cell_type": "code",
      "metadata": {
        "id": "PZDr0elE7VUD",
        "colab_type": "code",
        "colab": {
          "base_uri": "https://localhost:8080/",
          "height": 411
        },
        "outputId": "4a9fae37-d0e5-431d-8447-84595b82ff91"
      },
      "source": [
        "# zscore norm\n",
        "\n",
        "ds = dataset[['REAL_YY','COM_RATE']]\n",
        "\n",
        "_mean = ds.mean(axis=0)\n",
        "_std = ds.std(axis=0)\n",
        "\n",
        "ds = ds - _mean\n",
        "ds /= _std\n",
        "\n",
        "dataset.update(ds)\n",
        "dataset"
      ],
      "execution_count": 12,
      "outputs": [
        {
          "output_type": "execute_result",
          "data": {
            "text/html": [
              "<div>\n",
              "<style scoped>\n",
              "    .dataframe tbody tr th:only-of-type {\n",
              "        vertical-align: middle;\n",
              "    }\n",
              "\n",
              "    .dataframe tbody tr th {\n",
              "        vertical-align: top;\n",
              "    }\n",
              "\n",
              "    .dataframe thead th {\n",
              "        text-align: right;\n",
              "    }\n",
              "</style>\n",
              "<table border=\"1\" class=\"dataframe\">\n",
              "  <thead>\n",
              "    <tr style=\"text-align: right;\">\n",
              "      <th></th>\n",
              "      <th>CODE</th>\n",
              "      <th>REAL_YY</th>\n",
              "      <th>COM_RATE</th>\n",
              "      <th>NAFYC</th>\n",
              "    </tr>\n",
              "  </thead>\n",
              "  <tbody>\n",
              "    <tr>\n",
              "      <th>0</th>\n",
              "      <td>1000</td>\n",
              "      <td>-0.830033</td>\n",
              "      <td>-0.098048</td>\n",
              "      <td>3233904.0</td>\n",
              "    </tr>\n",
              "    <tr>\n",
              "      <th>1</th>\n",
              "      <td>1000</td>\n",
              "      <td>1.439773</td>\n",
              "      <td>-0.098048</td>\n",
              "      <td>27221184.0</td>\n",
              "    </tr>\n",
              "    <tr>\n",
              "      <th>2</th>\n",
              "      <td>1000</td>\n",
              "      <td>-0.869508</td>\n",
              "      <td>-0.098048</td>\n",
              "      <td>2816736.0</td>\n",
              "    </tr>\n",
              "    <tr>\n",
              "      <th>3</th>\n",
              "      <td>1000</td>\n",
              "      <td>2.307390</td>\n",
              "      <td>-0.098048</td>\n",
              "      <td>36390144.0</td>\n",
              "    </tr>\n",
              "    <tr>\n",
              "      <th>4</th>\n",
              "      <td>1000</td>\n",
              "      <td>-0.621455</td>\n",
              "      <td>-0.098048</td>\n",
              "      <td>5438160.0</td>\n",
              "    </tr>\n",
              "    <tr>\n",
              "      <th>...</th>\n",
              "      <td>...</td>\n",
              "      <td>...</td>\n",
              "      <td>...</td>\n",
              "      <td>...</td>\n",
              "    </tr>\n",
              "    <tr>\n",
              "      <th>388568</th>\n",
              "      <td>2519</td>\n",
              "      <td>-1.061554</td>\n",
              "      <td>-0.934544</td>\n",
              "      <td>393600.0</td>\n",
              "    </tr>\n",
              "    <tr>\n",
              "      <th>388569</th>\n",
              "      <td>2519</td>\n",
              "      <td>0.712078</td>\n",
              "      <td>-0.934544</td>\n",
              "      <td>9765456.0</td>\n",
              "    </tr>\n",
              "    <tr>\n",
              "      <th>388570</th>\n",
              "      <td>2519</td>\n",
              "      <td>0.350656</td>\n",
              "      <td>-0.934544</td>\n",
              "      <td>7855704.0</td>\n",
              "    </tr>\n",
              "    <tr>\n",
              "      <th>388571</th>\n",
              "      <td>2519</td>\n",
              "      <td>-0.970881</td>\n",
              "      <td>-0.934544</td>\n",
              "      <td>872712.0</td>\n",
              "    </tr>\n",
              "    <tr>\n",
              "      <th>388572</th>\n",
              "      <td>2519</td>\n",
              "      <td>-0.757638</td>\n",
              "      <td>-0.934544</td>\n",
              "      <td>1999488.0</td>\n",
              "    </tr>\n",
              "  </tbody>\n",
              "</table>\n",
              "<p>388573 rows × 4 columns</p>\n",
              "</div>"
            ],
            "text/plain": [
              "        CODE   REAL_YY  COM_RATE       NAFYC\n",
              "0       1000 -0.830033 -0.098048   3233904.0\n",
              "1       1000  1.439773 -0.098048  27221184.0\n",
              "2       1000 -0.869508 -0.098048   2816736.0\n",
              "3       1000  2.307390 -0.098048  36390144.0\n",
              "4       1000 -0.621455 -0.098048   5438160.0\n",
              "...      ...       ...       ...         ...\n",
              "388568  2519 -1.061554 -0.934544    393600.0\n",
              "388569  2519  0.712078 -0.934544   9765456.0\n",
              "388570  2519  0.350656 -0.934544   7855704.0\n",
              "388571  2519 -0.970881 -0.934544    872712.0\n",
              "388572  2519 -0.757638 -0.934544   1999488.0\n",
              "\n",
              "[388573 rows x 4 columns]"
            ]
          },
          "metadata": {
            "tags": []
          },
          "execution_count": 12
        }
      ]
    },
    {
      "cell_type": "code",
      "metadata": {
        "id": "Y83lz80w8AyG",
        "colab_type": "code",
        "colab": {
          "base_uri": "https://localhost:8080/",
          "height": 411
        },
        "outputId": "0230cf53-3afd-40ab-dcac-e1bf507a66c3"
      },
      "source": [
        "code_mapping = EmbeddingMapping(dataset['CODE'])\n",
        "dataset = dataset.assign(code_mapping=dataset['CODE'].apply(code_mapping.get_mapping))\n",
        "dataset"
      ],
      "execution_count": 13,
      "outputs": [
        {
          "output_type": "execute_result",
          "data": {
            "text/html": [
              "<div>\n",
              "<style scoped>\n",
              "    .dataframe tbody tr th:only-of-type {\n",
              "        vertical-align: middle;\n",
              "    }\n",
              "\n",
              "    .dataframe tbody tr th {\n",
              "        vertical-align: top;\n",
              "    }\n",
              "\n",
              "    .dataframe thead th {\n",
              "        text-align: right;\n",
              "    }\n",
              "</style>\n",
              "<table border=\"1\" class=\"dataframe\">\n",
              "  <thead>\n",
              "    <tr style=\"text-align: right;\">\n",
              "      <th></th>\n",
              "      <th>CODE</th>\n",
              "      <th>REAL_YY</th>\n",
              "      <th>COM_RATE</th>\n",
              "      <th>NAFYC</th>\n",
              "      <th>code_mapping</th>\n",
              "    </tr>\n",
              "  </thead>\n",
              "  <tbody>\n",
              "    <tr>\n",
              "      <th>0</th>\n",
              "      <td>1000</td>\n",
              "      <td>-0.830033</td>\n",
              "      <td>-0.098048</td>\n",
              "      <td>3233904.0</td>\n",
              "      <td>1</td>\n",
              "    </tr>\n",
              "    <tr>\n",
              "      <th>1</th>\n",
              "      <td>1000</td>\n",
              "      <td>1.439773</td>\n",
              "      <td>-0.098048</td>\n",
              "      <td>27221184.0</td>\n",
              "      <td>1</td>\n",
              "    </tr>\n",
              "    <tr>\n",
              "      <th>2</th>\n",
              "      <td>1000</td>\n",
              "      <td>-0.869508</td>\n",
              "      <td>-0.098048</td>\n",
              "      <td>2816736.0</td>\n",
              "      <td>1</td>\n",
              "    </tr>\n",
              "    <tr>\n",
              "      <th>3</th>\n",
              "      <td>1000</td>\n",
              "      <td>2.307390</td>\n",
              "      <td>-0.098048</td>\n",
              "      <td>36390144.0</td>\n",
              "      <td>1</td>\n",
              "    </tr>\n",
              "    <tr>\n",
              "      <th>4</th>\n",
              "      <td>1000</td>\n",
              "      <td>-0.621455</td>\n",
              "      <td>-0.098048</td>\n",
              "      <td>5438160.0</td>\n",
              "      <td>1</td>\n",
              "    </tr>\n",
              "    <tr>\n",
              "      <th>...</th>\n",
              "      <td>...</td>\n",
              "      <td>...</td>\n",
              "      <td>...</td>\n",
              "      <td>...</td>\n",
              "      <td>...</td>\n",
              "    </tr>\n",
              "    <tr>\n",
              "      <th>388568</th>\n",
              "      <td>2519</td>\n",
              "      <td>-1.061554</td>\n",
              "      <td>-0.934544</td>\n",
              "      <td>393600.0</td>\n",
              "      <td>1520</td>\n",
              "    </tr>\n",
              "    <tr>\n",
              "      <th>388569</th>\n",
              "      <td>2519</td>\n",
              "      <td>0.712078</td>\n",
              "      <td>-0.934544</td>\n",
              "      <td>9765456.0</td>\n",
              "      <td>1520</td>\n",
              "    </tr>\n",
              "    <tr>\n",
              "      <th>388570</th>\n",
              "      <td>2519</td>\n",
              "      <td>0.350656</td>\n",
              "      <td>-0.934544</td>\n",
              "      <td>7855704.0</td>\n",
              "      <td>1520</td>\n",
              "    </tr>\n",
              "    <tr>\n",
              "      <th>388571</th>\n",
              "      <td>2519</td>\n",
              "      <td>-0.970881</td>\n",
              "      <td>-0.934544</td>\n",
              "      <td>872712.0</td>\n",
              "      <td>1520</td>\n",
              "    </tr>\n",
              "    <tr>\n",
              "      <th>388572</th>\n",
              "      <td>2519</td>\n",
              "      <td>-0.757638</td>\n",
              "      <td>-0.934544</td>\n",
              "      <td>1999488.0</td>\n",
              "      <td>1520</td>\n",
              "    </tr>\n",
              "  </tbody>\n",
              "</table>\n",
              "<p>388573 rows × 5 columns</p>\n",
              "</div>"
            ],
            "text/plain": [
              "        CODE   REAL_YY  COM_RATE       NAFYC  code_mapping\n",
              "0       1000 -0.830033 -0.098048   3233904.0             1\n",
              "1       1000  1.439773 -0.098048  27221184.0             1\n",
              "2       1000 -0.869508 -0.098048   2816736.0             1\n",
              "3       1000  2.307390 -0.098048  36390144.0             1\n",
              "4       1000 -0.621455 -0.098048   5438160.0             1\n",
              "...      ...       ...       ...         ...           ...\n",
              "388568  2519 -1.061554 -0.934544    393600.0          1520\n",
              "388569  2519  0.712078 -0.934544   9765456.0          1520\n",
              "388570  2519  0.350656 -0.934544   7855704.0          1520\n",
              "388571  2519 -0.970881 -0.934544    872712.0          1520\n",
              "388572  2519 -0.757638 -0.934544   1999488.0          1520\n",
              "\n",
              "[388573 rows x 5 columns]"
            ]
          },
          "metadata": {
            "tags": []
          },
          "execution_count": 13
        }
      ]
    },
    {
      "cell_type": "code",
      "metadata": {
        "id": "LE8WQQx78R07",
        "colab_type": "code",
        "colab": {}
      },
      "source": [
        "# trainset과 validationset 나누고... 기타 정리\n",
        "\n",
        "X_train_org, X_val_org, Y_train, Y_val = train_test_split(dataset[['REAL_YY','code_mapping']],\n",
        "    dataset['NAFYC'], test_size=0.1, random_state=0)\n",
        "\n",
        "# 학습 대상 변수만 선택\n",
        "X_train_continuous = X_train_org[['REAL_YY']]\n",
        "X_train_categorical = X_train_org[['code_mapping']]\n",
        "\n",
        "X_val_continuous  = X_val_org[['REAL_YY']]\n",
        "X_val_categorical = X_val_org[['code_mapping']]\n"
      ],
      "execution_count": 13,
      "outputs": []
    },
    {
      "cell_type": "markdown",
      "metadata": {
        "id": "xOvmtq3gpaoM",
        "colab_type": "text"
      },
      "source": [
        "## 성립 데이터 학습 네트워크 구성 및 학습"
      ]
    },
    {
      "cell_type": "code",
      "metadata": {
        "id": "PRhyTqAD9I-V",
        "colab_type": "code",
        "colab": {
          "base_uri": "https://localhost:8080/",
          "height": 677
        },
        "outputId": "2586c7d7-7194-4c23-c4ae-7ff064ef7b9d"
      },
      "source": [
        "# Define the embedding input\n",
        "code_input = Input(shape=(1,), dtype='int32') \n",
        "output_dim=32*2   #X_train_categorical['code_mapping'].max()*1\n",
        "code_embedings = Embedding(output_dim=output_dim, input_dim=X_train_categorical['code_mapping'].max()+1)(code_input)\n",
        "code_embedings = keras.layers.Reshape((output_dim,))(code_embedings)\n",
        "\n",
        "# Define the continuous variables input (just like before)\n",
        "continuous_input = Input(shape=(X_train_continuous.shape[1], ))\n",
        "\n",
        "# Concatenate continuous and embeddings inputs\n",
        "all_input = keras.layers.concatenate([continuous_input, code_embedings])\n",
        "print(all_input)\n",
        "\n",
        "# Define the model\n",
        "dense1 = Dense(all_input.shape[1]*3, activation='relu')(all_input)\n",
        "dense2 = Dense(5, activation='relu')(dense1)\n",
        "predictions = Dense(1)(dense2)\n",
        "\n",
        "# Note using the input object 'area_input' not 'area_embeddings'\n",
        "model = Model(inputs=[continuous_input, code_input], outputs=predictions)\n",
        "model.compile(loss='mse', optimizer=keras.optimizers.Adam(lr=.8, beta_1=0.9, beta_2=0.999, decay=1e-03, amsgrad=True),metrics=[soft_5perc_acc,soft_10perc_acc,soft_500_acc,soft_1000_acc,soft_10000_acc,r2])\n",
        "model.summary()\n",
        "\n",
        "epochs = 100\n",
        "\n",
        "# Note continuous and categorical columns are inserted in the same order as defined in all_inputs\n",
        "history = model.fit([X_train_continuous, X_train_categorical['code_mapping']], Y_train, \n",
        "          epochs=epochs, batch_size=10000, \n",
        "          callbacks=[periodic_logger_10], verbose=0,\n",
        "          validation_data=([X_val_continuous, X_val_categorical['code_mapping']], Y_val))"
      ],
      "execution_count": 14,
      "outputs": [
        {
          "output_type": "stream",
          "text": [
            "Tensor(\"concatenate/concat:0\", shape=(None, 65), dtype=float32)\n",
            "Model: \"functional_1\"\n",
            "__________________________________________________________________________________________________\n",
            "Layer (type)                    Output Shape         Param #     Connected to                     \n",
            "==================================================================================================\n",
            "input_1 (InputLayer)            [(None, 1)]          0                                            \n",
            "__________________________________________________________________________________________________\n",
            "embedding (Embedding)           (None, 1, 64)        97344       input_1[0][0]                    \n",
            "__________________________________________________________________________________________________\n",
            "input_2 (InputLayer)            [(None, 1)]          0                                            \n",
            "__________________________________________________________________________________________________\n",
            "reshape (Reshape)               (None, 64)           0           embedding[0][0]                  \n",
            "__________________________________________________________________________________________________\n",
            "concatenate (Concatenate)       (None, 65)           0           input_2[0][0]                    \n",
            "                                                                 reshape[0][0]                    \n",
            "__________________________________________________________________________________________________\n",
            "dense (Dense)                   (None, 195)          12870       concatenate[0][0]                \n",
            "__________________________________________________________________________________________________\n",
            "dense_1 (Dense)                 (None, 5)            980         dense[0][0]                      \n",
            "__________________________________________________________________________________________________\n",
            "dense_2 (Dense)                 (None, 1)            6           dense_1[0][0]                    \n",
            "==================================================================================================\n",
            "Total params: 111,200\n",
            "Trainable params: 111,200\n",
            "Non-trainable params: 0\n",
            "__________________________________________________________________________________________________\n",
            "Epoch: 10 - {'loss': 434465570816.0, 'soft_5perc_acc': 0.5161134004592896, 'soft_10perc_acc': 0.7031511068344116, 'soft_500_acc': 0.0006665524560958147, 'soft_1000_acc': 0.0013212570920586586, 'soft_10000_acc': 0.013387870043516159, 'r2': 0.9979956746101379, 'val_loss': 399529181184.0, 'val_soft_5perc_acc': 0.522187352180481, 'val_soft_10perc_acc': 0.6890115737915039, 'val_soft_500_acc': 0.0010790076339617372, 'val_soft_1000_acc': 0.0014951230259612203, 'val_soft_10000_acc': 0.014874661341309547, 'val_r2': 0.9981496334075928}\n",
            "Epoch: 20 - {'loss': 152107843584.0, 'soft_5perc_acc': 0.6625384092330933, 'soft_10perc_acc': 0.7780714631080627, 'soft_500_acc': 0.0009980648756027222, 'soft_1000_acc': 0.0020673908293247223, 'soft_10000_acc': 0.021930446848273277, 'r2': 0.999299943447113, 'val_loss': 145820991488.0, 'val_soft_5perc_acc': 0.7161011695861816, 'val_soft_10perc_acc': 0.811468243598938, 'val_soft_500_acc': 0.0008193384855985641, 'val_soft_1000_acc': 0.002248346107080579, 'val_soft_10000_acc': 0.02171969972550869, 'val_r2': 0.9993243217468262}\n",
            "Epoch: 30 - {'loss': 70620594176.0, 'soft_5perc_acc': 0.7277130484580994, 'soft_10perc_acc': 0.8132501244544983, 'soft_500_acc': 0.0014614249812439084, 'soft_1000_acc': 0.002934194402769208, 'soft_10000_acc': 0.02980809286236763, 'r2': 0.9996742010116577, 'val_loss': 83015352320.0, 'val_soft_5perc_acc': 0.6747916340827942, 'val_soft_10perc_acc': 0.7870994806289673, 'val_soft_500_acc': 0.0019733463414013386, 'val_soft_1000_acc': 0.003684584517031908, 'val_soft_10000_acc': 0.03286448493599892, 'val_r2': 0.9996157884597778}\n",
            "Epoch: 40 - {'loss': 46024478720.0, 'soft_5perc_acc': 0.7530285120010376, 'soft_10perc_acc': 0.8292165994644165, 'soft_500_acc': 0.0018666363321244717, 'soft_1000_acc': 0.0035107505973428488, 'soft_10000_acc': 0.035352692008018494, 'r2': 0.9997878074645996, 'val_loss': 50367827968.0, 'val_soft_5perc_acc': 0.7311434745788574, 'val_soft_10perc_acc': 0.8202486038208008, 'val_soft_500_acc': 0.001841900055296719, 'val_soft_1000_acc': 0.003583800047636032, 'val_soft_10000_acc': 0.03764671832323074, 'val_r2': 0.9997669458389282}\n",
            "Epoch: 50 - {'loss': 34689232896.0, 'soft_5perc_acc': 0.7677968740463257, 'soft_10perc_acc': 0.8396249413490295, 'soft_500_acc': 0.0019931886345148087, 'soft_1000_acc': 0.004063436761498451, 'soft_10000_acc': 0.03980318829417229, 'r2': 0.9998400807380676, 'val_loss': 37656711168.0, 'val_soft_5perc_acc': 0.774672269821167, 'val_soft_10perc_acc': 0.8451077342033386, 'val_soft_500_acc': 0.0020370229613035917, 'val_soft_1000_acc': 0.004148261621594429, 'val_soft_10000_acc': 0.04014654457569122, 'val_r2': 0.9998257160186768}\n",
            "Epoch: 60 - {'loss': 28202956800.0, 'soft_5perc_acc': 0.7796677350997925, 'soft_10perc_acc': 0.8477041125297546, 'soft_500_acc': 0.002389409812167287, 'soft_1000_acc': 0.004729066509753466, 'soft_10000_acc': 0.04490233212709427, 'r2': 0.9998700618743896, 'val_loss': 30713704448.0, 'val_soft_5perc_acc': 0.7824116945266724, 'val_soft_10perc_acc': 0.8513367176055908, 'val_soft_500_acc': 0.0021112384274601936, 'val_soft_1000_acc': 0.0043571460992097855, 'val_soft_10000_acc': 0.04673827439546585, 'val_r2': 0.999858021736145}\n",
            "Epoch: 70 - {'loss': 24322916352.0, 'soft_5perc_acc': 0.7865597009658813, 'soft_10perc_acc': 0.8538572788238525, 'soft_500_acc': 0.0024789872113615274, 'soft_1000_acc': 0.004835954401642084, 'soft_10000_acc': 0.04815216362476349, 'r2': 0.9998878240585327, 'val_loss': 26349502464.0, 'val_soft_5perc_acc': 0.7857890725135803, 'val_soft_10perc_acc': 0.853201150894165, 'val_soft_500_acc': 0.002224130555987358, 'val_soft_1000_acc': 0.004529707599431276, 'val_soft_10000_acc': 0.049389928579330444, 'val_r2': 0.9998779892921448}\n",
            "Epoch: 80 - {'loss': 21158004736.0, 'soft_5perc_acc': 0.7944027781486511, 'soft_10perc_acc': 0.8595400452613831, 'soft_500_acc': 0.0025024309288710356, 'soft_1000_acc': 0.005064693745225668, 'soft_10000_acc': 0.050876371562480927, 'r2': 0.9999024271965027, 'val_loss': 23361316864.0, 'val_soft_5perc_acc': 0.7998048067092896, 'val_soft_10perc_acc': 0.8657395839691162, 'val_soft_500_acc': 0.0028588001150637865, 'val_soft_1000_acc': 0.005414376966655254, 'val_soft_10000_acc': 0.0517084002494812, 'val_r2': 0.999891996383667}\n",
            "Epoch: 90 - {'loss': 18791055360.0, 'soft_5perc_acc': 0.8006263971328735, 'soft_10perc_acc': 0.8640524744987488, 'soft_500_acc': 0.0028620953671634197, 'soft_1000_acc': 0.005478476174175739, 'soft_10000_acc': 0.053604856133461, 'r2': 0.9999133348464966, 'val_loss': 21052430336.0, 'val_soft_5perc_acc': 0.8059223890304565, 'val_soft_10perc_acc': 0.8668363094329834, 'val_soft_500_acc': 0.002267684554681182, 'val_soft_1000_acc': 0.005254707299172878, 'val_soft_10000_acc': 0.051120590418577194, 'val_r2': 0.999902606010437}\n",
            "Epoch: 100 - {'loss': 17244833792.0, 'soft_5perc_acc': 0.8056113719940186, 'soft_10perc_acc': 0.8681990504264832, 'soft_500_acc': 0.0028394057881087065, 'soft_1000_acc': 0.0055642747320234776, 'soft_10000_acc': 0.05532264709472656, 'r2': 0.9999204277992249, 'val_loss': 19191959552.0, 'val_soft_5perc_acc': 0.8094320297241211, 'val_soft_10perc_acc': 0.8715224266052246, 'val_soft_500_acc': 0.002387023065239191, 'val_soft_1000_acc': 0.005946607328951359, 'val_soft_10000_acc': 0.05392608419060707, 'val_r2': 0.9999113082885742}\n"
          ],
          "name": "stdout"
        }
      ]
    },
    {
      "cell_type": "markdown",
      "metadata": {
        "id": "JOX0cmylqGQa",
        "colab_type": "text"
      },
      "source": [
        "## Non-linearity 대응을 위한 polynomial Regression 적용\n",
        "https://medium.com/analytics-vidhya/polynomial-regression-with-keras-ef1797b39b88"
      ]
    },
    {
      "cell_type": "code",
      "metadata": {
        "id": "rO2Y1idqqcL1",
        "colab_type": "code",
        "colab": {
          "base_uri": "https://localhost:8080/",
          "height": 677
        },
        "outputId": "2e111f11-00e8-41c6-917b-cf42a2fd0bce"
      },
      "source": [
        "from sklearn.preprocessing import PolynomialFeatures\n",
        "\n",
        "# Define the embedding input\n",
        "code_input = Input(shape=(1,), dtype='int32') \n",
        "output_dim=32*2   #X_train_categorical['code_mapping'].max()*1\n",
        "code_embedings = Embedding(output_dim=output_dim, input_dim=X_train_categorical['code_mapping'].max()+1)(code_input)\n",
        "code_embedings = keras.layers.Reshape((output_dim,))(code_embedings)\n",
        "\n",
        "n = 3\n",
        "trX_expanded = np.expand_dims(X_train_continuous, axis=1)\n",
        "poly = PolynomialFeatures(n)\n",
        "X_train_continuous = poly.fit_transform(X_train_continuous)\n",
        "X_val_continuous = poly.fit_transform(X_val_continuous)\n",
        "\n",
        "# Define the continuous variables input (just like before)\n",
        "continuous_input = Input(shape=(X_train_continuous.shape[1], ))\n",
        "\n",
        "# Concatenate continuous and embeddings inputs\n",
        "all_input = keras.layers.concatenate([continuous_input, code_embedings])\n",
        "print(all_input)\n",
        "\n",
        "# Define the model\n",
        "dense1 = Dense(all_input.shape[1]*3, activation='relu')(all_input)\n",
        "dense2 = Dense(5, activation='relu')(dense1)\n",
        "predictions = Dense(1)(dense2)\n",
        "\n",
        "# Note using the input object 'area_input' not 'area_embeddings'\n",
        "model = Model(inputs=[continuous_input, code_input], outputs=predictions)\n",
        "model.compile(loss='mse', optimizer=keras.optimizers.Adam(lr=.8, beta_1=0.9, beta_2=0.999, decay=1e-03, amsgrad=True),metrics=[soft_5perc_acc,soft_10perc_acc,soft_500_acc,soft_1000_acc,soft_10000_acc,r2])\n",
        "model.summary()\n",
        "\n",
        "epochs = 100\n",
        "\n",
        "# Note continuous and categorical columns are inserted in the same order as defined in all_inputs\n",
        "history = model.fit([X_train_continuous, X_train_categorical['code_mapping']], Y_train, \n",
        "          epochs=epochs, batch_size=10000, \n",
        "          callbacks=[periodic_logger_10], verbose=0,\n",
        "          validation_data=([X_val_continuous, X_val_categorical['code_mapping']], Y_val))"
      ],
      "execution_count": 15,
      "outputs": [
        {
          "output_type": "stream",
          "text": [
            "Tensor(\"concatenate_1/concat:0\", shape=(None, 68), dtype=float32)\n",
            "Model: \"functional_3\"\n",
            "__________________________________________________________________________________________________\n",
            "Layer (type)                    Output Shape         Param #     Connected to                     \n",
            "==================================================================================================\n",
            "input_3 (InputLayer)            [(None, 1)]          0                                            \n",
            "__________________________________________________________________________________________________\n",
            "embedding_1 (Embedding)         (None, 1, 64)        97344       input_3[0][0]                    \n",
            "__________________________________________________________________________________________________\n",
            "input_4 (InputLayer)            [(None, 4)]          0                                            \n",
            "__________________________________________________________________________________________________\n",
            "reshape_1 (Reshape)             (None, 64)           0           embedding_1[0][0]                \n",
            "__________________________________________________________________________________________________\n",
            "concatenate_1 (Concatenate)     (None, 68)           0           input_4[0][0]                    \n",
            "                                                                 reshape_1[0][0]                  \n",
            "__________________________________________________________________________________________________\n",
            "dense_3 (Dense)                 (None, 204)          14076       concatenate_1[0][0]              \n",
            "__________________________________________________________________________________________________\n",
            "dense_4 (Dense)                 (None, 5)            1025        dense_3[0][0]                    \n",
            "__________________________________________________________________________________________________\n",
            "dense_5 (Dense)                 (None, 1)            6           dense_4[0][0]                    \n",
            "==================================================================================================\n",
            "Total params: 112,451\n",
            "Trainable params: 112,451\n",
            "Non-trainable params: 0\n",
            "__________________________________________________________________________________________________\n",
            "Epoch: 10 - {'loss': 184535220224.0, 'soft_5perc_acc': 0.7079039812088013, 'soft_10perc_acc': 0.8143134117126465, 'soft_500_acc': 0.0018302479293197393, 'soft_1000_acc': 0.003680076450109482, 'soft_10000_acc': 0.037618570029735565, 'r2': 0.9991494417190552, 'val_loss': 171984896000.0, 'val_soft_5perc_acc': 0.7189785242080688, 'val_soft_10perc_acc': 0.823552668094635, 'val_soft_500_acc': 0.002079792320728302, 'val_soft_1000_acc': 0.0040563615038990974, 'val_soft_10000_acc': 0.03800481557846069, 'val_r2': 0.9992045760154724}\n",
            "Epoch: 20 - {'loss': 35257421824.0, 'soft_5perc_acc': 0.8131413459777832, 'soft_10perc_acc': 0.8800919055938721, 'soft_500_acc': 0.0037330209743231535, 'soft_1000_acc': 0.007514531258493662, 'soft_10000_acc': 0.07446932047605515, 'r2': 0.9998375177383423, 'val_loss': 45954121728.0, 'val_soft_5perc_acc': 0.8106666803359985, 'val_soft_10perc_acc': 0.8832092881202698, 'val_soft_500_acc': 0.003503138432279229, 'val_soft_1000_acc': 0.007099831011146307, 'val_soft_10000_acc': 0.07172974944114685, 'val_r2': 0.9997876286506653}\n",
            "Epoch: 30 - {'loss': 14441229312.0, 'soft_5perc_acc': 0.8589946627616882, 'soft_10perc_acc': 0.9072434306144714, 'soft_500_acc': 0.005378559697419405, 'soft_1000_acc': 0.010792161338031292, 'soft_10000_acc': 0.10936430841684341, 'r2': 0.9999334216117859, 'val_loss': 18140393472.0, 'val_soft_5perc_acc': 0.8422602415084839, 'val_soft_10perc_acc': 0.9002773761749268, 'val_soft_500_acc': 0.0047603691928088665, 'val_soft_1000_acc': 0.010346522554755211, 'val_soft_10000_acc': 0.10479667037725449, 'val_r2': 0.9999161958694458}\n",
            "Epoch: 40 - {'loss': 7844183552.0, 'soft_5perc_acc': 0.8834567666053772, 'soft_10perc_acc': 0.9208981394767761, 'soft_500_acc': 0.007777716498821974, 'soft_1000_acc': 0.015591902658343315, 'soft_10000_acc': 0.1539580225944519, 'r2': 0.9999639391899109, 'val_loss': 10054005760.0, 'val_soft_5perc_acc': 0.872940182685852, 'val_soft_10perc_acc': 0.9208511114120483, 'val_soft_500_acc': 0.007278053555637598, 'val_soft_1000_acc': 0.01451821532100439, 'val_soft_10000_acc': 0.1505577564239502, 'val_r2': 0.9999535083770752}\n",
            "Epoch: 50 - {'loss': 12440607744.0, 'soft_5perc_acc': 0.8974183201789856, 'soft_10perc_acc': 0.9284264445304871, 'soft_500_acc': 0.009711656719446182, 'soft_1000_acc': 0.019271977245807648, 'soft_10000_acc': 0.192287415266037, 'r2': 0.9999426603317261, 'val_loss': 7718959616.0, 'val_soft_5perc_acc': 0.8980339169502258, 'val_soft_10perc_acc': 0.92955082654953, 'val_soft_500_acc': 0.010301399044692516, 'val_soft_1000_acc': 0.020812470465898514, 'val_soft_10000_acc': 0.19886937737464905, 'val_r2': 0.99996417760849}\n",
            "Epoch: 60 - {'loss': 3467750656.0, 'soft_5perc_acc': 0.9076979756355286, 'soft_10perc_acc': 0.9347603917121887, 'soft_500_acc': 0.011783336289227009, 'soft_1000_acc': 0.02355356514453888, 'soft_10000_acc': 0.23425252735614777, 'r2': 0.9999839663505554, 'val_loss': 5255943680.0, 'val_soft_5perc_acc': 0.9063941836357117, 'val_soft_10perc_acc': 0.9339249134063721, 'val_soft_500_acc': 0.01311577670276165, 'val_soft_1000_acc': 0.025617875158786774, 'val_soft_10000_acc': 0.24142080545425415, 'val_r2': 0.9999758005142212}\n",
            "Epoch: 70 - {'loss': 2644817152.0, 'soft_5perc_acc': 0.9142007827758789, 'soft_10perc_acc': 0.9387210011482239, 'soft_500_acc': 0.013746103271842003, 'soft_1000_acc': 0.027459941804409027, 'soft_10000_acc': 0.2690920829772949, 'r2': 0.999987781047821, 'val_loss': 4327650816.0, 'val_soft_5perc_acc': 0.9151343107223511, 'val_soft_10perc_acc': 0.9387562870979309, 'val_soft_500_acc': 0.014520653523504734, 'val_soft_1000_acc': 0.028604984283447266, 'val_soft_10000_acc': 0.2708643674850464, 'val_r2': 0.999980092048645}\n",
            "Epoch: 80 - {'loss': 2071195008.0, 'soft_5perc_acc': 0.9186788201332092, 'soft_10perc_acc': 0.9415186047554016, 'soft_500_acc': 0.015294843353331089, 'soft_1000_acc': 0.030670354142785072, 'soft_10000_acc': 0.29375118017196655, 'r2': 0.9999905228614807, 'val_loss': 3849826560.0, 'val_soft_5perc_acc': 0.9198946356773376, 'val_soft_10perc_acc': 0.9409981966018677, 'val_soft_500_acc': 0.015004454180598259, 'val_soft_1000_acc': 0.02921944670379162, 'val_soft_10000_acc': 0.2878768742084503, 'val_r2': 0.9999823570251465}\n",
            "Epoch: 90 - {'loss': 1765787264.0, 'soft_5perc_acc': 0.9215527176856995, 'soft_10perc_acc': 0.9434755444526672, 'soft_500_acc': 0.016167782247066498, 'soft_1000_acc': 0.0321379080414772, 'soft_10000_acc': 0.3120677173137665, 'r2': 0.9999919533729553, 'val_loss': 3550919168.0, 'val_soft_5perc_acc': 0.9229727387428284, 'val_soft_10perc_acc': 0.9432561993598938, 'val_soft_500_acc': 0.015106892213225365, 'val_soft_1000_acc': 0.031050022691488266, 'val_soft_10000_acc': 0.3138432502746582, 'val_r2': 0.9999836683273315}\n",
            "Epoch: 100 - {'loss': 1512089216.0, 'soft_5perc_acc': 0.9245890974998474, 'soft_10perc_acc': 0.9452051520347595, 'soft_500_acc': 0.017239630222320557, 'soft_1000_acc': 0.03442387655377388, 'soft_10000_acc': 0.33422040939331055, 'r2': 0.9999930262565613, 'val_loss': 3228918528.0, 'val_soft_5perc_acc': 0.925898551940918, 'val_soft_10perc_acc': 0.9460464715957642, 'val_soft_500_acc': 0.01666734740138054, 'val_soft_1000_acc': 0.033092789351940155, 'val_soft_10000_acc': 0.3318532109260559, 'val_r2': 0.9999852180480957}\n"
          ],
          "name": "stdout"
        }
      ]
    },
    {
      "cell_type": "markdown",
      "metadata": {
        "id": "7hVcIRhnpho7",
        "colab_type": "text"
      },
      "source": [
        "## 학습 결과 확인"
      ]
    },
    {
      "cell_type": "code",
      "metadata": {
        "id": "_Ehqk5Lde2mc",
        "colab_type": "code",
        "colab": {
          "base_uri": "https://localhost:8080/",
          "height": 599
        },
        "outputId": "fa471159-6382-476b-c176-32fa948da2f4"
      },
      "source": [
        "# Plot the train/validation loss values\n",
        "plt.figure(figsize=(20,10))\n",
        "_loss = history.history['loss'][5:]\n",
        "_val_loss = history.history['val_loss'][5:]\n",
        "\n",
        "train_loss_plot, = plt.plot(range(1, len(_loss)+1), _loss, label='Train Loss')\n",
        "val_loss_plot, = plt.plot(range(1, len(_val_loss)+1), _val_loss, label='Validation Loss')\n",
        "\n",
        "_ = plt.legend(handles=[train_loss_plot, val_loss_plot])"
      ],
      "execution_count": 30,
      "outputs": [
        {
          "output_type": "display_data",
          "data": {
            "image/png": "[encoded data removed]",
            "text/plain": [
              "<Figure size 1440x720 with 1 Axes>"
            ]
          },
          "metadata": {
            "tags": [],
            "needs_background": "light"
          }
        }
      ]
    },
    {
      "cell_type": "code",
      "metadata": {
        "id": "TYNahs_Nj87h",
        "colab_type": "code",
        "colab": {
          "base_uri": "https://localhost:8080/",
          "height": 992
        },
        "outputId": "b0254ea9-45ce-49d8-edbb-5a59c69e969f"
      },
      "source": [
        "df = pd.DataFrame(Y_val,columns=['NAFYC'])\n",
        "\n",
        "print (\"This is the average value we are trying to predict: %d\" % df['NAFYC'].mean())\n",
        "\n",
        "# Add a column for the model's predicted values\n",
        "df['pred'] = model.predict([X_val_continuous, X_val_categorical['code_mapping']])\n",
        "\n",
        "# Calculate the difference between the predicted and the actual price\n",
        "df['diff'] = df['pred'] - df['NAFYC']\n",
        "\n",
        "# Calculate the absolute difference between the predicted and the actual price\n",
        "df['abs_diff'] = np.abs(df['diff'])\n",
        "\n",
        "# Calculate the percentage of the difference from the actual price\n",
        "df['%diff'] = 100 * (df['diff'] / df['NAFYC'])\n",
        "\n",
        "# Calculate the absolute percentage difference from the actual price\n",
        "df['abs_%diff'] = np.abs(df['%diff'])\n",
        "\n",
        "# Calculate the mean and std. of the diff field\n",
        "diff_mean, diff_std = df['diff'].mean(), df['diff'].std()\n",
        "print(\"The mean is very close to 0 ({mean}) with std. {std}.\".format(mean=round(diff_mean, 2), std=round(diff_std, 2)))\n",
        "\n",
        "# Here is the histogram of the differences\n",
        "plt.figure(figsize=(20,10))\n",
        "plt.hist(df['diff'], bins=100)\n",
        "plt.xlabel(\"\\\\\")\n",
        "plt.ylabel(\"# samples\")\n",
        "_ = plt.title(\"Difference between predicted and actual price\")\n",
        "\n",
        "plt.show()\n",
        "\n",
        "# Sort by the 'abs_diff' field and show the 5 largest mistakes in absolute values\n",
        "a = df.sort_values(\"abs_diff\", ascending=False)\n",
        "a.drop(columns=['NAFYC'],inplace=True)\n",
        "b = a.join(dataset)\n",
        "b.head(10)"
      ],
      "execution_count": 31,
      "outputs": [
        {
          "output_type": "stream",
          "text": [
            "This is the average value we are trying to predict: 12604089\n",
            "The mean is very close to 0 (3162.25) with std. 58018.97.\n"
          ],
          "name": "stdout"
        },
        {
          "output_type": "display_data",
          "data": {
            "image/png": "[encoded data removed]",
            "text/plain": [
              "<Figure size 1440x720 with 1 Axes>"
            ]
          },
          "metadata": {
            "tags": [],
            "needs_background": "light"
          }
        },
        {
          "output_type": "execute_result",
          "data": {
            "text/html": [
              "<div>\n",
              "<style scoped>\n",
              "    .dataframe tbody tr th:only-of-type {\n",
              "        vertical-align: middle;\n",
              "    }\n",
              "\n",
              "    .dataframe tbody tr th {\n",
              "        vertical-align: top;\n",
              "    }\n",
              "\n",
              "    .dataframe thead th {\n",
              "        text-align: right;\n",
              "    }\n",
              "</style>\n",
              "<table border=\"1\" class=\"dataframe\">\n",
              "  <thead>\n",
              "    <tr style=\"text-align: right;\">\n",
              "      <th></th>\n",
              "      <th>pred</th>\n",
              "      <th>diff</th>\n",
              "      <th>abs_diff</th>\n",
              "      <th>%diff</th>\n",
              "      <th>abs_%diff</th>\n",
              "      <th>CODE</th>\n",
              "      <th>REAL_YY</th>\n",
              "      <th>COM_RATE</th>\n",
              "      <th>NAFYC</th>\n",
              "      <th>code_mapping</th>\n",
              "    </tr>\n",
              "  </thead>\n",
              "  <tbody>\n",
              "    <tr>\n",
              "      <th>81592</th>\n",
              "      <td>40496612.00</td>\n",
              "      <td>4784117.00</td>\n",
              "      <td>4784117.00</td>\n",
              "      <td>13.396199</td>\n",
              "      <td>13.396199</td>\n",
              "      <td>1307</td>\n",
              "      <td>2.045077</td>\n",
              "      <td>0.028820</td>\n",
              "      <td>35712495.0</td>\n",
              "      <td>308</td>\n",
              "    </tr>\n",
              "    <tr>\n",
              "      <th>171327</th>\n",
              "      <td>44001340.00</td>\n",
              "      <td>2731540.00</td>\n",
              "      <td>2731540.00</td>\n",
              "      <td>6.618738</td>\n",
              "      <td>6.618738</td>\n",
              "      <td>1666</td>\n",
              "      <td>2.469352</td>\n",
              "      <td>0.063892</td>\n",
              "      <td>41269800.0</td>\n",
              "      <td>667</td>\n",
              "    </tr>\n",
              "    <tr>\n",
              "      <th>383166</th>\n",
              "      <td>2657801.75</td>\n",
              "      <td>2553081.75</td>\n",
              "      <td>2553081.75</td>\n",
              "      <td>2438.007783</td>\n",
              "      <td>2438.007783</td>\n",
              "      <td>2499</td>\n",
              "      <td>-1.130250</td>\n",
              "      <td>1.326476</td>\n",
              "      <td>104720.0</td>\n",
              "      <td>1500</td>\n",
              "    </tr>\n",
              "    <tr>\n",
              "      <th>44561</th>\n",
              "      <td>75698904.00</td>\n",
              "      <td>1737072.00</td>\n",
              "      <td>1737072.00</td>\n",
              "      <td>2.348606</td>\n",
              "      <td>2.348606</td>\n",
              "      <td>1166</td>\n",
              "      <td>3.284843</td>\n",
              "      <td>0.905614</td>\n",
              "      <td>73961832.0</td>\n",
              "      <td>167</td>\n",
              "    </tr>\n",
              "    <tr>\n",
              "      <th>383165</th>\n",
              "      <td>3956649.00</td>\n",
              "      <td>1575545.00</td>\n",
              "      <td>1575545.00</td>\n",
              "      <td>66.168676</td>\n",
              "      <td>66.168676</td>\n",
              "      <td>2499</td>\n",
              "      <td>-1.012749</td>\n",
              "      <td>1.326476</td>\n",
              "      <td>2381104.0</td>\n",
              "      <td>1500</td>\n",
              "    </tr>\n",
              "    <tr>\n",
              "      <th>338627</th>\n",
              "      <td>11480491.00</td>\n",
              "      <td>1484274.00</td>\n",
              "      <td>1484274.00</td>\n",
              "      <td>14.848357</td>\n",
              "      <td>14.848357</td>\n",
              "      <td>2320</td>\n",
              "      <td>2.992159</td>\n",
              "      <td>-1.374051</td>\n",
              "      <td>9996217.0</td>\n",
              "      <td>1321</td>\n",
              "    </tr>\n",
              "    <tr>\n",
              "      <th>81594</th>\n",
              "      <td>6817967.00</td>\n",
              "      <td>-1219888.00</td>\n",
              "      <td>1219888.00</td>\n",
              "      <td>-15.176785</td>\n",
              "      <td>15.176785</td>\n",
              "      <td>1307</td>\n",
              "      <td>-0.419764</td>\n",
              "      <td>0.028820</td>\n",
              "      <td>8037855.0</td>\n",
              "      <td>308</td>\n",
              "    </tr>\n",
              "    <tr>\n",
              "      <th>329701</th>\n",
              "      <td>86113016.00</td>\n",
              "      <td>1189880.00</td>\n",
              "      <td>1189880.00</td>\n",
              "      <td>1.401126</td>\n",
              "      <td>1.401126</td>\n",
              "      <td>2287</td>\n",
              "      <td>3.298224</td>\n",
              "      <td>1.291404</td>\n",
              "      <td>84923136.0</td>\n",
              "      <td>1288</td>\n",
              "    </tr>\n",
              "    <tr>\n",
              "      <th>44006</th>\n",
              "      <td>16511478.00</td>\n",
              "      <td>1176422.00</td>\n",
              "      <td>1176422.00</td>\n",
              "      <td>7.671456</td>\n",
              "      <td>7.671456</td>\n",
              "      <td>1164</td>\n",
              "      <td>3.217884</td>\n",
              "      <td>-1.198692</td>\n",
              "      <td>15335056.0</td>\n",
              "      <td>165</td>\n",
              "    </tr>\n",
              "    <tr>\n",
              "      <th>228468</th>\n",
              "      <td>90827096.00</td>\n",
              "      <td>-1173109.00</td>\n",
              "      <td>1173109.00</td>\n",
              "      <td>-1.275116</td>\n",
              "      <td>1.275116</td>\n",
              "      <td>1885</td>\n",
              "      <td>3.085494</td>\n",
              "      <td>1.712265</td>\n",
              "      <td>92000205.0</td>\n",
              "      <td>886</td>\n",
              "    </tr>\n",
              "  </tbody>\n",
              "</table>\n",
              "</div>"
            ],
            "text/plain": [
              "               pred        diff    abs_diff  ...  COM_RATE       NAFYC code_mapping\n",
              "81592   40496612.00  4784117.00  4784117.00  ...  0.028820  35712495.0          308\n",
              "171327  44001340.00  2731540.00  2731540.00  ...  0.063892  41269800.0          667\n",
              "383166   2657801.75  2553081.75  2553081.75  ...  1.326476    104720.0         1500\n",
              "44561   75698904.00  1737072.00  1737072.00  ...  0.905614  73961832.0          167\n",
              "383165   3956649.00  1575545.00  1575545.00  ...  1.326476   2381104.0         1500\n",
              "338627  11480491.00  1484274.00  1484274.00  ... -1.374051   9996217.0         1321\n",
              "81594    6817967.00 -1219888.00  1219888.00  ...  0.028820   8037855.0          308\n",
              "329701  86113016.00  1189880.00  1189880.00  ...  1.291404  84923136.0         1288\n",
              "44006   16511478.00  1176422.00  1176422.00  ... -1.198692  15335056.0          165\n",
              "228468  90827096.00 -1173109.00  1173109.00  ...  1.712265  92000205.0          886\n",
              "\n",
              "[10 rows x 10 columns]"
            ]
          },
          "metadata": {
            "tags": []
          },
          "execution_count": 31
        }
      ]
    },
    {
      "cell_type": "code",
      "metadata": {
        "id": "5wcNJ81Sk1VR",
        "colab_type": "code",
        "colab": {
          "base_uri": "https://localhost:8080/",
          "height": 411
        },
        "outputId": "971df662-8a97-498c-f535-4e8d42a0d9db"
      },
      "source": [
        "dataset[dataset['code_mapping']==3]"
      ],
      "execution_count": 32,
      "outputs": [
        {
          "output_type": "execute_result",
          "data": {
            "text/html": [
              "<div>\n",
              "<style scoped>\n",
              "    .dataframe tbody tr th:only-of-type {\n",
              "        vertical-align: middle;\n",
              "    }\n",
              "\n",
              "    .dataframe tbody tr th {\n",
              "        vertical-align: top;\n",
              "    }\n",
              "\n",
              "    .dataframe thead th {\n",
              "        text-align: right;\n",
              "    }\n",
              "</style>\n",
              "<table border=\"1\" class=\"dataframe\">\n",
              "  <thead>\n",
              "    <tr style=\"text-align: right;\">\n",
              "      <th></th>\n",
              "      <th>CODE</th>\n",
              "      <th>REAL_YY</th>\n",
              "      <th>COM_RATE</th>\n",
              "      <th>NAFYC</th>\n",
              "      <th>code_mapping</th>\n",
              "    </tr>\n",
              "  </thead>\n",
              "  <tbody>\n",
              "    <tr>\n",
              "      <th>233</th>\n",
              "      <td>1002</td>\n",
              "      <td>-0.967499</td>\n",
              "      <td>0.730255</td>\n",
              "      <td>2628420.0</td>\n",
              "      <td>3</td>\n",
              "    </tr>\n",
              "    <tr>\n",
              "      <th>234</th>\n",
              "      <td>1002</td>\n",
              "      <td>2.657077</td>\n",
              "      <td>0.730255</td>\n",
              "      <td>59283438.0</td>\n",
              "      <td>3</td>\n",
              "    </tr>\n",
              "    <tr>\n",
              "      <th>235</th>\n",
              "      <td>1002</td>\n",
              "      <td>-0.113090</td>\n",
              "      <td>0.730255</td>\n",
              "      <td>15983520.0</td>\n",
              "      <td>3</td>\n",
              "    </tr>\n",
              "    <tr>\n",
              "      <th>236</th>\n",
              "      <td>1002</td>\n",
              "      <td>0.302078</td>\n",
              "      <td>0.730255</td>\n",
              "      <td>22472920.0</td>\n",
              "      <td>3</td>\n",
              "    </tr>\n",
              "    <tr>\n",
              "      <th>237</th>\n",
              "      <td>1002</td>\n",
              "      <td>-0.424738</td>\n",
              "      <td>0.730255</td>\n",
              "      <td>11112210.0</td>\n",
              "      <td>3</td>\n",
              "    </tr>\n",
              "    <tr>\n",
              "      <th>...</th>\n",
              "      <td>...</td>\n",
              "      <td>...</td>\n",
              "      <td>...</td>\n",
              "      <td>...</td>\n",
              "      <td>...</td>\n",
              "    </tr>\n",
              "    <tr>\n",
              "      <th>570</th>\n",
              "      <td>1002</td>\n",
              "      <td>-0.084873</td>\n",
              "      <td>0.730255</td>\n",
              "      <td>16424572.0</td>\n",
              "      <td>3</td>\n",
              "    </tr>\n",
              "    <tr>\n",
              "      <th>571</th>\n",
              "      <td>1002</td>\n",
              "      <td>-0.243454</td>\n",
              "      <td>0.730255</td>\n",
              "      <td>13945820.0</td>\n",
              "      <td>3</td>\n",
              "    </tr>\n",
              "    <tr>\n",
              "      <th>572</th>\n",
              "      <td>1002</td>\n",
              "      <td>-0.457760</td>\n",
              "      <td>0.730255</td>\n",
              "      <td>10596040.0</td>\n",
              "      <td>3</td>\n",
              "    </tr>\n",
              "    <tr>\n",
              "      <th>573</th>\n",
              "      <td>1002</td>\n",
              "      <td>-0.299370</td>\n",
              "      <td>0.730255</td>\n",
              "      <td>13071810.0</td>\n",
              "      <td>3</td>\n",
              "    </tr>\n",
              "    <tr>\n",
              "      <th>574</th>\n",
              "      <td>1002</td>\n",
              "      <td>0.154543</td>\n",
              "      <td>0.730255</td>\n",
              "      <td>20166840.0</td>\n",
              "      <td>3</td>\n",
              "    </tr>\n",
              "  </tbody>\n",
              "</table>\n",
              "<p>342 rows × 5 columns</p>\n",
              "</div>"
            ],
            "text/plain": [
              "     CODE   REAL_YY  COM_RATE       NAFYC  code_mapping\n",
              "233  1002 -0.967499  0.730255   2628420.0             3\n",
              "234  1002  2.657077  0.730255  59283438.0             3\n",
              "235  1002 -0.113090  0.730255  15983520.0             3\n",
              "236  1002  0.302078  0.730255  22472920.0             3\n",
              "237  1002 -0.424738  0.730255  11112210.0             3\n",
              "..    ...       ...       ...         ...           ...\n",
              "570  1002 -0.084873  0.730255  16424572.0             3\n",
              "571  1002 -0.243454  0.730255  13945820.0             3\n",
              "572  1002 -0.457760  0.730255  10596040.0             3\n",
              "573  1002 -0.299370  0.730255  13071810.0             3\n",
              "574  1002  0.154543  0.730255  20166840.0             3\n",
              "\n",
              "[342 rows x 5 columns]"
            ]
          },
          "metadata": {
            "tags": []
          },
          "execution_count": 32
        }
      ]
    },
    {
      "cell_type": "code",
      "metadata": {
        "id": "S5eCEQVSliQe",
        "colab_type": "code",
        "colab": {
          "base_uri": "https://localhost:8080/",
          "height": 411
        },
        "outputId": "4b0ff4a9-f68b-41c8-c78b-626f6fbce26b"
      },
      "source": [
        "dataset"
      ],
      "execution_count": 33,
      "outputs": [
        {
          "output_type": "execute_result",
          "data": {
            "text/html": [
              "<div>\n",
              "<style scoped>\n",
              "    .dataframe tbody tr th:only-of-type {\n",
              "        vertical-align: middle;\n",
              "    }\n",
              "\n",
              "    .dataframe tbody tr th {\n",
              "        vertical-align: top;\n",
              "    }\n",
              "\n",
              "    .dataframe thead th {\n",
              "        text-align: right;\n",
              "    }\n",
              "</style>\n",
              "<table border=\"1\" class=\"dataframe\">\n",
              "  <thead>\n",
              "    <tr style=\"text-align: right;\">\n",
              "      <th></th>\n",
              "      <th>CODE</th>\n",
              "      <th>REAL_YY</th>\n",
              "      <th>COM_RATE</th>\n",
              "      <th>NAFYC</th>\n",
              "      <th>code_mapping</th>\n",
              "    </tr>\n",
              "  </thead>\n",
              "  <tbody>\n",
              "    <tr>\n",
              "      <th>0</th>\n",
              "      <td>1000</td>\n",
              "      <td>-0.906546</td>\n",
              "      <td>-0.462185</td>\n",
              "      <td>1866243.0</td>\n",
              "      <td>1</td>\n",
              "    </tr>\n",
              "    <tr>\n",
              "      <th>1</th>\n",
              "      <td>1000</td>\n",
              "      <td>-0.053195</td>\n",
              "      <td>-0.462185</td>\n",
              "      <td>8817322.0</td>\n",
              "      <td>1</td>\n",
              "    </tr>\n",
              "    <tr>\n",
              "      <th>2</th>\n",
              "      <td>1000</td>\n",
              "      <td>1.183714</td>\n",
              "      <td>-0.462185</td>\n",
              "      <td>18892718.0</td>\n",
              "      <td>1</td>\n",
              "    </tr>\n",
              "    <tr>\n",
              "      <th>3</th>\n",
              "      <td>1000</td>\n",
              "      <td>0.561807</td>\n",
              "      <td>-0.462185</td>\n",
              "      <td>13826900.0</td>\n",
              "      <td>1</td>\n",
              "    </tr>\n",
              "    <tr>\n",
              "      <th>4</th>\n",
              "      <td>1000</td>\n",
              "      <td>0.437321</td>\n",
              "      <td>-0.462185</td>\n",
              "      <td>12812878.0</td>\n",
              "      <td>1</td>\n",
              "    </tr>\n",
              "    <tr>\n",
              "      <th>...</th>\n",
              "      <td>...</td>\n",
              "      <td>...</td>\n",
              "      <td>...</td>\n",
              "      <td>...</td>\n",
              "      <td>...</td>\n",
              "    </tr>\n",
              "    <tr>\n",
              "      <th>388065</th>\n",
              "      <td>2519</td>\n",
              "      <td>-0.791257</td>\n",
              "      <td>-1.268835</td>\n",
              "      <td>1061480.0</td>\n",
              "      <td>1520</td>\n",
              "    </tr>\n",
              "    <tr>\n",
              "      <th>388066</th>\n",
              "      <td>2519</td>\n",
              "      <td>0.062789</td>\n",
              "      <td>-1.268835</td>\n",
              "      <td>3693760.0</td>\n",
              "      <td>1520</td>\n",
              "    </tr>\n",
              "    <tr>\n",
              "      <th>388067</th>\n",
              "      <td>2519</td>\n",
              "      <td>0.966346</td>\n",
              "      <td>-1.268835</td>\n",
              "      <td>6478640.0</td>\n",
              "      <td>1520</td>\n",
              "    </tr>\n",
              "    <tr>\n",
              "      <th>388068</th>\n",
              "      <td>2519</td>\n",
              "      <td>2.110623</td>\n",
              "      <td>-1.268835</td>\n",
              "      <td>10005450.0</td>\n",
              "      <td>1520</td>\n",
              "    </tr>\n",
              "    <tr>\n",
              "      <th>388069</th>\n",
              "      <td>2519</td>\n",
              "      <td>-0.063174</td>\n",
              "      <td>-1.268835</td>\n",
              "      <td>3305526.0</td>\n",
              "      <td>1520</td>\n",
              "    </tr>\n",
              "  </tbody>\n",
              "</table>\n",
              "<p>388070 rows × 5 columns</p>\n",
              "</div>"
            ],
            "text/plain": [
              "        CODE   REAL_YY  COM_RATE       NAFYC  code_mapping\n",
              "0       1000 -0.906546 -0.462185   1866243.0             1\n",
              "1       1000 -0.053195 -0.462185   8817322.0             1\n",
              "2       1000  1.183714 -0.462185  18892718.0             1\n",
              "3       1000  0.561807 -0.462185  13826900.0             1\n",
              "4       1000  0.437321 -0.462185  12812878.0             1\n",
              "...      ...       ...       ...         ...           ...\n",
              "388065  2519 -0.791257 -1.268835   1061480.0          1520\n",
              "388066  2519  0.062789 -1.268835   3693760.0          1520\n",
              "388067  2519  0.966346 -1.268835   6478640.0          1520\n",
              "388068  2519  2.110623 -1.268835  10005450.0          1520\n",
              "388069  2519 -0.063174 -1.268835   3305526.0          1520\n",
              "\n",
              "[388070 rows x 5 columns]"
            ]
          },
          "metadata": {
            "tags": []
          },
          "execution_count": 33
        }
      ]
    },
    {
      "cell_type": "markdown",
      "metadata": {
        "id": "5psELZ36pqeP",
        "colab_type": "text"
      },
      "source": [
        "## 성립 데이터에 대한 파생변수 추가 실험\n",
        "# NAFYC 산출 관계식에 의한 파생변수 추가 "
      ]
    },
    {
      "cell_type": "code",
      "metadata": {
        "id": "JkAeRMlXmWR7",
        "colab_type": "code",
        "colab": {}
      },
      "source": [
        "dataset['ft1'] = dataset['REAL_YY']* dataset['COM_RATE']"
      ],
      "execution_count": 14,
      "outputs": []
    },
    {
      "cell_type": "code",
      "metadata": {
        "id": "zv-iy_-vmjCu",
        "colab_type": "code",
        "colab": {
          "base_uri": "https://localhost:8080/",
          "height": 411
        },
        "outputId": "4a40b8c0-3b33-4c5c-e648-aab0a6234df4"
      },
      "source": [
        "dataset"
      ],
      "execution_count": 15,
      "outputs": [
        {
          "output_type": "execute_result",
          "data": {
            "text/html": [
              "<div>\n",
              "<style scoped>\n",
              "    .dataframe tbody tr th:only-of-type {\n",
              "        vertical-align: middle;\n",
              "    }\n",
              "\n",
              "    .dataframe tbody tr th {\n",
              "        vertical-align: top;\n",
              "    }\n",
              "\n",
              "    .dataframe thead th {\n",
              "        text-align: right;\n",
              "    }\n",
              "</style>\n",
              "<table border=\"1\" class=\"dataframe\">\n",
              "  <thead>\n",
              "    <tr style=\"text-align: right;\">\n",
              "      <th></th>\n",
              "      <th>CODE</th>\n",
              "      <th>REAL_YY</th>\n",
              "      <th>COM_RATE</th>\n",
              "      <th>NAFYC</th>\n",
              "      <th>code_mapping</th>\n",
              "      <th>ft1</th>\n",
              "    </tr>\n",
              "  </thead>\n",
              "  <tbody>\n",
              "    <tr>\n",
              "      <th>0</th>\n",
              "      <td>1000</td>\n",
              "      <td>-0.830033</td>\n",
              "      <td>-0.098048</td>\n",
              "      <td>3233904.0</td>\n",
              "      <td>1</td>\n",
              "      <td>0.081383</td>\n",
              "    </tr>\n",
              "    <tr>\n",
              "      <th>1</th>\n",
              "      <td>1000</td>\n",
              "      <td>1.439773</td>\n",
              "      <td>-0.098048</td>\n",
              "      <td>27221184.0</td>\n",
              "      <td>1</td>\n",
              "      <td>-0.141166</td>\n",
              "    </tr>\n",
              "    <tr>\n",
              "      <th>2</th>\n",
              "      <td>1000</td>\n",
              "      <td>-0.869508</td>\n",
              "      <td>-0.098048</td>\n",
              "      <td>2816736.0</td>\n",
              "      <td>1</td>\n",
              "      <td>0.085253</td>\n",
              "    </tr>\n",
              "    <tr>\n",
              "      <th>3</th>\n",
              "      <td>1000</td>\n",
              "      <td>2.307390</td>\n",
              "      <td>-0.098048</td>\n",
              "      <td>36390144.0</td>\n",
              "      <td>1</td>\n",
              "      <td>-0.226234</td>\n",
              "    </tr>\n",
              "    <tr>\n",
              "      <th>4</th>\n",
              "      <td>1000</td>\n",
              "      <td>-0.621455</td>\n",
              "      <td>-0.098048</td>\n",
              "      <td>5438160.0</td>\n",
              "      <td>1</td>\n",
              "      <td>0.060932</td>\n",
              "    </tr>\n",
              "    <tr>\n",
              "      <th>...</th>\n",
              "      <td>...</td>\n",
              "      <td>...</td>\n",
              "      <td>...</td>\n",
              "      <td>...</td>\n",
              "      <td>...</td>\n",
              "      <td>...</td>\n",
              "    </tr>\n",
              "    <tr>\n",
              "      <th>388568</th>\n",
              "      <td>2519</td>\n",
              "      <td>-1.061554</td>\n",
              "      <td>-0.934544</td>\n",
              "      <td>393600.0</td>\n",
              "      <td>1520</td>\n",
              "      <td>0.992069</td>\n",
              "    </tr>\n",
              "    <tr>\n",
              "      <th>388569</th>\n",
              "      <td>2519</td>\n",
              "      <td>0.712078</td>\n",
              "      <td>-0.934544</td>\n",
              "      <td>9765456.0</td>\n",
              "      <td>1520</td>\n",
              "      <td>-0.665468</td>\n",
              "    </tr>\n",
              "    <tr>\n",
              "      <th>388570</th>\n",
              "      <td>2519</td>\n",
              "      <td>0.350656</td>\n",
              "      <td>-0.934544</td>\n",
              "      <td>7855704.0</td>\n",
              "      <td>1520</td>\n",
              "      <td>-0.327703</td>\n",
              "    </tr>\n",
              "    <tr>\n",
              "      <th>388571</th>\n",
              "      <td>2519</td>\n",
              "      <td>-0.970881</td>\n",
              "      <td>-0.934544</td>\n",
              "      <td>872712.0</td>\n",
              "      <td>1520</td>\n",
              "      <td>0.907332</td>\n",
              "    </tr>\n",
              "    <tr>\n",
              "      <th>388572</th>\n",
              "      <td>2519</td>\n",
              "      <td>-0.757638</td>\n",
              "      <td>-0.934544</td>\n",
              "      <td>1999488.0</td>\n",
              "      <td>1520</td>\n",
              "      <td>0.708046</td>\n",
              "    </tr>\n",
              "  </tbody>\n",
              "</table>\n",
              "<p>388573 rows × 6 columns</p>\n",
              "</div>"
            ],
            "text/plain": [
              "        CODE   REAL_YY  COM_RATE       NAFYC  code_mapping       ft1\n",
              "0       1000 -0.830033 -0.098048   3233904.0             1  0.081383\n",
              "1       1000  1.439773 -0.098048  27221184.0             1 -0.141166\n",
              "2       1000 -0.869508 -0.098048   2816736.0             1  0.085253\n",
              "3       1000  2.307390 -0.098048  36390144.0             1 -0.226234\n",
              "4       1000 -0.621455 -0.098048   5438160.0             1  0.060932\n",
              "...      ...       ...       ...         ...           ...       ...\n",
              "388568  2519 -1.061554 -0.934544    393600.0          1520  0.992069\n",
              "388569  2519  0.712078 -0.934544   9765456.0          1520 -0.665468\n",
              "388570  2519  0.350656 -0.934544   7855704.0          1520 -0.327703\n",
              "388571  2519 -0.970881 -0.934544    872712.0          1520  0.907332\n",
              "388572  2519 -0.757638 -0.934544   1999488.0          1520  0.708046\n",
              "\n",
              "[388573 rows x 6 columns]"
            ]
          },
          "metadata": {
            "tags": []
          },
          "execution_count": 15
        }
      ]
    },
    {
      "cell_type": "code",
      "metadata": {
        "id": "zhCAKzWjlm3Q",
        "colab_type": "code",
        "colab": {}
      },
      "source": [
        "# trainset과 validationset 나누고... 기타 정리\n",
        "\n",
        "X_train_org, X_val_org, Y_train, Y_val = train_test_split(dataset[['REAL_YY','ft1','code_mapping']],\n",
        "    dataset['NAFYC'], test_size=0.1, random_state=0)\n",
        "\n",
        "# 학습 대상 변수만 선택\n",
        "X_train_continuous = X_train_org[['REAL_YY','ft1']]\n",
        "X_train_categorical = X_train_org[['code_mapping']]\n",
        "\n",
        "X_val_continuous  = X_val_org[['REAL_YY','ft1']]\n",
        "X_val_categorical = X_val_org[['code_mapping']]\n"
      ],
      "execution_count": 76,
      "outputs": []
    },
    {
      "cell_type": "code",
      "metadata": {
        "id": "-iHvJfEXVO9T",
        "colab_type": "code",
        "colab": {
          "base_uri": "https://localhost:8080/",
          "height": 411
        },
        "outputId": "17c47191-6656-4a19-c17c-710319733aa0"
      },
      "source": [
        "Y_train"
      ],
      "execution_count": 40,
      "outputs": [
        {
          "output_type": "execute_result",
          "data": {
            "text/html": [
              "<div>\n",
              "<style scoped>\n",
              "    .dataframe tbody tr th:only-of-type {\n",
              "        vertical-align: middle;\n",
              "    }\n",
              "\n",
              "    .dataframe tbody tr th {\n",
              "        vertical-align: top;\n",
              "    }\n",
              "\n",
              "    .dataframe thead th {\n",
              "        text-align: right;\n",
              "    }\n",
              "</style>\n",
              "<table border=\"1\" class=\"dataframe\">\n",
              "  <thead>\n",
              "    <tr style=\"text-align: right;\">\n",
              "      <th></th>\n",
              "      <th>NAFYC</th>\n",
              "      <th>COM_RATE</th>\n",
              "    </tr>\n",
              "  </thead>\n",
              "  <tbody>\n",
              "    <tr>\n",
              "      <th>329386</th>\n",
              "      <td>12320640.0</td>\n",
              "      <td>0.320201</td>\n",
              "    </tr>\n",
              "    <tr>\n",
              "      <th>308696</th>\n",
              "      <td>48748986.0</td>\n",
              "      <td>0.529325</td>\n",
              "    </tr>\n",
              "    <tr>\n",
              "      <th>37103</th>\n",
              "      <td>594174.0</td>\n",
              "      <td>-1.527062</td>\n",
              "    </tr>\n",
              "    <tr>\n",
              "      <th>133480</th>\n",
              "      <td>220095.0</td>\n",
              "      <td>0.564179</td>\n",
              "    </tr>\n",
              "    <tr>\n",
              "      <th>291063</th>\n",
              "      <td>9999360.0</td>\n",
              "      <td>-0.307172</td>\n",
              "    </tr>\n",
              "    <tr>\n",
              "      <th>...</th>\n",
              "      <td>...</td>\n",
              "      <td>...</td>\n",
              "    </tr>\n",
              "    <tr>\n",
              "      <th>359783</th>\n",
              "      <td>12535560.0</td>\n",
              "      <td>0.076223</td>\n",
              "    </tr>\n",
              "    <tr>\n",
              "      <th>358083</th>\n",
              "      <td>950250.0</td>\n",
              "      <td>-1.527062</td>\n",
              "    </tr>\n",
              "    <tr>\n",
              "      <th>152315</th>\n",
              "      <td>28806030.0</td>\n",
              "      <td>-0.202610</td>\n",
              "    </tr>\n",
              "    <tr>\n",
              "      <th>117952</th>\n",
              "      <td>2549889.0</td>\n",
              "      <td>-1.666479</td>\n",
              "    </tr>\n",
              "    <tr>\n",
              "      <th>305711</th>\n",
              "      <td>4259200.0</td>\n",
              "      <td>1.017281</td>\n",
              "    </tr>\n",
              "  </tbody>\n",
              "</table>\n",
              "<p>349715 rows × 2 columns</p>\n",
              "</div>"
            ],
            "text/plain": [
              "             NAFYC  COM_RATE\n",
              "329386  12320640.0  0.320201\n",
              "308696  48748986.0  0.529325\n",
              "37103     594174.0 -1.527062\n",
              "133480    220095.0  0.564179\n",
              "291063   9999360.0 -0.307172\n",
              "...            ...       ...\n",
              "359783  12535560.0  0.076223\n",
              "358083    950250.0 -1.527062\n",
              "152315  28806030.0 -0.202610\n",
              "117952   2549889.0 -1.666479\n",
              "305711   4259200.0  1.017281\n",
              "\n",
              "[349715 rows x 2 columns]"
            ]
          },
          "metadata": {
            "tags": []
          },
          "execution_count": 40
        }
      ]
    },
    {
      "cell_type": "markdown",
      "metadata": {
        "id": "xftQSoqoqBiS",
        "colab_type": "text"
      },
      "source": [
        "## 네크워크 구성 (기존과 동일) 및 학습"
      ]
    },
    {
      "cell_type": "code",
      "metadata": {
        "id": "Se-0H_D5lzt_",
        "colab_type": "code",
        "colab": {
          "base_uri": "https://localhost:8080/",
          "height": 677
        },
        "outputId": "8509628e-1a01-4c87-b543-1702d1e1af0c"
      },
      "source": [
        "# Define the embedding input\n",
        "code_input = Input(shape=(1,), dtype='int32') \n",
        "output_dim=32*2   #X_train_categorical['code_mapping'].max()*1\n",
        "code_embedings = Embedding(output_dim=output_dim, input_dim=X_train_categorical['code_mapping'].max()+1)(code_input)\n",
        "code_embedings = keras.layers.Reshape((output_dim,))(code_embedings)\n",
        "\n",
        "# Define the continuous variables input (just like before)\n",
        "continuous_input = Input(shape=(X_train_continuous.shape[1], ))\n",
        "\n",
        "# Concatenate continuous and embeddings inputs\n",
        "all_input = keras.layers.concatenate([continuous_input, code_embedings])\n",
        "print(all_input)\n",
        "\n",
        "# Define the model\n",
        "dense1 = Dense(all_input.shape[1]*3, activation='relu')(all_input)\n",
        "dense2 = Dense(5, activation='relu')(dense1)\n",
        "predictions = Dense(1)(dense2)\n",
        "\n",
        "# Note using the input object 'area_input' not 'area_embeddings'\n",
        "model = Model(inputs=[continuous_input, code_input], outputs=predictions)\n",
        "model.compile(loss='mse', optimizer=keras.optimizers.Adam(lr=.8, beta_1=0.9, beta_2=0.999, decay=1e-03, amsgrad=True),metrics=[soft_5perc_acc,soft_10perc_acc,soft_500_acc,soft_1000_acc,soft_10000_acc,r2])\n",
        "model.summary()\n",
        "\n",
        "epochs = 100\n",
        "\n",
        "# Note continuous and categorical columns are inserted in the same order as defined in all_inputs\n",
        "history = model.fit([X_train_continuous, X_train_categorical['code_mapping']], Y_train, \n",
        "          epochs=epochs, batch_size=10000, \n",
        "          callbacks=[periodic_logger_10], verbose=0,\n",
        "          validation_data=([X_val_continuous, X_val_categorical['code_mapping']], Y_val))"
      ],
      "execution_count": 19,
      "outputs": [
        {
          "output_type": "stream",
          "text": [
            "Tensor(\"concatenate_2/concat:0\", shape=(None, 66), dtype=float32)\n",
            "Model: \"functional_5\"\n",
            "__________________________________________________________________________________________________\n",
            "Layer (type)                    Output Shape         Param #     Connected to                     \n",
            "==================================================================================================\n",
            "input_5 (InputLayer)            [(None, 1)]          0                                            \n",
            "__________________________________________________________________________________________________\n",
            "embedding_2 (Embedding)         (None, 1, 64)        97344       input_5[0][0]                    \n",
            "__________________________________________________________________________________________________\n",
            "input_6 (InputLayer)            [(None, 2)]          0                                            \n",
            "__________________________________________________________________________________________________\n",
            "reshape_2 (Reshape)             (None, 64)           0           embedding_2[0][0]                \n",
            "__________________________________________________________________________________________________\n",
            "concatenate_2 (Concatenate)     (None, 66)           0           input_6[0][0]                    \n",
            "                                                                 reshape_2[0][0]                  \n",
            "__________________________________________________________________________________________________\n",
            "dense_6 (Dense)                 (None, 198)          13266       concatenate_2[0][0]              \n",
            "__________________________________________________________________________________________________\n",
            "dense_7 (Dense)                 (None, 5)            995         dense_6[0][0]                    \n",
            "__________________________________________________________________________________________________\n",
            "dense_8 (Dense)                 (None, 1)            6           dense_7[0][0]                    \n",
            "==================================================================================================\n",
            "Total params: 111,611\n",
            "Trainable params: 111,611\n",
            "Non-trainable params: 0\n",
            "__________________________________________________________________________________________________\n",
            "Epoch: 10 - {'loss': 19523719168.0, 'soft_5perc_acc': 0.7975490093231201, 'soft_10perc_acc': 0.8603537082672119, 'soft_500_acc': 0.0035277260467410088, 'soft_1000_acc': 0.007004777900874615, 'soft_10000_acc': 0.07241395860910416, 'r2': 0.9999101758003235, 'val_loss': 18153746432.0, 'val_soft_5perc_acc': 0.7974169254302979, 'val_soft_10perc_acc': 0.8596404194831848, 'val_soft_500_acc': 0.004041031002998352, 'val_soft_1000_acc': 0.008124830201268196, 'val_soft_10000_acc': 0.08312863111495972, 'val_r2': 0.999916672706604}\n",
            "Epoch: 20 - {'loss': 4778581504.0, 'soft_5perc_acc': 0.8699897527694702, 'soft_10perc_acc': 0.9058873057365417, 'soft_500_acc': 0.009547039866447449, 'soft_1000_acc': 0.01917239837348461, 'soft_10000_acc': 0.1935732066631317, 'r2': 0.9999780058860779, 'val_loss': 4921368064.0, 'val_soft_5perc_acc': 0.8668870329856873, 'val_soft_10perc_acc': 0.9035466313362122, 'val_soft_500_acc': 0.009336069226264954, 'val_soft_1000_acc': 0.01865602284669876, 'val_soft_10000_acc': 0.19019709527492523, 'val_r2': 0.9999774098396301}\n",
            "Epoch: 30 - {'loss': 2587132160.0, 'soft_5perc_acc': 0.8905137181282043, 'soft_10perc_acc': 0.9195826053619385, 'soft_500_acc': 0.01266249269247055, 'soft_1000_acc': 0.0253351591527462, 'soft_10000_acc': 0.2528786063194275, 'r2': 0.9999880194664001, 'val_loss': 2720924672.0, 'val_soft_5perc_acc': 0.8885235786437988, 'val_soft_10perc_acc': 0.9187777638435364, 'val_soft_500_acc': 0.01142631471157074, 'val_soft_1000_acc': 0.023861516267061234, 'val_soft_10000_acc': 0.2503633201122284, 'val_r2': 0.9999874830245972}\n",
            "Epoch: 40 - {'loss': 1778311936.0, 'soft_5perc_acc': 0.9013595581054688, 'soft_10perc_acc': 0.9274892807006836, 'soft_500_acc': 0.014363999478518963, 'soft_1000_acc': 0.028712116181850433, 'soft_10000_acc': 0.2898940443992615, 'r2': 0.9999919533729553, 'val_loss': 1945380096.0, 'val_soft_5perc_acc': 0.8967774510383606, 'val_soft_10perc_acc': 0.924967885017395, 'val_soft_500_acc': 0.013477884232997894, 'val_soft_1000_acc': 0.028662998229265213, 'val_soft_10000_acc': 0.31644725799560547, 'val_r2': 0.9999911189079285}\n",
            "Epoch: 50 - {'loss': 1390267904.0, 'soft_5perc_acc': 0.9079045057296753, 'soft_10perc_acc': 0.9323099255561829, 'soft_500_acc': 0.015787024050951004, 'soft_1000_acc': 0.03160303831100464, 'soft_10000_acc': 0.3217162489891052, 'r2': 0.9999935626983643, 'val_loss': 1541921664.0, 'val_soft_5perc_acc': 0.9062546491622925, 'val_soft_10perc_acc': 0.9303371906280518, 'val_soft_500_acc': 0.01436577644199133, 'val_soft_1000_acc': 0.031178243458271027, 'val_soft_10000_acc': 0.3086811602115631, 'val_r2': 0.9999929070472717}\n",
            "Epoch: 60 - {'loss': 1151874944.0, 'soft_5perc_acc': 0.912899374961853, 'soft_10perc_acc': 0.9360692501068115, 'soft_500_acc': 0.017293326556682587, 'soft_1000_acc': 0.03482900187373161, 'soft_10000_acc': 0.3465665578842163, 'r2': 0.9999946355819702, 'val_loss': 1266114432.0, 'val_soft_5perc_acc': 0.9125794768333435, 'val_soft_10perc_acc': 0.9357144832611084, 'val_soft_500_acc': 0.01801569201052189, 'val_soft_1000_acc': 0.03475403040647507, 'val_soft_10000_acc': 0.346257746219635, 'val_r2': 0.9999942183494568}\n",
            "Epoch: 70 - {'loss': 995655936.0, 'soft_5perc_acc': 0.915802001953125, 'soft_10perc_acc': 0.9385946989059448, 'soft_500_acc': 0.018374081701040268, 'soft_1000_acc': 0.03656874597072601, 'soft_10000_acc': 0.36849915981292725, 'r2': 0.9999956488609314, 'val_loss': 1117547136.0, 'val_soft_5perc_acc': 0.9139761924743652, 'val_soft_10perc_acc': 0.9373030662536621, 'val_soft_500_acc': 0.02092771604657173, 'val_soft_1000_acc': 0.041842542588710785, 'val_soft_10000_acc': 0.38188982009887695, 'val_r2': 0.9999948740005493}\n",
            "Epoch: 80 - {'loss': 886659968.0, 'soft_5perc_acc': 0.9186468124389648, 'soft_10perc_acc': 0.9408397078514099, 'soft_500_acc': 0.01911122165620327, 'soft_1000_acc': 0.038070518523454666, 'soft_10000_acc': 0.3872852623462677, 'r2': 0.9999959468841553, 'val_loss': 986023872.0, 'val_soft_5perc_acc': 0.917339026927948, 'val_soft_10perc_acc': 0.9393490552902222, 'val_soft_500_acc': 0.021458378061652184, 'val_soft_1000_acc': 0.041236959397792816, 'val_soft_10000_acc': 0.4011901617050171, 'val_r2': 0.9999954700469971}\n",
            "Epoch: 90 - {'loss': 804091264.0, 'soft_5perc_acc': 0.9207329750061035, 'soft_10perc_acc': 0.9426731467247009, 'soft_500_acc': 0.01992357149720192, 'soft_1000_acc': 0.04015159234404564, 'soft_10000_acc': 0.4073106050491333, 'r2': 0.9999961853027344, 'val_loss': 899769984.0, 'val_soft_5perc_acc': 0.9193027019500732, 'val_soft_10perc_acc': 0.9403650760650635, 'val_soft_500_acc': 0.017852799966931343, 'val_soft_1000_acc': 0.03644270822405815, 'val_soft_10000_acc': 0.4025298058986664, 'val_r2': 0.9999958276748657}\n",
            "Epoch: 100 - {'loss': 740669824.0, 'soft_5perc_acc': 0.9229252338409424, 'soft_10perc_acc': 0.9442091584205627, 'soft_500_acc': 0.020986506715416908, 'soft_1000_acc': 0.04171586409211159, 'soft_10000_acc': 0.4249281883239746, 'r2': 0.9999964237213135, 'val_loss': 827825984.0, 'val_soft_5perc_acc': 0.9214946627616882, 'val_soft_10perc_acc': 0.9424578547477722, 'val_soft_500_acc': 0.01917457766830921, 'val_soft_1000_acc': 0.040727291256189346, 'val_soft_10000_acc': 0.41434070467948914, 'val_r2': 0.9999961853027344}\n"
          ],
          "name": "stdout"
        }
      ]
    },
    {
      "cell_type": "markdown",
      "metadata": {
        "id": "ou0EwZQJwJCQ",
        "colab_type": "text"
      },
      "source": [
        "## poly regression 적용"
      ]
    },
    {
      "cell_type": "code",
      "metadata": {
        "id": "HvGNQj9ewNBX",
        "colab_type": "code",
        "colab": {
          "base_uri": "https://localhost:8080/",
          "height": 677
        },
        "outputId": "72f04e8c-a8a0-4060-ac87-b03d97017ca6"
      },
      "source": [
        "from sklearn.preprocessing import PolynomialFeatures\n",
        "\n",
        "# Define the embedding input\n",
        "code_input = Input(shape=(1,), dtype='int32') \n",
        "output_dim=32*2   #X_train_categorical['code_mapping'].max()*1\n",
        "code_embedings = Embedding(output_dim=output_dim, input_dim=X_train_categorical['code_mapping'].max()+1)(code_input)\n",
        "code_embedings = keras.layers.Reshape((output_dim,))(code_embedings)\n",
        "\n",
        "n = 3\n",
        "trX_expanded = np.expand_dims(X_train_continuous, axis=1)\n",
        "poly = PolynomialFeatures(n)\n",
        "X_train_continuous = poly.fit_transform(X_train_continuous)\n",
        "X_val_continuous = poly.fit_transform(X_val_continuous)\n",
        "\n",
        "# Define the continuous variables input (just like before)\n",
        "continuous_input = Input(shape=(X_train_continuous.shape[1], ))\n",
        "\n",
        "# Concatenate continuous and embeddings inputs\n",
        "all_input = keras.layers.concatenate([continuous_input, code_embedings])\n",
        "print(all_input)\n",
        "\n",
        "# Define the model\n",
        "dense1 = Dense(all_input.shape[1]*3, activation='relu')(all_input)\n",
        "dense2 = Dense(5, activation='relu')(dense1)\n",
        "predictions = Dense(1)(dense2)\n",
        "\n",
        "# Note using the input object 'area_input' not 'area_embeddings'\n",
        "model = Model(inputs=[continuous_input, code_input], outputs=predictions)\n",
        "model.compile(loss='mse', optimizer=keras.optimizers.Adam(lr=.8, beta_1=0.9, beta_2=0.999, decay=1e-03, amsgrad=True),metrics=[soft_5perc_acc,soft_10perc_acc,soft_500_acc,soft_1000_acc,soft_10000_acc,r2])\n",
        "model.summary()\n",
        "\n",
        "epochs = 100\n",
        "\n",
        "# Note continuous and categorical columns are inserted in the same order as defined in all_inputs\n",
        "history = model.fit([X_train_continuous, X_train_categorical['code_mapping']], Y_train, \n",
        "          epochs=epochs, batch_size=10000, \n",
        "          callbacks=[periodic_logger_10], verbose=0,\n",
        "          validation_data=([X_val_continuous, X_val_categorical['code_mapping']], Y_val))"
      ],
      "execution_count": 19,
      "outputs": [
        {
          "output_type": "stream",
          "text": [
            "Tensor(\"concatenate_2/concat:0\", shape=(None, 74), dtype=float32)\n",
            "Model: \"functional_5\"\n",
            "__________________________________________________________________________________________________\n",
            "Layer (type)                    Output Shape         Param #     Connected to                     \n",
            "==================================================================================================\n",
            "input_5 (InputLayer)            [(None, 1)]          0                                            \n",
            "__________________________________________________________________________________________________\n",
            "embedding_2 (Embedding)         (None, 1, 64)        97344       input_5[0][0]                    \n",
            "__________________________________________________________________________________________________\n",
            "input_6 (InputLayer)            [(None, 10)]         0                                            \n",
            "__________________________________________________________________________________________________\n",
            "reshape_2 (Reshape)             (None, 64)           0           embedding_2[0][0]                \n",
            "__________________________________________________________________________________________________\n",
            "concatenate_2 (Concatenate)     (None, 74)           0           input_6[0][0]                    \n",
            "                                                                 reshape_2[0][0]                  \n",
            "__________________________________________________________________________________________________\n",
            "dense_6 (Dense)                 (None, 222)          16650       concatenate_2[0][0]              \n",
            "__________________________________________________________________________________________________\n",
            "dense_7 (Dense)                 (None, 5)            1115        dense_6[0][0]                    \n",
            "__________________________________________________________________________________________________\n",
            "dense_8 (Dense)                 (None, 1)            6           dense_7[0][0]                    \n",
            "==================================================================================================\n",
            "Total params: 115,115\n",
            "Trainable params: 115,115\n",
            "Non-trainable params: 0\n",
            "__________________________________________________________________________________________________\n",
            "Epoch: 10 - {'loss': 116266016768.0, 'soft_5perc_acc': 0.6831958293914795, 'soft_10perc_acc': 0.8020092248916626, 'soft_500_acc': 0.0018631921848282218, 'soft_1000_acc': 0.0038322668988257647, 'soft_10000_acc': 0.03709065914154053, 'r2': 0.9994640946388245, 'val_loss': 577807712256.0, 'val_soft_5perc_acc': 0.3538198471069336, 'val_soft_10perc_acc': 0.5998041033744812, 'val_soft_500_acc': 0.00040322309359908104, 'val_soft_1000_acc': 0.0008443384431302547, 'val_soft_10000_acc': 0.008329622447490692, 'val_r2': 0.9973213076591492}\n",
            "Epoch: 20 - {'loss': 2086432000.0, 'soft_5perc_acc': 0.9118709564208984, 'soft_10perc_acc': 0.9396989941596985, 'soft_500_acc': 0.011530323885381222, 'soft_1000_acc': 0.023055940866470337, 'soft_10000_acc': 0.22391821444034576, 'r2': 0.9999902844429016, 'val_loss': 2791451136.0, 'val_soft_5perc_acc': 0.8975549340248108, 'val_soft_10perc_acc': 0.9386482834815979, 'val_soft_500_acc': 0.004769254010170698, 'val_soft_1000_acc': 0.01023685373365879, 'val_soft_10000_acc': 0.11654877662658691, 'val_r2': 0.9999870657920837}\n",
            "Epoch: 30 - {'loss': 770916800.0, 'soft_5perc_acc': 0.9332931637763977, 'soft_10perc_acc': 0.9508097767829895, 'soft_500_acc': 0.025797173380851746, 'soft_1000_acc': 0.05113569274544716, 'soft_10000_acc': 0.46093571186065674, 'r2': 0.9999963045120239, 'val_loss': 922484992.0, 'val_soft_5perc_acc': 0.9322540163993835, 'val_soft_10perc_acc': 0.9533277153968811, 'val_soft_500_acc': 0.019407592713832855, 'val_soft_1000_acc': 0.03936030715703964, 'val_soft_10000_acc': 0.40736013650894165, 'val_r2': 0.9999957084655762}\n",
            "Epoch: 40 - {'loss': 470451328.0, 'soft_5perc_acc': 0.9447380900382996, 'soft_10perc_acc': 0.9582163095474243, 'soft_500_acc': 0.03649690002202988, 'soft_1000_acc': 0.07229918241500854, 'soft_10000_acc': 0.5955091118812561, 'r2': 0.9999977946281433, 'val_loss': 533986112.0, 'val_soft_5perc_acc': 0.946152925491333, 'val_soft_10perc_acc': 0.9591542482376099, 'val_soft_500_acc': 0.03543704375624657, 'val_soft_1000_acc': 0.07145632803440094, 'val_soft_10000_acc': 0.5905728340148926, 'val_r2': 0.9999974966049194}\n",
            "Epoch: 50 - {'loss': 346597056.0, 'soft_5perc_acc': 0.9483592510223389, 'soft_10perc_acc': 0.9611090421676636, 'soft_500_acc': 0.04266957566142082, 'soft_1000_acc': 0.08501258492469788, 'soft_10000_acc': 0.658750593662262, 'r2': 0.9999982714653015, 'val_loss': 410998848.0, 'val_soft_5perc_acc': 0.9495713710784912, 'val_soft_10perc_acc': 0.9617598056793213, 'val_soft_500_acc': 0.045154474675655365, 'val_soft_1000_acc': 0.08924204856157303, 'val_soft_10000_acc': 0.6699112057685852, 'val_r2': 0.9999980926513672}\n",
            "Epoch: 60 - {'loss': 275710176.0, 'soft_5perc_acc': 0.9520927667617798, 'soft_10perc_acc': 0.963743269443512, 'soft_500_acc': 0.04805804044008255, 'soft_1000_acc': 0.0956919714808464, 'soft_10000_acc': 0.7030664682388306, 'r2': 0.9999985694885254, 'val_loss': 327512960.0, 'val_soft_5perc_acc': 0.9528713226318359, 'val_soft_10perc_acc': 0.9639307260513306, 'val_soft_500_acc': 0.05089298263192177, 'val_soft_1000_acc': 0.10034424066543579, 'val_soft_10000_acc': 0.7034643292427063, 'val_r2': 0.9999984502792358}\n",
            "Epoch: 70 - {'loss': 230592720.0, 'soft_5perc_acc': 0.9544992446899414, 'soft_10perc_acc': 0.9651967883110046, 'soft_500_acc': 0.053298283368349075, 'soft_1000_acc': 0.1067393571138382, 'soft_10000_acc': 0.7369232773780823, 'r2': 0.9999986886978149, 'val_loss': 283547360.0, 'val_soft_5perc_acc': 0.952369749546051, 'val_soft_10perc_acc': 0.9651943445205688, 'val_soft_500_acc': 0.0545373260974884, 'val_soft_1000_acc': 0.10726018249988556, 'val_soft_10000_acc': 0.7277573943138123, 'val_r2': 0.9999986886978149}\n",
            "Epoch: 80 - {'loss': 200340000.0, 'soft_5perc_acc': 0.9563919305801392, 'soft_10perc_acc': 0.966657280921936, 'soft_500_acc': 0.057387616485357285, 'soft_1000_acc': 0.11375024914741516, 'soft_10000_acc': 0.7594126462936401, 'r2': 0.9999995827674866, 'val_loss': 249630624.0, 'val_soft_5perc_acc': 0.9567148089408875, 'val_soft_10perc_acc': 0.9675499796867371, 'val_soft_500_acc': 0.053327735513448715, 'val_soft_1000_acc': 0.11096514761447906, 'val_soft_10000_acc': 0.7530478239059448, 'val_r2': 0.9999988675117493}\n",
            "Epoch: 90 - {'loss': 180049120.0, 'soft_5perc_acc': 0.957581639289856, 'soft_10perc_acc': 0.9676119089126587, 'soft_500_acc': 0.05997911095619202, 'soft_1000_acc': 0.1196058839559555, 'soft_10000_acc': 0.7748021483421326, 'r2': 0.9999995827674866, 'val_loss': 227112528.0, 'val_soft_5perc_acc': 0.9580195546150208, 'val_soft_10perc_acc': 0.9683442711830139, 'val_soft_500_acc': 0.059321120381355286, 'val_soft_1000_acc': 0.11960269510746002, 'val_soft_10000_acc': 0.7716464996337891, 'val_r2': 0.999998927116394}\n",
            "Epoch: 100 - {'loss': 163541440.0, 'soft_5perc_acc': 0.9585350155830383, 'soft_10perc_acc': 0.9680533409118652, 'soft_500_acc': 0.06411053240299225, 'soft_1000_acc': 0.12659862637519836, 'soft_10000_acc': 0.791070818901062, 'r2': 0.9999995827674866, 'val_loss': 207944272.0, 'val_soft_5perc_acc': 0.9585509896278381, 'val_soft_10perc_acc': 0.9688354730606079, 'val_soft_500_acc': 0.06263148784637451, 'val_soft_1000_acc': 0.12461298704147339, 'val_soft_10000_acc': 0.7878888845443726, 'val_r2': 0.9999990463256836}\n"
          ],
          "name": "stdout"
        }
      ]
    },
    {
      "cell_type": "markdown",
      "metadata": {
        "id": "9AkpA_FrqIl7",
        "colab_type": "text"
      },
      "source": [
        "## 학습 결과 확인"
      ]
    },
    {
      "cell_type": "code",
      "metadata": {
        "id": "WDK34mkKqf2b",
        "colab_type": "code",
        "colab": {
          "base_uri": "https://localhost:8080/",
          "height": 599
        },
        "outputId": "f6fe5c10-ab10-40f5-dda9-8c502e243768"
      },
      "source": [
        "# Plot the train/validation loss values\n",
        "plt.figure(figsize=(20,10))\n",
        "_loss = history.history['loss'][5:]\n",
        "_val_loss = history.history['val_loss'][5:]\n",
        "\n",
        "train_loss_plot, = plt.plot(range(1, len(_loss)+1), _loss, label='Train Loss')\n",
        "val_loss_plot, = plt.plot(range(1, len(_val_loss)+1), _val_loss, label='Validation Loss')\n",
        "\n",
        "_ = plt.legend(handles=[train_loss_plot, val_loss_plot])"
      ],
      "execution_count": 21,
      "outputs": [
        {
          "output_type": "display_data",
          "data": {
            "image/png": "[encoded data removed]",
            "text/plain": [
              "<Figure size 1440x720 with 1 Axes>"
            ]
          },
          "metadata": {
            "tags": [],
            "needs_background": "light"
          }
        }
      ]
    },
    {
      "cell_type": "code",
      "metadata": {
        "id": "jiLi8SfkqqIF",
        "colab_type": "code",
        "colab": {
          "base_uri": "https://localhost:8080/",
          "height": 588
        },
        "outputId": "f5de93c2-8be5-488d-b27e-5314a11ec5d1"
      },
      "source": [
        "plt.figure(figsize=(20,10))\n",
        "_loss = history.history['soft_10000_acc'][5:]\n",
        "_val_loss = history.history['val_soft_10000_acc'][5:]\n",
        "\n",
        "train_loss_plot, = plt.plot(range(1, len(_loss)+1), _loss, label='soft_10000_acc')\n",
        "val_loss_plot, = plt.plot(range(1, len(_val_loss)+1), _val_loss, label='val_soft_10000_acc')\n",
        "\n",
        "_ = plt.legend(handles=[train_loss_plot, val_loss_plot])"
      ],
      "execution_count": 22,
      "outputs": [
        {
          "output_type": "display_data",
          "data": {
            "image/png": "[encoded data removed]",
            "text/plain": [
              "<Figure size 1440x720 with 1 Axes>"
            ]
          },
          "metadata": {
            "tags": [],
            "needs_background": "light"
          }
        }
      ]
    },
    {
      "cell_type": "code",
      "metadata": {
        "id": "XjGioVIkogC_",
        "colab_type": "code",
        "colab": {
          "base_uri": "https://localhost:8080/",
          "height": 992
        },
        "outputId": "420ae183-6d56-4182-93bd-e5d689a4ac5e"
      },
      "source": [
        "df = pd.DataFrame(Y_val,columns=['NAFYC'])\n",
        "\n",
        "print (\"This is the average value we are trying to predict: %d\" % df['NAFYC'].mean())\n",
        "\n",
        "# Add a column for the model's predicted values\n",
        "df['pred'] = model.predict([X_val_continuous, X_val_categorical['code_mapping']])\n",
        "\n",
        "# Calculate the difference between the predicted and the actual price\n",
        "df['diff'] = df['pred'] - df['NAFYC']\n",
        "\n",
        "# Calculate the absolute difference between the predicted and the actual price\n",
        "df['abs_diff'] = np.abs(df['diff'])\n",
        "\n",
        "# Calculate the percentage of the difference from the actual price\n",
        "df['%diff'] = 100 * (df['diff'] / df['NAFYC'])\n",
        "\n",
        "# Calculate the absolute percentage difference from the actual price\n",
        "df['abs_%diff'] = np.abs(df['%diff'])\n",
        "\n",
        "# Calculate the mean and std. of the diff field\n",
        "diff_mean, diff_std = df['diff'].mean(), df['diff'].std()\n",
        "print(\"The mean is very close to 0 ({mean}) with std. {std}.\".format(mean=round(diff_mean, 2), std=round(diff_std, 2)))\n",
        "\n",
        "# Here is the histogram of the differences\n",
        "plt.figure(figsize=(20,10))\n",
        "plt.hist(df['diff'], bins=100)\n",
        "plt.xlabel(\"\\\\\")\n",
        "plt.ylabel(\"# samples\")\n",
        "_ = plt.title(\"Difference between predicted and actual price\")\n",
        "\n",
        "plt.show()\n",
        "\n",
        "# Sort by the 'abs_diff' field and show the 5 largest mistakes in absolute values\n",
        "a = df.sort_values(\"abs_diff\", ascending=False)\n",
        "a.drop(columns=['NAFYC'],inplace=True)\n",
        "b = a.join(dataset)\n",
        "b.head(10)"
      ],
      "execution_count": 23,
      "outputs": [
        {
          "output_type": "stream",
          "text": [
            "This is the average value we are trying to predict: 12739733\n",
            "The mean is very close to 0 (683.15) with std. 14556.2.\n"
          ],
          "name": "stdout"
        },
        {
          "output_type": "display_data",
          "data": {
            "image/png": "[encoded data removed]",
            "text/plain": [
              "<Figure size 1440x720 with 1 Axes>"
            ]
          },
          "metadata": {
            "tags": [],
            "needs_background": "light"
          }
        },
        {
          "output_type": "execute_result",
          "data": {
            "text/html": [
              "<div>\n",
              "<style scoped>\n",
              "    .dataframe tbody tr th:only-of-type {\n",
              "        vertical-align: middle;\n",
              "    }\n",
              "\n",
              "    .dataframe tbody tr th {\n",
              "        vertical-align: top;\n",
              "    }\n",
              "\n",
              "    .dataframe thead th {\n",
              "        text-align: right;\n",
              "    }\n",
              "</style>\n",
              "<table border=\"1\" class=\"dataframe\">\n",
              "  <thead>\n",
              "    <tr style=\"text-align: right;\">\n",
              "      <th></th>\n",
              "      <th>pred</th>\n",
              "      <th>diff</th>\n",
              "      <th>abs_diff</th>\n",
              "      <th>%diff</th>\n",
              "      <th>abs_%diff</th>\n",
              "      <th>CODE</th>\n",
              "      <th>REAL_YY</th>\n",
              "      <th>COM_RATE</th>\n",
              "      <th>NAFYC</th>\n",
              "      <th>code_mapping</th>\n",
              "      <th>ft1</th>\n",
              "    </tr>\n",
              "  </thead>\n",
              "  <tbody>\n",
              "    <tr>\n",
              "      <th>332164</th>\n",
              "      <td>5.549403e+05</td>\n",
              "      <td>525180.312500</td>\n",
              "      <td>525180.312500</td>\n",
              "      <td>1764.718792</td>\n",
              "      <td>1764.718792</td>\n",
              "      <td>2302</td>\n",
              "      <td>-1.131859</td>\n",
              "      <td>-0.690566</td>\n",
              "      <td>29760.0</td>\n",
              "      <td>1303</td>\n",
              "      <td>0.781623</td>\n",
              "    </tr>\n",
              "    <tr>\n",
              "      <th>318939</th>\n",
              "      <td>8.771789e+05</td>\n",
              "      <td>275949.875000</td>\n",
              "      <td>275949.875000</td>\n",
              "      <td>45.897632</td>\n",
              "      <td>45.897632</td>\n",
              "      <td>2255</td>\n",
              "      <td>1.590676</td>\n",
              "      <td>-1.736187</td>\n",
              "      <td>601229.0</td>\n",
              "      <td>1256</td>\n",
              "      <td>-2.761710</td>\n",
              "    </tr>\n",
              "    <tr>\n",
              "      <th>169370</th>\n",
              "      <td>9.636630e+07</td>\n",
              "      <td>227404.000000</td>\n",
              "      <td>227404.000000</td>\n",
              "      <td>0.236537</td>\n",
              "      <td>0.236537</td>\n",
              "      <td>1655</td>\n",
              "      <td>3.268234</td>\n",
              "      <td>1.679508</td>\n",
              "      <td>96138900.0</td>\n",
              "      <td>656</td>\n",
              "      <td>5.489024</td>\n",
              "    </tr>\n",
              "    <tr>\n",
              "      <th>3258</th>\n",
              "      <td>2.898155e+05</td>\n",
              "      <td>223255.531250</td>\n",
              "      <td>223255.531250</td>\n",
              "      <td>335.419969</td>\n",
              "      <td>335.419969</td>\n",
              "      <td>1012</td>\n",
              "      <td>-1.132439</td>\n",
              "      <td>1.017281</td>\n",
              "      <td>66560.0</td>\n",
              "      <td>13</td>\n",
              "      <td>-1.152009</td>\n",
              "    </tr>\n",
              "    <tr>\n",
              "      <th>53861</th>\n",
              "      <td>2.292626e+07</td>\n",
              "      <td>201524.000000</td>\n",
              "      <td>201524.000000</td>\n",
              "      <td>0.886805</td>\n",
              "      <td>0.886805</td>\n",
              "      <td>1195</td>\n",
              "      <td>3.345030</td>\n",
              "      <td>-0.969398</td>\n",
              "      <td>22724736.0</td>\n",
              "      <td>196</td>\n",
              "      <td>-3.242665</td>\n",
              "    </tr>\n",
              "    <tr>\n",
              "      <th>118527</th>\n",
              "      <td>2.645377e+05</td>\n",
              "      <td>200853.718750</td>\n",
              "      <td>200853.718750</td>\n",
              "      <td>315.391179</td>\n",
              "      <td>315.391179</td>\n",
              "      <td>1464</td>\n",
              "      <td>-1.132893</td>\n",
              "      <td>1.261259</td>\n",
              "      <td>63684.0</td>\n",
              "      <td>465</td>\n",
              "      <td>-1.428872</td>\n",
              "    </tr>\n",
              "    <tr>\n",
              "      <th>98500</th>\n",
              "      <td>2.084155e+05</td>\n",
              "      <td>196015.468750</td>\n",
              "      <td>196015.468750</td>\n",
              "      <td>1580.769909</td>\n",
              "      <td>1580.769909</td>\n",
              "      <td>1384</td>\n",
              "      <td>-1.133963</td>\n",
              "      <td>-0.899690</td>\n",
              "      <td>12400.0</td>\n",
              "      <td>385</td>\n",
              "      <td>1.020215</td>\n",
              "    </tr>\n",
              "    <tr>\n",
              "      <th>332166</th>\n",
              "      <td>1.644945e+07</td>\n",
              "      <td>195898.000000</td>\n",
              "      <td>195898.000000</td>\n",
              "      <td>1.205263</td>\n",
              "      <td>1.205263</td>\n",
              "      <td>2302</td>\n",
              "      <td>1.241799</td>\n",
              "      <td>-0.690566</td>\n",
              "      <td>16253548.0</td>\n",
              "      <td>1303</td>\n",
              "      <td>-0.857544</td>\n",
              "    </tr>\n",
              "    <tr>\n",
              "      <th>337266</th>\n",
              "      <td>2.254195e+05</td>\n",
              "      <td>193419.546875</td>\n",
              "      <td>193419.546875</td>\n",
              "      <td>604.436084</td>\n",
              "      <td>604.436084</td>\n",
              "      <td>2325</td>\n",
              "      <td>-1.134399</td>\n",
              "      <td>1.017281</td>\n",
              "      <td>32000.0</td>\n",
              "      <td>1326</td>\n",
              "      <td>-1.154002</td>\n",
              "    </tr>\n",
              "    <tr>\n",
              "      <th>94816</th>\n",
              "      <td>3.618914e+07</td>\n",
              "      <td>186286.000000</td>\n",
              "      <td>186286.000000</td>\n",
              "      <td>0.517420</td>\n",
              "      <td>0.517420</td>\n",
              "      <td>1370</td>\n",
              "      <td>3.277078</td>\n",
              "      <td>-0.481442</td>\n",
              "      <td>36002850.0</td>\n",
              "      <td>371</td>\n",
              "      <td>-1.577722</td>\n",
              "    </tr>\n",
              "  </tbody>\n",
              "</table>\n",
              "</div>"
            ],
            "text/plain": [
              "                pred           diff  ...  code_mapping       ft1\n",
              "332164  5.549403e+05  525180.312500  ...          1303  0.781623\n",
              "318939  8.771789e+05  275949.875000  ...          1256 -2.761710\n",
              "169370  9.636630e+07  227404.000000  ...           656  5.489024\n",
              "3258    2.898155e+05  223255.531250  ...            13 -1.152009\n",
              "53861   2.292626e+07  201524.000000  ...           196 -3.242665\n",
              "118527  2.645377e+05  200853.718750  ...           465 -1.428872\n",
              "98500   2.084155e+05  196015.468750  ...           385  1.020215\n",
              "332166  1.644945e+07  195898.000000  ...          1303 -0.857544\n",
              "337266  2.254195e+05  193419.546875  ...          1326 -1.154002\n",
              "94816   3.618914e+07  186286.000000  ...           371 -1.577722\n",
              "\n",
              "[10 rows x 11 columns]"
            ]
          },
          "metadata": {
            "tags": []
          },
          "execution_count": 23
        }
      ]
    },
    {
      "cell_type": "markdown",
      "metadata": {
        "id": "sQoGxkEI3j4s",
        "colab_type": "text"
      },
      "source": [
        "## polynomial + Support vector Regression\n",
        "\n",
        "https://keras.io/examples/keras_recipes/quasi_svm/"
      ]
    },
    {
      "cell_type": "code",
      "metadata": {
        "id": "pFEGMYtu3eLh",
        "colab_type": "code",
        "colab": {
          "base_uri": "https://localhost:8080/",
          "height": 677
        },
        "outputId": "b88e0a18-2bae-4690-bef6-a243fc7ac66d"
      },
      "source": [
        "from sklearn.preprocessing import PolynomialFeatures\n",
        "from tensorflow.keras.layers.experimental import RandomFourierFeatures\n",
        "\n",
        "# Define the embedding input\n",
        "code_input = Input(shape=(1,), dtype='int32') \n",
        "output_dim=32*2   #X_train_categorical['code_mapping'].max()*1\n",
        "code_embedings = Embedding(output_dim=output_dim, input_dim=X_train_categorical['code_mapping'].max()+1)(code_input)\n",
        "code_embedings = keras.layers.Reshape((output_dim,))(code_embedings)\n",
        "\n",
        "######################### polynomial\n",
        "n = 3\n",
        "trX_expanded = np.expand_dims(X_train_continuous, axis=1)\n",
        "poly = PolynomialFeatures(n)\n",
        "X_train_continuous = poly.fit_transform(X_train_continuous)\n",
        "X_val_continuous = poly.fit_transform(X_val_continuous)\n",
        "\n",
        "# Define the continuous variables input (just like before)\n",
        "continuous_input = Input(shape=(X_train_continuous.shape[1], ))\n",
        "######################## Support vector \n",
        "#svr_layer = RandomFourierFeatures(output_dim=X_train_continuous.shape[1]*4, scale=10.0, kernel_initializer=\"gaussian\")(continuous_input)\n",
        "# Concatenate continuous and embeddings inputs\n",
        "all_input = keras.layers.concatenate([continuous_input, code_embedings])\n",
        "print(all_input)\n",
        "\n",
        "# Define the model\n",
        "dense1 = Dense(all_input.shape[1]*3, activation='relu', kernel_initializer=\"uniform\")(all_input)\n",
        "dense2 = Dense(3, activation='relu', kernel_initializer=\"uniform\")(dense1)\n",
        "predictions = Dense(1, kernel_initializer=\"uniform\")(dense2)\n",
        "\n",
        "# Note using the input object 'area_input' not 'area_embeddings'\n",
        "model = Model(inputs=[continuous_input, code_input], outputs=predictions)\n",
        "model.compile(loss='mse', optimizer=keras.optimizers.Adam(lr=.8, beta_1=0.9, beta_2=0.999, decay=1e-03, amsgrad=True),metrics=[soft_5perc_acc,soft_10perc_acc,soft_500_acc,soft_1000_acc,soft_10000_acc,r2])\n",
        "#model.compile(loss=keras.losses.hinge, optimizer=keras.optimizers.Adam(lr=.8, beta_1=0.9, beta_2=0.999, decay=1e-03, amsgrad=True),metrics=[soft_5perc_acc,soft_10perc_acc,soft_500_acc,soft_1000_acc,soft_10000_acc,r2])\n",
        "model.summary()\n",
        "\n",
        "epochs = 100\n",
        "\n",
        "# Note continuous and categorical columns are inserted in the same order as defined in all_inputs\n",
        "history = model.fit([X_train_continuous, X_train_categorical['code_mapping']], Y_train, \n",
        "          epochs=epochs, batch_size=5000, \n",
        "          callbacks=[periodic_logger_10], verbose=0,\n",
        "          validation_data=([X_val_continuous, X_val_categorical['code_mapping']], Y_val))"
      ],
      "execution_count": 77,
      "outputs": [
        {
          "output_type": "stream",
          "text": [
            "Tensor(\"concatenate_29/concat:0\", shape=(None, 74), dtype=float32)\n",
            "Model: \"functional_59\"\n",
            "__________________________________________________________________________________________________\n",
            "Layer (type)                    Output Shape         Param #     Connected to                     \n",
            "==================================================================================================\n",
            "input_61 (InputLayer)           [(None, 1)]          0                                            \n",
            "__________________________________________________________________________________________________\n",
            "embedding_30 (Embedding)        (None, 1, 64)        97344       input_61[0][0]                   \n",
            "__________________________________________________________________________________________________\n",
            "input_62 (InputLayer)           [(None, 10)]         0                                            \n",
            "__________________________________________________________________________________________________\n",
            "reshape_30 (Reshape)            (None, 64)           0           embedding_30[0][0]               \n",
            "__________________________________________________________________________________________________\n",
            "concatenate_29 (Concatenate)    (None, 74)           0           input_62[0][0]                   \n",
            "                                                                 reshape_30[0][0]                 \n",
            "__________________________________________________________________________________________________\n",
            "dense_86 (Dense)                (None, 222)          16650       concatenate_29[0][0]             \n",
            "__________________________________________________________________________________________________\n",
            "dense_87 (Dense)                (None, 3)            669         dense_86[0][0]                   \n",
            "__________________________________________________________________________________________________\n",
            "dense_88 (Dense)                (None, 1)            4           dense_87[0][0]                   \n",
            "==================================================================================================\n",
            "Total params: 114,667\n",
            "Trainable params: 114,667\n",
            "Non-trainable params: 0\n",
            "__________________________________________________________________________________________________\n",
            "Epoch: 10 - {'loss': 2850350336.0, 'soft_5perc_acc': 0.8947356343269348, 'soft_10perc_acc': 0.9281710982322693, 'soft_500_acc': 0.012677991762757301, 'soft_1000_acc': 0.02554992400109768, 'soft_10000_acc': 0.25088807940483093, 'r2': 0.9999872446060181, 'val_loss': 2706557696.0, 'val_soft_5perc_acc': 0.8991398811340332, 'val_soft_10perc_acc': 0.9273067712783813, 'val_soft_500_acc': 0.01216540951281786, 'val_soft_1000_acc': 0.023885419592261314, 'val_soft_10000_acc': 0.23938219249248505, 'val_r2': 0.9999873042106628}\n",
            "Epoch: 20 - {'loss': 660359808.0, 'soft_5perc_acc': 0.9411109685897827, 'soft_10perc_acc': 0.9547984600067139, 'soft_500_acc': 0.031150072813034058, 'soft_1000_acc': 0.06249961256980896, 'soft_10000_acc': 0.5302465558052063, 'r2': 0.9999967217445374, 'val_loss': 728605056.0, 'val_soft_5perc_acc': 0.9396313428878784, 'val_soft_10perc_acc': 0.9530938863754272, 'val_soft_500_acc': 0.030011223629117012, 'val_soft_1000_acc': 0.05966784432530403, 'val_soft_10000_acc': 0.5230754613876343, 'val_r2': 0.999996542930603}\n",
            "Epoch: 30 - {'loss': 352920256.0, 'soft_5perc_acc': 0.950560450553894, 'soft_10perc_acc': 0.9617464542388916, 'soft_500_acc': 0.04200015589594841, 'soft_1000_acc': 0.08318134397268295, 'soft_10000_acc': 0.6554660201072693, 'r2': 0.9999991059303284, 'val_loss': 392583488.0, 'val_soft_5perc_acc': 0.9492079615592957, 'val_soft_10perc_acc': 0.9604734182357788, 'val_soft_500_acc': 0.04204622656106949, 'val_soft_1000_acc': 0.08373865485191345, 'val_soft_10000_acc': 0.6668205261230469, 'val_r2': 0.9999980926513672}\n",
            "Epoch: 40 - {'loss': 249425872.0, 'soft_5perc_acc': 0.9550687670707703, 'soft_10perc_acc': 0.9648496508598328, 'soft_500_acc': 0.04924604296684265, 'soft_1000_acc': 0.09771867096424103, 'soft_10000_acc': 0.718904435634613, 'r2': 0.9999992251396179, 'val_loss': 292063552.0, 'val_soft_5perc_acc': 0.9537503719329834, 'val_soft_10perc_acc': 0.9634389877319336, 'val_soft_500_acc': 0.04285603389143944, 'val_soft_1000_acc': 0.08679187297821045, 'val_soft_10000_acc': 0.6934770941734314, 'val_r2': 0.9999986290931702}\n",
            "Epoch: 50 - {'loss': 197166608.0, 'soft_5perc_acc': 0.9575503468513489, 'soft_10perc_acc': 0.9669533967971802, 'soft_500_acc': 0.055100057274103165, 'soft_1000_acc': 0.10946566611528397, 'soft_10000_acc': 0.7625729441642761, 'r2': 0.9999997019767761, 'val_loss': 229544528.0, 'val_soft_5perc_acc': 0.9567845463752747, 'val_soft_10perc_acc': 0.9659056067466736, 'val_soft_500_acc': 0.054253239184617996, 'val_soft_1000_acc': 0.10940728336572647, 'val_soft_10000_acc': 0.7582290172576904, 'val_r2': 0.9999989867210388}\n",
            "Epoch: 60 - {'loss': 167381200.0, 'soft_5perc_acc': 0.959345817565918, 'soft_10perc_acc': 0.9681721329689026, 'soft_500_acc': 0.06047391891479492, 'soft_1000_acc': 0.1196737140417099, 'soft_10000_acc': 0.7930049896240234, 'r2': 0.9999997615814209, 'val_loss': 194207792.0, 'val_soft_5perc_acc': 0.9580937623977661, 'val_soft_10perc_acc': 0.9669750332832336, 'val_soft_500_acc': 0.06225284934043884, 'val_soft_1000_acc': 0.12077070027589798, 'val_soft_10000_acc': 0.7932122349739075, 'val_r2': 0.9999990463256836}\n",
            "Epoch: 70 - {'loss': 147362928.0, 'soft_5perc_acc': 0.9606536030769348, 'soft_10perc_acc': 0.9691113233566284, 'soft_500_acc': 0.06385000795125961, 'soft_1000_acc': 0.1271527260541916, 'soft_10000_acc': 0.8157081007957458, 'r2': 0.9999997615814209, 'val_loss': 172975776.0, 'val_soft_5perc_acc': 0.9595159292221069, 'val_soft_10perc_acc': 0.9682795405387878, 'val_soft_500_acc': 0.06418245285749435, 'val_soft_1000_acc': 0.1266455054283142, 'val_soft_10000_acc': 0.8114590644836426, 'val_r2': 0.9999991655349731}\n",
            "Epoch: 80 - {'loss': 133367800.0, 'soft_5perc_acc': 0.9616075754165649, 'soft_10perc_acc': 0.9699769020080566, 'soft_500_acc': 0.06751101464033127, 'soft_1000_acc': 0.13310083746910095, 'soft_10000_acc': 0.8311452269554138, 'r2': 0.9999997615814209, 'val_loss': 157679680.0, 'val_soft_5perc_acc': 0.9605501890182495, 'val_soft_10perc_acc': 0.9688591957092285, 'val_soft_500_acc': 0.06738685816526413, 'val_soft_1000_acc': 0.13246110081672668, 'val_soft_10000_acc': 0.8238558769226074, 'val_r2': 0.9999992847442627}\n",
            "Epoch: 90 - {'loss': 122758448.0, 'soft_5perc_acc': 0.9625179767608643, 'soft_10perc_acc': 0.9707050919532776, 'soft_500_acc': 0.07122012972831726, 'soft_1000_acc': 0.13929907977581024, 'soft_10000_acc': 0.8441083431243896, 'r2': 0.9999997615814209, 'val_loss': 144638960.0, 'val_soft_5perc_acc': 0.9614251852035522, 'val_soft_10perc_acc': 0.9695563912391663, 'val_soft_500_acc': 0.06931865215301514, 'val_soft_1000_acc': 0.13945190608501434, 'val_soft_10000_acc': 0.8379582762718201, 'val_r2': 0.9999993443489075}\n",
            "Epoch: 100 - {'loss': 114233624.0, 'soft_5perc_acc': 0.9631147980690002, 'soft_10perc_acc': 0.971186637878418, 'soft_500_acc': 0.07374408096075058, 'soft_1000_acc': 0.14578574895858765, 'soft_10000_acc': 0.8549729585647583, 'r2': 0.9999997615814209, 'val_loss': 135450560.0, 'val_soft_5perc_acc': 0.962769627571106, 'val_soft_10perc_acc': 0.9699137806892395, 'val_soft_500_acc': 0.07436645776033401, 'val_soft_1000_acc': 0.14427731931209564, 'val_soft_10000_acc': 0.8486449718475342, 'val_r2': 0.9999994039535522}\n"
          ],
          "name": "stdout"
        }
      ]
    },
    {
      "cell_type": "markdown",
      "metadata": {
        "id": "ayUxBuwlqMcN",
        "colab_type": "text"
      },
      "source": [
        "## lime에 의한 XAI 싷험"
      ]
    },
    {
      "cell_type": "code",
      "metadata": {
        "id": "lY88I6eCqZMF",
        "colab_type": "code",
        "colab": {}
      },
      "source": [
        "train_ds = pd.concat([X_train_continuous,X_train_categorical], axis=1)\n",
        "val_ds = pd.concat([X_val_continuous,X_val_categorical], axis=1)\n",
        "\n",
        "# XAI를 위한 lime  정의\n",
        "from lime import lime_tabular, lime_text\n",
        "exp = lime_tabular.LimeTabularExplainer(\n",
        "    train_ds.to_numpy(),\n",
        "    training_labels=Y_train,\n",
        "    feature_names=train_ds.columns,\n",
        "    class_names= ['NAFYC'],\n",
        "    mode=\"regression\"\n",
        ")"
      ],
      "execution_count": null,
      "outputs": []
    },
    {
      "cell_type": "code",
      "metadata": {
        "id": "CvYfszijrUYQ",
        "colab_type": "code",
        "colab": {}
      },
      "source": [
        "# 변수의 영향력 분석\n",
        "# 소팅을 위한 초기화 \n",
        "exp_ana = {}\n",
        "for k in train_ds.columns:\n",
        "  exp_ana[k] = 0\n",
        "\n",
        "# predict 함수 재정의 - lime에서 사용 가능하도록...\n",
        "continue_dim = X_train_continuous.shape[1]\n",
        "input_dim = train_ds.shape[1]\n",
        "def predict(data):\n",
        "    return model.predict([data[:,0:continue_dim],data[:,continue_dim:input_dim]])\n",
        "\n",
        "# validation set의 변수 영향력 분석...\n",
        "for i in range(40): #range(val_ds.shape[0]):\n",
        "    p = exp.explain_instance(np.asarray(val_ds.iloc[i]),predict,num_features=val_ds.shape[1])\n",
        "    for t in p.as_map()[0]:\n",
        "      exp_ana[train_ds.columns[t[0]]] += np.abs(t[1])\n",
        "\n",
        "import operator\n",
        "\n",
        "sorted_x = sorted(exp_ana.items(), key=operator.itemgetter(1))\n",
        "\n",
        "effect_result_table = pd.DataFrame(sorted_x,columns=['Feature', 'Effect'])\n",
        "effect_result_table['Effect'] = effect_result_table['Effect']/10000\n",
        "effect_result_table.plot(x='Feature',y='Effect', figsize=(8, 10),kind='barh')\n",
        "plt.show()\n",
        "effect_result_table"
      ],
      "execution_count": null,
      "outputs": []
    },
    {
      "cell_type": "markdown",
      "metadata": {
        "id": "10J9MJb0fxZA",
        "colab_type": "text"
      },
      "source": [
        "## 실효/해약 등 Event 시뮬레이션 데이터 생성"
      ]
    },
    {
      "cell_type": "code",
      "metadata": {
        "id": "0xZQWnhcAN6f",
        "colab_type": "code",
        "colab": {}
      },
      "source": [
        "contract_change_rules = {\n",
        "    '성립': 0,\n",
        "    '실효': -0.4,\n",
        "    '해약': -0.8,\n",
        "    '철회': -0.5,\n",
        "    '변경': -0.1\n",
        "}\n",
        "\n",
        "def create_samples2():\n",
        "    rate_table = {}\n",
        "    samples = []\n",
        "    start_date = datetime.date(2015, 1, 1)\n",
        "    end_date = datetime.date(2020, 8, 8)\n",
        "\n",
        "    for i in range(1000,1520):\n",
        "      code = i #np.random.choice(range(1000,1520))\n",
        "      count = np.random.choice(range(10,250))\n",
        "      for j in range(count):\n",
        "        cntr_no = str(random.choice(range(100000,500000))) + ':' + str(random.choice(range(100000,500000)))\n",
        "        real_yy = random.choice(range(1,1000)) * random.choice(range(1,1000)) # * 100\n",
        "        if code not in rate_table:\n",
        "          rate = np.random.choice(range(1,100)) / 100\n",
        "          rate_table[code] = rate\n",
        "        else:\n",
        "          rate = rate_table[code]\n",
        "\n",
        "        div = '성립'\n",
        "        minus_rate = 0\n",
        "\n",
        "        # 계약일 생성\n",
        "        time_between_dates = end_date - start_date\n",
        "        days_between_dates = time_between_dates.days\n",
        "        random_number_of_days = random.randrange(days_between_dates)\n",
        "        contract_date = start_date + datetime.timedelta(days=random_number_of_days)\n",
        "        event_date = contract_date\n",
        "        # 계약 총개월수 생성 \n",
        "        contract_months = np.random.choice(range(12,12*30))\n",
        "        event_num = 0\n",
        "        samples.append([cntr_no,div,event_num,minus_rate,contract_date,contract_months,event_date,code,real_yy,rate])\n",
        "        for changes in range(19):\n",
        "          event_num += 1\n",
        "          div = random.choice(['실효','해약','철회','변경'])\n",
        "          # Event 발생일 생성 \n",
        "          time_between_dates = end_date - event_date\n",
        "          days_between_dates = time_between_dates.days\n",
        "          random_number_of_days = random.randrange(days_between_dates)\n",
        "          event_date = event_date + datetime.timedelta(days=random_number_of_days)\n",
        "          if div=='변경':\n",
        "            contract_date = event_date\n",
        "            code = np.random.choice(range(1000,1520))\n",
        "            real_yy = random.choice(range(1,1000)) * random.choice(range(1,1000)) # * 100\n",
        "            contract_months = np.random.choice(range(12,12*30))       \n",
        "            if code not in rate_table:\n",
        "              rate = np.random.choice(range(1,100)) / 100\n",
        "              rate_table[code] = rate\n",
        "            else:\n",
        "              rate = rate_table[code]\n",
        "          elif div=='해약':\n",
        "            samples.append([cntr_no,div,event_num,contract_change_rules[div],contract_date,contract_months,event_date,code,real_yy,rate])\n",
        "            break\n",
        "\n",
        "          samples.append([cntr_no,div,event_num,contract_change_rules[div],contract_date,contract_months,event_date,code,real_yy,rate])\n",
        "        \n",
        "    return pd.DataFrame(samples, columns=['CONTRACT_ID','DIV','EVENT_NUM','MINUS_RATE','CONTRACT_DATE','CONTRACT_MONTHS','EVENT_DATE','CODE','REAL_YY','COM_RATE'])"
      ],
      "execution_count": null,
      "outputs": []
    },
    {
      "cell_type": "code",
      "metadata": {
        "id": "m8SL8jqCAsgX",
        "colab_type": "code",
        "colab": {}
      },
      "source": [
        "dataset2 = create_samples2()"
      ],
      "execution_count": null,
      "outputs": []
    },
    {
      "cell_type": "code",
      "metadata": {
        "id": "uUEx922sAxT8",
        "colab_type": "code",
        "colab": {}
      },
      "source": [
        "dataset2.head(10)"
      ],
      "execution_count": null,
      "outputs": []
    },
    {
      "cell_type": "code",
      "metadata": {
        "id": "XSJQXJeCXR7_",
        "colab_type": "code",
        "colab": {}
      },
      "source": [
        "def diff_month(d1, d2):\n",
        "    return (d1.year - d2.year) * 12 + d1.month - d2.month"
      ],
      "execution_count": null,
      "outputs": []
    },
    {
      "cell_type": "code",
      "metadata": {
        "id": "zNed00hrXSs2",
        "colab_type": "code",
        "colab": {}
      },
      "source": [
        "back_nafyc = {}\n",
        "\n",
        "def nafyc_func2(row):\n",
        "  CONTRACT_ID = row['CONTRACT_ID']\n",
        "  DIV = row['DIV']\n",
        "  MINUS_RATE = row['MINUS_RATE']\n",
        "  CONTRACT_DATE = row['CONTRACT_DATE']\n",
        "  CONTRACT_MONTHS = row['CONTRACT_MONTHS']\n",
        "  EVENT_DATE = row['EVENT_DATE']\n",
        "  CODE = row['CODE']\n",
        "  REAL_YY = row['REAL_YY']\n",
        "  COM_RATE = row['COM_RATE']\n",
        "  if DIV=='성립':\n",
        "    nafyc = REAL_YY * COM_RATE\n",
        "    back_nafyc[CONTRACT_ID] = nafyc\n",
        "  else:\n",
        "    nafyc = back_nafyc[CONTRACT_ID]\n",
        "    # event가 발생하면 nafyc = nafyc + nafyc * (남은기간/전체기간 * 마이너스비율) --> 이건 임의도 관계식 넣은것임... 실 처리과정은 아님\n",
        "    nafyc = nafyc + nafyc * MINUS_RATE * ((diff_month(EVENT_DATE,CONTRACT_DATE))/CONTRACT_MONTHS)\n",
        "    back_nafyc[CONTRACT_ID] = nafyc\n",
        "\n",
        "  return nafyc"
      ],
      "execution_count": null,
      "outputs": []
    },
    {
      "cell_type": "code",
      "metadata": {
        "id": "muG40LIKZY6o",
        "colab_type": "code",
        "colab": {}
      },
      "source": [
        "dataset2['NAFYC'] = dataset2.apply(nafyc_func2, axis=1)"
      ],
      "execution_count": null,
      "outputs": []
    },
    {
      "cell_type": "code",
      "metadata": {
        "id": "LBCilUDaZjXX",
        "colab_type": "code",
        "colab": {}
      },
      "source": [
        "dataset2"
      ],
      "execution_count": null,
      "outputs": []
    },
    {
      "cell_type": "markdown",
      "metadata": {
        "id": "kozAA3AiEOIT",
        "colab_type": "text"
      },
      "source": [
        "## EDA 과정"
      ]
    },
    {
      "cell_type": "code",
      "metadata": {
        "id": "9O0Z1Ft2ENir",
        "colab_type": "code",
        "colab": {}
      },
      "source": [
        "dataset2.groupby('CONTRACT_ID').count().max()"
      ],
      "execution_count": null,
      "outputs": []
    },
    {
      "cell_type": "markdown",
      "metadata": {
        "id": "NhYPAl25f41T",
        "colab_type": "text"
      },
      "source": [
        "## 데이터 전처리..."
      ]
    },
    {
      "cell_type": "code",
      "metadata": {
        "id": "_PpVhmVAa5wO",
        "colab_type": "code",
        "colab": {}
      },
      "source": [
        "dataset2 = dataset2.astype({\"CODE\": object})"
      ],
      "execution_count": null,
      "outputs": []
    },
    {
      "cell_type": "code",
      "metadata": {
        "id": "LUC1_8fwbG4X",
        "colab_type": "code",
        "colab": {}
      },
      "source": [
        "structure(dataset2)"
      ],
      "execution_count": null,
      "outputs": []
    },
    {
      "cell_type": "markdown",
      "metadata": {
        "id": "YiM_I3M8rFvb",
        "colab_type": "text"
      },
      "source": [
        "## 파생변수의 추가"
      ]
    },
    {
      "cell_type": "code",
      "metadata": {
        "id": "W98dho8LrTk4",
        "colab_type": "code",
        "colab": {}
      },
      "source": [
        "pre_nafycs = []\n",
        "pre_nafyc = 0\n",
        "for row in dataset2.iterrows():\n",
        "  if row[1][2] == 0:\n",
        "    pre_nafycs.append(0)\n",
        "  else:\n",
        "    pre_nafycs.append(pre_nafyc)\n",
        "  pre_nafyc = row[1][10]\n",
        "  \n",
        "dataset2['PRE_NAFYC'] = pre_nafycs"
      ],
      "execution_count": null,
      "outputs": []
    },
    {
      "cell_type": "code",
      "metadata": {
        "id": "g_rxqTUewTex",
        "colab_type": "code",
        "colab": {}
      },
      "source": [
        "def last_months(row):\n",
        "  CONTRACT_DATE = row['CONTRACT_DATE']\n",
        "  CONTRACT_MONTHS = row['CONTRACT_MONTHS']\n",
        "  EVENT_DATE = row['EVENT_DATE']\n",
        "  return diff_month(EVENT_DATE,CONTRACT_DATE)\n",
        "\n",
        "dataset2['LAST_MONTHS'] = dataset2.apply(last_months, axis=1)"
      ],
      "execution_count": null,
      "outputs": []
    },
    {
      "cell_type": "code",
      "metadata": {
        "id": "gM3Oh_YG0Lrl",
        "colab_type": "code",
        "colab": {}
      },
      "source": [
        "# zscore norm\n",
        "\n",
        "ds = dataset2[['MINUS_RATE','REAL_YY','COM_RATE','PRE_NAFYC','CONTRACT_MONTHS','LAST_MONTHS']]\n",
        "\n",
        "_mean = ds.mean(axis=0)\n",
        "_std = ds.std(axis=0)\n",
        "\n",
        "ds = ds - _mean\n",
        "ds /= _std\n",
        "\n",
        "dataset2.update(ds)\n",
        "dataset2"
      ],
      "execution_count": null,
      "outputs": []
    },
    {
      "cell_type": "code",
      "metadata": {
        "id": "wWmDBJY-0OCb",
        "colab_type": "code",
        "colab": {}
      },
      "source": [
        "dataset2['ft1'] = dataset2['REAL_YY']* dataset2['COM_RATE']\n",
        "dataset2['ft2'] = dataset2['LAST_MONTHS']/dataset2['CONTRACT_MONTHS']\n",
        "dataset2['ft3'] = dataset2['MINUS_RATE']*dataset2['LAST_MONTHS']/dataset2['CONTRACT_MONTHS']\n",
        "dataset2['ft4'] = dataset2['PRE_NAFYC']+dataset2['PRE_NAFYC']*dataset2['MINUS_RATE']*dataset2['LAST_MONTHS']/dataset2['CONTRACT_MONTHS']"
      ],
      "execution_count": null,
      "outputs": []
    },
    {
      "cell_type": "code",
      "metadata": {
        "id": "JSGi2GUTdvRe",
        "colab_type": "code",
        "colab": {}
      },
      "source": [
        "dataset2"
      ],
      "execution_count": null,
      "outputs": []
    },
    {
      "cell_type": "code",
      "metadata": {
        "id": "pOel1nYugoZU",
        "colab_type": "code",
        "colab": {}
      },
      "source": [
        "# 상품코드의 categpry mapping\n",
        "code_mapping = EmbeddingMapping(dataset2['CODE'])\n",
        "dataset2 = dataset2.assign(code_mapping=dataset2['CODE'].apply(code_mapping.get_mapping))\n",
        "# event구분의 category mapping\n",
        "div_mapping = EmbeddingMapping(dataset2['DIV'])\n",
        "dataset2 = dataset2.assign(div_mapping=dataset2['DIV'].apply(div_mapping.get_mapping))\n",
        "# EVENT_NUM의 category mapping\n",
        "eventint_mapping = EmbeddingMapping(dataset2['EVENT_NUM'])\n",
        "dataset2 = dataset2.assign(eventint_mapping=dataset2['EVENT_NUM'].apply(eventint_mapping.get_mapping))\n",
        "dataset2"
      ],
      "execution_count": null,
      "outputs": []
    },
    {
      "cell_type": "code",
      "metadata": {
        "id": "BrQP-q00HTfm",
        "colab_type": "code",
        "colab": {}
      },
      "source": [
        "dataset_net = dataset2[['CONTRACT_ID','MINUS_RATE','REAL_YY','COM_RATE','ft1','ft2','ft3','ft4','PRE_NAFYC','code_mapping','div_mapping','eventint_mapping','NAFYC']]\n",
        "dataset_net.shape"
      ],
      "execution_count": null,
      "outputs": []
    },
    {
      "cell_type": "markdown",
      "metadata": {
        "id": "5ayKTdN-LAhi",
        "colab_type": "text"
      },
      "source": [
        "## Trainset과 Validationset의 분리  "
      ]
    },
    {
      "cell_type": "code",
      "metadata": {
        "id": "r9QpcLT9uU6T",
        "colab_type": "code",
        "colab": {}
      },
      "source": [
        "# trainset과 validationset 나누고... 기타 정리\n",
        "\n",
        "X_train_org, X_val_org, Y_train, Y_val = train_test_split(dataset_net[['CONTRACT_ID','MINUS_RATE','REAL_YY','COM_RATE','ft1','ft2','ft3','ft4','PRE_NAFYC','code_mapping','div_mapping','eventint_mapping']],\n",
        "    dataset_net['NAFYC'], test_size=0.1, random_state=0)\n",
        "\n",
        "# 학습 대상 변수만 선택\n",
        "\n",
        "X_train_continuous = X_train_org[['MINUS_RATE','REAL_YY','COM_RATE','ft1','ft2','ft3','ft4','PRE_NAFYC']]\n",
        "X_train_categorical = X_train_org[['code_mapping','div_mapping','eventint_mapping']]\n",
        "\n",
        "X_val_continuous  = X_val_org[['MINUS_RATE','REAL_YY','COM_RATE','ft1','ft2','ft3','ft4','PRE_NAFYC']]\n",
        "X_val_categorical = X_val_org[['code_mapping','div_mapping','eventint_mapping']]\n"
      ],
      "execution_count": null,
      "outputs": []
    },
    {
      "cell_type": "code",
      "metadata": {
        "id": "pb84LRUszVz_",
        "colab_type": "code",
        "colab": {}
      },
      "source": [
        "X_train_categorical"
      ],
      "execution_count": null,
      "outputs": []
    },
    {
      "cell_type": "markdown",
      "metadata": {
        "id": "9cDbi4ebLJCf",
        "colab_type": "text"
      },
      "source": [
        "## Network의 구성"
      ]
    },
    {
      "cell_type": "code",
      "metadata": {
        "id": "6qQVRJCyu6bn",
        "colab_type": "code",
        "colab": {}
      },
      "source": [
        "import keras\n",
        "from keras import Input, Model\n",
        "from keras.layers import Dense, Activation, Flatten, Conv1D, MaxPooling1D, Conv2D, MaxPooling2D, concatenate\n",
        "\n",
        "# custom R2-score metrics for keras backend\n",
        "from keras import backend as K\n",
        "\n",
        "# Define the continuous variables input (just like before)\n",
        "continuous_input = Input(shape=(X_train_continuous.shape[1], ))\n",
        "\n",
        "# Define the embedding input\n",
        "code_input = Input(shape=(3,), dtype='int32') \n",
        "output_dim=32*2   #X_train_categorical['code_mapping'].max()*1\n",
        "code_embedings = Embedding(output_dim=output_dim, input_dim=X_train_categorical['code_mapping'].max()+1)(code_input)\n",
        "code_embedings = keras.layers.Reshape((output_dim*3,))(code_embedings)\n",
        "\n",
        "# Concatenate continuous and embeddings inputs\n",
        "all_input = keras.layers.concatenate([continuous_input,code_embedings])\n",
        "print(all_input)\n",
        "\n",
        "# Define the model\n",
        "dense1 = Dense(all_input.shape[1]*3, activation='relu')(all_input)\n",
        "dense2 = Dense(5, activation='relu')(dense1)\n",
        "predictions = Dense(1)(dense2)\n",
        "\n",
        "# Note using the input object 'area_input' not 'area_embeddings'\n",
        "model = Model(inputs=[continuous_input, code_input], outputs=predictions)\n",
        "model.compile(loss='mse', optimizer=keras.optimizers.Adam(lr=.8, beta_1=0.9, beta_2=0.999, decay=1e-03, amsgrad=True),metrics=[soft_500_acc,soft_1000_acc,soft_10000_acc,r2])\n",
        "model.summary()\n"
      ],
      "execution_count": null,
      "outputs": []
    },
    {
      "cell_type": "code",
      "metadata": {
        "id": "NKtLCmLqvYNZ",
        "colab_type": "code",
        "colab": {}
      },
      "source": [
        "epochs = 500\n",
        "\n",
        "# Note continuous and categorical columns are inserted in the same order as defined in all_inputs\n",
        "history = model.fit([X_train_continuous, X_train_categorical], Y_train, \n",
        "          epochs=epochs, batch_size=10000, \n",
        "          callbacks=[periodic_logger_10], verbose=0,\n",
        "          validation_data=([X_val_continuous, X_val_categorical], Y_val))"
      ],
      "execution_count": null,
      "outputs": []
    },
    {
      "cell_type": "code",
      "metadata": {
        "id": "PH7BnOME3eDc",
        "colab_type": "code",
        "colab": {}
      },
      "source": [
        "# Plot the train/validation loss values\n",
        "plt.figure(figsize=(20,10))\n",
        "_loss = history.history['loss'][50:]\n",
        "_val_loss = history.history['val_loss'][50:]\n",
        "\n",
        "train_loss_plot, = plt.plot(range(1, len(_loss)+1), _loss, label='Train Loss')\n",
        "val_loss_plot, = plt.plot(range(1, len(_val_loss)+1), _val_loss, label='Validation Loss')\n",
        "\n",
        "_ = plt.legend(handles=[train_loss_plot, val_loss_plot])"
      ],
      "execution_count": null,
      "outputs": []
    },
    {
      "cell_type": "code",
      "metadata": {
        "id": "2FoEJyc23kmR",
        "colab_type": "code",
        "colab": {}
      },
      "source": [
        "plt.figure(figsize=(20,10))\n",
        "_loss = history.history['soft_10000_acc'][5:]\n",
        "_val_loss = history.history['val_soft_10000_acc'][5:]\n",
        "\n",
        "train_loss_plot, = plt.plot(range(1, len(_loss)+1), _loss, label='soft_10000_acc')\n",
        "val_loss_plot, = plt.plot(range(1, len(_val_loss)+1), _val_loss, label='val_soft_10000_acc')\n",
        "\n",
        "_ = plt.legend(handles=[train_loss_plot, val_loss_plot])"
      ],
      "execution_count": null,
      "outputs": []
    },
    {
      "cell_type": "code",
      "metadata": {
        "id": "kTnX8fZm3sYt",
        "colab_type": "code",
        "colab": {}
      },
      "source": [
        "df = pd.DataFrame(Y_val,columns=['NAFYC'])\n",
        "\n",
        "print (\"This is the average value we are trying to predict: %d\" % df['NAFYC'].mean())\n",
        "\n",
        "# Add a column for the model's predicted values\n",
        "df['pred'] = model.predict([X_val_continuous, X_val_categorical])\n",
        "\n",
        "# Calculate the difference between the predicted and the actual price\n",
        "df['diff'] = df['pred'] - df['NAFYC']\n",
        "\n",
        "# Calculate the absolute difference between the predicted and the actual price\n",
        "df['abs_diff'] = np.abs(df['diff'])\n",
        "\n",
        "# Calculate the percentage of the difference from the actual price\n",
        "df['%diff'] = 100 * (df['diff'] / df['NAFYC'])\n",
        "\n",
        "# Calculate the absolute percentage difference from the actual price\n",
        "df['abs_%diff'] = np.abs(df['%diff'])\n",
        "\n",
        "# Calculate the mean and std. of the diff field\n",
        "diff_mean, diff_std = df['diff'].mean(), df['diff'].std()\n",
        "print(\"The mean is very close to 0 ({mean}) with std. {std}.\".format(mean=round(diff_mean, 2), std=round(diff_std, 2)))\n",
        "\n",
        "# Here is the histogram of the differences\n",
        "plt.figure(figsize=(20,10))\n",
        "plt.hist(df['diff'], bins=100)\n",
        "plt.xlabel(\"\\\\\")\n",
        "plt.ylabel(\"# samples\")\n",
        "_ = plt.title(\"Difference between predicted and actual price\")\n",
        "\n",
        "plt.show()\n",
        "\n",
        "# Sort by the 'abs_diff' field and show the 5 largest mistakes in absolute values\n",
        "a = df.sort_values(\"abs_diff\", ascending=False)\n",
        "a.drop(columns=['NAFYC'],inplace=True)\n",
        "b = a.join(dataset2)\n",
        "b.head(10)"
      ],
      "execution_count": null,
      "outputs": []
    }
  ]
}