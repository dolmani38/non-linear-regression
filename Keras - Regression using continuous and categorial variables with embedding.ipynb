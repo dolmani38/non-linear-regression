{
  "nbformat": 4,
  "nbformat_minor": 0,
  "metadata": {
    "kernelspec": {
      "display_name": "Python 3",
      "language": "python",
      "name": "python3"
    },
    "language_info": {
      "codemirror_mode": {
        "name": "ipython",
        "version": 3
      },
      "file_extension": ".py",
      "mimetype": "text/x-python",
      "name": "python",
      "nbconvert_exporter": "python",
      "pygments_lexer": "ipython3",
      "version": "3.6.8"
    },
    "colab": {
      "name": "Keras - Regression using continuous and categorial variables with embedding.ipynb",
      "provenance": [],
      "include_colab_link": true
    },
    "accelerator": "GPU"
  },
  "cells": [
    {
      "cell_type": "markdown",
      "metadata": {
        "id": "view-in-github",
        "colab_type": "text"
      },
      "source": [
        "<a href=\"https://colab.research.google.com/github/dolmani38/non-linear-regression/blob/master/Keras%20-%20Regression%20using%20continuous%20and%20categorial%20variables%20with%20embedding.ipynb\" target=\"_parent\"><img src=\"https://colab.research.google.com/assets/colab-badge.svg\" alt=\"Open In Colab\"/></a>"
      ]
    },
    {
      "cell_type": "markdown",
      "metadata": {
        "id": "NbKY5scYq4G8",
        "colab_type": "text"
      },
      "source": [
        "# The purpose of this blog post:\n",
        "\n",
        "1. To show how to implement (technically) a feature vector with both continuous and categorical features. \n",
        "2. To use a Regression head to predict continuous values"
      ]
    },
    {
      "cell_type": "markdown",
      "metadata": {
        "id": "ZFPVbOL2q4HL",
        "colab_type": "text"
      },
      "source": [
        "We would like to predict the housing prices in 3 different suburbs of Tel Aviv (Mercaz, Old North and Florentine).\n",
        "Let's assume that a deterministic function $f(a, s, n)$ exist that determines the price of a house where:\n",
        "* $n$: Number of rooms\n",
        "* $s$: Size (in square meters)\n",
        "* $a$: Area (TLV suburb)\n",
        "\n",
        "For each area $a$ we define a price per square meter $s\\_price(a)$ :\n",
        "* Mercaz: &nbsp;&nbsp;&nbsp; \\$500\n",
        "* Old North: &nbsp;&nbsp;&nbsp; \\$350  \n",
        "* Florentine:  &nbsp;&nbsp;&nbsp; \\$230\n",
        "\n",
        "And an additional price per room $n\\_price(a)$:\n",
        "* Mercaz: &nbsp;&nbsp;&nbsp; \\$150,000  \n",
        "* Old North: &nbsp;&nbsp;&nbsp; \\$80,000  \n",
        "* Florentine: &nbsp;&nbsp;&nbsp; \\$50,000\n",
        "\n",
        "The price of a house in area $a$ with size $s$ and $n$ rooms will be:\n",
        "$$f(a, s, n) = s * s\\_price(a)  + n * n\\_price(a)$$\n",
        "\n",
        "This function is what we will later try to predict with a Regression DNN."
      ]
    },
    {
      "cell_type": "markdown",
      "metadata": {
        "id": "004L8SgKq4HN",
        "colab_type": "text"
      },
      "source": [
        "#### Imports and helper functions"
      ]
    },
    {
      "cell_type": "code",
      "metadata": {
        "id": "C8shY1tnq4HS",
        "colab_type": "code",
        "colab": {
          "base_uri": "https://localhost:8080/",
          "height": 36
        },
        "outputId": "fbb5887e-7d51-4785-bcb6-bf7e89fae004"
      },
      "source": [
        "import numpy as np\n",
        "import pandas as pd\n",
        "import numpy as np\n",
        "import pandas as pd\n",
        "import keras\n",
        "from keras.models import Sequential\n",
        "from keras.layers import Dense, BatchNormalization\n",
        "from keras.layers import Input, Embedding, Dense\n",
        "from keras.models import Model\n",
        "from keras.callbacks import Callback\n",
        "import matplotlib.pyplot as plt\n",
        "\n",
        "# Bayesian Methods for Hackers style sheet\n",
        "plt.style.use('bmh')\n",
        "\n",
        "np.random.seed(1234567890)\n",
        "\n",
        "from keras import backend as K\n",
        "\n",
        "def r2(y_true, y_pred):\n",
        "    \"\"\"\n",
        "    # custom R2-score metrics for keras backend\n",
        "    :param y_true: 실측 데이터\n",
        "    :param y_pred: 모델에 의한 예측 데이테\n",
        "    :return: R^2 value, 이 값이 높다고 (예:0.99)해서 예측 값이 정확 하다고 할 수 는 없음...\n",
        "    \"\"\"\n",
        "    SS_res = K.sum(K.square(y_true - y_pred))\n",
        "    SS_tot = K.sum(K.square(y_true - K.mean(y_true)))\n",
        "    return (1 - SS_res / (SS_tot + K.epsilon()))\n",
        "\n",
        "def soft_acc(y_true, y_pred):\n",
        "    delta = 600\n",
        "    return K.mean(K.equal(K.round(y_true/delta), K.round(y_pred/delta)))\n",
        "\n",
        "\n",
        "class VerboseCallback(keras.callbacks.Callback):\n",
        "    \"\"\"\n",
        "    kerase.model.fit 함수에서, log 출력을 위한 callback\n",
        "    \"\"\"\n",
        "    def __init__(self, epoch):\n",
        "        self.epoch = epoch\n",
        "        self.progress(\"learning:\", 0, [])\n",
        "\n",
        "    def progress(self, text, current=0, log=None):\n",
        "        g = self.epoch - current\n",
        "        f = 50 / self.epoch\n",
        "        c = int(current * f)\n",
        "        pg = ['=' for i in range(c)] + ['.' for i in range(50 - c)]\n",
        "        print(\"\\r\" + str(text) + \"{}/{}[{}]{}\".format(current, self.epoch, ''.join(pg), ('' if log is None else str(log).strip())),\n",
        "              end=\"\", flush=True)\n",
        "        if self.epoch - current == 0:\n",
        "            print(\"\")\n",
        "\n",
        "    def on_epoch_end(self, epoch, logs=None):\n",
        "        self.progress(\"learning:\", epoch + 1, logs)\n",
        "\n",
        "\n",
        "class PeriodicLogger(Callback):\n",
        "    \"\"\"\n",
        "    A helper callback class that only prints the losses once in 'display' epochs\n",
        "    \"\"\"\n",
        "    def __init__(self, display=100):\n",
        "        self.display = display\n",
        "\n",
        "    def on_train_begin(self, logs={}):      \n",
        "        self.epochs = 0    \n",
        "\n",
        "    def on_epoch_end(self, batch, logs={}):    \n",
        "        self.epochs += 1     \n",
        "        if self.epochs % self.display == 0:\n",
        "            print (\"Epoch: %d - %s\" % (self.epochs, str(logs)))\n",
        " \n",
        "            \n",
        "periodic_logger_250 = PeriodicLogger(250)"
      ],
      "execution_count": 1,
      "outputs": [
        {
          "output_type": "stream",
          "text": [
            "Using TensorFlow backend.\n"
          ],
          "name": "stderr"
        }
      ]
    },
    {
      "cell_type": "markdown",
      "metadata": {
        "id": "rDwKQDCOq4IT",
        "colab_type": "text"
      },
      "source": [
        "#### Define the mapping and a function that computes the house price for each example"
      ]
    },
    {
      "cell_type": "code",
      "metadata": {
        "id": "J9GAic5Sq4IW",
        "colab_type": "code",
        "colab": {}
      },
      "source": [
        "per_meter_mapping = {\n",
        "    'Mercaz': 500,\n",
        "    'Old North': 350,\n",
        "    'Florentine': 230\n",
        "}\n",
        "\n",
        "per_room_additional_price = {\n",
        "    'Mercaz': 15. * 10**4,\n",
        "    'Old North': 8. * 10**4,\n",
        "    'Florentine': 5. * 10**4\n",
        "}\n",
        "\n",
        "per_type_price = {\n",
        "    'fullsize': 3,\n",
        "    'economy': 1.2,\n",
        "    'convertible': 9,\n",
        "    'standard': 2.5,\n",
        "    'premium': 4,\n",
        "    'intermediate': 2,\n",
        "    'luxury': 12,\n",
        "    'compact': 1.5\n",
        "}\n",
        "\n",
        "def house_price_func(row):\n",
        "    \"\"\"\n",
        "    house_price_func is the function f(a,s,n).\n",
        "    \n",
        "    :param row: dict (contains the keys: ['area', 'size', 'n_rooms'])\n",
        "    :return: float\n",
        "    \"\"\"\n",
        "    area, size, n_rooms, ctype = row['area'], row['size'], row['n_rooms'], row['ctype']\n",
        "    return (size * per_meter_mapping[area] - 120) + (n_rooms*n_rooms)/4 * per_room_additional_price[area] * per_type_price[ctype]"
      ],
      "execution_count": 2,
      "outputs": []
    },
    {
      "cell_type": "markdown",
      "metadata": {
        "id": "ZtxgPzR1q4Im",
        "colab_type": "text"
      },
      "source": [
        "### Create toy data"
      ]
    },
    {
      "cell_type": "code",
      "metadata": {
        "id": "OajPApIgq4Ip",
        "colab_type": "code",
        "colab": {}
      },
      "source": [
        "AREAS = ['Mercaz', 'Old North', 'Florentine']\n",
        "HOUSE_TYPE = ['economy','compact','intermediate','standard','fullsize','premium','luxury','convertible']\n",
        "\n",
        "def create_samples(n_samples):\n",
        "    \"\"\"\n",
        "    Helper method that creates dataset DataFrames\n",
        "    \n",
        "    Note that the np.random.choice call only determines the number of rooms and the size of the house\n",
        "    (the price, which we calculate later, is deterministic)\n",
        "    \n",
        "    :param n_samples: int (number of samples for each area (suburb))\n",
        "    :return: pd.DataFrame\n",
        "    \"\"\"\n",
        "    samples = []\n",
        "\n",
        "    for i in range(n_samples):\n",
        "        samples.append([np.random.choice(AREAS), int(np.random.normal(25, 5)),int(np.random.normal(300, 50)), np.random.choice(range(1, 6)),np.random.choice(HOUSE_TYPE)])\n",
        "        \n",
        "    return pd.DataFrame(samples, columns=['area', 'size', 'lamp', 'n_rooms','ctype'])"
      ],
      "execution_count": 3,
      "outputs": []
    },
    {
      "cell_type": "markdown",
      "metadata": {
        "id": "j7ZFQEjcq4I4",
        "colab_type": "text"
      },
      "source": [
        "#### Create the train and validation sets"
      ]
    },
    {
      "cell_type": "code",
      "metadata": {
        "id": "76Q22tDiq4I6",
        "colab_type": "code",
        "colab": {}
      },
      "source": [
        "train = create_samples(n_samples=3000)\n",
        "val = create_samples(n_samples=300)"
      ],
      "execution_count": 57,
      "outputs": []
    },
    {
      "cell_type": "markdown",
      "metadata": {
        "id": "NdmluV9Oq4JI",
        "colab_type": "text"
      },
      "source": [
        "#### Calculate the prices for each set"
      ]
    },
    {
      "cell_type": "code",
      "metadata": {
        "id": "YGzjn4jWq4JK",
        "colab_type": "code",
        "colab": {}
      },
      "source": [
        "train['price'] = train.apply(house_price_func, axis=1)\n",
        "val['price'] = val.apply(house_price_func, axis=1)"
      ],
      "execution_count": 58,
      "outputs": []
    },
    {
      "cell_type": "markdown",
      "metadata": {
        "id": "ptrZxgOAq4Jc",
        "colab_type": "text"
      },
      "source": [
        "#### Here is the structure of the train/val DataFrame"
      ]
    },
    {
      "cell_type": "code",
      "metadata": {
        "id": "m_nwYiXFq4Jd",
        "colab_type": "code",
        "colab": {
          "base_uri": "https://localhost:8080/",
          "height": 355
        },
        "outputId": "570c3235-3956-47cd-aafb-bf55bff8ba28"
      },
      "source": [
        "train.head(10)"
      ],
      "execution_count": 59,
      "outputs": [
        {
          "output_type": "execute_result",
          "data": {
            "text/html": [
              "<div>\n",
              "<style scoped>\n",
              "    .dataframe tbody tr th:only-of-type {\n",
              "        vertical-align: middle;\n",
              "    }\n",
              "\n",
              "    .dataframe tbody tr th {\n",
              "        vertical-align: top;\n",
              "    }\n",
              "\n",
              "    .dataframe thead th {\n",
              "        text-align: right;\n",
              "    }\n",
              "</style>\n",
              "<table border=\"1\" class=\"dataframe\">\n",
              "  <thead>\n",
              "    <tr style=\"text-align: right;\">\n",
              "      <th></th>\n",
              "      <th>area</th>\n",
              "      <th>size</th>\n",
              "      <th>lamp</th>\n",
              "      <th>n_rooms</th>\n",
              "      <th>ctype</th>\n",
              "      <th>price</th>\n",
              "    </tr>\n",
              "  </thead>\n",
              "  <tbody>\n",
              "    <tr>\n",
              "      <th>0</th>\n",
              "      <td>Old North</td>\n",
              "      <td>26</td>\n",
              "      <td>311</td>\n",
              "      <td>2</td>\n",
              "      <td>fullsize</td>\n",
              "      <td>248980.0</td>\n",
              "    </tr>\n",
              "    <tr>\n",
              "      <th>1</th>\n",
              "      <td>Old North</td>\n",
              "      <td>19</td>\n",
              "      <td>310</td>\n",
              "      <td>3</td>\n",
              "      <td>intermediate</td>\n",
              "      <td>366530.0</td>\n",
              "    </tr>\n",
              "    <tr>\n",
              "      <th>2</th>\n",
              "      <td>Florentine</td>\n",
              "      <td>26</td>\n",
              "      <td>251</td>\n",
              "      <td>5</td>\n",
              "      <td>convertible</td>\n",
              "      <td>2818360.0</td>\n",
              "    </tr>\n",
              "    <tr>\n",
              "      <th>3</th>\n",
              "      <td>Mercaz</td>\n",
              "      <td>26</td>\n",
              "      <td>294</td>\n",
              "      <td>1</td>\n",
              "      <td>convertible</td>\n",
              "      <td>350380.0</td>\n",
              "    </tr>\n",
              "    <tr>\n",
              "      <th>4</th>\n",
              "      <td>Old North</td>\n",
              "      <td>31</td>\n",
              "      <td>307</td>\n",
              "      <td>5</td>\n",
              "      <td>standard</td>\n",
              "      <td>1260730.0</td>\n",
              "    </tr>\n",
              "    <tr>\n",
              "      <th>5</th>\n",
              "      <td>Florentine</td>\n",
              "      <td>23</td>\n",
              "      <td>375</td>\n",
              "      <td>2</td>\n",
              "      <td>convertible</td>\n",
              "      <td>455170.0</td>\n",
              "    </tr>\n",
              "    <tr>\n",
              "      <th>6</th>\n",
              "      <td>Mercaz</td>\n",
              "      <td>28</td>\n",
              "      <td>178</td>\n",
              "      <td>3</td>\n",
              "      <td>premium</td>\n",
              "      <td>1363880.0</td>\n",
              "    </tr>\n",
              "    <tr>\n",
              "      <th>7</th>\n",
              "      <td>Florentine</td>\n",
              "      <td>32</td>\n",
              "      <td>334</td>\n",
              "      <td>4</td>\n",
              "      <td>luxury</td>\n",
              "      <td>2407240.0</td>\n",
              "    </tr>\n",
              "    <tr>\n",
              "      <th>8</th>\n",
              "      <td>Mercaz</td>\n",
              "      <td>29</td>\n",
              "      <td>359</td>\n",
              "      <td>2</td>\n",
              "      <td>convertible</td>\n",
              "      <td>1364380.0</td>\n",
              "    </tr>\n",
              "    <tr>\n",
              "      <th>9</th>\n",
              "      <td>Old North</td>\n",
              "      <td>12</td>\n",
              "      <td>295</td>\n",
              "      <td>3</td>\n",
              "      <td>economy</td>\n",
              "      <td>220080.0</td>\n",
              "    </tr>\n",
              "  </tbody>\n",
              "</table>\n",
              "</div>"
            ],
            "text/plain": [
              "         area  size  lamp  n_rooms         ctype      price\n",
              "0   Old North    26   311        2      fullsize   248980.0\n",
              "1   Old North    19   310        3  intermediate   366530.0\n",
              "2  Florentine    26   251        5   convertible  2818360.0\n",
              "3      Mercaz    26   294        1   convertible   350380.0\n",
              "4   Old North    31   307        5      standard  1260730.0\n",
              "5  Florentine    23   375        2   convertible   455170.0\n",
              "6      Mercaz    28   178        3       premium  1363880.0\n",
              "7  Florentine    32   334        4        luxury  2407240.0\n",
              "8      Mercaz    29   359        2   convertible  1364380.0\n",
              "9   Old North    12   295        3       economy   220080.0"
            ]
          },
          "metadata": {
            "tags": []
          },
          "execution_count": 59
        }
      ]
    },
    {
      "cell_type": "markdown",
      "metadata": {
        "id": "uCz-MF8-q4Js",
        "colab_type": "text"
      },
      "source": [
        "#### Define the features and the y vectores\n",
        "We will separate the continuous and categorical variables"
      ]
    },
    {
      "cell_type": "code",
      "metadata": {
        "id": "g7bBaYfVq4Ju",
        "colab_type": "code",
        "colab": {}
      },
      "source": [
        "continuous_cols = ['size', 'n_rooms','lamp']\n",
        "categorical_cols = ['area','ctype']\n",
        "y_col = ['price']\n",
        "\n",
        "X_train_continuous = train[continuous_cols]\n",
        "X_train_categorical = train[categorical_cols]\n",
        "y_train = train[y_col]\n",
        "\n",
        "X_val_continuous = val[continuous_cols]\n",
        "X_val_categorical = val[categorical_cols]\n",
        "y_val = val[y_col]"
      ],
      "execution_count": 60,
      "outputs": []
    },
    {
      "cell_type": "code",
      "metadata": {
        "id": "i3dIc0D_i93d",
        "colab_type": "code",
        "colab": {
          "base_uri": "https://localhost:8080/",
          "height": 465
        },
        "outputId": "53200652-f4c6-43dd-9b59-6e6acc55fd7e"
      },
      "source": [
        "# 파생변수 생성\n",
        "\n",
        "X_train_continuous['size_n_rooms'] = X_train_continuous['size'] * X_train_continuous['n_rooms']\n",
        "X_train_continuous['size_size'] = X_train_continuous['size'] * X_train_continuous['size']\n",
        "X_train_continuous['n_rooms_n_rooms'] = X_train_continuous['n_rooms'] * X_train_continuous['n_rooms']\n",
        "\n",
        "X_val_continuous['size_n_rooms'] = X_val_continuous['size'] * X_val_continuous['n_rooms']\n",
        "X_val_continuous['size_size'] = X_val_continuous['size'] * X_val_continuous['size']\n",
        "X_val_continuous['n_rooms_n_rooms'] = X_val_continuous['n_rooms'] * X_val_continuous['n_rooms']"
      ],
      "execution_count": 61,
      "outputs": [
        {
          "output_type": "stream",
          "text": [
            "/usr/local/lib/python3.6/dist-packages/ipykernel_launcher.py:3: SettingWithCopyWarning: \n",
            "A value is trying to be set on a copy of a slice from a DataFrame.\n",
            "Try using .loc[row_indexer,col_indexer] = value instead\n",
            "\n",
            "See the caveats in the documentation: https://pandas.pydata.org/pandas-docs/stable/user_guide/indexing.html#returning-a-view-versus-a-copy\n",
            "  This is separate from the ipykernel package so we can avoid doing imports until\n",
            "/usr/local/lib/python3.6/dist-packages/ipykernel_launcher.py:4: SettingWithCopyWarning: \n",
            "A value is trying to be set on a copy of a slice from a DataFrame.\n",
            "Try using .loc[row_indexer,col_indexer] = value instead\n",
            "\n",
            "See the caveats in the documentation: https://pandas.pydata.org/pandas-docs/stable/user_guide/indexing.html#returning-a-view-versus-a-copy\n",
            "  after removing the cwd from sys.path.\n",
            "/usr/local/lib/python3.6/dist-packages/ipykernel_launcher.py:7: SettingWithCopyWarning: \n",
            "A value is trying to be set on a copy of a slice from a DataFrame.\n",
            "Try using .loc[row_indexer,col_indexer] = value instead\n",
            "\n",
            "See the caveats in the documentation: https://pandas.pydata.org/pandas-docs/stable/user_guide/indexing.html#returning-a-view-versus-a-copy\n",
            "  import sys\n",
            "/usr/local/lib/python3.6/dist-packages/ipykernel_launcher.py:8: SettingWithCopyWarning: \n",
            "A value is trying to be set on a copy of a slice from a DataFrame.\n",
            "Try using .loc[row_indexer,col_indexer] = value instead\n",
            "\n",
            "See the caveats in the documentation: https://pandas.pydata.org/pandas-docs/stable/user_guide/indexing.html#returning-a-view-versus-a-copy\n",
            "  \n"
          ],
          "name": "stderr"
        }
      ]
    },
    {
      "cell_type": "code",
      "metadata": {
        "id": "yU6qchzHkAWV",
        "colab_type": "code",
        "colab": {
          "base_uri": "https://localhost:8080/",
          "height": 415
        },
        "outputId": "4008529b-7e25-4b05-a86a-9913894471cf"
      },
      "source": [
        "ds2 = pd.concat([X_train_continuous,X_train_categorical], axis=1)\n",
        "ds2"
      ],
      "execution_count": 62,
      "outputs": [
        {
          "output_type": "execute_result",
          "data": {
            "text/html": [
              "<div>\n",
              "<style scoped>\n",
              "    .dataframe tbody tr th:only-of-type {\n",
              "        vertical-align: middle;\n",
              "    }\n",
              "\n",
              "    .dataframe tbody tr th {\n",
              "        vertical-align: top;\n",
              "    }\n",
              "\n",
              "    .dataframe thead th {\n",
              "        text-align: right;\n",
              "    }\n",
              "</style>\n",
              "<table border=\"1\" class=\"dataframe\">\n",
              "  <thead>\n",
              "    <tr style=\"text-align: right;\">\n",
              "      <th></th>\n",
              "      <th>size</th>\n",
              "      <th>n_rooms</th>\n",
              "      <th>lamp</th>\n",
              "      <th>size_n_rooms</th>\n",
              "      <th>size_size</th>\n",
              "      <th>n_rooms_n_rooms</th>\n",
              "      <th>area</th>\n",
              "      <th>ctype</th>\n",
              "    </tr>\n",
              "  </thead>\n",
              "  <tbody>\n",
              "    <tr>\n",
              "      <th>0</th>\n",
              "      <td>26</td>\n",
              "      <td>2</td>\n",
              "      <td>311</td>\n",
              "      <td>52</td>\n",
              "      <td>676</td>\n",
              "      <td>4</td>\n",
              "      <td>Old North</td>\n",
              "      <td>fullsize</td>\n",
              "    </tr>\n",
              "    <tr>\n",
              "      <th>1</th>\n",
              "      <td>19</td>\n",
              "      <td>3</td>\n",
              "      <td>310</td>\n",
              "      <td>57</td>\n",
              "      <td>361</td>\n",
              "      <td>9</td>\n",
              "      <td>Old North</td>\n",
              "      <td>intermediate</td>\n",
              "    </tr>\n",
              "    <tr>\n",
              "      <th>2</th>\n",
              "      <td>26</td>\n",
              "      <td>5</td>\n",
              "      <td>251</td>\n",
              "      <td>130</td>\n",
              "      <td>676</td>\n",
              "      <td>25</td>\n",
              "      <td>Florentine</td>\n",
              "      <td>convertible</td>\n",
              "    </tr>\n",
              "    <tr>\n",
              "      <th>3</th>\n",
              "      <td>26</td>\n",
              "      <td>1</td>\n",
              "      <td>294</td>\n",
              "      <td>26</td>\n",
              "      <td>676</td>\n",
              "      <td>1</td>\n",
              "      <td>Mercaz</td>\n",
              "      <td>convertible</td>\n",
              "    </tr>\n",
              "    <tr>\n",
              "      <th>4</th>\n",
              "      <td>31</td>\n",
              "      <td>5</td>\n",
              "      <td>307</td>\n",
              "      <td>155</td>\n",
              "      <td>961</td>\n",
              "      <td>25</td>\n",
              "      <td>Old North</td>\n",
              "      <td>standard</td>\n",
              "    </tr>\n",
              "    <tr>\n",
              "      <th>...</th>\n",
              "      <td>...</td>\n",
              "      <td>...</td>\n",
              "      <td>...</td>\n",
              "      <td>...</td>\n",
              "      <td>...</td>\n",
              "      <td>...</td>\n",
              "      <td>...</td>\n",
              "      <td>...</td>\n",
              "    </tr>\n",
              "    <tr>\n",
              "      <th>2995</th>\n",
              "      <td>19</td>\n",
              "      <td>4</td>\n",
              "      <td>250</td>\n",
              "      <td>76</td>\n",
              "      <td>361</td>\n",
              "      <td>16</td>\n",
              "      <td>Florentine</td>\n",
              "      <td>compact</td>\n",
              "    </tr>\n",
              "    <tr>\n",
              "      <th>2996</th>\n",
              "      <td>22</td>\n",
              "      <td>2</td>\n",
              "      <td>318</td>\n",
              "      <td>44</td>\n",
              "      <td>484</td>\n",
              "      <td>4</td>\n",
              "      <td>Mercaz</td>\n",
              "      <td>standard</td>\n",
              "    </tr>\n",
              "    <tr>\n",
              "      <th>2997</th>\n",
              "      <td>14</td>\n",
              "      <td>2</td>\n",
              "      <td>229</td>\n",
              "      <td>28</td>\n",
              "      <td>196</td>\n",
              "      <td>4</td>\n",
              "      <td>Old North</td>\n",
              "      <td>premium</td>\n",
              "    </tr>\n",
              "    <tr>\n",
              "      <th>2998</th>\n",
              "      <td>25</td>\n",
              "      <td>1</td>\n",
              "      <td>192</td>\n",
              "      <td>25</td>\n",
              "      <td>625</td>\n",
              "      <td>1</td>\n",
              "      <td>Old North</td>\n",
              "      <td>convertible</td>\n",
              "    </tr>\n",
              "    <tr>\n",
              "      <th>2999</th>\n",
              "      <td>23</td>\n",
              "      <td>5</td>\n",
              "      <td>301</td>\n",
              "      <td>115</td>\n",
              "      <td>529</td>\n",
              "      <td>25</td>\n",
              "      <td>Old North</td>\n",
              "      <td>fullsize</td>\n",
              "    </tr>\n",
              "  </tbody>\n",
              "</table>\n",
              "<p>3000 rows × 8 columns</p>\n",
              "</div>"
            ],
            "text/plain": [
              "      size  n_rooms  lamp  ...  n_rooms_n_rooms        area         ctype\n",
              "0       26        2   311  ...                4   Old North      fullsize\n",
              "1       19        3   310  ...                9   Old North  intermediate\n",
              "2       26        5   251  ...               25  Florentine   convertible\n",
              "3       26        1   294  ...                1      Mercaz   convertible\n",
              "4       31        5   307  ...               25   Old North      standard\n",
              "...    ...      ...   ...  ...              ...         ...           ...\n",
              "2995    19        4   250  ...               16  Florentine       compact\n",
              "2996    22        2   318  ...                4      Mercaz      standard\n",
              "2997    14        2   229  ...                4   Old North       premium\n",
              "2998    25        1   192  ...                1   Old North   convertible\n",
              "2999    23        5   301  ...               25   Old North      fullsize\n",
              "\n",
              "[3000 rows x 8 columns]"
            ]
          },
          "metadata": {
            "tags": []
          },
          "execution_count": 62
        }
      ]
    },
    {
      "cell_type": "markdown",
      "metadata": {
        "id": "vXuM3BrVq4KA",
        "colab_type": "text"
      },
      "source": [
        "#### Normalization"
      ]
    },
    {
      "cell_type": "code",
      "metadata": {
        "id": "YzFFJcR-q4KE",
        "colab_type": "code",
        "colab": {}
      },
      "source": [
        "# Normalizing both train and test sets to have 0 mean and std. of 1 using the train set mean and std.\n",
        "# This will give each feature an equal initial importance and speed up the training time\n",
        "train_mean = X_train_continuous.mean(axis=0)\n",
        "train_std = X_train_continuous.std(axis=0)\n",
        "\n",
        "X_train_continuous = X_train_continuous - train_mean\n",
        "X_train_continuous /= train_std\n",
        "\n",
        "X_val_continuous = X_val_continuous - train_mean\n",
        "X_val_continuous /= train_std"
      ],
      "execution_count": 63,
      "outputs": []
    },
    {
      "cell_type": "markdown",
      "metadata": {
        "id": "bcVGgUTDq4KZ",
        "colab_type": "text"
      },
      "source": [
        "## Build a model using a categorical variable"
      ]
    },
    {
      "cell_type": "markdown",
      "metadata": {
        "id": "uiUZ1vnFq4Kc",
        "colab_type": "text"
      },
      "source": [
        "### First let's define a helper class for the categorical variable"
      ]
    },
    {
      "cell_type": "code",
      "metadata": {
        "id": "y84AQMs8q4Kg",
        "colab_type": "code",
        "colab": {}
      },
      "source": [
        "class EmbeddingMapping():\n",
        "    \"\"\"\n",
        "    Helper class for handling categorical variables\n",
        "    An instance of this class should be defined for each categorical variable we want to use.\n",
        "    \"\"\"\n",
        "    def __init__(self, series):\n",
        "        # get a list of unique values\n",
        "        values = series.unique().tolist()\n",
        "        \n",
        "        # Set a dictionary mapping from values to integer value\n",
        "        # In our example this will be {'Mercaz': 1, 'Old North': 2, 'Florentine': 3}\n",
        "        self.embedding_dict = {value: int_value+1 for int_value, value in enumerate(values)}\n",
        "        \n",
        "        # The num_values will be used as the input_dim when defining the embedding layer. \n",
        "        # It will also be returned for unseen values \n",
        "        self.num_values = len(values) + 1\n",
        "\n",
        "    def get_mapping(self, value):\n",
        "        # If the value was seen in the training set, return its integer mapping\n",
        "        if value in self.embedding_dict:\n",
        "            return self.embedding_dict[value]\n",
        "        \n",
        "        # Else, return the same integer for unseen values\n",
        "        else:\n",
        "            return self.num_values"
      ],
      "execution_count": 13,
      "outputs": []
    },
    {
      "cell_type": "markdown",
      "metadata": {
        "id": "2JkHgbnWq4Kz",
        "colab_type": "text"
      },
      "source": [
        "### Create an embedding column for the train/validation sets"
      ]
    },
    {
      "cell_type": "code",
      "metadata": {
        "id": "GLa0yXViq4K2",
        "colab_type": "code",
        "colab": {}
      },
      "source": [
        "area_mapping = EmbeddingMapping(X_train_categorical['area'])\n",
        "type_mapping = EmbeddingMapping(X_train_categorical['ctype'])\n",
        "\n",
        "X_train_categorical = X_train_categorical.assign(area_mapping=X_train_categorical['area'].apply(area_mapping.get_mapping))\n",
        "X_train_categorical = X_train_categorical.assign(type_mapping=X_train_categorical['ctype'].apply(type_mapping.get_mapping))\n",
        "X_val_categorical = X_val_categorical.assign(area_mapping=X_val_categorical['area'].apply(area_mapping.get_mapping))\n",
        "X_val_categorical = X_val_categorical.assign(type_mapping=X_val_categorical['ctype'].apply(type_mapping.get_mapping))"
      ],
      "execution_count": 64,
      "outputs": []
    },
    {
      "cell_type": "markdown",
      "metadata": {
        "id": "IBj-MCG5q4LC",
        "colab_type": "text"
      },
      "source": [
        "#### A corresponding 'area_mapping' column was added to the train/validation sets"
      ]
    },
    {
      "cell_type": "code",
      "metadata": {
        "id": "hqpq-bdaq4LH",
        "colab_type": "code",
        "colab": {}
      },
      "source": [
        "X_train_continuous_org = X_train_continuous\n",
        "X_train_categorical_org = X_train_categorical\n",
        "X_val_continuous_org = X_val_continuous\n",
        "X_val_categorical_org = X_val_categorical\n",
        "\n",
        "# 학습 대상 변수만 선택\n",
        "X_train_continuous = X_train_continuous_org[['size','n_rooms','n_rooms_n_rooms']]\n",
        "X_train_categorical = X_train_categorical_org\n",
        "X_val_continuous  = X_val_continuous_org[['size','n_rooms','n_rooms_n_rooms']]\n",
        "X_val_categorical = X_val_categorical_org\n"
      ],
      "execution_count": 66,
      "outputs": []
    },
    {
      "cell_type": "code",
      "metadata": {
        "id": "NsPZpAynMK5O",
        "colab_type": "code",
        "colab": {
          "base_uri": "https://localhost:8080/",
          "height": 415
        },
        "outputId": "8f4180cd-4905-4e58-df27-11863728e1b9"
      },
      "source": [
        "ds2 = pd.concat([X_train_continuous,X_train_categorical], axis=1)\n",
        "ds2"
      ],
      "execution_count": 67,
      "outputs": [
        {
          "output_type": "execute_result",
          "data": {
            "text/html": [
              "<div>\n",
              "<style scoped>\n",
              "    .dataframe tbody tr th:only-of-type {\n",
              "        vertical-align: middle;\n",
              "    }\n",
              "\n",
              "    .dataframe tbody tr th {\n",
              "        vertical-align: top;\n",
              "    }\n",
              "\n",
              "    .dataframe thead th {\n",
              "        text-align: right;\n",
              "    }\n",
              "</style>\n",
              "<table border=\"1\" class=\"dataframe\">\n",
              "  <thead>\n",
              "    <tr style=\"text-align: right;\">\n",
              "      <th></th>\n",
              "      <th>size</th>\n",
              "      <th>n_rooms</th>\n",
              "      <th>n_rooms_n_rooms</th>\n",
              "      <th>area</th>\n",
              "      <th>ctype</th>\n",
              "      <th>area_mapping</th>\n",
              "      <th>type_mapping</th>\n",
              "    </tr>\n",
              "  </thead>\n",
              "  <tbody>\n",
              "    <tr>\n",
              "      <th>0</th>\n",
              "      <td>0.349450</td>\n",
              "      <td>-0.676610</td>\n",
              "      <td>-0.781991</td>\n",
              "      <td>Old North</td>\n",
              "      <td>fullsize</td>\n",
              "      <td>1</td>\n",
              "      <td>1</td>\n",
              "    </tr>\n",
              "    <tr>\n",
              "      <th>1</th>\n",
              "      <td>-1.069980</td>\n",
              "      <td>0.034115</td>\n",
              "      <td>-0.197834</td>\n",
              "      <td>Old North</td>\n",
              "      <td>intermediate</td>\n",
              "      <td>1</td>\n",
              "      <td>2</td>\n",
              "    </tr>\n",
              "    <tr>\n",
              "      <th>2</th>\n",
              "      <td>0.349450</td>\n",
              "      <td>1.455564</td>\n",
              "      <td>1.671468</td>\n",
              "      <td>Florentine</td>\n",
              "      <td>convertible</td>\n",
              "      <td>2</td>\n",
              "      <td>3</td>\n",
              "    </tr>\n",
              "    <tr>\n",
              "      <th>3</th>\n",
              "      <td>0.349450</td>\n",
              "      <td>-1.387335</td>\n",
              "      <td>-1.132485</td>\n",
              "      <td>Mercaz</td>\n",
              "      <td>convertible</td>\n",
              "      <td>3</td>\n",
              "      <td>3</td>\n",
              "    </tr>\n",
              "    <tr>\n",
              "      <th>4</th>\n",
              "      <td>1.363329</td>\n",
              "      <td>1.455564</td>\n",
              "      <td>1.671468</td>\n",
              "      <td>Old North</td>\n",
              "      <td>standard</td>\n",
              "      <td>1</td>\n",
              "      <td>4</td>\n",
              "    </tr>\n",
              "    <tr>\n",
              "      <th>...</th>\n",
              "      <td>...</td>\n",
              "      <td>...</td>\n",
              "      <td>...</td>\n",
              "      <td>...</td>\n",
              "      <td>...</td>\n",
              "      <td>...</td>\n",
              "      <td>...</td>\n",
              "    </tr>\n",
              "    <tr>\n",
              "      <th>2995</th>\n",
              "      <td>-1.069980</td>\n",
              "      <td>0.744840</td>\n",
              "      <td>0.619985</td>\n",
              "      <td>Florentine</td>\n",
              "      <td>compact</td>\n",
              "      <td>2</td>\n",
              "      <td>8</td>\n",
              "    </tr>\n",
              "    <tr>\n",
              "      <th>2996</th>\n",
              "      <td>-0.461653</td>\n",
              "      <td>-0.676610</td>\n",
              "      <td>-0.781991</td>\n",
              "      <td>Mercaz</td>\n",
              "      <td>standard</td>\n",
              "      <td>3</td>\n",
              "      <td>4</td>\n",
              "    </tr>\n",
              "    <tr>\n",
              "      <th>2997</th>\n",
              "      <td>-2.083860</td>\n",
              "      <td>-0.676610</td>\n",
              "      <td>-0.781991</td>\n",
              "      <td>Old North</td>\n",
              "      <td>premium</td>\n",
              "      <td>1</td>\n",
              "      <td>5</td>\n",
              "    </tr>\n",
              "    <tr>\n",
              "      <th>2998</th>\n",
              "      <td>0.146675</td>\n",
              "      <td>-1.387335</td>\n",
              "      <td>-1.132485</td>\n",
              "      <td>Old North</td>\n",
              "      <td>convertible</td>\n",
              "      <td>1</td>\n",
              "      <td>3</td>\n",
              "    </tr>\n",
              "    <tr>\n",
              "      <th>2999</th>\n",
              "      <td>-0.258877</td>\n",
              "      <td>1.455564</td>\n",
              "      <td>1.671468</td>\n",
              "      <td>Old North</td>\n",
              "      <td>fullsize</td>\n",
              "      <td>1</td>\n",
              "      <td>1</td>\n",
              "    </tr>\n",
              "  </tbody>\n",
              "</table>\n",
              "<p>3000 rows × 7 columns</p>\n",
              "</div>"
            ],
            "text/plain": [
              "          size   n_rooms  ...  area_mapping type_mapping\n",
              "0     0.349450 -0.676610  ...             1            1\n",
              "1    -1.069980  0.034115  ...             1            2\n",
              "2     0.349450  1.455564  ...             2            3\n",
              "3     0.349450 -1.387335  ...             3            3\n",
              "4     1.363329  1.455564  ...             1            4\n",
              "...        ...       ...  ...           ...          ...\n",
              "2995 -1.069980  0.744840  ...             2            8\n",
              "2996 -0.461653 -0.676610  ...             3            4\n",
              "2997 -2.083860 -0.676610  ...             1            5\n",
              "2998  0.146675 -1.387335  ...             1            3\n",
              "2999 -0.258877  1.455564  ...             1            1\n",
              "\n",
              "[3000 rows x 7 columns]"
            ]
          },
          "metadata": {
            "tags": []
          },
          "execution_count": 67
        }
      ]
    },
    {
      "cell_type": "markdown",
      "metadata": {
        "id": "AvhRUlptq4LV",
        "colab_type": "text"
      },
      "source": [
        "### Define the input layers"
      ]
    },
    {
      "cell_type": "code",
      "metadata": {
        "id": "rCbTTyL9q4LX",
        "colab_type": "code",
        "colab": {
          "base_uri": "https://localhost:8080/",
          "height": 36
        },
        "outputId": "152b9e2c-74cd-4509-a7ba-b9d18edc8ff5"
      },
      "source": [
        "# Define the embedding input\n",
        "cate_input = Input(shape=(2,), dtype='int32') \n",
        "\n",
        "# Decide to what vector size we want to map our 'area' variable. \n",
        "# I'll use 1 here because we only have three areas\n",
        "embeddings_output = 24\n",
        "\n",
        "\n",
        "# Let’s define the embedding layer and flatten it\n",
        "cate_embedings = Embedding(output_dim=embeddings_output, input_dim=X_train_categorical.shape[0])(cate_input)\n",
        "cate_embedings = keras.layers.Reshape((embeddings_output*2,))(cate_embedings)\n",
        "print(cate_embedings)\n",
        "# Define the continuous variables input (just like before)\n",
        "continuous_input = Input(shape=(X_train_continuous.shape[1], ))\n",
        "\n",
        "# Concatenate continuous and embeddings inputs\n",
        "all_input = keras.layers.concatenate([continuous_input, cate_embedings])"
      ],
      "execution_count": 68,
      "outputs": [
        {
          "output_type": "stream",
          "text": [
            "Tensor(\"reshape_8/Reshape:0\", shape=(None, 48), dtype=float32)\n"
          ],
          "name": "stdout"
        }
      ]
    },
    {
      "cell_type": "code",
      "metadata": {
        "id": "I7fBjS49MYjd",
        "colab_type": "code",
        "colab": {
          "base_uri": "https://localhost:8080/",
          "height": 36
        },
        "outputId": "b243f212-5551-4094-a979-88ff85b33ce9"
      },
      "source": [
        "all_input.shape[1]"
      ],
      "execution_count": 69,
      "outputs": [
        {
          "output_type": "execute_result",
          "data": {
            "text/plain": [
              "51"
            ]
          },
          "metadata": {
            "tags": []
          },
          "execution_count": 69
        }
      ]
    },
    {
      "cell_type": "markdown",
      "metadata": {
        "id": "NfA0YnySq4Lj",
        "colab_type": "text"
      },
      "source": [
        "### To merge them together we will use [Keras Functional API](https://keras.io/getting-started/functional-api-guide/)\n",
        "Will define a simple model with 2 hidden layers, with 25 neurons each."
      ]
    },
    {
      "cell_type": "code",
      "metadata": {
        "id": "btB6M8Liq4Ll",
        "colab_type": "code",
        "colab": {
          "base_uri": "https://localhost:8080/",
          "height": 484
        },
        "outputId": "c03e6e03-7682-405d-ae10-fe1e45c31a1f"
      },
      "source": [
        "# Define the model\n",
        "dense1 = Dense(all_input.shape[1]*2, activation='relu')(all_input)\n",
        "dense2 = Dense(all_input.shape[1], activation='relu')(dense1)\n",
        "predictions = Dense(1)(dense2)\n",
        "\n",
        "# Note using the input object 'area_input' not 'area_embeddings'\n",
        "model = Model(inputs=[continuous_input, cate_input], outputs=predictions)\n",
        "model.compile(loss='mse', optimizer=keras.optimizers.Adam(lr=.8, beta_1=0.9, beta_2=0.999, decay=1e-03, amsgrad=True),metrics=[soft_acc,r2])\n",
        "model.summary()"
      ],
      "execution_count": 70,
      "outputs": [
        {
          "output_type": "stream",
          "text": [
            "Model: \"model_12\"\n",
            "__________________________________________________________________________________________________\n",
            "Layer (type)                    Output Shape         Param #     Connected to                     \n",
            "==================================================================================================\n",
            "input_15 (InputLayer)           (None, 2)            0                                            \n",
            "__________________________________________________________________________________________________\n",
            "embedding_8 (Embedding)         (None, 2, 24)        72000       input_15[0][0]                   \n",
            "__________________________________________________________________________________________________\n",
            "input_16 (InputLayer)           (None, 3)            0                                            \n",
            "__________________________________________________________________________________________________\n",
            "reshape_8 (Reshape)             (None, 48)           0           embedding_8[0][0]                \n",
            "__________________________________________________________________________________________________\n",
            "concatenate_8 (Concatenate)     (None, 51)           0           input_16[0][0]                   \n",
            "                                                                 reshape_8[0][0]                  \n",
            "__________________________________________________________________________________________________\n",
            "dense_34 (Dense)                (None, 102)          5304        concatenate_8[0][0]              \n",
            "__________________________________________________________________________________________________\n",
            "dense_35 (Dense)                (None, 51)           5253        dense_34[0][0]                   \n",
            "__________________________________________________________________________________________________\n",
            "dense_36 (Dense)                (None, 1)            52          dense_35[0][0]                   \n",
            "==================================================================================================\n",
            "Total params: 82,609\n",
            "Trainable params: 82,609\n",
            "Non-trainable params: 0\n",
            "__________________________________________________________________________________________________\n"
          ],
          "name": "stdout"
        }
      ]
    },
    {
      "cell_type": "markdown",
      "metadata": {
        "id": "Ol3kJiWKq4Lv",
        "colab_type": "text"
      },
      "source": [
        "#### Lets train the model"
      ]
    },
    {
      "cell_type": "code",
      "metadata": {
        "id": "mWOxr788q4Lw",
        "colab_type": "code",
        "colab": {
          "base_uri": "https://localhost:8080/",
          "height": 224
        },
        "outputId": "1a5326ba-d541-4ff6-f258-7400da37f169"
      },
      "source": [
        "epochs = 2000\n",
        "\n",
        "# Note continuous and categorical columns are inserted in the same order as defined in all_inputs\n",
        "history = model.fit([X_train_continuous, X_train_categorical[['area_mapping','type_mapping']].to_numpy()], y_train, \n",
        "          epochs=epochs, batch_size=128, \n",
        "          callbacks=[periodic_logger_250], verbose=0,\n",
        "          validation_data=([X_val_continuous, X_val_categorical[['area_mapping','type_mapping']].to_numpy()], y_val))"
      ],
      "execution_count": 71,
      "outputs": [
        {
          "output_type": "stream",
          "text": [
            "/usr/local/lib/python3.6/dist-packages/tensorflow/python/framework/indexed_slices.py:434: UserWarning: Converting sparse IndexedSlices to a dense Tensor of unknown shape. This may consume a large amount of memory.\n",
            "  \"Converting sparse IndexedSlices to a dense Tensor of unknown shape. \"\n"
          ],
          "name": "stderr"
        },
        {
          "output_type": "stream",
          "text": [
            "Epoch: 250 - {'val_loss': 184756.16958333334, 'val_soft_acc': 0.6259469985961914, 'val_r2': 0.9999999403953552, 'loss': 150742.20495833334, 'soft_acc': 0.5971912, 'r2': 1.0}\n",
            "Epoch: 500 - {'val_loss': 117934.865625, 'val_soft_acc': 0.6901041865348816, 'val_r2': 0.9999999403953552, 'loss': 93565.3069375, 'soft_acc': 0.68852305, 'r2': 1.0}\n",
            "Epoch: 750 - {'val_loss': 98291.193125, 'val_soft_acc': 0.7211174368858337, 'val_r2': 1.0, 'loss': 77536.12060416667, 'soft_acc': 0.7127046, 'r2': 1.0}\n",
            "Epoch: 1000 - {'val_loss': 90262.27947916667, 'val_soft_acc': 0.7291666865348816, 'val_r2': 1.0, 'loss': 67835.9416875, 'soft_acc': 0.7320034, 'r2': 1.0}\n",
            "Epoch: 1250 - {'val_loss': 83414.66666666667, 'val_soft_acc': 0.7419507503509521, 'val_r2': 1.0, 'loss': 62328.9968125, 'soft_acc': 0.74841887, 'r2': 1.0}\n",
            "Epoch: 1500 - {'val_loss': 79103.05875, 'val_soft_acc': 0.7575757503509521, 'val_r2': 1.0, 'loss': 58592.756802083335, 'soft_acc': 0.7586961, 'r2': 1.0}\n",
            "Epoch: 1750 - {'val_loss': 76019.29447916667, 'val_soft_acc': 0.7369791865348816, 'val_r2': 1.0, 'loss': 55756.32051041667, 'soft_acc': 0.76748514, 'r2': 1.0}\n",
            "Epoch: 2000 - {'val_loss': 73356.94885416667, 'val_soft_acc': 0.7497632503509521, 'val_r2': 1.0, 'loss': 53553.39394270833, 'soft_acc': 0.77125186, 'r2': 1.0}\n"
          ],
          "name": "stdout"
        }
      ]
    },
    {
      "cell_type": "code",
      "metadata": {
        "id": "TGIAOn3Rq4L9",
        "colab_type": "code",
        "colab": {
          "base_uri": "https://localhost:8080/",
          "height": 582
        },
        "outputId": "0ed6baec-7aeb-4998-a7a9-fc6e934a5d4b"
      },
      "source": [
        "# Plot the train/validation loss values\n",
        "plt.figure(figsize=(20,10))\n",
        "_loss = history.history['loss'][250:]\n",
        "_val_loss = history.history['val_loss'][250:]\n",
        "\n",
        "train_loss_plot, = plt.plot(range(1, len(_loss)+1), _loss, label='Train Loss')\n",
        "val_loss_plot, = plt.plot(range(1, len(_val_loss)+1), _val_loss, label='Validation Loss')\n",
        "\n",
        "_ = plt.legend(handles=[train_loss_plot, val_loss_plot])"
      ],
      "execution_count": 72,
      "outputs": [
        {
          "output_type": "display_data",
          "data": {
            "image/png": "[encoded data removed]",
            "text/plain": [
              "<Figure size 1440x720 with 1 Axes>"
            ]
          },
          "metadata": {
            "tags": [],
            "needs_background": "light"
          }
        }
      ]
    },
    {
      "cell_type": "markdown",
      "metadata": {
        "id": "0Bc2iXsSq4MK",
        "colab_type": "text"
      },
      "source": [
        "After ~500 epochs the validation_loss is very low. This would have been a very good result if this was a \"real world problem\", particularly because we are using a quadratic loss function (Mean Square Error) when trying to predict a large value:"
      ]
    },
    {
      "cell_type": "markdown",
      "metadata": {
        "id": "ytZRzEHgq4Md",
        "colab_type": "text"
      },
      "source": [
        "## How good are the model's predictions?"
      ]
    },
    {
      "cell_type": "code",
      "metadata": {
        "id": "1mQ2MD_rq4Me",
        "colab_type": "code",
        "colab": {
          "base_uri": "https://localhost:8080/",
          "height": 769
        },
        "outputId": "99e5c8c6-7e8c-4f94-b5ba-3924ffad6d06"
      },
      "source": [
        "print (\"This is the average value we are trying to predict: %d\" % y_val.mean().iloc[0])\n",
        "\n",
        "df = y_val.copy()\n",
        "\n",
        "# Add a column for the model's predicted values\n",
        "df['pred'] = model.predict([X_val_continuous, X_val_categorical[['area_mapping','type_mapping']].to_numpy()])\n",
        "\n",
        "# Calculate the difference between the predicted and the actual price\n",
        "df['diff'] = df['pred'] - df['price']\n",
        "\n",
        "# Calculate the absolute difference between the predicted and the actual price\n",
        "df['abs_diff'] = np.abs(df['diff'])\n",
        "\n",
        "# Calculate the percentage of the difference from the actual price\n",
        "df['%diff'] = 100 * (df['diff'] / df['price'])\n",
        "\n",
        "# Calculate the absolute percentage difference from the actual price\n",
        "df['abs_%diff'] = np.abs(df['%diff'])\n",
        "\n",
        "# Sort by the 'abs_diff' field and show the 5 largest mistakes in absolute values\n",
        "print(df.sort_values(\"abs_diff\", ascending=False).head(5))\n",
        "# Calculate the mean and std. of the diff field\n",
        "diff_mean, diff_std = df['diff'].mean(), df['diff'].std()\n",
        "print(\"The mean is very close to 0 ({mean}) with std. {std}.\".format(mean=round(diff_mean, 2), std=round(diff_std, 2)))\n",
        "\n",
        "# Here is the histogram of the differences\n",
        "plt.figure(figsize=(20,10))\n",
        "plt.hist(df['diff'], bins=100)\n",
        "plt.xlabel(\"$\")\n",
        "plt.ylabel(\"# samples\")\n",
        "_ = plt.title(\"Difference between predicted and actual price\")"
      ],
      "execution_count": 73,
      "outputs": [
        {
          "output_type": "stream",
          "text": [
            "This is the average value we are trying to predict: 1214121\n",
            "        price           pred         diff     abs_diff     %diff  abs_%diff\n",
            "196   42130.0   40493.347656 -1636.652344  1636.652344 -3.884767   3.884767\n",
            "274  307240.0  308520.812500  1280.812500  1280.812500  0.416877   0.416877\n",
            "98   305400.0  306408.375000  1008.375000  1008.375000  0.330182   0.330182\n",
            "175  485130.0  484162.531250  -967.468750   967.468750 -0.199425   0.199425\n",
            "208  486180.0  485231.218750  -948.781250   948.781250 -0.195150   0.195150\n",
            "The mean is very close to 0 (-29.78) with std. 269.65.\n"
          ],
          "name": "stdout"
        },
        {
          "output_type": "display_data",
          "data": {
            "image/png": "[encoded data removed]",
            "text/plain": [
              "<Figure size 1440x720 with 1 Axes>"
            ]
          },
          "metadata": {
            "tags": [],
            "needs_background": "light"
          }
        }
      ]
    },
    {
      "cell_type": "code",
      "metadata": {
        "id": "K72ocNv_QhPO",
        "colab_type": "code",
        "colab": {
          "base_uri": "https://localhost:8080/",
          "height": 729
        },
        "outputId": "7f22c7ac-4135-4c1d-bb10-79eed4fa4184"
      },
      "source": [
        "# Sort by the '%diff' field and show the 5 largest proportional mistakes\n",
        "print(df.sort_values(\"abs_%diff\", ascending=False).head(5))\n",
        "\n",
        "# Also, plot the histogram\n",
        "plt.figure(figsize=(20,10))\n",
        "plt.hist(df['%diff'], bins=100)\n",
        "plt.xlabel(\"%\")\n",
        "plt.ylabel(\"# samples\")\n",
        "_ = plt.title(\"% of difference between predicted and actual price\")"
      ],
      "execution_count": 74,
      "outputs": [
        {
          "output_type": "stream",
          "text": [
            "       price          pred         diff     abs_diff     %diff  abs_%diff\n",
            "196  42130.0  40493.347656 -1636.652344  1636.652344 -3.884767   3.884767\n",
            "154  35430.0  34815.988281  -614.011719   614.011719 -1.733028   1.733028\n",
            "65   19940.0  19630.615234  -309.384766   309.384766 -1.551579   1.551579\n",
            "184  20630.0  20321.951172  -308.048828   308.048828 -1.493208   1.493208\n",
            "107  60380.0  59926.679688  -453.320312   453.320312 -0.750779   0.750779\n"
          ],
          "name": "stdout"
        },
        {
          "output_type": "display_data",
          "data": {
            "image/png": "[encoded data removed]",
            "text/plain": [
              "<Figure size 1440x720 with 1 Axes>"
            ]
          },
          "metadata": {
            "tags": [],
            "needs_background": "light"
          }
        }
      ]
    },
    {
      "cell_type": "code",
      "metadata": {
        "id": "QV-SmHrpbV3Q",
        "colab_type": "code",
        "colab": {
          "base_uri": "https://localhost:8080/",
          "height": 521
        },
        "outputId": "ff8d1227-ae72-4195-e7dc-2e298a04588d"
      },
      "source": [
        "!pip install lime"
      ],
      "execution_count": 43,
      "outputs": [
        {
          "output_type": "stream",
          "text": [
            "Collecting lime\n",
            "\u001b[?25l  Downloading https://files.pythonhosted.org/packages/f5/86/91a13127d83d793ecb50eb75e716f76e6eda809b6803c5a4ff462339789e/lime-0.2.0.1.tar.gz (275kB)\n",
            "\r\u001b[K     |█▏                              | 10kB 22.1MB/s eta 0:00:01\r\u001b[K     |██▍                             | 20kB 26.8MB/s eta 0:00:01\r\u001b[K     |███▋                            | 30kB 19.7MB/s eta 0:00:01\r\u001b[K     |████▊                           | 40kB 14.0MB/s eta 0:00:01\r\u001b[K     |██████                          | 51kB 12.5MB/s eta 0:00:01\r\u001b[K     |███████▏                        | 61kB 11.9MB/s eta 0:00:01\r\u001b[K     |████████▎                       | 71kB 11.9MB/s eta 0:00:01\r\u001b[K     |█████████▌                      | 81kB 11.8MB/s eta 0:00:01\r\u001b[K     |██████████▊                     | 92kB 10.6MB/s eta 0:00:01\r\u001b[K     |███████████▉                    | 102kB 10.7MB/s eta 0:00:01\r\u001b[K     |█████████████                   | 112kB 10.7MB/s eta 0:00:01\r\u001b[K     |██████████████▎                 | 122kB 10.7MB/s eta 0:00:01\r\u001b[K     |███████████████▌                | 133kB 10.7MB/s eta 0:00:01\r\u001b[K     |████████████████▋               | 143kB 10.7MB/s eta 0:00:01\r\u001b[K     |█████████████████▉              | 153kB 10.7MB/s eta 0:00:01\r\u001b[K     |███████████████████             | 163kB 10.7MB/s eta 0:00:01\r\u001b[K     |████████████████████▏           | 174kB 10.7MB/s eta 0:00:01\r\u001b[K     |█████████████████████▍          | 184kB 10.7MB/s eta 0:00:01\r\u001b[K     |██████████████████████▋         | 194kB 10.7MB/s eta 0:00:01\r\u001b[K     |███████████████████████▊        | 204kB 10.7MB/s eta 0:00:01\r\u001b[K     |█████████████████████████       | 215kB 10.7MB/s eta 0:00:01\r\u001b[K     |██████████████████████████▏     | 225kB 10.7MB/s eta 0:00:01\r\u001b[K     |███████████████████████████▍    | 235kB 10.7MB/s eta 0:00:01\r\u001b[K     |████████████████████████████▌   | 245kB 10.7MB/s eta 0:00:01\r\u001b[K     |█████████████████████████████▊  | 256kB 10.7MB/s eta 0:00:01\r\u001b[K     |███████████████████████████████ | 266kB 10.7MB/s eta 0:00:01\r\u001b[K     |████████████████████████████████| 276kB 10.7MB/s \n",
            "\u001b[?25hRequirement already satisfied: matplotlib in /usr/local/lib/python3.6/dist-packages (from lime) (3.2.2)\n",
            "Requirement already satisfied: numpy in /usr/local/lib/python3.6/dist-packages (from lime) (1.18.5)\n",
            "Requirement already satisfied: scipy in /usr/local/lib/python3.6/dist-packages (from lime) (1.4.1)\n",
            "Requirement already satisfied: tqdm in /usr/local/lib/python3.6/dist-packages (from lime) (4.41.1)\n",
            "Requirement already satisfied: scikit-learn>=0.18 in /usr/local/lib/python3.6/dist-packages (from lime) (0.22.2.post1)\n",
            "Requirement already satisfied: scikit-image>=0.12 in /usr/local/lib/python3.6/dist-packages (from lime) (0.16.2)\n",
            "Requirement already satisfied: python-dateutil>=2.1 in /usr/local/lib/python3.6/dist-packages (from matplotlib->lime) (2.8.1)\n",
            "Requirement already satisfied: cycler>=0.10 in /usr/local/lib/python3.6/dist-packages (from matplotlib->lime) (0.10.0)\n",
            "Requirement already satisfied: kiwisolver>=1.0.1 in /usr/local/lib/python3.6/dist-packages (from matplotlib->lime) (1.2.0)\n",
            "Requirement already satisfied: pyparsing!=2.0.4,!=2.1.2,!=2.1.6,>=2.0.1 in /usr/local/lib/python3.6/dist-packages (from matplotlib->lime) (2.4.7)\n",
            "Requirement already satisfied: joblib>=0.11 in /usr/local/lib/python3.6/dist-packages (from scikit-learn>=0.18->lime) (0.15.1)\n",
            "Requirement already satisfied: PyWavelets>=0.4.0 in /usr/local/lib/python3.6/dist-packages (from scikit-image>=0.12->lime) (1.1.1)\n",
            "Requirement already satisfied: networkx>=2.0 in /usr/local/lib/python3.6/dist-packages (from scikit-image>=0.12->lime) (2.4)\n",
            "Requirement already satisfied: pillow>=4.3.0 in /usr/local/lib/python3.6/dist-packages (from scikit-image>=0.12->lime) (7.0.0)\n",
            "Requirement already satisfied: imageio>=2.3.0 in /usr/local/lib/python3.6/dist-packages (from scikit-image>=0.12->lime) (2.4.1)\n",
            "Requirement already satisfied: six>=1.5 in /usr/local/lib/python3.6/dist-packages (from python-dateutil>=2.1->matplotlib->lime) (1.12.0)\n",
            "Requirement already satisfied: decorator>=4.3.0 in /usr/local/lib/python3.6/dist-packages (from networkx>=2.0->scikit-image>=0.12->lime) (4.4.2)\n",
            "Building wheels for collected packages: lime\n",
            "  Building wheel for lime (setup.py) ... \u001b[?25l\u001b[?25hdone\n",
            "  Created wheel for lime: filename=lime-0.2.0.1-cp36-none-any.whl size=283845 sha256=fcbfecf101f1e4126b1a611a1e4c3b5cf1c36bfe0936b32b50ce32c2167ff71c\n",
            "  Stored in directory: /root/.cache/pip/wheels/4c/4f/a5/0bc765457bd41378bf3ce8d17d7495369d6e7ca3b712c60c89\n",
            "Successfully built lime\n",
            "Installing collected packages: lime\n",
            "Successfully installed lime-0.2.0.1\n"
          ],
          "name": "stdout"
        }
      ]
    },
    {
      "cell_type": "code",
      "metadata": {
        "id": "QaBAaRakgWex",
        "colab_type": "code",
        "colab": {}
      },
      "source": [
        "train_ds = pd.concat([X_train_continuous,X_train_categorical[['area_mapping','type_mapping']]], axis=1)\n",
        "val_ds = pd.concat([X_val_continuous,X_val_categorical[['area_mapping','type_mapping']]], axis=1)\n"
      ],
      "execution_count": 75,
      "outputs": []
    },
    {
      "cell_type": "code",
      "metadata": {
        "id": "H4IkARRtjxGy",
        "colab_type": "code",
        "colab": {
          "base_uri": "https://localhost:8080/",
          "height": 415
        },
        "outputId": "74dd8f42-a694-4e21-b610-505d12aa4cc6"
      },
      "source": [
        "val_ds"
      ],
      "execution_count": 76,
      "outputs": [
        {
          "output_type": "execute_result",
          "data": {
            "text/html": [
              "<div>\n",
              "<style scoped>\n",
              "    .dataframe tbody tr th:only-of-type {\n",
              "        vertical-align: middle;\n",
              "    }\n",
              "\n",
              "    .dataframe tbody tr th {\n",
              "        vertical-align: top;\n",
              "    }\n",
              "\n",
              "    .dataframe thead th {\n",
              "        text-align: right;\n",
              "    }\n",
              "</style>\n",
              "<table border=\"1\" class=\"dataframe\">\n",
              "  <thead>\n",
              "    <tr style=\"text-align: right;\">\n",
              "      <th></th>\n",
              "      <th>size</th>\n",
              "      <th>n_rooms</th>\n",
              "      <th>n_rooms_n_rooms</th>\n",
              "      <th>area_mapping</th>\n",
              "      <th>type_mapping</th>\n",
              "    </tr>\n",
              "  </thead>\n",
              "  <tbody>\n",
              "    <tr>\n",
              "      <th>0</th>\n",
              "      <td>0.552226</td>\n",
              "      <td>-1.387335</td>\n",
              "      <td>-1.132485</td>\n",
              "      <td>3</td>\n",
              "      <td>7</td>\n",
              "    </tr>\n",
              "    <tr>\n",
              "      <th>1</th>\n",
              "      <td>-0.258877</td>\n",
              "      <td>0.034115</td>\n",
              "      <td>-0.197834</td>\n",
              "      <td>1</td>\n",
              "      <td>1</td>\n",
              "    </tr>\n",
              "    <tr>\n",
              "      <th>2</th>\n",
              "      <td>0.755002</td>\n",
              "      <td>-0.676610</td>\n",
              "      <td>-0.781991</td>\n",
              "      <td>3</td>\n",
              "      <td>4</td>\n",
              "    </tr>\n",
              "    <tr>\n",
              "      <th>3</th>\n",
              "      <td>0.146675</td>\n",
              "      <td>0.034115</td>\n",
              "      <td>-0.197834</td>\n",
              "      <td>3</td>\n",
              "      <td>3</td>\n",
              "    </tr>\n",
              "    <tr>\n",
              "      <th>4</th>\n",
              "      <td>0.552226</td>\n",
              "      <td>1.455564</td>\n",
              "      <td>1.671468</td>\n",
              "      <td>1</td>\n",
              "      <td>8</td>\n",
              "    </tr>\n",
              "    <tr>\n",
              "      <th>...</th>\n",
              "      <td>...</td>\n",
              "      <td>...</td>\n",
              "      <td>...</td>\n",
              "      <td>...</td>\n",
              "      <td>...</td>\n",
              "    </tr>\n",
              "    <tr>\n",
              "      <th>295</th>\n",
              "      <td>1.768881</td>\n",
              "      <td>-0.676610</td>\n",
              "      <td>-0.781991</td>\n",
              "      <td>2</td>\n",
              "      <td>6</td>\n",
              "    </tr>\n",
              "    <tr>\n",
              "      <th>296</th>\n",
              "      <td>0.349450</td>\n",
              "      <td>0.744840</td>\n",
              "      <td>0.619985</td>\n",
              "      <td>1</td>\n",
              "      <td>1</td>\n",
              "    </tr>\n",
              "    <tr>\n",
              "      <th>297</th>\n",
              "      <td>2.174433</td>\n",
              "      <td>0.744840</td>\n",
              "      <td>0.619985</td>\n",
              "      <td>2</td>\n",
              "      <td>7</td>\n",
              "    </tr>\n",
              "    <tr>\n",
              "      <th>298</th>\n",
              "      <td>-1.881084</td>\n",
              "      <td>0.034115</td>\n",
              "      <td>-0.197834</td>\n",
              "      <td>2</td>\n",
              "      <td>2</td>\n",
              "    </tr>\n",
              "    <tr>\n",
              "      <th>299</th>\n",
              "      <td>-0.664429</td>\n",
              "      <td>0.744840</td>\n",
              "      <td>0.619985</td>\n",
              "      <td>3</td>\n",
              "      <td>3</td>\n",
              "    </tr>\n",
              "  </tbody>\n",
              "</table>\n",
              "<p>300 rows × 5 columns</p>\n",
              "</div>"
            ],
            "text/plain": [
              "         size   n_rooms  n_rooms_n_rooms  area_mapping  type_mapping\n",
              "0    0.552226 -1.387335        -1.132485             3             7\n",
              "1   -0.258877  0.034115        -0.197834             1             1\n",
              "2    0.755002 -0.676610        -0.781991             3             4\n",
              "3    0.146675  0.034115        -0.197834             3             3\n",
              "4    0.552226  1.455564         1.671468             1             8\n",
              "..        ...       ...              ...           ...           ...\n",
              "295  1.768881 -0.676610        -0.781991             2             6\n",
              "296  0.349450  0.744840         0.619985             1             1\n",
              "297  2.174433  0.744840         0.619985             2             7\n",
              "298 -1.881084  0.034115        -0.197834             2             2\n",
              "299 -0.664429  0.744840         0.619985             3             3\n",
              "\n",
              "[300 rows x 5 columns]"
            ]
          },
          "metadata": {
            "tags": []
          },
          "execution_count": 76
        }
      ]
    },
    {
      "cell_type": "code",
      "metadata": {
        "id": "ZzVfiFsObb5d",
        "colab_type": "code",
        "colab": {}
      },
      "source": [
        "# XAI를 위한 lime  정의\n",
        "from lime import lime_tabular, lime_text\n",
        "exp = lime_tabular.LimeTabularExplainer(\n",
        "    train_ds.to_numpy(),\n",
        "    training_labels=y_train.to_numpy(),\n",
        "    feature_names=train_ds.columns,\n",
        "    class_names= y_train.columns,\n",
        "    mode=\"regression\"\n",
        ")\n"
      ],
      "execution_count": 77,
      "outputs": []
    },
    {
      "cell_type": "code",
      "metadata": {
        "id": "Kff6xpteosdT",
        "colab_type": "code",
        "colab": {}
      },
      "source": [
        "# 변수의 영향력 분석\n",
        "# 소팅을 위한 초기화 \n",
        "exp_ana = {}\n",
        "for k in train_ds.columns:\n",
        "  exp_ana[k] = 0\n",
        "\n",
        "# predict 함수 재정의 - lime에서 사용 가능하도록...\n",
        "continue_dim = X_train_continuous.shape[1]\n",
        "input_dim = train_ds.shape[1]\n",
        "def predict(data):\n",
        "    return model.predict([data[:,0:continue_dim],data[:,continue_dim:input_dim]])\n",
        "\n",
        "# validation set의 변수 영향력 분석...\n",
        "for i in range(40): #range(val_ds.shape[0]):\n",
        "    p = exp.explain_instance(np.asarray(val_ds.iloc[i]),predict,num_features=val_ds.shape[1])\n",
        "    for t in p.as_map()[0]:\n",
        "      exp_ana[train_ds.columns[t[0]]] += np.abs(t[1])\n",
        "\n",
        "import operator\n",
        "\n",
        "sorted_x = sorted(exp_ana.items(), key=operator.itemgetter(1))\n",
        "\n",
        "effect_result_table = pd.DataFrame(sorted_x,columns=['Feature', 'Effect'] )\n"
      ],
      "execution_count": 78,
      "outputs": []
    },
    {
      "cell_type": "code",
      "metadata": {
        "id": "kQEz_AfFNwLY",
        "colab_type": "code",
        "colab": {
          "base_uri": "https://localhost:8080/",
          "height": 377
        },
        "outputId": "acf4cca6-2652-478f-ddfa-7db582b19808"
      },
      "source": [
        "effect_result_table['Effect'] = effect_result_table['Effect']/max(effect_result_table['Effect'])\n",
        "effect_result_table.plot(x='Feature',y='Effect',kind='bar')"
      ],
      "execution_count": 79,
      "outputs": [
        {
          "output_type": "execute_result",
          "data": {
            "text/plain": [
              "<matplotlib.axes._subplots.AxesSubplot at 0x7fcbf5007240>"
            ]
          },
          "metadata": {
            "tags": []
          },
          "execution_count": 79
        },
        {
          "output_type": "display_data",
          "data": {
            "image/png": "[encoded data removed]",
            "text/plain": [
              "<Figure size 432x288 with 1 Axes>"
            ]
          },
          "metadata": {
            "tags": [],
            "needs_background": "light"
          }
        }
      ]
    },
    {
      "cell_type": "code",
      "metadata": {
        "id": "Qz55nCLwRlS8",
        "colab_type": "code",
        "colab": {
          "base_uri": "https://localhost:8080/",
          "height": 503
        },
        "outputId": "142d3838-86e7-4bf4-dea9-546e77af27cc"
      },
      "source": [
        "# 학습 대상 변수 전체 선택\n",
        "X_train_continuous = X_train_continuous_org\n",
        "X_train_categorical = X_train_categorical_org\n",
        "X_val_continuous  = X_val_continuous_org\n",
        "X_val_categorical = X_val_categorical_org\n",
        "\n",
        "# Define the embedding input\n",
        "cate_input = Input(shape=(2,), dtype='int32') \n",
        "\n",
        "# Decide to what vector size we want to map our 'area' variable. \n",
        "# I'll use 1 here because we only have three areas\n",
        "embeddings_output = 24\n",
        "\n",
        "\n",
        "# Let’s define the embedding layer and flatten it\n",
        "cate_embedings = Embedding(output_dim=embeddings_output, input_dim=X_train_categorical.shape[0])(cate_input)\n",
        "print(cate_embedings)\n",
        "cate_embedings = keras.layers.Reshape((embeddings_output*2,))(cate_embedings)\n",
        "\n",
        "# Define the continuous variables input (just like before)\n",
        "continuous_input = Input(shape=(X_train_continuous.shape[1], ))\n",
        "\n",
        "# Concatenate continuous and embeddings inputs\n",
        "all_input = keras.layers.concatenate([continuous_input, cate_embedings])\n",
        "\n",
        "# Define the model\n",
        "dense1 = Dense(all_input.shape[1]*2, activation='relu')(all_input)\n",
        "dense2 = Dense(all_input.shape[1], activation='relu')(dense1)\n",
        "predictions = Dense(1)(dense2)\n",
        "# Note using the input object 'area_input' not 'area_embeddings'\n",
        "model = Model(inputs=[continuous_input, cate_input], outputs=predictions)\n",
        "model.compile(loss='mse', optimizer=keras.optimizers.Adam(lr=.8, beta_1=0.9, beta_2=0.999, decay=1e-03, amsgrad=True),metrics=[soft_acc,r2])\n",
        "model.summary()\n"
      ],
      "execution_count": 80,
      "outputs": [
        {
          "output_type": "stream",
          "text": [
            "Tensor(\"embedding_9/embedding_lookup/Identity_1:0\", shape=(None, 2, 24), dtype=float32)\n",
            "Model: \"model_13\"\n",
            "__________________________________________________________________________________________________\n",
            "Layer (type)                    Output Shape         Param #     Connected to                     \n",
            "==================================================================================================\n",
            "input_17 (InputLayer)           (None, 2)            0                                            \n",
            "__________________________________________________________________________________________________\n",
            "embedding_9 (Embedding)         (None, 2, 24)        72000       input_17[0][0]                   \n",
            "__________________________________________________________________________________________________\n",
            "input_18 (InputLayer)           (None, 6)            0                                            \n",
            "__________________________________________________________________________________________________\n",
            "reshape_9 (Reshape)             (None, 48)           0           embedding_9[0][0]                \n",
            "__________________________________________________________________________________________________\n",
            "concatenate_9 (Concatenate)     (None, 54)           0           input_18[0][0]                   \n",
            "                                                                 reshape_9[0][0]                  \n",
            "__________________________________________________________________________________________________\n",
            "dense_37 (Dense)                (None, 108)          5940        concatenate_9[0][0]              \n",
            "__________________________________________________________________________________________________\n",
            "dense_38 (Dense)                (None, 54)           5886        dense_37[0][0]                   \n",
            "__________________________________________________________________________________________________\n",
            "dense_39 (Dense)                (None, 1)            55          dense_38[0][0]                   \n",
            "==================================================================================================\n",
            "Total params: 83,881\n",
            "Trainable params: 83,881\n",
            "Non-trainable params: 0\n",
            "__________________________________________________________________________________________________\n"
          ],
          "name": "stdout"
        }
      ]
    },
    {
      "cell_type": "code",
      "metadata": {
        "id": "adDZVyGqR4pq",
        "colab_type": "code",
        "colab": {
          "base_uri": "https://localhost:8080/",
          "height": 224
        },
        "outputId": "b1401d72-fd14-4996-fae4-0fa5b2fcb235"
      },
      "source": [
        "epochs = 2000\n",
        "\n",
        "# Note continuous and categorical columns are inserted in the same order as defined in all_inputs\n",
        "history = model.fit([X_train_continuous, X_train_categorical[['area_mapping','type_mapping']].to_numpy()], y_train, \n",
        "          epochs=epochs, batch_size=128, \n",
        "          callbacks=[periodic_logger_250], verbose=0,\n",
        "          validation_data=([X_val_continuous, X_val_categorical[['area_mapping','type_mapping']].to_numpy()], y_val))"
      ],
      "execution_count": 81,
      "outputs": [
        {
          "output_type": "stream",
          "text": [
            "/usr/local/lib/python3.6/dist-packages/tensorflow/python/framework/indexed_slices.py:434: UserWarning: Converting sparse IndexedSlices to a dense Tensor of unknown shape. This may consume a large amount of memory.\n",
            "  \"Converting sparse IndexedSlices to a dense Tensor of unknown shape. \"\n"
          ],
          "name": "stderr"
        },
        {
          "output_type": "stream",
          "text": [
            "Epoch: 250 - {'val_loss': 26187096.48, 'val_soft_acc': 0.11292613297700882, 'val_r2': 0.9999895691871643, 'loss': 13828588.08, 'soft_acc': 0.11170015, 'r2': 0.9999946}\n",
            "Epoch: 500 - {'val_loss': 22510108.85333333, 'val_soft_acc': 0.09801136702299118, 'val_r2': 0.9999909400939941, 'loss': 11211363.768, 'soft_acc': 0.13723029, 'r2': 0.9999954}\n",
            "Epoch: 750 - {'val_loss': 19757523.253333334, 'val_soft_acc': 0.11339962482452393, 'val_r2': 0.9999918937683105, 'loss': 9950210.092, 'soft_acc': 0.14718191, 'r2': 0.99999595}\n",
            "Epoch: 1000 - {'val_loss': 15531187.12, 'val_soft_acc': 0.12926135957241058, 'val_r2': 0.9999935626983643, 'loss': 7721098.729333334, 'soft_acc': 0.13337053, 'r2': 0.99999714}\n",
            "Epoch: 1250 - {'val_loss': 13102644.48, 'val_soft_acc': 0.12665720283985138, 'val_r2': 0.9999945759773254, 'loss': 6179716.042666666, 'soft_acc': 0.14225261, 'r2': 0.9999977}\n",
            "Epoch: 1500 - {'val_loss': 12233199.84, 'val_soft_acc': 0.12878787517547607, 'val_r2': 0.9999948143959045, 'loss': 5200991.113333333, 'soft_acc': 0.15824963, 'r2': 0.9999978}\n",
            "Epoch: 1750 - {'val_loss': 11603686.346666666, 'val_soft_acc': 0.13944129645824432, 'val_r2': 0.9999950528144836, 'loss': 4778795.330666667, 'soft_acc': 0.17085193, 'r2': 0.99999803}\n",
            "Epoch: 2000 - {'val_loss': 11374133.44, 'val_soft_acc': 0.13162879645824432, 'val_r2': 0.999995231628418, 'loss': 4530879.802666667, 'soft_acc': 0.17838542, 'r2': 0.99999803}\n"
          ],
          "name": "stdout"
        }
      ]
    },
    {
      "cell_type": "code",
      "metadata": {
        "id": "zTBfEjqmSyf0",
        "colab_type": "code",
        "colab": {
          "base_uri": "https://localhost:8080/",
          "height": 377
        },
        "outputId": "1d519bc3-c3de-409d-9063-c58278dcca7a"
      },
      "source": [
        "train_ds = pd.concat([X_train_continuous,X_train_categorical[['area_mapping','type_mapping']]], axis=1)\n",
        "val_ds = pd.concat([X_val_continuous,X_val_categorical[['area_mapping','type_mapping']]], axis=1)\n",
        "# XAI를 위한 lime  정의\n",
        "from lime import lime_tabular, lime_text\n",
        "exp = lime_tabular.LimeTabularExplainer(\n",
        "    train_ds.to_numpy(),\n",
        "    training_labels=y_train.to_numpy(),\n",
        "    feature_names=train_ds.columns,\n",
        "    class_names= y_train.columns,\n",
        "    mode=\"regression\"\n",
        ")\n",
        "# 변수의 영향력 분석\n",
        "# 소팅을 위한 초기화 \n",
        "exp_ana = {}\n",
        "for k in train_ds.columns:\n",
        "  exp_ana[k] = 0\n",
        "\n",
        "# predict 함수 재정의 - lime에서 사용 가능하도록...\n",
        "continue_dim = X_train_continuous.shape[1]\n",
        "input_dim = train_ds.shape[1]\n",
        "def predict(data):\n",
        "    return model.predict([data[:,0:continue_dim],data[:,continue_dim:input_dim]])\n",
        "\n",
        "# validation set의 변수 영향력 분석...\n",
        "for i in range(40): #range(val_ds.shape[0]):\n",
        "    p = exp.explain_instance(np.asarray(val_ds.iloc[i]),predict,num_features=val_ds.shape[1])\n",
        "    for t in p.as_map()[0]:\n",
        "      exp_ana[train_ds.columns[t[0]]] += np.abs(t[1])\n",
        "\n",
        "import operator\n",
        "\n",
        "sorted_x = sorted(exp_ana.items(), key=operator.itemgetter(1))\n",
        "\n",
        "effect_result_table = pd.DataFrame(sorted_x,columns=['Feature', 'Effect'] )\n",
        "\n",
        "effect_result_table['Effect'] = effect_result_table['Effect']/max(effect_result_table['Effect'])\n",
        "effect_result_table.plot(x='Feature',y='Effect',kind='bar')\n"
      ],
      "execution_count": 82,
      "outputs": [
        {
          "output_type": "execute_result",
          "data": {
            "text/plain": [
              "<matplotlib.axes._subplots.AxesSubplot at 0x7fcbf4c94ef0>"
            ]
          },
          "metadata": {
            "tags": []
          },
          "execution_count": 82
        },
        {
          "output_type": "display_data",
          "data": {
            "image/png": "[encoded data removed]",
            "text/plain": [
              "<Figure size 432x288 with 1 Axes>"
            ]
          },
          "metadata": {
            "tags": [],
            "needs_background": "light"
          }
        }
      ]
    },
    {
      "cell_type": "code",
      "metadata": {
        "id": "D7mUylbCm0p9",
        "colab_type": "code",
        "colab": {
          "base_uri": "https://localhost:8080/",
          "height": 859
        },
        "outputId": "8246e177-092e-402b-99bf-89b37a9899bf"
      },
      "source": [
        "# 끝에 두개... 교차 삭제 테스트\n",
        "X_train_continuous = X_train_continuous_org[['n_rooms_n_rooms','size_n_rooms','n_rooms']]\n",
        "X_val_continuous  = X_val_continuous_org[['n_rooms_n_rooms','size_n_rooms','n_rooms']]\n",
        "\n",
        "print(X_train_continuous)\n",
        "# Define the embedding input\n",
        "cate_input = Input(shape=(2,), dtype='int32') \n",
        "\n",
        "# Decide to what vector size we want to map our 'area' variable. \n",
        "# I'll use 1 here because we only have three areas\n",
        "embeddings_output = 24\n",
        "\n",
        "\n",
        "# Let’s define the embedding layer and flatten it\n",
        "cate_embedings = Embedding(output_dim=embeddings_output, input_dim=X_train_categorical.shape[0])(cate_input)\n",
        "print(cate_embedings)\n",
        "cate_embedings = keras.layers.Reshape((embeddings_output*2,))(cate_embedings)\n",
        "\n",
        "# Define the continuous variables input (just like before)\n",
        "continuous_input = Input(shape=(X_train_continuous.shape[1], ))\n",
        "\n",
        "# Concatenate continuous and embeddings inputs\n",
        "all_input = keras.layers.concatenate([continuous_input, cate_embedings])\n",
        "\n",
        "# Define the model\n",
        "dense1 = Dense(all_input.shape[1]*2, activation='relu')(all_input)\n",
        "dense2 = Dense(all_input.shape[1], activation='relu')(dense1)\n",
        "predictions = Dense(1)(dense2)\n",
        "# Note using the input object 'area_input' not 'area_embeddings'\n",
        "model = Model(inputs=[continuous_input, cate_input], outputs=predictions)\n",
        "model.compile(loss='mse', optimizer=keras.optimizers.Adam(lr=.8, beta_1=0.9, beta_2=0.999, decay=1e-03, amsgrad=True),metrics=[soft_acc,r2])\n",
        "model.summary()\n",
        "\n",
        "epochs = 500\n",
        "# Note continuous and categorical columns are inserted in the same order as defined in all_inputs\n",
        "history = model.fit([X_train_continuous, X_train_categorical[['area_mapping','type_mapping']].to_numpy()], y_train, \n",
        "          epochs=epochs, batch_size=128, \n",
        "          callbacks=[periodic_logger_250], verbose=0,\n",
        "          validation_data=([X_val_continuous, X_val_categorical[['area_mapping','type_mapping']].to_numpy()], y_val))"
      ],
      "execution_count": 92,
      "outputs": [
        {
          "output_type": "stream",
          "text": [
            "      n_rooms_n_rooms  size_n_rooms   n_rooms\n",
            "0           -0.781991     -0.519037 -0.676610\n",
            "1           -0.197834     -0.388512  0.034115\n",
            "2            1.671468      1.517154  1.455564\n",
            "3           -1.132485     -1.197768 -1.387335\n",
            "4            1.671468      2.169779  1.455564\n",
            "...               ...           ...       ...\n",
            "2995         0.619985      0.107483  0.744840\n",
            "2996        -0.781991     -0.727877 -0.676610\n",
            "2997        -0.781991     -1.145558 -0.676610\n",
            "2998        -1.132485     -1.223873 -1.387335\n",
            "2999         1.671468      1.125579  1.455564\n",
            "\n",
            "[3000 rows x 3 columns]\n",
            "Tensor(\"embedding_16/embedding_lookup/Identity_1:0\", shape=(None, 2, 24), dtype=float32)\n",
            "Model: \"model_20\"\n",
            "__________________________________________________________________________________________________\n",
            "Layer (type)                    Output Shape         Param #     Connected to                     \n",
            "==================================================================================================\n",
            "input_31 (InputLayer)           (None, 2)            0                                            \n",
            "__________________________________________________________________________________________________\n",
            "embedding_16 (Embedding)        (None, 2, 24)        72000       input_31[0][0]                   \n",
            "__________________________________________________________________________________________________\n",
            "input_32 (InputLayer)           (None, 3)            0                                            \n",
            "__________________________________________________________________________________________________\n",
            "reshape_16 (Reshape)            (None, 48)           0           embedding_16[0][0]               \n",
            "__________________________________________________________________________________________________\n",
            "concatenate_16 (Concatenate)    (None, 51)           0           input_32[0][0]                   \n",
            "                                                                 reshape_16[0][0]                 \n",
            "__________________________________________________________________________________________________\n",
            "dense_58 (Dense)                (None, 102)          5304        concatenate_16[0][0]             \n",
            "__________________________________________________________________________________________________\n",
            "dense_59 (Dense)                (None, 51)           5253        dense_58[0][0]                   \n",
            "__________________________________________________________________________________________________\n",
            "dense_60 (Dense)                (None, 1)            52          dense_59[0][0]                   \n",
            "==================================================================================================\n",
            "Total params: 82,609\n",
            "Trainable params: 82,609\n",
            "Non-trainable params: 0\n",
            "__________________________________________________________________________________________________\n"
          ],
          "name": "stdout"
        },
        {
          "output_type": "stream",
          "text": [
            "/usr/local/lib/python3.6/dist-packages/tensorflow/python/framework/indexed_slices.py:434: UserWarning: Converting sparse IndexedSlices to a dense Tensor of unknown shape. This may consume a large amount of memory.\n",
            "  \"Converting sparse IndexedSlices to a dense Tensor of unknown shape. \"\n"
          ],
          "name": "stderr"
        },
        {
          "output_type": "stream",
          "text": [
            "Epoch: 250 - {'val_loss': 4074839.53, 'val_soft_acc': 0.14985795319080353, 'val_r2': 0.9999987483024597, 'loss': 3820444.816, 'soft_acc': 0.19652158, 'r2': 0.9999983}\n",
            "Epoch: 500 - {'val_loss': 3133140.8433333333, 'val_soft_acc': 0.2296401411294937, 'val_r2': 0.9999990463256836, 'loss': 2733866.970333333, 'soft_acc': 0.24590774, 'r2': 0.99999905}\n"
          ],
          "name": "stdout"
        }
      ]
    },
    {
      "cell_type": "code",
      "metadata": {
        "id": "VKAWcATRp8MP",
        "colab_type": "code",
        "colab": {
          "base_uri": "https://localhost:8080/",
          "height": 859
        },
        "outputId": "b5563cd1-e317-416d-9769-02a0747cff56"
      },
      "source": [
        "# 끝에 두개... 교차 삭제 테스트\n",
        "X_train_continuous = X_train_continuous_org[['size','n_rooms_n_rooms','n_rooms']]\n",
        "X_val_continuous  = X_val_continuous_org[['size','n_rooms_n_rooms','n_rooms']]\n",
        "\n",
        "print(X_train_continuous)\n",
        "# Define the embedding input\n",
        "cate_input = Input(shape=(2,), dtype='int32') \n",
        "\n",
        "# Decide to what vector size we want to map our 'area' variable. \n",
        "# I'll use 1 here because we only have three areas\n",
        "embeddings_output = 24\n",
        "\n",
        "\n",
        "# Let’s define the embedding layer and flatten it\n",
        "cate_embedings = Embedding(output_dim=embeddings_output, input_dim=X_train_categorical.shape[0])(cate_input)\n",
        "print(cate_embedings)\n",
        "cate_embedings = keras.layers.Reshape((embeddings_output*2,))(cate_embedings)\n",
        "\n",
        "# Define the continuous variables input (just like before)\n",
        "continuous_input = Input(shape=(X_train_continuous.shape[1], ))\n",
        "\n",
        "# Concatenate continuous and embeddings inputs\n",
        "all_input = keras.layers.concatenate([continuous_input, cate_embedings])\n",
        "\n",
        "# Define the model\n",
        "dense1 = Dense(all_input.shape[1]*2, activation='relu')(all_input)\n",
        "dense2 = Dense(all_input.shape[1], activation='relu')(dense1)\n",
        "predictions = Dense(1)(dense2)\n",
        "# Note using the input object 'area_input' not 'area_embeddings'\n",
        "model = Model(inputs=[continuous_input, cate_input], outputs=predictions)\n",
        "model.compile(loss='mse', optimizer=keras.optimizers.Adam(lr=.8, beta_1=0.9, beta_2=0.999, decay=1e-03, amsgrad=True),metrics=[soft_acc,r2])\n",
        "model.summary()\n",
        "\n",
        "epochs = 500\n",
        "# Note continuous and categorical columns are inserted in the same order as defined in all_inputs\n",
        "history = model.fit([X_train_continuous, X_train_categorical[['area_mapping','type_mapping']].to_numpy()], y_train, \n",
        "          epochs=epochs, batch_size=128, \n",
        "          callbacks=[periodic_logger_250], verbose=0,\n",
        "          validation_data=([X_val_continuous, X_val_categorical[['area_mapping','type_mapping']].to_numpy()], y_val))\n"
      ],
      "execution_count": 93,
      "outputs": [
        {
          "output_type": "stream",
          "text": [
            "          size  n_rooms_n_rooms   n_rooms\n",
            "0     0.349450        -0.781991 -0.676610\n",
            "1    -1.069980        -0.197834  0.034115\n",
            "2     0.349450         1.671468  1.455564\n",
            "3     0.349450        -1.132485 -1.387335\n",
            "4     1.363329         1.671468  1.455564\n",
            "...        ...              ...       ...\n",
            "2995 -1.069980         0.619985  0.744840\n",
            "2996 -0.461653        -0.781991 -0.676610\n",
            "2997 -2.083860        -0.781991 -0.676610\n",
            "2998  0.146675        -1.132485 -1.387335\n",
            "2999 -0.258877         1.671468  1.455564\n",
            "\n",
            "[3000 rows x 3 columns]\n",
            "Tensor(\"embedding_17/embedding_lookup/Identity_1:0\", shape=(None, 2, 24), dtype=float32)\n",
            "Model: \"model_21\"\n",
            "__________________________________________________________________________________________________\n",
            "Layer (type)                    Output Shape         Param #     Connected to                     \n",
            "==================================================================================================\n",
            "input_33 (InputLayer)           (None, 2)            0                                            \n",
            "__________________________________________________________________________________________________\n",
            "embedding_17 (Embedding)        (None, 2, 24)        72000       input_33[0][0]                   \n",
            "__________________________________________________________________________________________________\n",
            "input_34 (InputLayer)           (None, 3)            0                                            \n",
            "__________________________________________________________________________________________________\n",
            "reshape_17 (Reshape)            (None, 48)           0           embedding_17[0][0]               \n",
            "__________________________________________________________________________________________________\n",
            "concatenate_17 (Concatenate)    (None, 51)           0           input_34[0][0]                   \n",
            "                                                                 reshape_17[0][0]                 \n",
            "__________________________________________________________________________________________________\n",
            "dense_61 (Dense)                (None, 102)          5304        concatenate_17[0][0]             \n",
            "__________________________________________________________________________________________________\n",
            "dense_62 (Dense)                (None, 51)           5253        dense_61[0][0]                   \n",
            "__________________________________________________________________________________________________\n",
            "dense_63 (Dense)                (None, 1)            52          dense_62[0][0]                   \n",
            "==================================================================================================\n",
            "Total params: 82,609\n",
            "Trainable params: 82,609\n",
            "Non-trainable params: 0\n",
            "__________________________________________________________________________________________________\n"
          ],
          "name": "stdout"
        },
        {
          "output_type": "stream",
          "text": [
            "/usr/local/lib/python3.6/dist-packages/tensorflow/python/framework/indexed_slices.py:434: UserWarning: Converting sparse IndexedSlices to a dense Tensor of unknown shape. This may consume a large amount of memory.\n",
            "  \"Converting sparse IndexedSlices to a dense Tensor of unknown shape. \"\n"
          ],
          "name": "stderr"
        },
        {
          "output_type": "stream",
          "text": [
            "Epoch: 250 - {'val_loss': 1665137.19, 'val_soft_acc': 0.3217329680919647, 'val_r2': 0.9999992847442627, 'loss': 1822144.4683333333, 'soft_acc': 0.32817152, 'r2': 0.9999993}\n",
            "Epoch: 500 - {'val_loss': 1296557.59, 'val_soft_acc': 0.46117424964904785, 'val_r2': 0.999999463558197, 'loss': 1360914.7863333332, 'soft_acc': 0.48842075, 'r2': 0.9999996}\n"
          ],
          "name": "stdout"
        }
      ]
    },
    {
      "cell_type": "code",
      "metadata": {
        "id": "rMxxB1VtUMUL",
        "colab_type": "code",
        "colab": {
          "base_uri": "https://localhost:8080/",
          "height": 377
        },
        "outputId": "3f77fb9e-194b-477c-aae0-53744497d35a"
      },
      "source": [
        "train_ds = pd.concat([X_train_continuous,X_train_categorical[['area_mapping','type_mapping']]], axis=1)\n",
        "val_ds = pd.concat([X_val_continuous,X_val_categorical[['area_mapping','type_mapping']]], axis=1)\n",
        "# XAI를 위한 lime  정의\n",
        "from lime import lime_tabular, lime_text\n",
        "exp = lime_tabular.LimeTabularExplainer(\n",
        "    train_ds.to_numpy(),\n",
        "    training_labels=y_train.to_numpy(),\n",
        "    feature_names=train_ds.columns,\n",
        "    class_names= y_train.columns,\n",
        "    mode=\"regression\"\n",
        ")\n",
        "# 변수의 영향력 분석\n",
        "# 소팅을 위한 초기화 \n",
        "exp_ana = {}\n",
        "for k in train_ds.columns:\n",
        "  exp_ana[k] = 0\n",
        "\n",
        "# predict 함수 재정의 - lime에서 사용 가능하도록...\n",
        "continue_dim = X_train_continuous.shape[1]\n",
        "input_dim = train_ds.shape[1]\n",
        "def predict(data):\n",
        "    return model.predict([data[:,0:continue_dim],data[:,continue_dim:input_dim]])\n",
        "\n",
        "# validation set의 변수 영향력 분석...\n",
        "for i in range(40): #range(val_ds.shape[0]):\n",
        "    p = exp.explain_instance(np.asarray(val_ds.iloc[i]),predict,num_features=val_ds.shape[1])\n",
        "    for t in p.as_map()[0]:\n",
        "      exp_ana[train_ds.columns[t[0]]] += np.abs(t[1])\n",
        "\n",
        "import operator\n",
        "\n",
        "sorted_x = sorted(exp_ana.items(), key=operator.itemgetter(1))\n",
        "\n",
        "effect_result_table = pd.DataFrame(sorted_x,columns=['Feature', 'Effect'] )\n",
        "\n",
        "effect_result_table['Effect'] = effect_result_table['Effect']/max(effect_result_table['Effect'])\n",
        "effect_result_table.plot(x='Feature',y='Effect',kind='bar')"
      ],
      "execution_count": 94,
      "outputs": [
        {
          "output_type": "execute_result",
          "data": {
            "text/plain": [
              "<matplotlib.axes._subplots.AxesSubplot at 0x7fcc0aa81828>"
            ]
          },
          "metadata": {
            "tags": []
          },
          "execution_count": 94
        },
        {
          "output_type": "display_data",
          "data": {
            "image/png": "[encoded data removed]",
            "text/plain": [
              "<Figure size 432x288 with 1 Axes>"
            ]
          },
          "metadata": {
            "tags": [],
            "needs_background": "light"
          }
        }
      ]
    }
  ]
}