{
  "nbformat": 4,
  "nbformat_minor": 0,
  "metadata": {
    "kernelspec": {
      "display_name": "Python 3",
      "language": "python",
      "name": "python3"
    },
    "language_info": {
      "codemirror_mode": {
        "name": "ipython",
        "version": 3
      },
      "file_extension": ".py",
      "mimetype": "text/x-python",
      "name": "python",
      "nbconvert_exporter": "python",
      "pygments_lexer": "ipython3",
      "version": "3.6.8"
    },
    "colab": {
      "name": "Keras - Regression using continuous and categorial variables with embedding.ipynb",
      "provenance": [],
      "include_colab_link": true
    },
    "accelerator": "GPU"
  },
  "cells": [
    {
      "cell_type": "markdown",
      "metadata": {
        "id": "view-in-github",
        "colab_type": "text"
      },
      "source": [
        "<a href=\"https://colab.research.google.com/github/dolmani38/non-linear-regression/blob/master/Keras%20-%20Regression%20using%20continuous%20and%20categorial%20variables%20with%20embedding.ipynb\" target=\"_parent\"><img src=\"https://colab.research.google.com/assets/colab-badge.svg\" alt=\"Open In Colab\"/></a>"
      ]
    },
    {
      "cell_type": "markdown",
      "metadata": {
        "id": "NbKY5scYq4G8",
        "colab_type": "text"
      },
      "source": [
        "# The purpose of this blog post:\n",
        "\n",
        "1. To show how to implement (technically) a feature vector with both continuous and categorical features. \n",
        "2. To use a Regression head to predict continuous values"
      ]
    },
    {
      "cell_type": "markdown",
      "metadata": {
        "id": "ZFPVbOL2q4HL",
        "colab_type": "text"
      },
      "source": [
        "We would like to predict the housing prices in 3 different suburbs of Tel Aviv (Mercaz, Old North and Florentine).\n",
        "Let's assume that a deterministic function $f(a, s, n)$ exist that determines the price of a house where:\n",
        "* $n$: Number of rooms\n",
        "* $s$: Size (in square meters)\n",
        "* $a$: Area (TLV suburb)\n",
        "\n",
        "For each area $a$ we define a price per square meter $s\\_price(a)$ :\n",
        "* Mercaz: &nbsp;&nbsp;&nbsp; \\$500\n",
        "* Old North: &nbsp;&nbsp;&nbsp; \\$350  \n",
        "* Florentine:  &nbsp;&nbsp;&nbsp; \\$230\n",
        "\n",
        "And an additional price per room $n\\_price(a)$:\n",
        "* Mercaz: &nbsp;&nbsp;&nbsp; \\$150,000  \n",
        "* Old North: &nbsp;&nbsp;&nbsp; \\$80,000  \n",
        "* Florentine: &nbsp;&nbsp;&nbsp; \\$50,000\n",
        "\n",
        "The price of a house in area $a$ with size $s$ and $n$ rooms will be:\n",
        "$$f(a, s, n) = s * s\\_price(a)  + n * n\\_price(a)$$\n",
        "\n",
        "This function is what we will later try to predict with a Regression DNN."
      ]
    },
    {
      "cell_type": "markdown",
      "metadata": {
        "id": "004L8SgKq4HN",
        "colab_type": "text"
      },
      "source": [
        "#### Imports and helper functions"
      ]
    },
    {
      "cell_type": "code",
      "metadata": {
        "id": "C8shY1tnq4HS",
        "colab_type": "code",
        "outputId": "a0490efe-6351-432b-a1d8-402e89358be9",
        "colab": {
          "base_uri": "https://localhost:8080/",
          "height": 35
        }
      },
      "source": [
        "import numpy as np\n",
        "import pandas as pd\n",
        "import numpy as np\n",
        "import pandas as pd\n",
        "import keras\n",
        "from keras.models import Sequential\n",
        "from keras.layers import Dense, BatchNormalization\n",
        "from keras.layers import Input, Embedding, Dense\n",
        "from keras.models import Model\n",
        "from keras.callbacks import Callback\n",
        "import matplotlib.pyplot as plt\n",
        "\n",
        "# Bayesian Methods for Hackers style sheet\n",
        "plt.style.use('bmh')\n",
        "\n",
        "np.random.seed(1234567890)\n",
        "\n",
        "from keras import backend as K\n",
        "\n",
        "def r2(y_true, y_pred):\n",
        "    \"\"\"\n",
        "    # custom R2-score metrics for keras backend\n",
        "    :param y_true: 실측 데이터\n",
        "    :param y_pred: 모델에 의한 예측 데이테\n",
        "    :return: R^2 value, 이 값이 높다고 (예:0.99)해서 예측 값이 정확 하다고 할 수 는 없음...\n",
        "    \"\"\"\n",
        "    SS_res = K.sum(K.square(y_true - y_pred))\n",
        "    SS_tot = K.sum(K.square(y_true - K.mean(y_true)))\n",
        "    return (1 - SS_res / (SS_tot + K.epsilon()))\n",
        "\n",
        "def soft_acc(y_true, y_pred):\n",
        "    delta = 600\n",
        "    return K.mean(K.equal(K.round(y_true/delta), K.round(y_pred/delta)))\n",
        "\n",
        "\n",
        "class VerboseCallback(keras.callbacks.Callback):\n",
        "    \"\"\"\n",
        "    kerase.model.fit 함수에서, log 출력을 위한 callback\n",
        "    \"\"\"\n",
        "    def __init__(self, epoch):\n",
        "        self.epoch = epoch\n",
        "        self.progress(\"learning:\", 0, [])\n",
        "\n",
        "    def progress(self, text, current=0, log=None):\n",
        "        g = self.epoch - current\n",
        "        f = 50 / self.epoch\n",
        "        c = int(current * f)\n",
        "        pg = ['=' for i in range(c)] + ['.' for i in range(50 - c)]\n",
        "        print(\"\\r\" + str(text) + \"{}/{}[{}]{}\".format(current, self.epoch, ''.join(pg), ('' if log is None else str(log).strip())),\n",
        "              end=\"\", flush=True)\n",
        "        if self.epoch - current == 0:\n",
        "            print(\"\")\n",
        "\n",
        "    def on_epoch_end(self, epoch, logs=None):\n",
        "        self.progress(\"learning:\", epoch + 1, logs)\n",
        "\n",
        "\n",
        "class PeriodicLogger(Callback):\n",
        "    \"\"\"\n",
        "    A helper callback class that only prints the losses once in 'display' epochs\n",
        "    \"\"\"\n",
        "    def __init__(self, display=100):\n",
        "        self.display = display\n",
        "\n",
        "    def on_train_begin(self, logs={}):      \n",
        "        self.epochs = 0    \n",
        "\n",
        "    def on_epoch_end(self, batch, logs={}):    \n",
        "        self.epochs += 1     \n",
        "        if self.epochs % self.display == 0:\n",
        "            print (\"Epoch: %d - %s\" % (self.epochs, str(logs)))\n",
        " \n",
        "            \n",
        "periodic_logger_250 = PeriodicLogger(250)"
      ],
      "execution_count": 1,
      "outputs": [
        {
          "output_type": "stream",
          "text": [
            "Using TensorFlow backend.\n"
          ],
          "name": "stderr"
        }
      ]
    },
    {
      "cell_type": "markdown",
      "metadata": {
        "id": "rDwKQDCOq4IT",
        "colab_type": "text"
      },
      "source": [
        "#### Define the mapping and a function that computes the house price for each example"
      ]
    },
    {
      "cell_type": "code",
      "metadata": {
        "id": "J9GAic5Sq4IW",
        "colab_type": "code",
        "colab": {}
      },
      "source": [
        "per_meter_mapping = {\n",
        "    'Mercaz': 500,\n",
        "    'Old North': 350,\n",
        "    'Florentine': 230\n",
        "}\n",
        "\n",
        "per_room_additional_price = {\n",
        "    'Mercaz': 15. * 10**4,\n",
        "    'Old North': 8. * 10**4,\n",
        "    'Florentine': 5. * 10**4\n",
        "}\n",
        "\n",
        "per_type_price = {\n",
        "    'fullsize': 3,\n",
        "    'economy': 1.2,\n",
        "    'convertible': 9,\n",
        "    'standard': 2.5,\n",
        "    'premium': 4,\n",
        "    'intermediate': 2,\n",
        "    'luxury': 12,\n",
        "    'compact': 1.5\n",
        "}\n",
        "\n",
        "def house_price_func(row):\n",
        "    \"\"\"\n",
        "    house_price_func is the function f(a,s,n).\n",
        "    \n",
        "    :param row: dict (contains the keys: ['area', 'size', 'n_rooms'])\n",
        "    :return: float\n",
        "    \"\"\"\n",
        "    area, size, n_rooms, ctype = row['area'], row['size'], row['n_rooms'], row['ctype']\n",
        "    return (size * per_meter_mapping[area] - 120) + (n_rooms*n_rooms)/4 * per_room_additional_price[area] * per_type_price[ctype]"
      ],
      "execution_count": 2,
      "outputs": []
    },
    {
      "cell_type": "markdown",
      "metadata": {
        "id": "ZtxgPzR1q4Im",
        "colab_type": "text"
      },
      "source": [
        "### Create toy data"
      ]
    },
    {
      "cell_type": "code",
      "metadata": {
        "id": "OajPApIgq4Ip",
        "colab_type": "code",
        "colab": {}
      },
      "source": [
        "AREAS = ['Mercaz', 'Old North', 'Florentine']\n",
        "HOUSE_TYPE = ['economy','compact','intermediate','standard','fullsize','premium','luxury','convertible']\n",
        "\n",
        "def create_samples(n_samples):\n",
        "    \"\"\"\n",
        "    Helper method that creates dataset DataFrames\n",
        "    \n",
        "    Note that the np.random.choice call only determines the number of rooms and the size of the house\n",
        "    (the price, which we calculate later, is deterministic)\n",
        "    \n",
        "    :param n_samples: int (number of samples for each area (suburb))\n",
        "    :return: pd.DataFrame\n",
        "    \"\"\"\n",
        "    samples = []\n",
        "\n",
        "    for i in range(n_samples):\n",
        "        samples.append([np.random.choice(AREAS), int(np.random.normal(25, 5)),int(np.random.normal(300, 50)), np.random.choice(range(1, 6)),np.random.choice(HOUSE_TYPE)])\n",
        "        \n",
        "    return pd.DataFrame(samples, columns=['area', 'size', 'lamp', 'n_rooms','ctype'])"
      ],
      "execution_count": 3,
      "outputs": []
    },
    {
      "cell_type": "markdown",
      "metadata": {
        "id": "j7ZFQEjcq4I4",
        "colab_type": "text"
      },
      "source": [
        "#### Create the train and validation sets"
      ]
    },
    {
      "cell_type": "code",
      "metadata": {
        "id": "76Q22tDiq4I6",
        "colab_type": "code",
        "colab": {}
      },
      "source": [
        "train = create_samples(n_samples=3000)\n",
        "val = create_samples(n_samples=300)"
      ],
      "execution_count": 41,
      "outputs": []
    },
    {
      "cell_type": "markdown",
      "metadata": {
        "id": "NdmluV9Oq4JI",
        "colab_type": "text"
      },
      "source": [
        "#### Calculate the prices for each set"
      ]
    },
    {
      "cell_type": "code",
      "metadata": {
        "id": "YGzjn4jWq4JK",
        "colab_type": "code",
        "colab": {}
      },
      "source": [
        "train['price'] = train.apply(house_price_func, axis=1)\n",
        "val['price'] = val.apply(house_price_func, axis=1)"
      ],
      "execution_count": 42,
      "outputs": []
    },
    {
      "cell_type": "markdown",
      "metadata": {
        "id": "ptrZxgOAq4Jc",
        "colab_type": "text"
      },
      "source": [
        "#### Here is the structure of the train/val DataFrame"
      ]
    },
    {
      "cell_type": "code",
      "metadata": {
        "id": "m_nwYiXFq4Jd",
        "colab_type": "code",
        "outputId": "1dc681cd-e711-45b4-9fdf-7ce92721dc5a",
        "colab": {
          "base_uri": "https://localhost:8080/",
          "height": 363
        }
      },
      "source": [
        "train.head(10)"
      ],
      "execution_count": 100,
      "outputs": [
        {
          "output_type": "execute_result",
          "data": {
            "text/html": [
              "<div>\n",
              "<style scoped>\n",
              "    .dataframe tbody tr th:only-of-type {\n",
              "        vertical-align: middle;\n",
              "    }\n",
              "\n",
              "    .dataframe tbody tr th {\n",
              "        vertical-align: top;\n",
              "    }\n",
              "\n",
              "    .dataframe thead th {\n",
              "        text-align: right;\n",
              "    }\n",
              "</style>\n",
              "<table border=\"1\" class=\"dataframe\">\n",
              "  <thead>\n",
              "    <tr style=\"text-align: right;\">\n",
              "      <th></th>\n",
              "      <th>area</th>\n",
              "      <th>size</th>\n",
              "      <th>lamp</th>\n",
              "      <th>n_rooms</th>\n",
              "      <th>ctype</th>\n",
              "      <th>price</th>\n",
              "    </tr>\n",
              "  </thead>\n",
              "  <tbody>\n",
              "    <tr>\n",
              "      <th>0</th>\n",
              "      <td>Old North</td>\n",
              "      <td>29</td>\n",
              "      <td>187</td>\n",
              "      <td>3</td>\n",
              "      <td>convertible</td>\n",
              "      <td>1630030.0</td>\n",
              "    </tr>\n",
              "    <tr>\n",
              "      <th>1</th>\n",
              "      <td>Mercaz</td>\n",
              "      <td>23</td>\n",
              "      <td>309</td>\n",
              "      <td>2</td>\n",
              "      <td>luxury</td>\n",
              "      <td>1811380.0</td>\n",
              "    </tr>\n",
              "    <tr>\n",
              "      <th>2</th>\n",
              "      <td>Old North</td>\n",
              "      <td>24</td>\n",
              "      <td>281</td>\n",
              "      <td>2</td>\n",
              "      <td>economy</td>\n",
              "      <td>104280.0</td>\n",
              "    </tr>\n",
              "    <tr>\n",
              "      <th>3</th>\n",
              "      <td>Mercaz</td>\n",
              "      <td>42</td>\n",
              "      <td>302</td>\n",
              "      <td>1</td>\n",
              "      <td>convertible</td>\n",
              "      <td>358380.0</td>\n",
              "    </tr>\n",
              "    <tr>\n",
              "      <th>4</th>\n",
              "      <td>Old North</td>\n",
              "      <td>22</td>\n",
              "      <td>280</td>\n",
              "      <td>1</td>\n",
              "      <td>economy</td>\n",
              "      <td>31580.0</td>\n",
              "    </tr>\n",
              "    <tr>\n",
              "      <th>5</th>\n",
              "      <td>Florentine</td>\n",
              "      <td>22</td>\n",
              "      <td>218</td>\n",
              "      <td>5</td>\n",
              "      <td>fullsize</td>\n",
              "      <td>942440.0</td>\n",
              "    </tr>\n",
              "    <tr>\n",
              "      <th>6</th>\n",
              "      <td>Florentine</td>\n",
              "      <td>22</td>\n",
              "      <td>247</td>\n",
              "      <td>3</td>\n",
              "      <td>premium</td>\n",
              "      <td>454940.0</td>\n",
              "    </tr>\n",
              "    <tr>\n",
              "      <th>7</th>\n",
              "      <td>Mercaz</td>\n",
              "      <td>20</td>\n",
              "      <td>389</td>\n",
              "      <td>3</td>\n",
              "      <td>intermediate</td>\n",
              "      <td>684880.0</td>\n",
              "    </tr>\n",
              "    <tr>\n",
              "      <th>8</th>\n",
              "      <td>Mercaz</td>\n",
              "      <td>25</td>\n",
              "      <td>325</td>\n",
              "      <td>5</td>\n",
              "      <td>standard</td>\n",
              "      <td>2356130.0</td>\n",
              "    </tr>\n",
              "    <tr>\n",
              "      <th>9</th>\n",
              "      <td>Mercaz</td>\n",
              "      <td>23</td>\n",
              "      <td>367</td>\n",
              "      <td>1</td>\n",
              "      <td>luxury</td>\n",
              "      <td>461380.0</td>\n",
              "    </tr>\n",
              "  </tbody>\n",
              "</table>\n",
              "</div>"
            ],
            "text/plain": [
              "         area  size  lamp  n_rooms         ctype      price\n",
              "0   Old North    29   187        3   convertible  1630030.0\n",
              "1      Mercaz    23   309        2        luxury  1811380.0\n",
              "2   Old North    24   281        2       economy   104280.0\n",
              "3      Mercaz    42   302        1   convertible   358380.0\n",
              "4   Old North    22   280        1       economy    31580.0\n",
              "5  Florentine    22   218        5      fullsize   942440.0\n",
              "6  Florentine    22   247        3       premium   454940.0\n",
              "7      Mercaz    20   389        3  intermediate   684880.0\n",
              "8      Mercaz    25   325        5      standard  2356130.0\n",
              "9      Mercaz    23   367        1        luxury   461380.0"
            ]
          },
          "metadata": {
            "tags": []
          },
          "execution_count": 100
        }
      ]
    },
    {
      "cell_type": "markdown",
      "metadata": {
        "id": "uCz-MF8-q4Js",
        "colab_type": "text"
      },
      "source": [
        "#### Define the features and the y vectores\n",
        "We will separate the continuous and categorical variables"
      ]
    },
    {
      "cell_type": "code",
      "metadata": {
        "id": "g7bBaYfVq4Ju",
        "colab_type": "code",
        "colab": {}
      },
      "source": [
        "continuous_cols = ['size', 'n_rooms']#,'lamp']\n",
        "categorical_cols = ['area','ctype']\n",
        "y_col = ['price']\n",
        "\n",
        "X_train_continuous = train[continuous_cols]\n",
        "X_train_categorical = train[categorical_cols]\n",
        "y_train = train[y_col]\n",
        "\n",
        "X_val_continuous = val[continuous_cols]\n",
        "X_val_categorical = val[categorical_cols]\n",
        "y_val = val[y_col]"
      ],
      "execution_count": 101,
      "outputs": []
    },
    {
      "cell_type": "code",
      "metadata": {
        "id": "i3dIc0D_i93d",
        "colab_type": "code",
        "outputId": "63dcee44-5358-47cf-d988-284190bae223",
        "colab": {
          "base_uri": "https://localhost:8080/",
          "height": 228
        }
      },
      "source": [
        "# 파생변수 생성\n",
        "\n",
        "#X_train_continuous['size_n_rooms'] = X_train_continuous['size'] * X_train_continuous['n_rooms']\n",
        "#X_train_continuous['size_size'] = X_train_continuous['size'] * X_train_continuous['size']\n",
        "X_train_continuous['n_rooms_n_rooms'] = X_train_continuous['n_rooms'] * X_train_continuous['n_rooms']\n",
        "\n",
        "#X_val_continuous['size_n_rooms'] = X_val_continuous['size'] * X_val_continuous['n_rooms']\n",
        "#X_val_continuous['size_size'] = X_val_continuous['size'] * X_val_continuous['size']\n",
        "X_val_continuous['n_rooms_n_rooms'] = X_val_continuous['n_rooms'] * X_val_continuous['n_rooms']"
      ],
      "execution_count": 102,
      "outputs": [
        {
          "output_type": "stream",
          "text": [
            "/usr/local/lib/python3.6/dist-packages/ipykernel_launcher.py:5: SettingWithCopyWarning: \n",
            "A value is trying to be set on a copy of a slice from a DataFrame.\n",
            "Try using .loc[row_indexer,col_indexer] = value instead\n",
            "\n",
            "See the caveats in the documentation: https://pandas.pydata.org/pandas-docs/stable/user_guide/indexing.html#returning-a-view-versus-a-copy\n",
            "  \"\"\"\n",
            "/usr/local/lib/python3.6/dist-packages/ipykernel_launcher.py:9: SettingWithCopyWarning: \n",
            "A value is trying to be set on a copy of a slice from a DataFrame.\n",
            "Try using .loc[row_indexer,col_indexer] = value instead\n",
            "\n",
            "See the caveats in the documentation: https://pandas.pydata.org/pandas-docs/stable/user_guide/indexing.html#returning-a-view-versus-a-copy\n",
            "  if __name__ == '__main__':\n"
          ],
          "name": "stderr"
        }
      ]
    },
    {
      "cell_type": "code",
      "metadata": {
        "id": "yU6qchzHkAWV",
        "colab_type": "code",
        "outputId": "4436c545-1c28-418b-ff46-130ff51eec38",
        "colab": {
          "base_uri": "https://localhost:8080/",
          "height": 140
        }
      },
      "source": [
        "X_train_continuous.std(axis=0)"
      ],
      "execution_count": 9,
      "outputs": [
        {
          "output_type": "execute_result",
          "data": {
            "text/plain": [
              "size                 4.985285\n",
              "n_rooms              1.442908\n",
              "lamp                49.835167\n",
              "size_n_rooms        38.469306\n",
              "size_size          245.081598\n",
              "n_rooms_n_rooms      8.825978\n",
              "dtype: float64"
            ]
          },
          "metadata": {
            "tags": []
          },
          "execution_count": 9
        }
      ]
    },
    {
      "cell_type": "markdown",
      "metadata": {
        "id": "vXuM3BrVq4KA",
        "colab_type": "text"
      },
      "source": [
        "#### Normalization"
      ]
    },
    {
      "cell_type": "code",
      "metadata": {
        "id": "YzFFJcR-q4KE",
        "colab_type": "code",
        "colab": {}
      },
      "source": [
        "# Normalizing both train and test sets to have 0 mean and std. of 1 using the train set mean and std.\n",
        "# This will give each feature an equal initial importance and speed up the training time\n",
        "train_mean = X_train_continuous.mean(axis=0)\n",
        "train_std = X_train_continuous.std(axis=0)\n",
        "\n",
        "X_train_continuous = X_train_continuous - train_mean\n",
        "X_train_continuous /= train_std\n",
        "\n",
        "X_val_continuous = X_val_continuous - train_mean\n",
        "X_val_continuous /= train_std"
      ],
      "execution_count": 103,
      "outputs": []
    },
    {
      "cell_type": "markdown",
      "metadata": {
        "id": "bcVGgUTDq4KZ",
        "colab_type": "text"
      },
      "source": [
        "## Build a model using a categorical variable"
      ]
    },
    {
      "cell_type": "markdown",
      "metadata": {
        "id": "uiUZ1vnFq4Kc",
        "colab_type": "text"
      },
      "source": [
        "### First let's define a helper class for the categorical variable"
      ]
    },
    {
      "cell_type": "code",
      "metadata": {
        "id": "y84AQMs8q4Kg",
        "colab_type": "code",
        "colab": {}
      },
      "source": [
        "class EmbeddingMapping():\n",
        "    \"\"\"\n",
        "    Helper class for handling categorical variables\n",
        "    \n",
        "    An instance of this class should be defined for each categorical variable we want to use.\n",
        "    \"\"\"\n",
        "    def __init__(self, series):\n",
        "        # get a list of unique values\n",
        "        values = series.unique().tolist()\n",
        "        \n",
        "        # Set a dictionary mapping from values to integer value\n",
        "        # In our example this will be {'Mercaz': 1, 'Old North': 2, 'Florentine': 3}\n",
        "        self.embedding_dict = {value: int_value+1 for int_value, value in enumerate(values)}\n",
        "        \n",
        "        # The num_values will be used as the input_dim when defining the embedding layer. \n",
        "        # It will also be returned for unseen values \n",
        "        self.num_values = len(values) + 1\n",
        "\n",
        "    def get_mapping(self, value):\n",
        "        # If the value was seen in the training set, return its integer mapping\n",
        "        if value in self.embedding_dict:\n",
        "            return self.embedding_dict[value]\n",
        "        \n",
        "        # Else, return the same integer for unseen values\n",
        "        else:\n",
        "            return self.num_values"
      ],
      "execution_count": 11,
      "outputs": []
    },
    {
      "cell_type": "markdown",
      "metadata": {
        "id": "2JkHgbnWq4Kz",
        "colab_type": "text"
      },
      "source": [
        "### Create an embedding column for the train/validation sets"
      ]
    },
    {
      "cell_type": "code",
      "metadata": {
        "id": "GLa0yXViq4K2",
        "colab_type": "code",
        "colab": {}
      },
      "source": [
        "area_mapping = EmbeddingMapping(X_train_categorical['area'])\n",
        "type_mapping = EmbeddingMapping(X_train_categorical['ctype'])\n",
        "\n",
        "X_train_categorical = X_train_categorical.assign(area_mapping=X_train_categorical['area'].apply(area_mapping.get_mapping))\n",
        "X_train_categorical = X_train_categorical.assign(type_mapping=X_train_categorical['ctype'].apply(type_mapping.get_mapping))\n",
        "X_val_categorical = X_val_categorical.assign(area_mapping=X_val_categorical['area'].apply(area_mapping.get_mapping))\n",
        "X_val_categorical = X_val_categorical.assign(type_mapping=X_val_categorical['ctype'].apply(type_mapping.get_mapping))"
      ],
      "execution_count": 104,
      "outputs": []
    },
    {
      "cell_type": "markdown",
      "metadata": {
        "id": "IBj-MCG5q4LC",
        "colab_type": "text"
      },
      "source": [
        "#### A corresponding 'area_mapping' column was added to the train/validation sets"
      ]
    },
    {
      "cell_type": "code",
      "metadata": {
        "id": "hqpq-bdaq4LH",
        "colab_type": "code",
        "outputId": "fe4f4d91-c980-40b8-8a43-2b32f79342ce",
        "colab": {
          "base_uri": "https://localhost:8080/",
          "height": 142
        }
      },
      "source": [
        "X_train_categorical[['area_mapping','type_mapping']].to_numpy()"
      ],
      "execution_count": null,
      "outputs": [
        {
          "output_type": "execute_result",
          "data": {
            "text/plain": [
              "array([[1, 1],\n",
              "       [2, 2],\n",
              "       [1, 2],\n",
              "       ...,\n",
              "       [3, 1],\n",
              "       [3, 5],\n",
              "       [2, 6]])"
            ]
          },
          "metadata": {
            "tags": []
          },
          "execution_count": 14
        }
      ]
    },
    {
      "cell_type": "markdown",
      "metadata": {
        "id": "AvhRUlptq4LV",
        "colab_type": "text"
      },
      "source": [
        "### Define the input layers"
      ]
    },
    {
      "cell_type": "code",
      "metadata": {
        "id": "rCbTTyL9q4LX",
        "colab_type": "code",
        "outputId": "91257285-9b76-4051-b62f-3a4c5ff076b6",
        "colab": {
          "base_uri": "https://localhost:8080/",
          "height": 35
        }
      },
      "source": [
        "# Define the embedding input\n",
        "cate_input = Input(shape=(2,), dtype='int32') \n",
        "\n",
        "# Decide to what vector size we want to map our 'area' variable. \n",
        "# I'll use 1 here because we only have three areas\n",
        "embeddings_output = 24*4\n",
        "\n",
        "\n",
        "# Let’s define the embedding layer and flatten it\n",
        "cate_embedings = Embedding(output_dim=embeddings_output, input_dim=X_train_categorical.shape[0])(cate_input)\n",
        "print(cate_embedings)\n",
        "cate_embedings = keras.layers.Reshape((embeddings_output*2,))(cate_embedings)\n",
        "\n",
        "\n",
        "# Define the continuous variables input (just like before)\n",
        "continuous_input = Input(shape=(X_train_continuous.shape[1], ))\n",
        "\n",
        "# Concatenate continuous and embeddings inputs\n",
        "all_input = keras.layers.concatenate([continuous_input, cate_embedings])"
      ],
      "execution_count": 105,
      "outputs": [
        {
          "output_type": "stream",
          "text": [
            "Tensor(\"embedding_6/embedding_lookup/Identity_1:0\", shape=(None, 2, 96), dtype=float32)\n"
          ],
          "name": "stdout"
        }
      ]
    },
    {
      "cell_type": "markdown",
      "metadata": {
        "id": "NfA0YnySq4Lj",
        "colab_type": "text"
      },
      "source": [
        "### To merge them together we will use [Keras Functional API](https://keras.io/getting-started/functional-api-guide/)\n",
        "Will define a simple model with 2 hidden layers, with 25 neurons each."
      ]
    },
    {
      "cell_type": "code",
      "metadata": {
        "id": "btB6M8Liq4Ll",
        "colab_type": "code",
        "outputId": "c25d44c9-ae4a-4a4c-da96-2d1b1e471bb0",
        "colab": {
          "base_uri": "https://localhost:8080/",
          "height": 456
        }
      },
      "source": [
        "# Define the model\n",
        "dense1 = Dense(200, activation='relu')(all_input)\n",
        "dense2 = Dense(50, activation='relu')(dense1)\n",
        "predictions = Dense(1)(dense2)\n",
        "\n",
        "# Note using the input object 'area_input' not 'area_embeddings'\n",
        "model = Model(inputs=[continuous_input, cate_input], outputs=predictions)\n",
        "model.compile(loss='mse', optimizer=keras.optimizers.Adam(lr=.8, beta_1=0.9, beta_2=0.999, decay=1e-03, amsgrad=True),metrics=[soft_acc,r2])\n",
        "model.summary()"
      ],
      "execution_count": 106,
      "outputs": [
        {
          "output_type": "stream",
          "text": [
            "Model: \"model_11\"\n",
            "__________________________________________________________________________________________________\n",
            "Layer (type)                    Output Shape         Param #     Connected to                     \n",
            "==================================================================================================\n",
            "input_15 (InputLayer)           (None, 2)            0                                            \n",
            "__________________________________________________________________________________________________\n",
            "embedding_6 (Embedding)         (None, 2, 96)        288000      input_15[0][0]                   \n",
            "__________________________________________________________________________________________________\n",
            "input_16 (InputLayer)           (None, 3)            0                                            \n",
            "__________________________________________________________________________________________________\n",
            "reshape_6 (Reshape)             (None, 192)          0           embedding_6[0][0]                \n",
            "__________________________________________________________________________________________________\n",
            "concatenate_10 (Concatenate)    (None, 195)          0           input_16[0][0]                   \n",
            "                                                                 reshape_6[0][0]                  \n",
            "__________________________________________________________________________________________________\n",
            "dense_31 (Dense)                (None, 200)          39200       concatenate_10[0][0]             \n",
            "__________________________________________________________________________________________________\n",
            "dense_32 (Dense)                (None, 50)           10050       dense_31[0][0]                   \n",
            "__________________________________________________________________________________________________\n",
            "dense_33 (Dense)                (None, 1)            51          dense_32[0][0]                   \n",
            "==================================================================================================\n",
            "Total params: 337,301\n",
            "Trainable params: 337,301\n",
            "Non-trainable params: 0\n",
            "__________________________________________________________________________________________________\n"
          ],
          "name": "stdout"
        }
      ]
    },
    {
      "cell_type": "markdown",
      "metadata": {
        "id": "Ol3kJiWKq4Lv",
        "colab_type": "text"
      },
      "source": [
        "#### Lets train the model"
      ]
    },
    {
      "cell_type": "code",
      "metadata": {
        "id": "mWOxr788q4Lw",
        "colab_type": "code",
        "outputId": "983b7696-81a3-4879-8665-4b8fcda2bfae",
        "colab": {
          "base_uri": "https://localhost:8080/",
          "height": 439
        }
      },
      "source": [
        "epochs = 2000\n",
        "\n",
        "# Note continuous and categorical columns are inserted in the same order as defined in all_inputs\n",
        "history = model.fit([X_train_continuous, X_train_categorical[['area_mapping','type_mapping']].to_numpy()], y_train, \n",
        "          epochs=epochs, batch_size=128, \n",
        "          callbacks=[periodic_logger_250], verbose=0,\n",
        "          validation_data=([X_val_continuous, X_val_categorical[['area_mapping','type_mapping']].to_numpy()], y_val))"
      ],
      "execution_count": 107,
      "outputs": [
        {
          "output_type": "stream",
          "text": [
            "/usr/local/lib/python3.6/dist-packages/tensorflow/python/framework/indexed_slices.py:434: UserWarning: Converting sparse IndexedSlices to a dense Tensor of unknown shape. This may consume a large amount of memory.\n",
            "  \"Converting sparse IndexedSlices to a dense Tensor of unknown shape. \"\n"
          ],
          "name": "stderr"
        },
        {
          "output_type": "stream",
          "text": [
            "Epoch: 250 - {'val_loss': 2891129.6366666667, 'val_soft_acc': 0.389678031206131, 'val_r2': 0.9999987483024597, 'loss': 2398053.72, 'soft_acc': 0.4313616, 'r2': 0.9999991}\n",
            "Epoch: 500 - {'val_loss': 2232662.7333333334, 'val_soft_acc': 0.46946024894714355, 'val_r2': 0.9999990463256836, 'loss': 1699029.6306666667, 'soft_acc': 0.49702382, 'r2': 0.99999946}\n"
          ],
          "name": "stdout"
        },
        {
          "output_type": "error",
          "ename": "KeyboardInterrupt",
          "evalue": "ignored",
          "traceback": [
            "\u001b[0;31m---------------------------------------------------------------------------\u001b[0m",
            "\u001b[0;31mKeyboardInterrupt\u001b[0m                         Traceback (most recent call last)",
            "\u001b[0;32m<ipython-input-107-b5c27077c523>\u001b[0m in \u001b[0;36m<module>\u001b[0;34m()\u001b[0m\n\u001b[1;32m      5\u001b[0m           \u001b[0mepochs\u001b[0m\u001b[0;34m=\u001b[0m\u001b[0mepochs\u001b[0m\u001b[0;34m,\u001b[0m \u001b[0mbatch_size\u001b[0m\u001b[0;34m=\u001b[0m\u001b[0;36m128\u001b[0m\u001b[0;34m,\u001b[0m\u001b[0;34m\u001b[0m\u001b[0;34m\u001b[0m\u001b[0m\n\u001b[1;32m      6\u001b[0m           \u001b[0mcallbacks\u001b[0m\u001b[0;34m=\u001b[0m\u001b[0;34m[\u001b[0m\u001b[0mperiodic_logger_250\u001b[0m\u001b[0;34m]\u001b[0m\u001b[0;34m,\u001b[0m \u001b[0mverbose\u001b[0m\u001b[0;34m=\u001b[0m\u001b[0;36m0\u001b[0m\u001b[0;34m,\u001b[0m\u001b[0;34m\u001b[0m\u001b[0;34m\u001b[0m\u001b[0m\n\u001b[0;32m----> 7\u001b[0;31m           validation_data=([X_val_continuous, X_val_categorical[['area_mapping','type_mapping']].to_numpy()], y_val))\n\u001b[0m",
            "\u001b[0;32m/usr/local/lib/python3.6/dist-packages/keras/engine/training.py\u001b[0m in \u001b[0;36mfit\u001b[0;34m(self, x, y, batch_size, epochs, verbose, callbacks, validation_split, validation_data, shuffle, class_weight, sample_weight, initial_epoch, steps_per_epoch, validation_steps, validation_freq, max_queue_size, workers, use_multiprocessing, **kwargs)\u001b[0m\n\u001b[1;32m   1237\u001b[0m                                         \u001b[0msteps_per_epoch\u001b[0m\u001b[0;34m=\u001b[0m\u001b[0msteps_per_epoch\u001b[0m\u001b[0;34m,\u001b[0m\u001b[0;34m\u001b[0m\u001b[0;34m\u001b[0m\u001b[0m\n\u001b[1;32m   1238\u001b[0m                                         \u001b[0mvalidation_steps\u001b[0m\u001b[0;34m=\u001b[0m\u001b[0mvalidation_steps\u001b[0m\u001b[0;34m,\u001b[0m\u001b[0;34m\u001b[0m\u001b[0;34m\u001b[0m\u001b[0m\n\u001b[0;32m-> 1239\u001b[0;31m                                         validation_freq=validation_freq)\n\u001b[0m\u001b[1;32m   1240\u001b[0m \u001b[0;34m\u001b[0m\u001b[0m\n\u001b[1;32m   1241\u001b[0m     def evaluate(self,\n",
            "\u001b[0;32m/usr/local/lib/python3.6/dist-packages/keras/engine/training_arrays.py\u001b[0m in \u001b[0;36mfit_loop\u001b[0;34m(model, fit_function, fit_inputs, out_labels, batch_size, epochs, verbose, callbacks, val_function, val_inputs, shuffle, initial_epoch, steps_per_epoch, validation_steps, validation_freq)\u001b[0m\n\u001b[1;32m    194\u001b[0m                     \u001b[0mins_batch\u001b[0m\u001b[0;34m[\u001b[0m\u001b[0mi\u001b[0m\u001b[0;34m]\u001b[0m \u001b[0;34m=\u001b[0m \u001b[0mins_batch\u001b[0m\u001b[0;34m[\u001b[0m\u001b[0mi\u001b[0m\u001b[0;34m]\u001b[0m\u001b[0;34m.\u001b[0m\u001b[0mtoarray\u001b[0m\u001b[0;34m(\u001b[0m\u001b[0;34m)\u001b[0m\u001b[0;34m\u001b[0m\u001b[0;34m\u001b[0m\u001b[0m\n\u001b[1;32m    195\u001b[0m \u001b[0;34m\u001b[0m\u001b[0m\n\u001b[0;32m--> 196\u001b[0;31m                 \u001b[0mouts\u001b[0m \u001b[0;34m=\u001b[0m \u001b[0mfit_function\u001b[0m\u001b[0;34m(\u001b[0m\u001b[0mins_batch\u001b[0m\u001b[0;34m)\u001b[0m\u001b[0;34m\u001b[0m\u001b[0;34m\u001b[0m\u001b[0m\n\u001b[0m\u001b[1;32m    197\u001b[0m                 \u001b[0mouts\u001b[0m \u001b[0;34m=\u001b[0m \u001b[0mto_list\u001b[0m\u001b[0;34m(\u001b[0m\u001b[0mouts\u001b[0m\u001b[0;34m)\u001b[0m\u001b[0;34m\u001b[0m\u001b[0;34m\u001b[0m\u001b[0m\n\u001b[1;32m    198\u001b[0m                 \u001b[0;32mfor\u001b[0m \u001b[0ml\u001b[0m\u001b[0;34m,\u001b[0m \u001b[0mo\u001b[0m \u001b[0;32min\u001b[0m \u001b[0mzip\u001b[0m\u001b[0;34m(\u001b[0m\u001b[0mout_labels\u001b[0m\u001b[0;34m,\u001b[0m \u001b[0mouts\u001b[0m\u001b[0;34m)\u001b[0m\u001b[0;34m:\u001b[0m\u001b[0;34m\u001b[0m\u001b[0;34m\u001b[0m\u001b[0m\n",
            "\u001b[0;32m/usr/local/lib/python3.6/dist-packages/tensorflow/python/keras/backend.py\u001b[0m in \u001b[0;36m__call__\u001b[0;34m(self, inputs)\u001b[0m\n\u001b[1;32m   3790\u001b[0m         \u001b[0mvalue\u001b[0m \u001b[0;34m=\u001b[0m \u001b[0mmath_ops\u001b[0m\u001b[0;34m.\u001b[0m\u001b[0mcast\u001b[0m\u001b[0;34m(\u001b[0m\u001b[0mvalue\u001b[0m\u001b[0;34m,\u001b[0m \u001b[0mtensor\u001b[0m\u001b[0;34m.\u001b[0m\u001b[0mdtype\u001b[0m\u001b[0;34m)\u001b[0m\u001b[0;34m\u001b[0m\u001b[0;34m\u001b[0m\u001b[0m\n\u001b[1;32m   3791\u001b[0m       \u001b[0mconverted_inputs\u001b[0m\u001b[0;34m.\u001b[0m\u001b[0mappend\u001b[0m\u001b[0;34m(\u001b[0m\u001b[0mvalue\u001b[0m\u001b[0;34m)\u001b[0m\u001b[0;34m\u001b[0m\u001b[0;34m\u001b[0m\u001b[0m\n\u001b[0;32m-> 3792\u001b[0;31m     \u001b[0moutputs\u001b[0m \u001b[0;34m=\u001b[0m \u001b[0mself\u001b[0m\u001b[0;34m.\u001b[0m\u001b[0m_graph_fn\u001b[0m\u001b[0;34m(\u001b[0m\u001b[0;34m*\u001b[0m\u001b[0mconverted_inputs\u001b[0m\u001b[0;34m)\u001b[0m\u001b[0;34m\u001b[0m\u001b[0;34m\u001b[0m\u001b[0m\n\u001b[0m\u001b[1;32m   3793\u001b[0m \u001b[0;34m\u001b[0m\u001b[0m\n\u001b[1;32m   3794\u001b[0m     \u001b[0;31m# EagerTensor.numpy() will often make a copy to ensure memory safety.\u001b[0m\u001b[0;34m\u001b[0m\u001b[0;34m\u001b[0m\u001b[0;34m\u001b[0m\u001b[0m\n",
            "\u001b[0;32m/usr/local/lib/python3.6/dist-packages/tensorflow/python/eager/function.py\u001b[0m in \u001b[0;36m__call__\u001b[0;34m(self, *args, **kwargs)\u001b[0m\n\u001b[1;32m   1603\u001b[0m       \u001b[0mTypeError\u001b[0m\u001b[0;34m:\u001b[0m \u001b[0mFor\u001b[0m \u001b[0minvalid\u001b[0m \u001b[0mpositional\u001b[0m\u001b[0;34m/\u001b[0m\u001b[0mkeyword\u001b[0m \u001b[0margument\u001b[0m \u001b[0mcombinations\u001b[0m\u001b[0;34m.\u001b[0m\u001b[0;34m\u001b[0m\u001b[0;34m\u001b[0m\u001b[0m\n\u001b[1;32m   1604\u001b[0m     \"\"\"\n\u001b[0;32m-> 1605\u001b[0;31m     \u001b[0;32mreturn\u001b[0m \u001b[0mself\u001b[0m\u001b[0;34m.\u001b[0m\u001b[0m_call_impl\u001b[0m\u001b[0;34m(\u001b[0m\u001b[0margs\u001b[0m\u001b[0;34m,\u001b[0m \u001b[0mkwargs\u001b[0m\u001b[0;34m)\u001b[0m\u001b[0;34m\u001b[0m\u001b[0;34m\u001b[0m\u001b[0m\n\u001b[0m\u001b[1;32m   1606\u001b[0m \u001b[0;34m\u001b[0m\u001b[0m\n\u001b[1;32m   1607\u001b[0m   \u001b[0;32mdef\u001b[0m \u001b[0m_call_impl\u001b[0m\u001b[0;34m(\u001b[0m\u001b[0mself\u001b[0m\u001b[0;34m,\u001b[0m \u001b[0margs\u001b[0m\u001b[0;34m,\u001b[0m \u001b[0mkwargs\u001b[0m\u001b[0;34m,\u001b[0m \u001b[0mcancellation_manager\u001b[0m\u001b[0;34m=\u001b[0m\u001b[0;32mNone\u001b[0m\u001b[0;34m)\u001b[0m\u001b[0;34m:\u001b[0m\u001b[0;34m\u001b[0m\u001b[0;34m\u001b[0m\u001b[0m\n",
            "\u001b[0;32m/usr/local/lib/python3.6/dist-packages/tensorflow/python/eager/function.py\u001b[0m in \u001b[0;36m_call_impl\u001b[0;34m(self, args, kwargs, cancellation_manager)\u001b[0m\n\u001b[1;32m   1643\u001b[0m       raise TypeError(\"Keyword arguments {} unknown. Expected {}.\".format(\n\u001b[1;32m   1644\u001b[0m           list(kwargs.keys()), list(self._arg_keywords)))\n\u001b[0;32m-> 1645\u001b[0;31m     \u001b[0;32mreturn\u001b[0m \u001b[0mself\u001b[0m\u001b[0;34m.\u001b[0m\u001b[0m_call_flat\u001b[0m\u001b[0;34m(\u001b[0m\u001b[0margs\u001b[0m\u001b[0;34m,\u001b[0m \u001b[0mself\u001b[0m\u001b[0;34m.\u001b[0m\u001b[0mcaptured_inputs\u001b[0m\u001b[0;34m,\u001b[0m \u001b[0mcancellation_manager\u001b[0m\u001b[0;34m)\u001b[0m\u001b[0;34m\u001b[0m\u001b[0;34m\u001b[0m\u001b[0m\n\u001b[0m\u001b[1;32m   1646\u001b[0m \u001b[0;34m\u001b[0m\u001b[0m\n\u001b[1;32m   1647\u001b[0m   \u001b[0;32mdef\u001b[0m \u001b[0m_filtered_call\u001b[0m\u001b[0;34m(\u001b[0m\u001b[0mself\u001b[0m\u001b[0;34m,\u001b[0m \u001b[0margs\u001b[0m\u001b[0;34m,\u001b[0m \u001b[0mkwargs\u001b[0m\u001b[0;34m)\u001b[0m\u001b[0;34m:\u001b[0m\u001b[0;34m\u001b[0m\u001b[0;34m\u001b[0m\u001b[0m\n",
            "\u001b[0;32m/usr/local/lib/python3.6/dist-packages/tensorflow/python/eager/function.py\u001b[0m in \u001b[0;36m_call_flat\u001b[0;34m(self, args, captured_inputs, cancellation_manager)\u001b[0m\n\u001b[1;32m   1744\u001b[0m       \u001b[0;31m# No tape is watching; skip to running the function.\u001b[0m\u001b[0;34m\u001b[0m\u001b[0;34m\u001b[0m\u001b[0;34m\u001b[0m\u001b[0m\n\u001b[1;32m   1745\u001b[0m       return self._build_call_outputs(self._inference_function.call(\n\u001b[0;32m-> 1746\u001b[0;31m           ctx, args, cancellation_manager=cancellation_manager))\n\u001b[0m\u001b[1;32m   1747\u001b[0m     forward_backward = self._select_forward_and_backward_functions(\n\u001b[1;32m   1748\u001b[0m         \u001b[0margs\u001b[0m\u001b[0;34m,\u001b[0m\u001b[0;34m\u001b[0m\u001b[0;34m\u001b[0m\u001b[0m\n",
            "\u001b[0;32m/usr/local/lib/python3.6/dist-packages/tensorflow/python/eager/function.py\u001b[0m in \u001b[0;36mcall\u001b[0;34m(self, ctx, args, cancellation_manager)\u001b[0m\n\u001b[1;32m    596\u001b[0m               \u001b[0minputs\u001b[0m\u001b[0;34m=\u001b[0m\u001b[0margs\u001b[0m\u001b[0;34m,\u001b[0m\u001b[0;34m\u001b[0m\u001b[0;34m\u001b[0m\u001b[0m\n\u001b[1;32m    597\u001b[0m               \u001b[0mattrs\u001b[0m\u001b[0;34m=\u001b[0m\u001b[0mattrs\u001b[0m\u001b[0;34m,\u001b[0m\u001b[0;34m\u001b[0m\u001b[0;34m\u001b[0m\u001b[0m\n\u001b[0;32m--> 598\u001b[0;31m               ctx=ctx)\n\u001b[0m\u001b[1;32m    599\u001b[0m         \u001b[0;32melse\u001b[0m\u001b[0;34m:\u001b[0m\u001b[0;34m\u001b[0m\u001b[0;34m\u001b[0m\u001b[0m\n\u001b[1;32m    600\u001b[0m           outputs = execute.execute_with_cancellation(\n",
            "\u001b[0;32m/usr/local/lib/python3.6/dist-packages/tensorflow/python/eager/execute.py\u001b[0m in \u001b[0;36mquick_execute\u001b[0;34m(op_name, num_outputs, inputs, attrs, ctx, name)\u001b[0m\n\u001b[1;32m     58\u001b[0m     \u001b[0mctx\u001b[0m\u001b[0;34m.\u001b[0m\u001b[0mensure_initialized\u001b[0m\u001b[0;34m(\u001b[0m\u001b[0;34m)\u001b[0m\u001b[0;34m\u001b[0m\u001b[0;34m\u001b[0m\u001b[0m\n\u001b[1;32m     59\u001b[0m     tensors = pywrap_tfe.TFE_Py_Execute(ctx._handle, device_name, op_name,\n\u001b[0;32m---> 60\u001b[0;31m                                         inputs, attrs, num_outputs)\n\u001b[0m\u001b[1;32m     61\u001b[0m   \u001b[0;32mexcept\u001b[0m \u001b[0mcore\u001b[0m\u001b[0;34m.\u001b[0m\u001b[0m_NotOkStatusException\u001b[0m \u001b[0;32mas\u001b[0m \u001b[0me\u001b[0m\u001b[0;34m:\u001b[0m\u001b[0;34m\u001b[0m\u001b[0;34m\u001b[0m\u001b[0m\n\u001b[1;32m     62\u001b[0m     \u001b[0;32mif\u001b[0m \u001b[0mname\u001b[0m \u001b[0;32mis\u001b[0m \u001b[0;32mnot\u001b[0m \u001b[0;32mNone\u001b[0m\u001b[0;34m:\u001b[0m\u001b[0;34m\u001b[0m\u001b[0;34m\u001b[0m\u001b[0m\n",
            "\u001b[0;31mKeyboardInterrupt\u001b[0m: "
          ]
        }
      ]
    },
    {
      "cell_type": "code",
      "metadata": {
        "id": "TGIAOn3Rq4L9",
        "colab_type": "code",
        "outputId": "3799c7e2-5482-47de-c346-fdf638ce5478",
        "colab": {
          "base_uri": "https://localhost:8080/",
          "height": 568
        }
      },
      "source": [
        "# Plot the train/validation loss values\n",
        "plt.figure(figsize=(20,10))\n",
        "_loss = history.history['loss'][250:]\n",
        "_val_loss = history.history['val_loss'][250:]\n",
        "\n",
        "train_loss_plot, = plt.plot(range(1, len(_loss)+1), _loss, label='Train Loss')\n",
        "val_loss_plot, = plt.plot(range(1, len(_val_loss)+1), _val_loss, label='Validation Loss')\n",
        "\n",
        "_ = plt.legend(handles=[train_loss_plot, val_loss_plot])"
      ],
      "execution_count": 89,
      "outputs": [
        {
          "output_type": "display_data",
          "data": {
            "image/png": "[encoded data removed]",
            "text/plain": [
              "<Figure size 1440x720 with 1 Axes>"
            ]
          },
          "metadata": {
            "tags": [],
            "needs_background": "light"
          }
        }
      ]
    },
    {
      "cell_type": "markdown",
      "metadata": {
        "id": "0Bc2iXsSq4MK",
        "colab_type": "text"
      },
      "source": [
        "After ~500 epochs the validation_loss is very low. This would have been a very good result if this was a \"real world problem\", particularly because we are using a quadratic loss function (Mean Square Error) when trying to predict a large value:"
      ]
    },
    {
      "cell_type": "code",
      "metadata": {
        "id": "vC5xDsA5q4MO",
        "colab_type": "code",
        "outputId": "7f0420da-3d9f-4042-f6f1-e06213f53ba0",
        "colab": {
          "base_uri": "https://localhost:8080/",
          "height": 35
        }
      },
      "source": [
        "print (\"This is the average value we are trying to predict: %d\" % y_val.mean().iloc[0])"
      ],
      "execution_count": 54,
      "outputs": [
        {
          "output_type": "stream",
          "text": [
            "This is the average value we are trying to predict: 1046812\n"
          ],
          "name": "stdout"
        }
      ]
    },
    {
      "cell_type": "markdown",
      "metadata": {
        "id": "ytZRzEHgq4Md",
        "colab_type": "text"
      },
      "source": [
        "## How good are the model's predictions?"
      ]
    },
    {
      "cell_type": "code",
      "metadata": {
        "id": "1mQ2MD_rq4Me",
        "colab_type": "code",
        "colab": {}
      },
      "source": [
        "df = y_val.copy()\n",
        "\n",
        "# Add a column for the model's predicted values\n",
        "df['pred'] = model.predict([X_val_continuous, X_val_categorical[['area_mapping','type_mapping']].to_numpy()])\n",
        "\n",
        "# Calculate the difference between the predicted and the actual price\n",
        "df['diff'] = df['pred'] - df['price']\n",
        "\n",
        "# Calculate the absolute difference between the predicted and the actual price\n",
        "df['abs_diff'] = np.abs(df['diff'])\n",
        "\n",
        "# Calculate the percentage of the difference from the actual price\n",
        "df['%diff'] = 100 * (df['diff'] / df['price'])\n",
        "\n",
        "# Calculate the absolute percentage difference from the actual price\n",
        "df['abs_%diff'] = np.abs(df['%diff'])"
      ],
      "execution_count": 90,
      "outputs": []
    },
    {
      "cell_type": "markdown",
      "metadata": {
        "id": "XFhaRcEPq4Mp",
        "colab_type": "text"
      },
      "source": [
        "### What is the biggest difference in absolute values? "
      ]
    },
    {
      "cell_type": "code",
      "metadata": {
        "id": "WEHmG03fq4Ms",
        "colab_type": "code",
        "outputId": "be171603-265a-415d-f777-f6ef04f08f68",
        "colab": {
          "base_uri": "https://localhost:8080/",
          "height": 206
        }
      },
      "source": [
        "# Sort by the 'abs_diff' field and show the 5 largest mistakes in absolute values\n",
        "df.sort_values(\"abs_diff\", ascending=False).head(5)"
      ],
      "execution_count": 56,
      "outputs": [
        {
          "output_type": "execute_result",
          "data": {
            "text/html": [
              "<div>\n",
              "<style scoped>\n",
              "    .dataframe tbody tr th:only-of-type {\n",
              "        vertical-align: middle;\n",
              "    }\n",
              "\n",
              "    .dataframe tbody tr th {\n",
              "        vertical-align: top;\n",
              "    }\n",
              "\n",
              "    .dataframe thead th {\n",
              "        text-align: right;\n",
              "    }\n",
              "</style>\n",
              "<table border=\"1\" class=\"dataframe\">\n",
              "  <thead>\n",
              "    <tr style=\"text-align: right;\">\n",
              "      <th></th>\n",
              "      <th>price</th>\n",
              "      <th>pred</th>\n",
              "      <th>diff</th>\n",
              "      <th>abs_diff</th>\n",
              "      <th>%diff</th>\n",
              "      <th>abs_%diff</th>\n",
              "    </tr>\n",
              "  </thead>\n",
              "  <tbody>\n",
              "    <tr>\n",
              "      <th>87</th>\n",
              "      <td>3756380.0</td>\n",
              "      <td>3.724332e+06</td>\n",
              "      <td>-32048.0000</td>\n",
              "      <td>32048.0000</td>\n",
              "      <td>-0.853162</td>\n",
              "      <td>0.853162</td>\n",
              "    </tr>\n",
              "    <tr>\n",
              "      <th>75</th>\n",
              "      <td>3766880.0</td>\n",
              "      <td>3.755570e+06</td>\n",
              "      <td>-11309.5000</td>\n",
              "      <td>11309.5000</td>\n",
              "      <td>-0.300235</td>\n",
              "      <td>0.300235</td>\n",
              "    </tr>\n",
              "    <tr>\n",
              "      <th>38</th>\n",
              "      <td>905380.0</td>\n",
              "      <td>8.965801e+05</td>\n",
              "      <td>-8799.8750</td>\n",
              "      <td>8799.8750</td>\n",
              "      <td>-0.971954</td>\n",
              "      <td>0.971954</td>\n",
              "    </tr>\n",
              "    <tr>\n",
              "      <th>116</th>\n",
              "      <td>2815830.0</td>\n",
              "      <td>2.807122e+06</td>\n",
              "      <td>-8708.0000</td>\n",
              "      <td>8708.0000</td>\n",
              "      <td>-0.309252</td>\n",
              "      <td>0.309252</td>\n",
              "    </tr>\n",
              "    <tr>\n",
              "      <th>130</th>\n",
              "      <td>945430.0</td>\n",
              "      <td>9.378012e+05</td>\n",
              "      <td>-7628.8125</td>\n",
              "      <td>7628.8125</td>\n",
              "      <td>-0.806915</td>\n",
              "      <td>0.806915</td>\n",
              "    </tr>\n",
              "  </tbody>\n",
              "</table>\n",
              "</div>"
            ],
            "text/plain": [
              "         price          pred        diff    abs_diff     %diff  abs_%diff\n",
              "87   3756380.0  3.724332e+06 -32048.0000  32048.0000 -0.853162   0.853162\n",
              "75   3766880.0  3.755570e+06 -11309.5000  11309.5000 -0.300235   0.300235\n",
              "38    905380.0  8.965801e+05  -8799.8750   8799.8750 -0.971954   0.971954\n",
              "116  2815830.0  2.807122e+06  -8708.0000   8708.0000 -0.309252   0.309252\n",
              "130   945430.0  9.378012e+05  -7628.8125   7628.8125 -0.806915   0.806915"
            ]
          },
          "metadata": {
            "tags": []
          },
          "execution_count": 56
        }
      ]
    },
    {
      "cell_type": "markdown",
      "metadata": {
        "id": "pMCH2t-Gq4M3",
        "colab_type": "text"
      },
      "source": [
        "The biggest absolute difference is ~\\$537, which is less than a 0.25% of the ~\\$240K house price"
      ]
    },
    {
      "cell_type": "code",
      "metadata": {
        "id": "hcStHSvuq4M7",
        "colab_type": "code",
        "outputId": "56d63700-6c7f-4de7-bcbb-dd10d64d8abd",
        "colab": {
          "base_uri": "https://localhost:8080/",
          "height": 35
        }
      },
      "source": [
        "# Calculate the mean and std. of the diff field\n",
        "diff_mean, diff_std = df['diff'].mean(), df['diff'].std()\n",
        "print(\"The mean is very close to 0 ({mean}) with std. {std}.\".format(mean=round(diff_mean, 2), std=round(diff_std, 2)))"
      ],
      "execution_count": 91,
      "outputs": [
        {
          "output_type": "stream",
          "text": [
            "The mean is very close to 0 (-37.18) with std. 2842.04.\n"
          ],
          "name": "stdout"
        }
      ]
    },
    {
      "cell_type": "code",
      "metadata": {
        "id": "JvH_Tayrq4NG",
        "colab_type": "code",
        "outputId": "55814f6d-3406-4d3d-d471-a3d36c91710a",
        "colab": {
          "base_uri": "https://localhost:8080/",
          "height": 584
        }
      },
      "source": [
        "# Here is the histogram of the differences\n",
        "plt.figure(figsize=(20,10))\n",
        "plt.hist(df['diff'], bins=100)\n",
        "plt.xlabel(\"$\")\n",
        "plt.ylabel(\"# samples\")\n",
        "_ = plt.title(\"Difference between predicted and actual price\")"
      ],
      "execution_count": 92,
      "outputs": [
        {
          "output_type": "display_data",
          "data": {
            "image/png": "[encoded data removed]",
            "text/plain": [
              "<Figure size 1440x720 with 1 Axes>"
            ]
          },
          "metadata": {
            "tags": [],
            "needs_background": "light"
          }
        }
      ]
    },
    {
      "cell_type": "markdown",
      "metadata": {
        "id": "a1zEDBHDq4NR",
        "colab_type": "text"
      },
      "source": [
        "### What is the biggest difference in percentage?"
      ]
    },
    {
      "cell_type": "code",
      "metadata": {
        "id": "aOpbjj-Xq4NU",
        "colab_type": "code",
        "outputId": "4d0b2a0f-aed3-4ac0-9b36-bdd8011d3a48",
        "colab": {
          "base_uri": "https://localhost:8080/",
          "height": 206
        }
      },
      "source": [
        "# Sort by the '%diff' field and show the 5 largest proportional mistakes\n",
        "df.sort_values(\"abs_%diff\", ascending=False).head(5)"
      ],
      "execution_count": 59,
      "outputs": [
        {
          "output_type": "execute_result",
          "data": {
            "text/html": [
              "<div>\n",
              "<style scoped>\n",
              "    .dataframe tbody tr th:only-of-type {\n",
              "        vertical-align: middle;\n",
              "    }\n",
              "\n",
              "    .dataframe tbody tr th {\n",
              "        vertical-align: top;\n",
              "    }\n",
              "\n",
              "    .dataframe thead th {\n",
              "        text-align: right;\n",
              "    }\n",
              "</style>\n",
              "<table border=\"1\" class=\"dataframe\">\n",
              "  <thead>\n",
              "    <tr style=\"text-align: right;\">\n",
              "      <th></th>\n",
              "      <th>price</th>\n",
              "      <th>pred</th>\n",
              "      <th>diff</th>\n",
              "      <th>abs_diff</th>\n",
              "      <th>%diff</th>\n",
              "      <th>abs_%diff</th>\n",
              "    </tr>\n",
              "  </thead>\n",
              "  <tbody>\n",
              "    <tr>\n",
              "      <th>96</th>\n",
              "      <td>34080.0</td>\n",
              "      <td>35472.191406</td>\n",
              "      <td>1392.191406</td>\n",
              "      <td>1392.191406</td>\n",
              "      <td>4.085069</td>\n",
              "      <td>4.085069</td>\n",
              "    </tr>\n",
              "    <tr>\n",
              "      <th>227</th>\n",
              "      <td>29130.0</td>\n",
              "      <td>30226.431641</td>\n",
              "      <td>1096.431641</td>\n",
              "      <td>1096.431641</td>\n",
              "      <td>3.763926</td>\n",
              "      <td>3.763926</td>\n",
              "    </tr>\n",
              "    <tr>\n",
              "      <th>275</th>\n",
              "      <td>21850.0</td>\n",
              "      <td>22223.863281</td>\n",
              "      <td>373.863281</td>\n",
              "      <td>373.863281</td>\n",
              "      <td>1.711045</td>\n",
              "      <td>1.711045</td>\n",
              "    </tr>\n",
              "    <tr>\n",
              "      <th>108</th>\n",
              "      <td>21550.0</td>\n",
              "      <td>21909.498047</td>\n",
              "      <td>359.498047</td>\n",
              "      <td>359.498047</td>\n",
              "      <td>1.668204</td>\n",
              "      <td>1.668204</td>\n",
              "    </tr>\n",
              "    <tr>\n",
              "      <th>251</th>\n",
              "      <td>35480.0</td>\n",
              "      <td>36024.875000</td>\n",
              "      <td>544.875000</td>\n",
              "      <td>544.875000</td>\n",
              "      <td>1.535724</td>\n",
              "      <td>1.535724</td>\n",
              "    </tr>\n",
              "  </tbody>\n",
              "</table>\n",
              "</div>"
            ],
            "text/plain": [
              "       price          pred         diff     abs_diff     %diff  abs_%diff\n",
              "96   34080.0  35472.191406  1392.191406  1392.191406  4.085069   4.085069\n",
              "227  29130.0  30226.431641  1096.431641  1096.431641  3.763926   3.763926\n",
              "275  21850.0  22223.863281   373.863281   373.863281  1.711045   1.711045\n",
              "108  21550.0  21909.498047   359.498047   359.498047  1.668204   1.668204\n",
              "251  35480.0  36024.875000   544.875000   544.875000  1.535724   1.535724"
            ]
          },
          "metadata": {
            "tags": []
          },
          "execution_count": 59
        }
      ]
    },
    {
      "cell_type": "markdown",
      "metadata": {
        "id": "7SNt9fFgq4Nh",
        "colab_type": "text"
      },
      "source": [
        "The biggest absolute/percentage difference comes from the same validation sample"
      ]
    },
    {
      "cell_type": "code",
      "metadata": {
        "id": "t3PA6Kr4q4Nj",
        "colab_type": "code",
        "outputId": "349e211d-543a-40a9-990d-660a27c57f86",
        "colab": {
          "base_uri": "https://localhost:8080/",
          "height": 584
        }
      },
      "source": [
        "# Also, plot the histogram\n",
        "plt.figure(figsize=(20,10))\n",
        "plt.hist(df['%diff'], bins=100)\n",
        "plt.xlabel(\"%\")\n",
        "plt.ylabel(\"# samples\")\n",
        "_ = plt.title(\"% of difference between predicted and actual price\")"
      ],
      "execution_count": 60,
      "outputs": [
        {
          "output_type": "display_data",
          "data": {
            "image/png": "[encoded data removed]",
            "text/plain": [
              "<Figure size 1440x720 with 1 Axes>"
            ]
          },
          "metadata": {
            "tags": [],
            "needs_background": "light"
          }
        }
      ]
    },
    {
      "cell_type": "code",
      "metadata": {
        "id": "QV-SmHrpbV3Q",
        "colab_type": "code",
        "outputId": "947bacbb-5ce0-462e-91ad-aabea0c169ac",
        "colab": {
          "base_uri": "https://localhost:8080/",
          "height": 546
        }
      },
      "source": [
        "!pip install lime"
      ],
      "execution_count": 24,
      "outputs": [
        {
          "output_type": "stream",
          "text": [
            "Collecting lime\n",
            "\u001b[?25l  Downloading https://files.pythonhosted.org/packages/f5/86/91a13127d83d793ecb50eb75e716f76e6eda809b6803c5a4ff462339789e/lime-0.2.0.1.tar.gz (275kB)\n",
            "\u001b[K     |████████████████████████████████| 276kB 3.5MB/s \n",
            "\u001b[?25hRequirement already satisfied: matplotlib in /usr/local/lib/python3.6/dist-packages (from lime) (3.2.2)\n",
            "Requirement already satisfied: numpy in /usr/local/lib/python3.6/dist-packages (from lime) (1.18.5)\n",
            "Requirement already satisfied: scipy in /usr/local/lib/python3.6/dist-packages (from lime) (1.4.1)\n",
            "Requirement already satisfied: tqdm in /usr/local/lib/python3.6/dist-packages (from lime) (4.41.1)\n",
            "Requirement already satisfied: scikit-learn>=0.18 in /usr/local/lib/python3.6/dist-packages (from lime) (0.22.2.post1)\n",
            "Requirement already satisfied: scikit-image>=0.12 in /usr/local/lib/python3.6/dist-packages (from lime) (0.16.2)\n",
            "Requirement already satisfied: cycler>=0.10 in /usr/local/lib/python3.6/dist-packages (from matplotlib->lime) (0.10.0)\n",
            "Requirement already satisfied: kiwisolver>=1.0.1 in /usr/local/lib/python3.6/dist-packages (from matplotlib->lime) (1.2.0)\n",
            "Requirement already satisfied: python-dateutil>=2.1 in /usr/local/lib/python3.6/dist-packages (from matplotlib->lime) (2.8.1)\n",
            "Requirement already satisfied: pyparsing!=2.0.4,!=2.1.2,!=2.1.6,>=2.0.1 in /usr/local/lib/python3.6/dist-packages (from matplotlib->lime) (2.4.7)\n",
            "Requirement already satisfied: joblib>=0.11 in /usr/local/lib/python3.6/dist-packages (from scikit-learn>=0.18->lime) (0.15.1)\n",
            "Requirement already satisfied: imageio>=2.3.0 in /usr/local/lib/python3.6/dist-packages (from scikit-image>=0.12->lime) (2.4.1)\n",
            "Requirement already satisfied: networkx>=2.0 in /usr/local/lib/python3.6/dist-packages (from scikit-image>=0.12->lime) (2.4)\n",
            "Requirement already satisfied: pillow>=4.3.0 in /usr/local/lib/python3.6/dist-packages (from scikit-image>=0.12->lime) (7.0.0)\n",
            "Requirement already satisfied: PyWavelets>=0.4.0 in /usr/local/lib/python3.6/dist-packages (from scikit-image>=0.12->lime) (1.1.1)\n",
            "Requirement already satisfied: six in /usr/local/lib/python3.6/dist-packages (from cycler>=0.10->matplotlib->lime) (1.12.0)\n",
            "Requirement already satisfied: decorator>=4.3.0 in /usr/local/lib/python3.6/dist-packages (from networkx>=2.0->scikit-image>=0.12->lime) (4.4.2)\n",
            "Building wheels for collected packages: lime\n",
            "  Building wheel for lime (setup.py) ... \u001b[?25l\u001b[?25hdone\n",
            "  Created wheel for lime: filename=lime-0.2.0.1-cp36-none-any.whl size=283845 sha256=b3c23df6fdd39a86bf44ce576edae7b8ba05d57b864fba875d1ef383b512bb9b\n",
            "  Stored in directory: /root/.cache/pip/wheels/4c/4f/a5/0bc765457bd41378bf3ce8d17d7495369d6e7ca3b712c60c89\n",
            "Successfully built lime\n",
            "Installing collected packages: lime\n",
            "Successfully installed lime-0.2.0.1\n"
          ],
          "name": "stdout"
        }
      ]
    },
    {
      "cell_type": "code",
      "metadata": {
        "id": "QaBAaRakgWex",
        "colab_type": "code",
        "colab": {}
      },
      "source": [
        "train_ds = pd.concat([X_train_continuous,X_train_categorical[['area_mapping','type_mapping']]], axis=1)\n",
        "val_ds = pd.concat([X_val_continuous,X_val_categorical[['area_mapping','type_mapping']]], axis=1)\n"
      ],
      "execution_count": 93,
      "outputs": []
    },
    {
      "cell_type": "code",
      "metadata": {
        "id": "H4IkARRtjxGy",
        "colab_type": "code",
        "outputId": "9126fd21-1de2-4f3c-d68d-312c1a2d8b65",
        "colab": {
          "base_uri": "https://localhost:8080/",
          "height": 424
        }
      },
      "source": [
        "val_ds"
      ],
      "execution_count": 94,
      "outputs": [
        {
          "output_type": "execute_result",
          "data": {
            "text/html": [
              "<div>\n",
              "<style scoped>\n",
              "    .dataframe tbody tr th:only-of-type {\n",
              "        vertical-align: middle;\n",
              "    }\n",
              "\n",
              "    .dataframe tbody tr th {\n",
              "        vertical-align: top;\n",
              "    }\n",
              "\n",
              "    .dataframe thead th {\n",
              "        text-align: right;\n",
              "    }\n",
              "</style>\n",
              "<table border=\"1\" class=\"dataframe\">\n",
              "  <thead>\n",
              "    <tr style=\"text-align: right;\">\n",
              "      <th></th>\n",
              "      <th>size</th>\n",
              "      <th>n_rooms</th>\n",
              "      <th>lamp</th>\n",
              "      <th>size_n_rooms</th>\n",
              "      <th>size_size</th>\n",
              "      <th>n_rooms_n_rooms</th>\n",
              "      <th>area_mapping</th>\n",
              "      <th>type_mapping</th>\n",
              "    </tr>\n",
              "  </thead>\n",
              "  <tbody>\n",
              "    <tr>\n",
              "      <th>0</th>\n",
              "      <td>1.530642</td>\n",
              "      <td>0.019135</td>\n",
              "      <td>1.060298</td>\n",
              "      <td>0.612148</td>\n",
              "      <td>1.644675</td>\n",
              "      <td>-0.212229</td>\n",
              "      <td>1</td>\n",
              "      <td>2</td>\n",
              "    </tr>\n",
              "    <tr>\n",
              "      <th>1</th>\n",
              "      <td>-0.673547</td>\n",
              "      <td>0.019135</td>\n",
              "      <td>-0.593914</td>\n",
              "      <td>-0.248111</td>\n",
              "      <td>-0.719176</td>\n",
              "      <td>-0.212229</td>\n",
              "      <td>3</td>\n",
              "      <td>6</td>\n",
              "    </tr>\n",
              "    <tr>\n",
              "      <th>2</th>\n",
              "      <td>0.328357</td>\n",
              "      <td>0.019135</td>\n",
              "      <td>-0.574452</td>\n",
              "      <td>0.142916</td>\n",
              "      <td>0.233663</td>\n",
              "      <td>-0.212229</td>\n",
              "      <td>2</td>\n",
              "      <td>1</td>\n",
              "    </tr>\n",
              "    <tr>\n",
              "      <th>3</th>\n",
              "      <td>-0.072404</td>\n",
              "      <td>1.436565</td>\n",
              "      <td>0.067771</td>\n",
              "      <td>1.237790</td>\n",
              "      <td>-0.171800</td>\n",
              "      <td>1.644342</td>\n",
              "      <td>1</td>\n",
              "      <td>8</td>\n",
              "    </tr>\n",
              "    <tr>\n",
              "      <th>4</th>\n",
              "      <td>-0.272785</td>\n",
              "      <td>-1.398294</td>\n",
              "      <td>1.293833</td>\n",
              "      <td>-1.290848</td>\n",
              "      <td>-0.362368</td>\n",
              "      <td>-1.140515</td>\n",
              "      <td>3</td>\n",
              "      <td>3</td>\n",
              "    </tr>\n",
              "    <tr>\n",
              "      <th>...</th>\n",
              "      <td>...</td>\n",
              "      <td>...</td>\n",
              "      <td>...</td>\n",
              "      <td>...</td>\n",
              "      <td>...</td>\n",
              "      <td>...</td>\n",
              "      <td>...</td>\n",
              "      <td>...</td>\n",
              "    </tr>\n",
              "    <tr>\n",
              "      <th>295</th>\n",
              "      <td>0.328357</td>\n",
              "      <td>1.436565</td>\n",
              "      <td>2.422589</td>\n",
              "      <td>1.498475</td>\n",
              "      <td>0.233663</td>\n",
              "      <td>1.644342</td>\n",
              "      <td>1</td>\n",
              "      <td>8</td>\n",
              "    </tr>\n",
              "    <tr>\n",
              "      <th>296</th>\n",
              "      <td>-0.473166</td>\n",
              "      <td>1.436565</td>\n",
              "      <td>-0.321455</td>\n",
              "      <td>0.977106</td>\n",
              "      <td>-0.544826</td>\n",
              "      <td>1.644342</td>\n",
              "      <td>1</td>\n",
              "      <td>5</td>\n",
              "    </tr>\n",
              "    <tr>\n",
              "      <th>297</th>\n",
              "      <td>-0.873927</td>\n",
              "      <td>0.727850</td>\n",
              "      <td>0.301306</td>\n",
              "      <td>0.195053</td>\n",
              "      <td>-0.885416</td>\n",
              "      <td>0.600021</td>\n",
              "      <td>1</td>\n",
              "      <td>2</td>\n",
              "    </tr>\n",
              "    <tr>\n",
              "      <th>298</th>\n",
              "      <td>-0.673547</td>\n",
              "      <td>1.436565</td>\n",
              "      <td>-1.236137</td>\n",
              "      <td>0.846764</td>\n",
              "      <td>-0.719176</td>\n",
              "      <td>1.644342</td>\n",
              "      <td>2</td>\n",
              "      <td>2</td>\n",
              "    </tr>\n",
              "    <tr>\n",
              "      <th>299</th>\n",
              "      <td>0.328357</td>\n",
              "      <td>-0.689579</td>\n",
              "      <td>0.495920</td>\n",
              "      <td>-0.534864</td>\n",
              "      <td>0.233663</td>\n",
              "      <td>-0.792408</td>\n",
              "      <td>3</td>\n",
              "      <td>1</td>\n",
              "    </tr>\n",
              "  </tbody>\n",
              "</table>\n",
              "<p>300 rows × 8 columns</p>\n",
              "</div>"
            ],
            "text/plain": [
              "         size   n_rooms      lamp  ...  n_rooms_n_rooms  area_mapping  type_mapping\n",
              "0    1.530642  0.019135  1.060298  ...        -0.212229             1             2\n",
              "1   -0.673547  0.019135 -0.593914  ...        -0.212229             3             6\n",
              "2    0.328357  0.019135 -0.574452  ...        -0.212229             2             1\n",
              "3   -0.072404  1.436565  0.067771  ...         1.644342             1             8\n",
              "4   -0.272785 -1.398294  1.293833  ...        -1.140515             3             3\n",
              "..        ...       ...       ...  ...              ...           ...           ...\n",
              "295  0.328357  1.436565  2.422589  ...         1.644342             1             8\n",
              "296 -0.473166  1.436565 -0.321455  ...         1.644342             1             5\n",
              "297 -0.873927  0.727850  0.301306  ...         0.600021             1             2\n",
              "298 -0.673547  1.436565 -1.236137  ...         1.644342             2             2\n",
              "299  0.328357 -0.689579  0.495920  ...        -0.792408             3             1\n",
              "\n",
              "[300 rows x 8 columns]"
            ]
          },
          "metadata": {
            "tags": []
          },
          "execution_count": 94
        }
      ]
    },
    {
      "cell_type": "code",
      "metadata": {
        "id": "ZzVfiFsObb5d",
        "colab_type": "code",
        "colab": {}
      },
      "source": [
        "# XAI를 위한 lime  정의\n",
        "from lime import lime_tabular, lime_text\n",
        "exp = lime_tabular.LimeTabularExplainer(\n",
        "    train_ds.to_numpy(),\n",
        "    training_labels=y_train.to_numpy(),\n",
        "    feature_names=train_ds.columns,\n",
        "    class_names= y_train.columns,\n",
        "    mode=\"regression\"\n",
        ")\n"
      ],
      "execution_count": 95,
      "outputs": []
    },
    {
      "cell_type": "code",
      "metadata": {
        "id": "Kff6xpteosdT",
        "colab_type": "code",
        "colab": {}
      },
      "source": [
        "# 변수의 영향력 분석\n",
        "# 소팅을 위한 초기화 \n",
        "exp_ana = {}\n",
        "for k in train_ds.columns:\n",
        "  exp_ana[k] = 0\n",
        "\n",
        "# predict 함수 재정의 - lime에서 사용 가능하도록...\n",
        "continue_dim = X_train_continuous.shape[1]\n",
        "input_dim = train_ds.shape[1]\n",
        "def predict(data):\n",
        "    return model.predict([data[:,0:continue_dim],data[:,continue_dim:input_dim]])\n",
        "\n",
        "# validation set의 변수 영향력 분석...\n",
        "for i in range(40): #range(val_ds.shape[0]):\n",
        "    p = exp.explain_instance(np.asarray(val_ds.iloc[i]),predict,num_features=val_ds.shape[1])\n",
        "    for t in p.as_map()[0]:\n",
        "      exp_ana[train_ds.columns[t[0]]] += np.abs(t[1])\n",
        "\n",
        "import operator\n",
        "\n",
        "sorted_x = sorted(exp_ana.items(), key=operator.itemgetter(1))\n",
        "\n",
        "effect_result_table = pd.DataFrame(sorted_x,columns=['Feature', 'Effect'] )\n"
      ],
      "execution_count": 96,
      "outputs": []
    },
    {
      "cell_type": "code",
      "metadata": {
        "id": "kQEz_AfFNwLY",
        "colab_type": "code",
        "outputId": "3355510c-98bb-4c0b-980b-675c250b52a7",
        "colab": {
          "base_uri": "https://localhost:8080/",
          "height": 376
        }
      },
      "source": [
        "effect_result_table['Effect'] = effect_result_table['Effect']/max(effect_result_table['Effect'])\n",
        "effect_result_table.plot(x='Feature',y='Effect',kind='bar')"
      ],
      "execution_count": 97,
      "outputs": [
        {
          "output_type": "execute_result",
          "data": {
            "text/plain": [
              "<matplotlib.axes._subplots.AxesSubplot at 0x7f6b645dceb8>"
            ]
          },
          "metadata": {
            "tags": []
          },
          "execution_count": 97
        },
        {
          "output_type": "display_data",
          "data": {
            "image/png": "[encoded data removed]",
            "text/plain": [
              "<Figure size 432x288 with 1 Axes>"
            ]
          },
          "metadata": {
            "tags": [],
            "needs_background": "light"
          }
        }
      ]
    },
    {
      "cell_type": "code",
      "metadata": {
        "id": "D7mUylbCm0p9",
        "colab_type": "code",
        "outputId": "7b6b6a02-beed-49a9-e85d-0cc679670be2",
        "colab": {
          "base_uri": "https://localhost:8080/",
          "height": 718
        }
      },
      "source": [
        "# 영향도 분석에 의해 'lamp' 삭제 후 학습...\n",
        "\n",
        "X_train_continuous.drop(columns=['lamp','size','size_size'], inplace=True)\n",
        "X_val_continuous.drop(columns=['lamp','size','size_size'], inplace=True)\n",
        "print(X_train_continuous)\n",
        "\n",
        "# Define the embedding input\n",
        "cate_input = Input(shape=(2,), dtype='int32') \n",
        "\n",
        "# Decide to what vector size we want to map our 'area' variable. \n",
        "# I'll use 1 here because we only have three areas\n",
        "embeddings_output = 24*4\n",
        "\n",
        "\n",
        "# Let’s define the embedding layer and flatten it\n",
        "cate_embedings = Embedding(output_dim=embeddings_output, input_dim=X_train_categorical.shape[0])(cate_input)\n",
        "print(cate_embedings)\n",
        "cate_embedings = keras.layers.Reshape((embeddings_output*2,))(cate_embedings)\n",
        "\n",
        "\n",
        "# Define the continuous variables input (just like before)\n",
        "continuous_input = Input(shape=(X_train_continuous.shape[1], ))\n",
        "\n",
        "# Concatenate continuous and embeddings inputs\n",
        "all_input = keras.layers.concatenate([continuous_input, cate_embedings])\n",
        "\n",
        "# Define the model\n",
        "\n",
        "dense1 = Dense(200, activation='relu')(all_input)\n",
        "dense2 = Dense(50, activation='relu')(dense1)\n",
        "predictions = Dense(1)(dense2)\n",
        "# Note using the input object 'area_input' not 'area_embeddings'\n",
        "model = Model(inputs=[continuous_input, cate_input], outputs=predictions)\n",
        "model.compile(loss='mse', optimizer=keras.optimizers.Adam(lr=.8, beta_1=0.9, beta_2=0.999, decay=1e-03, amsgrad=True),metrics=[soft_acc,r2])\n",
        "model.summary()"
      ],
      "execution_count": 98,
      "outputs": [
        {
          "output_type": "stream",
          "text": [
            "       n_rooms  size_n_rooms  n_rooms_n_rooms\n",
            "0     0.019135      0.377532        -0.212229\n",
            "1    -0.689579     -0.691274        -0.792408\n",
            "2    -0.689579     -0.639137        -0.792408\n",
            "3    -1.398294     -0.795548        -1.140515\n",
            "4    -1.398294     -1.316917        -1.140515\n",
            "...        ...           ...              ...\n",
            "2995  0.727850      0.716422         0.600021\n",
            "2996 -1.398294     -1.160506        -1.140515\n",
            "2997  0.727850     -0.847685         0.600021\n",
            "2998 -0.689579     -0.847685        -0.792408\n",
            "2999 -1.398294     -1.577601        -1.140515\n",
            "\n",
            "[3000 rows x 3 columns]\n",
            "Tensor(\"embedding_5/embedding_lookup/Identity_1:0\", shape=(None, 2, 96), dtype=float32)\n",
            "Model: \"model_10\"\n",
            "__________________________________________________________________________________________________\n",
            "Layer (type)                    Output Shape         Param #     Connected to                     \n",
            "==================================================================================================\n",
            "input_13 (InputLayer)           (None, 2)            0                                            \n",
            "__________________________________________________________________________________________________\n",
            "embedding_5 (Embedding)         (None, 2, 96)        288000      input_13[0][0]                   \n",
            "__________________________________________________________________________________________________\n",
            "input_14 (InputLayer)           (None, 3)            0                                            \n",
            "__________________________________________________________________________________________________\n",
            "reshape_5 (Reshape)             (None, 192)          0           embedding_5[0][0]                \n",
            "__________________________________________________________________________________________________\n",
            "concatenate_9 (Concatenate)     (None, 195)          0           input_14[0][0]                   \n",
            "                                                                 reshape_5[0][0]                  \n",
            "__________________________________________________________________________________________________\n",
            "dense_28 (Dense)                (None, 200)          39200       concatenate_9[0][0]              \n",
            "__________________________________________________________________________________________________\n",
            "dense_29 (Dense)                (None, 50)           10050       dense_28[0][0]                   \n",
            "__________________________________________________________________________________________________\n",
            "dense_30 (Dense)                (None, 1)            51          dense_29[0][0]                   \n",
            "==================================================================================================\n",
            "Total params: 337,301\n",
            "Trainable params: 337,301\n",
            "Non-trainable params: 0\n",
            "__________________________________________________________________________________________________\n"
          ],
          "name": "stdout"
        }
      ]
    },
    {
      "cell_type": "code",
      "metadata": {
        "id": "VKAWcATRp8MP",
        "colab_type": "code",
        "outputId": "f27abc1b-99ae-4673-e5f8-bee90916d266",
        "colab": {
          "base_uri": "https://localhost:8080/",
          "height": 424
        }
      },
      "source": [
        "\n",
        "epochs = 2000\n",
        "# Note continuous and categorical columns are inserted in the same order as defined in all_inputs\n",
        "history = model.fit([X_train_continuous, X_train_categorical[['area_mapping','type_mapping']].to_numpy()], y_train, \n",
        "          epochs=epochs, batch_size=128, \n",
        "          callbacks=[periodic_logger_250], verbose=0,\n",
        "          validation_data=([X_val_continuous, X_val_categorical[['area_mapping','type_mapping']].to_numpy()], y_val))"
      ],
      "execution_count": 99,
      "outputs": [
        {
          "output_type": "stream",
          "text": [
            "/usr/local/lib/python3.6/dist-packages/tensorflow/python/framework/indexed_slices.py:434: UserWarning: Converting sparse IndexedSlices to a dense Tensor of unknown shape. This may consume a large amount of memory.\n",
            "  \"Converting sparse IndexedSlices to a dense Tensor of unknown shape. \"\n"
          ],
          "name": "stderr"
        },
        {
          "output_type": "stream",
          "text": [
            "Epoch: 250 - {'val_loss': 11006741.493333334, 'val_soft_acc': 0.12689393758773804, 'val_r2': 0.9999951720237732, 'loss': 10533436.027333334, 'soft_acc': 0.16569011, 'r2': 0.9999966}\n"
          ],
          "name": "stdout"
        },
        {
          "output_type": "error",
          "ename": "KeyboardInterrupt",
          "evalue": "ignored",
          "traceback": [
            "\u001b[0;31m---------------------------------------------------------------------------\u001b[0m",
            "\u001b[0;31mKeyboardInterrupt\u001b[0m                         Traceback (most recent call last)",
            "\u001b[0;32m<ipython-input-99-1b22a6a53323>\u001b[0m in \u001b[0;36m<module>\u001b[0;34m()\u001b[0m\n\u001b[1;32m      5\u001b[0m           \u001b[0mepochs\u001b[0m\u001b[0;34m=\u001b[0m\u001b[0mepochs\u001b[0m\u001b[0;34m,\u001b[0m \u001b[0mbatch_size\u001b[0m\u001b[0;34m=\u001b[0m\u001b[0;36m128\u001b[0m\u001b[0;34m,\u001b[0m\u001b[0;34m\u001b[0m\u001b[0;34m\u001b[0m\u001b[0m\n\u001b[1;32m      6\u001b[0m           \u001b[0mcallbacks\u001b[0m\u001b[0;34m=\u001b[0m\u001b[0;34m[\u001b[0m\u001b[0mperiodic_logger_250\u001b[0m\u001b[0;34m]\u001b[0m\u001b[0;34m,\u001b[0m \u001b[0mverbose\u001b[0m\u001b[0;34m=\u001b[0m\u001b[0;36m0\u001b[0m\u001b[0;34m,\u001b[0m\u001b[0;34m\u001b[0m\u001b[0;34m\u001b[0m\u001b[0m\n\u001b[0;32m----> 7\u001b[0;31m           validation_data=([X_val_continuous, X_val_categorical[['area_mapping','type_mapping']].to_numpy()], y_val))\n\u001b[0m",
            "\u001b[0;32m/usr/local/lib/python3.6/dist-packages/keras/engine/training.py\u001b[0m in \u001b[0;36mfit\u001b[0;34m(self, x, y, batch_size, epochs, verbose, callbacks, validation_split, validation_data, shuffle, class_weight, sample_weight, initial_epoch, steps_per_epoch, validation_steps, validation_freq, max_queue_size, workers, use_multiprocessing, **kwargs)\u001b[0m\n\u001b[1;32m   1237\u001b[0m                                         \u001b[0msteps_per_epoch\u001b[0m\u001b[0;34m=\u001b[0m\u001b[0msteps_per_epoch\u001b[0m\u001b[0;34m,\u001b[0m\u001b[0;34m\u001b[0m\u001b[0;34m\u001b[0m\u001b[0m\n\u001b[1;32m   1238\u001b[0m                                         \u001b[0mvalidation_steps\u001b[0m\u001b[0;34m=\u001b[0m\u001b[0mvalidation_steps\u001b[0m\u001b[0;34m,\u001b[0m\u001b[0;34m\u001b[0m\u001b[0;34m\u001b[0m\u001b[0m\n\u001b[0;32m-> 1239\u001b[0;31m                                         validation_freq=validation_freq)\n\u001b[0m\u001b[1;32m   1240\u001b[0m \u001b[0;34m\u001b[0m\u001b[0m\n\u001b[1;32m   1241\u001b[0m     def evaluate(self,\n",
            "\u001b[0;32m/usr/local/lib/python3.6/dist-packages/keras/engine/training_arrays.py\u001b[0m in \u001b[0;36mfit_loop\u001b[0;34m(model, fit_function, fit_inputs, out_labels, batch_size, epochs, verbose, callbacks, val_function, val_inputs, shuffle, initial_epoch, steps_per_epoch, validation_steps, validation_freq)\u001b[0m\n\u001b[1;32m    194\u001b[0m                     \u001b[0mins_batch\u001b[0m\u001b[0;34m[\u001b[0m\u001b[0mi\u001b[0m\u001b[0;34m]\u001b[0m \u001b[0;34m=\u001b[0m \u001b[0mins_batch\u001b[0m\u001b[0;34m[\u001b[0m\u001b[0mi\u001b[0m\u001b[0;34m]\u001b[0m\u001b[0;34m.\u001b[0m\u001b[0mtoarray\u001b[0m\u001b[0;34m(\u001b[0m\u001b[0;34m)\u001b[0m\u001b[0;34m\u001b[0m\u001b[0;34m\u001b[0m\u001b[0m\n\u001b[1;32m    195\u001b[0m \u001b[0;34m\u001b[0m\u001b[0m\n\u001b[0;32m--> 196\u001b[0;31m                 \u001b[0mouts\u001b[0m \u001b[0;34m=\u001b[0m \u001b[0mfit_function\u001b[0m\u001b[0;34m(\u001b[0m\u001b[0mins_batch\u001b[0m\u001b[0;34m)\u001b[0m\u001b[0;34m\u001b[0m\u001b[0;34m\u001b[0m\u001b[0m\n\u001b[0m\u001b[1;32m    197\u001b[0m                 \u001b[0mouts\u001b[0m \u001b[0;34m=\u001b[0m \u001b[0mto_list\u001b[0m\u001b[0;34m(\u001b[0m\u001b[0mouts\u001b[0m\u001b[0;34m)\u001b[0m\u001b[0;34m\u001b[0m\u001b[0;34m\u001b[0m\u001b[0m\n\u001b[1;32m    198\u001b[0m                 \u001b[0;32mfor\u001b[0m \u001b[0ml\u001b[0m\u001b[0;34m,\u001b[0m \u001b[0mo\u001b[0m \u001b[0;32min\u001b[0m \u001b[0mzip\u001b[0m\u001b[0;34m(\u001b[0m\u001b[0mout_labels\u001b[0m\u001b[0;34m,\u001b[0m \u001b[0mouts\u001b[0m\u001b[0;34m)\u001b[0m\u001b[0;34m:\u001b[0m\u001b[0;34m\u001b[0m\u001b[0;34m\u001b[0m\u001b[0m\n",
            "\u001b[0;32m/usr/local/lib/python3.6/dist-packages/tensorflow/python/keras/backend.py\u001b[0m in \u001b[0;36m__call__\u001b[0;34m(self, inputs)\u001b[0m\n\u001b[1;32m   3798\u001b[0m     return nest.pack_sequence_as(\n\u001b[1;32m   3799\u001b[0m         \u001b[0mself\u001b[0m\u001b[0;34m.\u001b[0m\u001b[0m_outputs_structure\u001b[0m\u001b[0;34m,\u001b[0m\u001b[0;34m\u001b[0m\u001b[0;34m\u001b[0m\u001b[0m\n\u001b[0;32m-> 3800\u001b[0;31m         \u001b[0;34m[\u001b[0m\u001b[0mx\u001b[0m\u001b[0;34m.\u001b[0m\u001b[0m_numpy\u001b[0m\u001b[0;34m(\u001b[0m\u001b[0;34m)\u001b[0m \u001b[0;32mfor\u001b[0m \u001b[0mx\u001b[0m \u001b[0;32min\u001b[0m \u001b[0moutputs\u001b[0m\u001b[0;34m]\u001b[0m\u001b[0;34m,\u001b[0m  \u001b[0;31m# pylint: disable=protected-access\u001b[0m\u001b[0;34m\u001b[0m\u001b[0;34m\u001b[0m\u001b[0m\n\u001b[0m\u001b[1;32m   3801\u001b[0m         expand_composites=True)\n\u001b[1;32m   3802\u001b[0m \u001b[0;34m\u001b[0m\u001b[0m\n",
            "\u001b[0;32m/usr/local/lib/python3.6/dist-packages/tensorflow/python/keras/backend.py\u001b[0m in \u001b[0;36m<listcomp>\u001b[0;34m(.0)\u001b[0m\n\u001b[1;32m   3798\u001b[0m     return nest.pack_sequence_as(\n\u001b[1;32m   3799\u001b[0m         \u001b[0mself\u001b[0m\u001b[0;34m.\u001b[0m\u001b[0m_outputs_structure\u001b[0m\u001b[0;34m,\u001b[0m\u001b[0;34m\u001b[0m\u001b[0;34m\u001b[0m\u001b[0m\n\u001b[0;32m-> 3800\u001b[0;31m         \u001b[0;34m[\u001b[0m\u001b[0mx\u001b[0m\u001b[0;34m.\u001b[0m\u001b[0m_numpy\u001b[0m\u001b[0;34m(\u001b[0m\u001b[0;34m)\u001b[0m \u001b[0;32mfor\u001b[0m \u001b[0mx\u001b[0m \u001b[0;32min\u001b[0m \u001b[0moutputs\u001b[0m\u001b[0;34m]\u001b[0m\u001b[0;34m,\u001b[0m  \u001b[0;31m# pylint: disable=protected-access\u001b[0m\u001b[0;34m\u001b[0m\u001b[0;34m\u001b[0m\u001b[0m\n\u001b[0m\u001b[1;32m   3801\u001b[0m         expand_composites=True)\n\u001b[1;32m   3802\u001b[0m \u001b[0;34m\u001b[0m\u001b[0m\n",
            "\u001b[0;32m/usr/local/lib/python3.6/dist-packages/tensorflow/python/framework/ops.py\u001b[0m in \u001b[0;36m_numpy\u001b[0;34m(self)\u001b[0m\n\u001b[1;32m    925\u001b[0m     \u001b[0;31m# pylint: disable=protected-access\u001b[0m\u001b[0;34m\u001b[0m\u001b[0;34m\u001b[0m\u001b[0;34m\u001b[0m\u001b[0m\n\u001b[1;32m    926\u001b[0m     \u001b[0;32mtry\u001b[0m\u001b[0;34m:\u001b[0m\u001b[0;34m\u001b[0m\u001b[0;34m\u001b[0m\u001b[0m\n\u001b[0;32m--> 927\u001b[0;31m       \u001b[0;32mreturn\u001b[0m \u001b[0mself\u001b[0m\u001b[0;34m.\u001b[0m\u001b[0m_numpy_internal\u001b[0m\u001b[0;34m(\u001b[0m\u001b[0;34m)\u001b[0m\u001b[0;34m\u001b[0m\u001b[0;34m\u001b[0m\u001b[0m\n\u001b[0m\u001b[1;32m    928\u001b[0m     \u001b[0;32mexcept\u001b[0m \u001b[0mcore\u001b[0m\u001b[0;34m.\u001b[0m\u001b[0m_NotOkStatusException\u001b[0m \u001b[0;32mas\u001b[0m \u001b[0me\u001b[0m\u001b[0;34m:\u001b[0m\u001b[0;34m\u001b[0m\u001b[0;34m\u001b[0m\u001b[0m\n\u001b[1;32m    929\u001b[0m       \u001b[0msix\u001b[0m\u001b[0;34m.\u001b[0m\u001b[0mraise_from\u001b[0m\u001b[0;34m(\u001b[0m\u001b[0mcore\u001b[0m\u001b[0;34m.\u001b[0m\u001b[0m_status_to_exception\u001b[0m\u001b[0;34m(\u001b[0m\u001b[0me\u001b[0m\u001b[0;34m.\u001b[0m\u001b[0mcode\u001b[0m\u001b[0;34m,\u001b[0m \u001b[0me\u001b[0m\u001b[0;34m.\u001b[0m\u001b[0mmessage\u001b[0m\u001b[0;34m)\u001b[0m\u001b[0;34m,\u001b[0m \u001b[0;32mNone\u001b[0m\u001b[0;34m)\u001b[0m\u001b[0;34m\u001b[0m\u001b[0;34m\u001b[0m\u001b[0m\n",
            "\u001b[0;31mKeyboardInterrupt\u001b[0m: "
          ]
        }
      ]
    },
    {
      "cell_type": "code",
      "metadata": {
        "id": "09z7FMKLyE8t",
        "colab_type": "code",
        "colab": {
          "base_uri": "https://localhost:8080/",
          "height": 376
        },
        "outputId": "19f300ec-1221-4ef0-9c32-30a05d31db37"
      },
      "source": [
        "# val_soft_acc 향상\n",
        "# 영향도 다시 분석 \n",
        "train_ds = pd.concat([X_train_continuous,X_train_categorical[['area_mapping','type_mapping']]], axis=1)\n",
        "val_ds = pd.concat([X_val_continuous,X_val_categorical[['area_mapping','type_mapping']]], axis=1)\n",
        "\n",
        "# XAI를 위한 lime  정의\n",
        "from lime import lime_tabular, lime_text\n",
        "exp = lime_tabular.LimeTabularExplainer(\n",
        "    train_ds.to_numpy(),\n",
        "    training_labels=y_train.to_numpy(),\n",
        "    feature_names=train_ds.columns,\n",
        "    class_names= y_train.columns,\n",
        "    mode=\"regression\"\n",
        ")\n",
        "\n",
        "# 변수의 영향력 분석\n",
        "# 소팅을 위한 초기화 \n",
        "exp_ana = {}\n",
        "for k in train_ds.columns:\n",
        "  exp_ana[k] = 0\n",
        "\n",
        "# predict 함수 재정의 - lime에서 사용 가능하도록...\n",
        "continue_dim = X_train_continuous.shape[1]\n",
        "input_dim = train_ds.shape[1]\n",
        "def predict(data):\n",
        "    return model.predict([data[:,0:continue_dim],data[:,continue_dim:input_dim]])\n",
        "\n",
        "# validation set의 변수 영향력 분석...\n",
        "for i in range(10): #range(val_ds.shape[0]):\n",
        "    p = exp.explain_instance(np.asarray(val_ds.iloc[i]),predict,num_features=val_ds.shape[1])\n",
        "    for t in p.as_map()[0]:\n",
        "      exp_ana[train_ds.columns[t[0]]] += np.abs(t[1])\n",
        "\n",
        "import operator\n",
        "\n",
        "sorted_x = sorted(exp_ana.items(), key=operator.itemgetter(1))\n",
        "\n",
        "effect_result_table = pd.DataFrame(sorted_x,columns=['Feature', 'Effect'] )\n",
        "\n",
        "effect_result_table['Effect'] = effect_result_table['Effect']/max(effect_result_table['Effect'])\n",
        "effect_result_table.plot(x='Feature',y='Effect',kind='bar')"
      ],
      "execution_count": 34,
      "outputs": [
        {
          "output_type": "execute_result",
          "data": {
            "text/plain": [
              "<matplotlib.axes._subplots.AxesSubplot at 0x7f6b64cc7a90>"
            ]
          },
          "metadata": {
            "tags": []
          },
          "execution_count": 34
        },
        {
          "output_type": "display_data",
          "data": {
            "image/png": "[encoded data removed]",
            "text/plain": [
              "<Figure size 432x288 with 1 Axes>"
            ]
          },
          "metadata": {
            "tags": [],
            "needs_background": "light"
          }
        }
      ]
    },
    {
      "cell_type": "code",
      "metadata": {
        "id": "aPJ3UZ3Si0KX",
        "colab_type": "code",
        "colab": {
          "base_uri": "https://localhost:8080/",
          "height": 701
        },
        "outputId": "987787fe-22f8-4c36-8468-d81df8a7df8b"
      },
      "source": [
        "# 영향도 분석에 의해 'size_size' 삭제 후 학습...\n",
        "\n",
        "X_train_continuous.drop(columns=['size_size'], inplace=True)\n",
        "X_val_continuous.drop(columns=['size_size'], inplace=True)\n",
        "print(X_train_continuous)\n",
        "\n",
        "# Define the continuous variables input (just like before)\n",
        "continuous_input = Input(shape=(X_train_continuous.shape[1], ))\n",
        "\n",
        "# Concatenate continuous and embeddings inputs\n",
        "all_input = keras.layers.concatenate([continuous_input, cate_embedings])\n",
        "\n",
        "# Define the model\n",
        "\n",
        "dense1 = Dense(200, activation='relu')(all_input)\n",
        "dense2 = Dense(50, activation='relu')(dense1)\n",
        "predictions = Dense(1)(dense2)\n",
        "\n",
        "# Note using the input object 'area_input' not 'area_embeddings'\n",
        "model = Model(inputs=[continuous_input, cate_input], outputs=predictions)\n",
        "\n",
        "model.summary()"
      ],
      "execution_count": 35,
      "outputs": [
        {
          "output_type": "stream",
          "text": [
            "          size   n_rooms  size_n_rooms  n_rooms_n_rooms\n",
            "0    -0.863274  0.711526      0.202837         0.575347\n",
            "1    -0.261503  1.404571      1.112653         1.595064\n",
            "2     2.145581  1.404571      2.672338         1.595064\n",
            "3    -0.662684 -1.367609     -1.330853        -1.124181\n",
            "4    -0.662684 -0.674564     -0.784963        -0.784276\n",
            "...        ...       ...           ...              ...\n",
            "2995  1.142629  0.711526      1.242627         0.575347\n",
            "2996 -2.066816 -0.674564     -1.148890        -0.784276\n",
            "2997 -0.462093 -1.367609     -1.304858        -1.124181\n",
            "2998 -0.662684 -0.674564     -0.784963        -0.784276\n",
            "2999  0.340268  0.018481      0.150848        -0.217766\n",
            "\n",
            "[3000 rows x 4 columns]\n",
            "Model: \"model_3\"\n",
            "__________________________________________________________________________________________________\n",
            "Layer (type)                    Output Shape         Param #     Connected to                     \n",
            "==================================================================================================\n",
            "input_1 (InputLayer)            (None, 2)            0                                            \n",
            "__________________________________________________________________________________________________\n",
            "embedding_1 (Embedding)         (None, 2, 96)        288000      input_1[0][0]                    \n",
            "__________________________________________________________________________________________________\n",
            "input_4 (InputLayer)            (None, 4)            0                                            \n",
            "__________________________________________________________________________________________________\n",
            "reshape_1 (Reshape)             (None, 192)          0           embedding_1[0][0]                \n",
            "__________________________________________________________________________________________________\n",
            "concatenate_3 (Concatenate)     (None, 196)          0           input_4[0][0]                    \n",
            "                                                                 reshape_1[0][0]                  \n",
            "__________________________________________________________________________________________________\n",
            "dense_7 (Dense)                 (None, 200)          39400       concatenate_3[0][0]              \n",
            "__________________________________________________________________________________________________\n",
            "dense_8 (Dense)                 (None, 50)           10050       dense_7[0][0]                    \n",
            "__________________________________________________________________________________________________\n",
            "dense_9 (Dense)                 (None, 1)            51          dense_8[0][0]                    \n",
            "==================================================================================================\n",
            "Total params: 337,501\n",
            "Trainable params: 337,501\n",
            "Non-trainable params: 0\n",
            "__________________________________________________________________________________________________\n"
          ],
          "name": "stdout"
        }
      ]
    },
    {
      "cell_type": "code",
      "metadata": {
        "id": "cKwlzCs1i_2c",
        "colab_type": "code",
        "colab": {
          "base_uri": "https://localhost:8080/",
          "height": 145
        },
        "outputId": "0dcb9d95-9966-47d8-c538-2d76b6eec412"
      },
      "source": [
        "epochs = 1000\n",
        "model.compile(loss='mse', optimizer=keras.optimizers.Adam(lr=.8, beta_1=0.9, beta_2=0.999, decay=1e-03, amsgrad=True),metrics=[soft_acc,r2])\n",
        "\n",
        "# Note continuous and categorical columns are inserted in the same order as defined in all_inputs\n",
        "history = model.fit([X_train_continuous, X_train_categorical[['area_mapping','type_mapping']].to_numpy()], y_train, \n",
        "          epochs=epochs, batch_size=128, \n",
        "          callbacks=[periodic_logger_250], verbose=0,\n",
        "          validation_data=([X_val_continuous, X_val_categorical[['area_mapping','type_mapping']].to_numpy()], y_val))"
      ],
      "execution_count": 37,
      "outputs": [
        {
          "output_type": "stream",
          "text": [
            "/usr/local/lib/python3.6/dist-packages/tensorflow/python/framework/indexed_slices.py:434: UserWarning: Converting sparse IndexedSlices to a dense Tensor of unknown shape. This may consume a large amount of memory.\n",
            "  \"Converting sparse IndexedSlices to a dense Tensor of unknown shape. \"\n"
          ],
          "name": "stderr"
        },
        {
          "output_type": "stream",
          "text": [
            "Epoch: 250 - {'val_loss': 33091403.30666667, 'val_soft_acc': 0.10842803120613098, 'val_r2': 0.9999818205833435, 'loss': 19284269.397333335, 'soft_acc': 0.097795755, 'r2': 0.99999267}\n",
            "Epoch: 500 - {'val_loss': 26166270.213333335, 'val_soft_acc': 0.12121212482452393, 'val_r2': 0.9999845623970032, 'loss': 12673601.404, 'soft_acc': 0.13183594, 'r2': 0.999995}\n",
            "Epoch: 750 - {'val_loss': 23106309.84, 'val_soft_acc': 0.12405303120613098, 'val_r2': 0.9999865889549255, 'loss': 10521610.922666667, 'soft_acc': 0.14876302, 'r2': 0.99999595}\n",
            "Epoch: 1000 - {'val_loss': 20850770.746666666, 'val_soft_acc': 0.12665720283985138, 'val_r2': 0.9999876022338867, 'loss': 9669403.408, 'soft_acc': 0.16773623, 'r2': 0.99999565}\n"
          ],
          "name": "stdout"
        }
      ]
    },
    {
      "cell_type": "code",
      "metadata": {
        "id": "0P-AulM4mbCr",
        "colab_type": "code",
        "colab": {
          "base_uri": "https://localhost:8080/",
          "height": 376
        },
        "outputId": "e341512b-c918-4918-fc18-39c1ef980f57"
      },
      "source": [
        "# val_soft_acc 향상\n",
        "# 영향도 다시 분석 \n",
        "train_ds = pd.concat([X_train_continuous,X_train_categorical[['area_mapping','type_mapping']]], axis=1)\n",
        "val_ds = pd.concat([X_val_continuous,X_val_categorical[['area_mapping','type_mapping']]], axis=1)\n",
        "\n",
        "# XAI를 위한 lime  정의\n",
        "from lime import lime_tabular, lime_text\n",
        "exp = lime_tabular.LimeTabularExplainer(\n",
        "    train_ds.to_numpy(),\n",
        "    training_labels=y_train.to_numpy(),\n",
        "    feature_names=train_ds.columns,\n",
        "    class_names= y_train.columns,\n",
        "    mode=\"regression\"\n",
        ")\n",
        "\n",
        "# 변수의 영향력 분석\n",
        "# 소팅을 위한 초기화 \n",
        "exp_ana = {}\n",
        "for k in train_ds.columns:\n",
        "  exp_ana[k] = 0\n",
        "\n",
        "# predict 함수 재정의 - lime에서 사용 가능하도록...\n",
        "continue_dim = X_train_continuous.shape[1]\n",
        "input_dim = train_ds.shape[1]\n",
        "def predict(data):\n",
        "    return model.predict([data[:,0:continue_dim],data[:,continue_dim:input_dim]])\n",
        "\n",
        "# validation set의 변수 영향력 분석...\n",
        "for i in range(10): #range(val_ds.shape[0]):\n",
        "    p = exp.explain_instance(np.asarray(val_ds.iloc[i]),predict,num_features=val_ds.shape[1])\n",
        "    for t in p.as_map()[0]:\n",
        "      exp_ana[train_ds.columns[t[0]]] += np.abs(t[1])\n",
        "\n",
        "import operator\n",
        "\n",
        "sorted_x = sorted(exp_ana.items(), key=operator.itemgetter(1))\n",
        "\n",
        "effect_result_table = pd.DataFrame(sorted_x,columns=['Feature', 'Effect'] )\n",
        "\n",
        "effect_result_table['Effect'] = effect_result_table['Effect']/max(effect_result_table['Effect'])\n",
        "effect_result_table.plot(x='Feature',y='Effect',kind='bar')"
      ],
      "execution_count": 38,
      "outputs": [
        {
          "output_type": "execute_result",
          "data": {
            "text/plain": [
              "<matplotlib.axes._subplots.AxesSubplot at 0x7f6b643c0eb8>"
            ]
          },
          "metadata": {
            "tags": []
          },
          "execution_count": 38
        },
        {
          "output_type": "display_data",
          "data": {
            "image/png": "[encoded data removed]",
            "text/plain": [
              "<Figure size 432x288 with 1 Axes>"
            ]
          },
          "metadata": {
            "tags": [],
            "needs_background": "light"
          }
        }
      ]
    },
    {
      "cell_type": "code",
      "metadata": {
        "id": "1MV6xdQbmrGa",
        "colab_type": "code",
        "colab": {
          "base_uri": "https://localhost:8080/",
          "height": 701
        },
        "outputId": "4b404056-abe8-4c1a-a800-4c02014bf074"
      },
      "source": [
        "# 영향도 분석에 의해 'size_size' 삭제 후 학습...\n",
        "\n",
        "X_train_continuous.drop(columns=['size'], inplace=True)\n",
        "X_val_continuous.drop(columns=['size'], inplace=True)\n",
        "print(X_train_continuous)\n",
        "\n",
        "# Define the continuous variables input (just like before)\n",
        "continuous_input = Input(shape=(X_train_continuous.shape[1], ))\n",
        "\n",
        "# Concatenate continuous and embeddings inputs\n",
        "all_input = keras.layers.concatenate([continuous_input, cate_embedings])\n",
        "\n",
        "# Define the model\n",
        "\n",
        "dense1 = Dense(200, activation='relu')(all_input)\n",
        "dense2 = Dense(50, activation='relu')(dense1)\n",
        "predictions = Dense(1)(dense2)\n",
        "\n",
        "# Note using the input object 'area_input' not 'area_embeddings'\n",
        "model = Model(inputs=[continuous_input, cate_input], outputs=predictions)\n",
        "\n",
        "model.summary()"
      ],
      "execution_count": 39,
      "outputs": [
        {
          "output_type": "stream",
          "text": [
            "       n_rooms  size_n_rooms  n_rooms_n_rooms\n",
            "0     0.711526      0.202837         0.575347\n",
            "1     1.404571      1.112653         1.595064\n",
            "2     1.404571      2.672338         1.595064\n",
            "3    -1.367609     -1.330853        -1.124181\n",
            "4    -0.674564     -0.784963        -0.784276\n",
            "...        ...           ...              ...\n",
            "2995  0.711526      1.242627         0.575347\n",
            "2996 -0.674564     -1.148890        -0.784276\n",
            "2997 -1.367609     -1.304858        -1.124181\n",
            "2998 -0.674564     -0.784963        -0.784276\n",
            "2999  0.018481      0.150848        -0.217766\n",
            "\n",
            "[3000 rows x 3 columns]\n",
            "Model: \"model_4\"\n",
            "__________________________________________________________________________________________________\n",
            "Layer (type)                    Output Shape         Param #     Connected to                     \n",
            "==================================================================================================\n",
            "input_1 (InputLayer)            (None, 2)            0                                            \n",
            "__________________________________________________________________________________________________\n",
            "embedding_1 (Embedding)         (None, 2, 96)        288000      input_1[0][0]                    \n",
            "__________________________________________________________________________________________________\n",
            "input_5 (InputLayer)            (None, 3)            0                                            \n",
            "__________________________________________________________________________________________________\n",
            "reshape_1 (Reshape)             (None, 192)          0           embedding_1[0][0]                \n",
            "__________________________________________________________________________________________________\n",
            "concatenate_4 (Concatenate)     (None, 195)          0           input_5[0][0]                    \n",
            "                                                                 reshape_1[0][0]                  \n",
            "__________________________________________________________________________________________________\n",
            "dense_10 (Dense)                (None, 200)          39200       concatenate_4[0][0]              \n",
            "__________________________________________________________________________________________________\n",
            "dense_11 (Dense)                (None, 50)           10050       dense_10[0][0]                   \n",
            "__________________________________________________________________________________________________\n",
            "dense_12 (Dense)                (None, 1)            51          dense_11[0][0]                   \n",
            "==================================================================================================\n",
            "Total params: 337,301\n",
            "Trainable params: 337,301\n",
            "Non-trainable params: 0\n",
            "__________________________________________________________________________________________________\n"
          ],
          "name": "stdout"
        }
      ]
    },
    {
      "cell_type": "code",
      "metadata": {
        "id": "fTERmM5dm1NB",
        "colab_type": "code",
        "colab": {
          "base_uri": "https://localhost:8080/",
          "height": 145
        },
        "outputId": "43efba2f-9fa4-4bbf-cd5c-7ccea93a8a98"
      },
      "source": [
        "epochs = 1000\n",
        "model.compile(loss='mse', optimizer=keras.optimizers.Adam(lr=.8, beta_1=0.9, beta_2=0.999, decay=1e-03, amsgrad=True),metrics=[soft_acc,r2])\n",
        "\n",
        "# Note continuous and categorical columns are inserted in the same order as defined in all_inputs\n",
        "history = model.fit([X_train_continuous, X_train_categorical[['area_mapping','type_mapping']].to_numpy()], y_train, \n",
        "          epochs=epochs, batch_size=128, \n",
        "          callbacks=[periodic_logger_250], verbose=0,\n",
        "          validation_data=([X_val_continuous, X_val_categorical[['area_mapping','type_mapping']].to_numpy()], y_val))"
      ],
      "execution_count": 40,
      "outputs": [
        {
          "output_type": "stream",
          "text": [
            "/usr/local/lib/python3.6/dist-packages/tensorflow/python/framework/indexed_slices.py:434: UserWarning: Converting sparse IndexedSlices to a dense Tensor of unknown shape. This may consume a large amount of memory.\n",
            "  \"Converting sparse IndexedSlices to a dense Tensor of unknown shape. \"\n"
          ],
          "name": "stderr"
        },
        {
          "output_type": "stream",
          "text": [
            "Epoch: 250 - {'val_loss': 16758350.453333333, 'val_soft_acc': 0.14678029716014862, 'val_r2': 0.9999909400939941, 'loss': 13979491.904, 'soft_acc': 0.16192336, 'r2': 0.9999943}\n",
            "Epoch: 500 - {'val_loss': 12856786.826666666, 'val_soft_acc': 0.14488635957241058, 'val_r2': 0.9999927878379822, 'loss': 10853007.110666666, 'soft_acc': 0.17638578, 'r2': 0.9999957}\n",
            "Epoch: 750 - {'val_loss': 11543125.72, 'val_soft_acc': 0.13660037517547607, 'val_r2': 0.9999933838844299, 'loss': 9298248.697333334, 'soft_acc': 0.18908109, 'r2': 0.9999962}\n",
            "Epoch: 1000 - {'val_loss': 10167581.173333334, 'val_soft_acc': 0.17803029716014862, 'val_r2': 0.9999939799308777, 'loss': 8185471.294666667, 'soft_acc': 0.20865886, 'r2': 0.9999969}\n"
          ],
          "name": "stdout"
        }
      ]
    },
    {
      "cell_type": "code",
      "metadata": {
        "id": "_bfP4I5wq4OX",
        "colab_type": "code",
        "outputId": "4b3d3363-80d4-47ff-e916-07d3f2a92e31",
        "colab": {
          "base_uri": "https://localhost:8080/",
          "height": 193
        }
      },
      "source": [
        "\n",
        "train = create_samples(n_samples=3000)\n",
        "val = create_samples(n_samples=300)\n",
        "\n",
        "train['price'] = train.apply(house_price_func, axis=1)\n",
        "val['price'] = val.apply(house_price_func, axis=1)\n",
        "\n",
        "continuous_cols = ['size', 'n_rooms']\n",
        "categorical_cols = ['area','ctype']\n",
        "y_col = ['price']\n",
        "\n",
        "X_train_continuous = train[continuous_cols]\n",
        "X_train_categorical = train[categorical_cols]\n",
        "y_train = train[y_col]\n",
        "\n",
        "X_val_continuous = val[continuous_cols]\n",
        "X_val_categorical = val[categorical_cols]\n",
        "y_val = val[y_col]\n",
        "\n",
        "# 파생변수 생성\n",
        "\n",
        "X_train_continuous['n_rooms_n_rooms'] = X_train_continuous['n_rooms'] * X_train_continuous['n_rooms']\n",
        "X_val_continuous['n_rooms_n_rooms'] = X_val_continuous['n_rooms'] * X_val_continuous['n_rooms']\n",
        "\n",
        "# Normalizing both train and test sets to have 0 mean and std. of 1 using the train set mean and std.\n",
        "# This will give each feature an equal initial importance and speed up the training time\n",
        "train_mean = X_train_continuous.mean(axis=0)\n",
        "train_std = X_train_continuous.std(axis=0)\n",
        "\n",
        "X_train_continuous = X_train_continuous - train_mean\n",
        "X_train_continuous /= train_std\n",
        "\n",
        "X_val_continuous = X_val_continuous - train_mean\n",
        "X_val_continuous /= train_std"
      ],
      "execution_count": null,
      "outputs": [
        {
          "output_type": "stream",
          "text": [
            "/usr/local/lib/python3.6/dist-packages/ipykernel_launcher.py:22: SettingWithCopyWarning: \n",
            "A value is trying to be set on a copy of a slice from a DataFrame.\n",
            "Try using .loc[row_indexer,col_indexer] = value instead\n",
            "\n",
            "See the caveats in the documentation: https://pandas.pydata.org/pandas-docs/stable/user_guide/indexing.html#returning-a-view-versus-a-copy\n",
            "/usr/local/lib/python3.6/dist-packages/ipykernel_launcher.py:23: SettingWithCopyWarning: \n",
            "A value is trying to be set on a copy of a slice from a DataFrame.\n",
            "Try using .loc[row_indexer,col_indexer] = value instead\n",
            "\n",
            "See the caveats in the documentation: https://pandas.pydata.org/pandas-docs/stable/user_guide/indexing.html#returning-a-view-versus-a-copy\n"
          ],
          "name": "stderr"
        }
      ]
    },
    {
      "cell_type": "code",
      "metadata": {
        "id": "yn49F2bz792D",
        "colab_type": "code",
        "colab": {}
      },
      "source": [
        "area_mapping = EmbeddingMapping(X_train_categorical['area'])\n",
        "type_mapping = EmbeddingMapping(X_train_categorical['ctype'])\n",
        "\n",
        "X_train_categorical = X_train_categorical.assign(area_mapping=X_train_categorical['area'].apply(area_mapping.get_mapping))\n",
        "X_train_categorical = X_train_categorical.assign(type_mapping=X_train_categorical['ctype'].apply(type_mapping.get_mapping))\n",
        "X_val_categorical = X_val_categorical.assign(area_mapping=X_val_categorical['area'].apply(area_mapping.get_mapping))\n",
        "X_val_categorical = X_val_categorical.assign(type_mapping=X_val_categorical['ctype'].apply(type_mapping.get_mapping))"
      ],
      "execution_count": null,
      "outputs": []
    },
    {
      "cell_type": "code",
      "metadata": {
        "id": "8LHAwd27q4O3",
        "colab_type": "code",
        "colab": {}
      },
      "source": [
        "# Define the embedding input\n",
        "area_input = Input(shape=(1,), dtype='int32') \n",
        "area_output_dim = 12\n",
        "# Let’s define the embedding layer and flatten it\n",
        "area_embedings = Embedding(output_dim=area_output_dim, input_dim=X_train_categorical.shape[0])(area_input)\n",
        "area_embedings = keras.layers.Reshape((area_output_dim,))(area_embedings)\n",
        "\n",
        "type_input = Input(shape=(1,), dtype='int32') \n",
        "type_output_dim = 32\n",
        "# Let’s define the embedding layer and flatten it\n",
        "type_embedings = Embedding(output_dim=type_output_dim, input_dim=X_train_categorical.shape[0])(type_input)\n",
        "type_embedings = keras.layers.Reshape((type_output_dim,))(type_embedings)\n",
        "\n",
        "# Define the continuous variables input (just like before)\n",
        "continuous_input = Input(shape=(X_train_continuous.shape[1], ))\n",
        "\n",
        "# Concatenate continuous and embeddings inputs\n",
        "all_input = keras.layers.concatenate([continuous_input, area_embedings,type_embedings])"
      ],
      "execution_count": null,
      "outputs": []
    },
    {
      "cell_type": "code",
      "metadata": {
        "id": "wOv_Lk0Wq4PA",
        "colab_type": "code",
        "outputId": "56f42950-495a-4ece-832a-d803b514f590",
        "colab": {
          "base_uri": "https://localhost:8080/",
          "height": 579
        }
      },
      "source": [
        "\n",
        "# Define the model\n",
        "\n",
        "dense1 = Dense(100, activation='relu')(all_input)\n",
        "dense2 = Dense(50, activation='relu')(dense1)\n",
        "predictions = Dense(1)(dense2)\n",
        "\n",
        "# Note using the input object 'area_input' not 'area_embeddings'\n",
        "model = Model(inputs=[continuous_input, area_input,type_input], outputs=predictions)\n",
        "\n",
        "model.compile(loss='mse', optimizer=keras.optimizers.Adam(lr=.8, beta_1=0.9, beta_2=0.999, decay=1e-03, amsgrad=True),metrics=[soft_acc,r2])\n",
        "\n",
        "model.summary()\n"
      ],
      "execution_count": null,
      "outputs": [
        {
          "output_type": "stream",
          "text": [
            "Model: \"model_28\"\n",
            "__________________________________________________________________________________________________\n",
            "Layer (type)                    Output Shape         Param #     Connected to                     \n",
            "==================================================================================================\n",
            "input_67 (InputLayer)           (None, 1)            0                                            \n",
            "__________________________________________________________________________________________________\n",
            "input_68 (InputLayer)           (None, 1)            0                                            \n",
            "__________________________________________________________________________________________________\n",
            "embedding_38 (Embedding)        (None, 1, 12)        36000       input_67[0][0]                   \n",
            "__________________________________________________________________________________________________\n",
            "embedding_39 (Embedding)        (None, 1, 32)        96000       input_68[0][0]                   \n",
            "__________________________________________________________________________________________________\n",
            "input_69 (InputLayer)           (None, 3)            0                                            \n",
            "__________________________________________________________________________________________________\n",
            "reshape_38 (Reshape)            (None, 12)           0           embedding_38[0][0]               \n",
            "__________________________________________________________________________________________________\n",
            "reshape_39 (Reshape)            (None, 32)           0           embedding_39[0][0]               \n",
            "__________________________________________________________________________________________________\n",
            "concatenate_30 (Concatenate)    (None, 47)           0           input_69[0][0]                   \n",
            "                                                                 reshape_38[0][0]                 \n",
            "                                                                 reshape_39[0][0]                 \n",
            "__________________________________________________________________________________________________\n",
            "dense_84 (Dense)                (None, 100)          4800        concatenate_30[0][0]             \n",
            "__________________________________________________________________________________________________\n",
            "dense_85 (Dense)                (None, 50)           5050        dense_84[0][0]                   \n",
            "__________________________________________________________________________________________________\n",
            "dense_86 (Dense)                (None, 1)            51          dense_85[0][0]                   \n",
            "==================================================================================================\n",
            "Total params: 141,901\n",
            "Trainable params: 141,901\n",
            "Non-trainable params: 0\n",
            "__________________________________________________________________________________________________\n"
          ],
          "name": "stdout"
        }
      ]
    },
    {
      "cell_type": "code",
      "metadata": {
        "id": "Ovf0oSxDq4PI",
        "colab_type": "code",
        "outputId": "acf7e47c-6087-4750-fe72-a033b9893858",
        "colab": {
          "base_uri": "https://localhost:8080/",
          "height": 788
        }
      },
      "source": [
        "\n",
        "epochs = 10000\n",
        "\n",
        "# Note continuous and categorical columns are inserted in the same order as defined in all_inputs\n",
        "history = model.fit([X_train_continuous, X_train_categorical['area_mapping'],X_train_categorical['type_mapping']], y_train, \n",
        "          epochs=epochs, batch_size=128, \n",
        "          callbacks=[periodic_logger_250], verbose=0,\n",
        "          validation_data=([X_val_continuous, X_val_categorical['area_mapping'],X_val_categorical['type_mapping']], y_val))"
      ],
      "execution_count": null,
      "outputs": [
        {
          "output_type": "stream",
          "text": [
            "/usr/local/lib/python3.6/dist-packages/tensorflow/python/framework/indexed_slices.py:434: UserWarning: Converting sparse IndexedSlices to a dense Tensor of unknown shape. This may consume a large amount of memory.\n",
            "  \"Converting sparse IndexedSlices to a dense Tensor of unknown shape. \"\n"
          ],
          "name": "stderr"
        },
        {
          "output_type": "stream",
          "text": [
            "Epoch: 250 - {'val_loss': 2928880.033333333, 'val_soft_acc': 0.3787878751754761, 'val_r2': 0.9999992251396179, 'loss': 3156741.1, 'soft_acc': 0.3982515, 'r2': 0.99999887}\n",
            "Epoch: 500 - {'val_loss': 2625422.328333333, 'val_soft_acc': 0.4157197177410126, 'val_r2': 0.9999992847442627, 'loss': 2722161.2126666666, 'soft_acc': 0.4660528, 'r2': 0.99999887}\n",
            "Epoch: 750 - {'val_loss': 2465411.3583333334, 'val_soft_acc': 0.4978693425655365, 'val_r2': 0.9999992847442627, 'loss': 2547788.9686666667, 'soft_acc': 0.5065569, 'r2': 0.99999905}\n",
            "Epoch: 1000 - {'val_loss': 2356928.5483333333, 'val_soft_acc': 0.5646306872367859, 'val_r2': 0.9999993443489075, 'loss': 2440455.316666667, 'soft_acc': 0.5439453, 'r2': 0.9999991}\n",
            "Epoch: 1250 - {'val_loss': 2394930.565, 'val_soft_acc': 0.5241477489471436, 'val_r2': 0.9999992847442627, 'loss': 2399153.967333333, 'soft_acc': 0.5267392, 'r2': 0.9999991}\n",
            "Epoch: 1500 - {'val_loss': 2287591.2716666665, 'val_soft_acc': 0.5525568127632141, 'val_r2': 0.9999993443489075, 'loss': 2327379.350666667, 'soft_acc': 0.571196, 'r2': 0.9999992}\n",
            "Epoch: 1750 - {'val_loss': 2231750.3466666667, 'val_soft_acc': 0.5854640007019043, 'val_r2': 0.9999993443489075, 'loss': 2292773.183333333, 'soft_acc': 0.56440663, 'r2': 0.99999905}\n",
            "Epoch: 2000 - {'val_loss': 2224278.006666667, 'val_soft_acc': 0.6036931872367859, 'val_r2': 0.9999993443489075, 'loss': 2261805.0548333335, 'soft_acc': 0.58463544, 'r2': 0.9999992}\n",
            "Epoch: 2250 - {'val_loss': 2210539.58, 'val_soft_acc': 0.5932765007019043, 'val_r2': 0.9999993443489075, 'loss': 2238772.392666667, 'soft_acc': 0.58956474, 'r2': 0.99999934}\n",
            "Epoch: 2500 - {'val_loss': 2189999.2016666667, 'val_soft_acc': 0.5958806872367859, 'val_r2': 0.9999993443489075, 'loss': 2217461.3063333333, 'soft_acc': 0.59737724, 'r2': 0.9999992}\n",
            "Epoch: 2750 - {'val_loss': 2172156.355, 'val_soft_acc': 0.5859375, 'val_r2': 0.9999993443489075, 'loss': 2199686.335, 'soft_acc': 0.5951451, 'r2': 0.9999992}\n",
            "Epoch: 3000 - {'val_loss': 2163688.3716666666, 'val_soft_acc': 0.5906723141670227, 'val_r2': 0.9999993443489075, 'loss': 2182602.5026666666, 'soft_acc': 0.59333146, 'r2': 0.9999991}\n",
            "Epoch: 3250 - {'val_loss': 2140901.3566666665, 'val_soft_acc': 0.5778882503509521, 'val_r2': 0.9999993443489075, 'loss': 2170374.8243333334, 'soft_acc': 0.5960286, 'r2': 0.9999992}\n",
            "Epoch: 3500 - {'val_loss': 2140741.4266666668, 'val_soft_acc': 0.6164772510528564, 'val_r2': 0.9999993443489075, 'loss': 2156495.655333333, 'soft_acc': 0.5996094, 'r2': 0.9999992}\n",
            "Epoch: 3750 - {'val_loss': 2146956.7, 'val_soft_acc': 0.5958806872367859, 'val_r2': 0.9999993443489075, 'loss': 2144997.7273333333, 'soft_acc': 0.61658293, 'r2': 0.9999992}\n",
            "Epoch: 4000 - {'val_loss': 2125721.591666667, 'val_soft_acc': 0.6188446879386902, 'val_r2': 0.9999993443489075, 'loss': 2135075.641333333, 'soft_acc': 0.6125837, 'r2': 0.9999993}\n",
            "Epoch: 4250 - {'val_loss': 2116575.44, 'val_soft_acc': 0.6188446879386902, 'val_r2': 0.9999993443489075, 'loss': 2123405.3386666668, 'soft_acc': 0.6175595, 'r2': 0.9999992}\n",
            "Epoch: 4500 - {'val_loss': 2097322.0316666667, 'val_soft_acc': 0.6162405014038086, 'val_r2': 0.9999993443489075, 'loss': 2115045.9073333335, 'soft_acc': 0.6122582, 'r2': 0.99999934}\n",
            "Epoch: 4750 - {'val_loss': 2097925.9633333334, 'val_soft_acc': 0.6188446879386902, 'val_r2': 0.9999993443489075, 'loss': 2108702.104, 'soft_acc': 0.61709446, 'r2': 0.99999905}\n",
            "Epoch: 5000 - {'val_loss': 2064382.6433333333, 'val_soft_acc': 0.6032196879386902, 'val_r2': 0.9999993443489075, 'loss': 2100491.7313333335, 'soft_acc': 0.61653644, 'r2': 0.9999992}\n",
            "Epoch: 5250 - {'val_loss': 2093598.8083333333, 'val_soft_acc': 0.6162405014038086, 'val_r2': 0.9999993443489075, 'loss': 2093010.5466666666, 'soft_acc': 0.62309337, 'r2': 0.9999991}\n",
            "Epoch: 5500 - {'val_loss': 2070566.63, 'val_soft_acc': 0.6188446879386902, 'val_r2': 0.9999993443489075, 'loss': 2086528.2806666666, 'soft_acc': 0.61928016, 'r2': 0.99999934}\n",
            "Epoch: 5750 - {'val_loss': 2070900.0583333333, 'val_soft_acc': 0.613636314868927, 'val_r2': 0.9999993443489075, 'loss': 2080021.2661666668, 'soft_acc': 0.6206752, 'r2': 0.99999934}\n",
            "Epoch: 6000 - {'val_loss': 2058901.3633333333, 'val_soft_acc': 0.6162405014038086, 'val_r2': 0.9999993443489075, 'loss': 2075671.217375, 'soft_acc': 0.62486047, 'r2': 0.9999993}\n",
            "Epoch: 6250 - {'val_loss': 2044577.1516666666, 'val_soft_acc': 0.605823814868927, 'val_r2': 0.9999993443489075, 'loss': 2072126.2493333332, 'soft_acc': 0.6157459, 'r2': 0.99999946}\n",
            "Epoch: 6500 - {'val_loss': 2034441.895, 'val_soft_acc': 0.5954071879386902, 'val_r2': 0.999999463558197, 'loss': 2064907.6086666666, 'soft_acc': 0.6183966, 'r2': 0.9999992}\n",
            "Epoch: 6750 - {'val_loss': 2038344.8716666666, 'val_soft_acc': 0.605823814868927, 'val_r2': 0.999999463558197, 'loss': 2058810.761, 'soft_acc': 0.62369794, 'r2': 0.9999993}\n",
            "Epoch: 7000 - {'val_loss': 2047172.3116666668, 'val_soft_acc': 0.6212121248245239, 'val_r2': 0.9999993443489075, 'loss': 2054668.3673333332, 'soft_acc': 0.6264881, 'r2': 0.9999993}\n",
            "Epoch: 7250 - {'val_loss': 2029096.1666666667, 'val_soft_acc': 0.605823814868927, 'val_r2': 0.999999463558197, 'loss': 2050763.1926666666, 'soft_acc': 0.625, 'r2': 0.9999992}\n",
            "Epoch: 7500 - {'val_loss': 2033422.1116666666, 'val_soft_acc': 0.6261836886405945, 'val_r2': 0.999999463558197, 'loss': 2046965.1113333334, 'soft_acc': 0.6284877, 'r2': 0.9999992}\n",
            "Epoch: 7750 - {'val_loss': 2016688.8266666667, 'val_soft_acc': 0.6032196879386902, 'val_r2': 0.999999463558197, 'loss': 2042329.6056666668, 'soft_acc': 0.62997586, 'r2': 0.99999934}\n",
            "Epoch: 8000 - {'val_loss': 2031831.5266666666, 'val_soft_acc': 0.6339961886405945, 'val_r2': 0.999999463558197, 'loss': 2040362.7389166667, 'soft_acc': 0.6305339, 'r2': 0.9999992}\n",
            "Epoch: 8250 - {'val_loss': 2024082.09, 'val_soft_acc': 0.6261836886405945, 'val_r2': 0.999999463558197, 'loss': 2035086.8746666666, 'soft_acc': 0.6322545, 'r2': 0.9999993}\n",
            "Epoch: 8500 - {'val_loss': 2010725.7916666667, 'val_soft_acc': 0.6261836886405945, 'val_r2': 0.999999463558197, 'loss': 2031118.3633333333, 'soft_acc': 0.6282552, 'r2': 0.9999992}\n",
            "Epoch: 8750 - {'val_loss': 2011077.98, 'val_soft_acc': 0.6238163113594055, 'val_r2': 0.999999463558197, 'loss': 2027659.27, 'soft_acc': 0.6325335, 'r2': 0.9999992}\n",
            "Epoch: 9000 - {'val_loss': 2016663.2883333333, 'val_soft_acc': 0.6339961886405945, 'val_r2': 0.999999463558197, 'loss': 2024562.2243333333, 'soft_acc': 0.63471913, 'r2': 0.99999934}\n",
            "Epoch: 9250 - {'val_loss': 1998436.8883333334, 'val_soft_acc': 0.6261836886405945, 'val_r2': 0.999999463558197, 'loss': 2021687.0019166667, 'soft_acc': 0.6296968, 'r2': 0.99999934}\n",
            "Epoch: 9500 - {'val_loss': 2003343.73, 'val_soft_acc': 0.6339961886405945, 'val_r2': 0.999999463558197, 'loss': 2018076.6026666667, 'soft_acc': 0.6351376, 'r2': 0.9999992}\n",
            "Epoch: 9750 - {'val_loss': 2007800.385, 'val_soft_acc': 0.6366003751754761, 'val_r2': 0.999999463558197, 'loss': 2015312.346, 'soft_acc': 0.6351376, 'r2': 0.9999992}\n",
            "Epoch: 10000 - {'val_loss': 1994064.47, 'val_soft_acc': 0.6186079382896423, 'val_r2': 0.999999463558197, 'loss': 2013154.1671666666, 'soft_acc': 0.6373233, 'r2': 0.99999946}\n"
          ],
          "name": "stdout"
        }
      ]
    },
    {
      "cell_type": "code",
      "metadata": {
        "id": "zp2HUZnyq4PO",
        "colab_type": "code",
        "outputId": "8355dc30-e8c1-4aec-bd1f-dc9cdafbbfd0",
        "colab": {
          "base_uri": "https://localhost:8080/",
          "height": 599
        }
      },
      "source": [
        "# Plot the train/validation loss values\n",
        "plt.figure(figsize=(13,10))\n",
        "_loss = history.history['loss'][250:]\n",
        "_val_loss = history.history['val_loss'][250:]\n",
        "\n",
        "train_loss_plot, = plt.plot(range(1, len(_loss)+1), _loss, label='Train Loss')\n",
        "val_loss_plot, = plt.plot(range(1, len(_val_loss)+1), _val_loss, label='Validation Loss')\n",
        "\n",
        "_ = plt.legend(handles=[train_loss_plot, val_loss_plot])\n"
      ],
      "execution_count": null,
      "outputs": [
        {
          "output_type": "display_data",
          "data": {
            "image/png": "[encoded data removed]",
            "text/plain": [
              "<Figure size 936x720 with 1 Axes>"
            ]
          },
          "metadata": {
            "tags": [],
            "needs_background": "light"
          }
        }
      ]
    },
    {
      "cell_type": "code",
      "metadata": {
        "id": "BPV8u1Y3q4PU",
        "colab_type": "code",
        "outputId": "5f192755-8bdd-4d26-8d72-4072e800b68b",
        "colab": {
          "base_uri": "https://localhost:8080/",
          "height": 588
        }
      },
      "source": [
        "plt.figure(figsize=(13,10))\n",
        "_acc = history.history['soft_acc'][250:]\n",
        "_val_acc = history.history['val_soft_acc'][250:]\n",
        "\n",
        "train_loss_plot, = plt.plot(range(1, len(_acc)+1), _acc, label='Accuracy')\n",
        "val_loss_plot, = plt.plot(range(1, len(_val_loss)+1), _val_acc, label='Validation Accuracy')\n",
        "\n",
        "_ = plt.legend(handles=[train_loss_plot, val_loss_plot])"
      ],
      "execution_count": null,
      "outputs": [
        {
          "output_type": "display_data",
          "data": {
            "image/png": "[encoded data removed]",
            "text/plain": [
              "<Figure size 936x720 with 1 Axes>"
            ]
          },
          "metadata": {
            "tags": [],
            "needs_background": "light"
          }
        }
      ]
    },
    {
      "cell_type": "code",
      "metadata": {
        "id": "do3qa290q4Pf",
        "colab_type": "code",
        "outputId": "9e58dbf6-68c5-4bf3-c792-69b9a21c6433",
        "colab": {
          "base_uri": "https://localhost:8080/",
          "height": 531
        }
      },
      "source": [
        "df = y_val.copy()\n",
        "\n",
        "# Add a column for the model's predicted values\n",
        "df['pred'] = model.predict([X_val_continuous, X_val_categorical['area_mapping'],X_val_categorical['type_mapping']])\n",
        "\n",
        "# Calculate the difference between the predicted and the actual price\n",
        "df['diff'] = df['pred'] - df['price']\n",
        "\n",
        "# Calculate the absolute difference between the predicted and the actual price\n",
        "df['abs_diff'] = np.abs(df['diff'])\n",
        "\n",
        "# Calculate the percentage of the difference from the actual price\n",
        "df['%diff'] = 100 * (df['diff'] / df['price'])\n",
        "\n",
        "# Calculate the absolute percentage difference from the actual price\n",
        "df['abs_%diff'] = np.abs(df['%diff'])\n",
        "\n",
        "# Sort by the 'abs_diff' field and show the 5 largest mistakes in absolute values\n",
        "df.sort_values(\"abs_diff\", ascending=False).head(5)\n",
        "\n",
        "# Calculate the mean and std. of the diff field\n",
        "diff_mean, diff_std = df['diff'].mean(), df['diff'].std()\n",
        "print(\"The mean is very close to 0 ({mean}) with std. {std}.\".format(mean=round(diff_mean, 2), std=round(diff_std, 2)))\n",
        "\n",
        "# Here is the histogram of the differences\n",
        "plt.figure(figsize=(13,8))\n",
        "plt.hist(df['diff'], bins=100)\n",
        "plt.xlabel(\"$\")\n",
        "plt.ylabel(\"# samples\")\n",
        "_ = plt.title(\"Difference between predicted and actual price\")"
      ],
      "execution_count": null,
      "outputs": [
        {
          "output_type": "stream",
          "text": [
            "The mean is very close to 0 (195.57) with std. 1400.84.\n"
          ],
          "name": "stdout"
        },
        {
          "output_type": "display_data",
          "data": {
            "image/png": "[encoded data removed]",
            "text/plain": [
              "<Figure size 936x576 with 1 Axes>"
            ]
          },
          "metadata": {
            "tags": [],
            "needs_background": "light"
          }
        }
      ]
    },
    {
      "cell_type": "code",
      "metadata": {
        "colab_type": "code",
        "id": "6tNlflK3TOYW",
        "outputId": "fdcdb935-c8f7-4c0d-b131-c25f27b09088",
        "colab": {
          "base_uri": "https://localhost:8080/",
          "height": 35
        }
      },
      "source": [
        "# Define the embedding input\n",
        "area_input = Input(shape=(1,), dtype='int32') \n",
        "area_output_dim = 12\n",
        "# Let’s define the embedding layer and flatten it\n",
        "area_embedings = Embedding(output_dim=area_output_dim, input_dim=X_train_categorical.shape[0])(area_input)\n",
        "area_embedings = keras.layers.Reshape((area_output_dim,))(area_embedings)\n",
        "\n",
        "type_input = Input(shape=(1,), dtype='int32') \n",
        "type_output_dim = 32\n",
        "# Let’s define the embedding layer and flatten it\n",
        "type_embedings = Embedding(output_dim=type_output_dim, input_dim=X_train_categorical.shape[0])(type_input)\n",
        "type_embedings = keras.layers.Reshape((type_output_dim,))(type_embedings)\n",
        "\n",
        "# Define the embedding input\n",
        "cate_input = Input(shape=(2,), dtype='int32') \n",
        "\n",
        "# Decide to what vector size we want to map our 'area' variable. \n",
        "# I'll use 1 here because we only have three areas\n",
        "embeddings_output = 24*4\n",
        "\n",
        "\n",
        "# Let’s define the embedding layer and flatten it\n",
        "cate_embedings = Embedding(output_dim=embeddings_output, input_dim=X_train_categorical.shape[0])(cate_input)\n",
        "print(cate_embedings)\n",
        "cate_embedings = keras.layers.Reshape((embeddings_output*2,))(cate_embedings)\n",
        "\n",
        "# Define the continuous variables input (just like before)\n",
        "continuous_input = Input(shape=(X_train_continuous.shape[1], ))\n",
        "\n",
        "# Concatenate continuous and embeddings inputs\n",
        "all_input = keras.layers.concatenate([continuous_input, area_embedings,type_embedings,cate_embedings])"
      ],
      "execution_count": null,
      "outputs": [
        {
          "output_type": "stream",
          "text": [
            "Tensor(\"embedding_42/embedding_lookup/Identity_1:0\", shape=(None, 2, 96), dtype=float32)\n"
          ],
          "name": "stdout"
        }
      ]
    },
    {
      "cell_type": "markdown",
      "metadata": {
        "id": "i8cYiQUHUbs1",
        "colab_type": "text"
      },
      "source": [
        ""
      ]
    },
    {
      "cell_type": "code",
      "metadata": {
        "id": "DAdWVFWVxphC",
        "colab_type": "code",
        "outputId": "2681ee7e-9c03-49d5-9783-62e69b9263c4",
        "colab": {
          "base_uri": "https://localhost:8080/",
          "height": 701
        }
      },
      "source": [
        "# Define the model\n",
        "\n",
        "dense1 = Dense(250, activation='relu')(all_input)\n",
        "dense2 = Dense(60, activation='relu')(dense1)\n",
        "predictions = Dense(1)(dense2)\n",
        "\n",
        "# Note using the input object 'area_input' not 'area_embeddings'\n",
        "model = Model(inputs=[continuous_input, area_input,type_input,cate_input], outputs=predictions)\n",
        "\n",
        "model.compile(loss='mse', optimizer=keras.optimizers.Adam(lr=.8, beta_1=0.9, beta_2=0.999, decay=1e-03, amsgrad=True),metrics=[soft_acc,r2])\n",
        "\n",
        "model.summary()\n"
      ],
      "execution_count": null,
      "outputs": [
        {
          "output_type": "stream",
          "text": [
            "Model: \"model_29\"\n",
            "__________________________________________________________________________________________________\n",
            "Layer (type)                    Output Shape         Param #     Connected to                     \n",
            "==================================================================================================\n",
            "input_70 (InputLayer)           (None, 1)            0                                            \n",
            "__________________________________________________________________________________________________\n",
            "input_71 (InputLayer)           (None, 1)            0                                            \n",
            "__________________________________________________________________________________________________\n",
            "input_72 (InputLayer)           (None, 2)            0                                            \n",
            "__________________________________________________________________________________________________\n",
            "embedding_40 (Embedding)        (None, 1, 12)        36000       input_70[0][0]                   \n",
            "__________________________________________________________________________________________________\n",
            "embedding_41 (Embedding)        (None, 1, 32)        96000       input_71[0][0]                   \n",
            "__________________________________________________________________________________________________\n",
            "embedding_42 (Embedding)        (None, 2, 96)        288000      input_72[0][0]                   \n",
            "__________________________________________________________________________________________________\n",
            "input_73 (InputLayer)           (None, 3)            0                                            \n",
            "__________________________________________________________________________________________________\n",
            "reshape_40 (Reshape)            (None, 12)           0           embedding_40[0][0]               \n",
            "__________________________________________________________________________________________________\n",
            "reshape_41 (Reshape)            (None, 32)           0           embedding_41[0][0]               \n",
            "__________________________________________________________________________________________________\n",
            "reshape_42 (Reshape)            (None, 192)          0           embedding_42[0][0]               \n",
            "__________________________________________________________________________________________________\n",
            "concatenate_31 (Concatenate)    (None, 239)          0           input_73[0][0]                   \n",
            "                                                                 reshape_40[0][0]                 \n",
            "                                                                 reshape_41[0][0]                 \n",
            "                                                                 reshape_42[0][0]                 \n",
            "__________________________________________________________________________________________________\n",
            "dense_87 (Dense)                (None, 250)          60000       concatenate_31[0][0]             \n",
            "__________________________________________________________________________________________________\n",
            "dense_88 (Dense)                (None, 60)           15060       dense_87[0][0]                   \n",
            "__________________________________________________________________________________________________\n",
            "dense_89 (Dense)                (None, 1)            61          dense_88[0][0]                   \n",
            "==================================================================================================\n",
            "Total params: 495,121\n",
            "Trainable params: 495,121\n",
            "Non-trainable params: 0\n",
            "__________________________________________________________________________________________________\n"
          ],
          "name": "stdout"
        }
      ]
    },
    {
      "cell_type": "code",
      "metadata": {
        "id": "obNZswThx-f5",
        "colab_type": "code",
        "outputId": "3dd7d219-e494-4c6a-bef2-36f31c63db77",
        "colab": {
          "base_uri": "https://localhost:8080/",
          "height": 742
        }
      },
      "source": [
        "\n",
        "epochs = 10000\n",
        "\n",
        "# Note continuous and categorical columns are inserted in the same order as defined in all_inputs\n",
        "history = model.fit([X_train_continuous, X_train_categorical['area_mapping'],X_train_categorical['type_mapping'],X_train_categorical[['area_mapping','type_mapping']].to_numpy()], y_train, \n",
        "          epochs=epochs, batch_size=128, \n",
        "          callbacks=[periodic_logger_250], verbose=0,\n",
        "          validation_data=([X_val_continuous, X_val_categorical['area_mapping'],X_val_categorical['type_mapping'],X_val_categorical[['area_mapping','type_mapping']].to_numpy()], y_val))"
      ],
      "execution_count": null,
      "outputs": [
        {
          "output_type": "stream",
          "text": [
            "Epoch: 250 - {'val_loss': 192379.86177083335, 'val_soft_acc': 0.7627840638160706, 'val_r2': 1.0, 'loss': 99279.464125, 'soft_acc': 0.8125465, 'r2': 1.0}\n",
            "Epoch: 500 - {'val_loss': 184410.46651041668, 'val_soft_acc': 0.7653882503509521, 'val_r2': 1.0, 'loss': 94028.61072916667, 'soft_acc': 0.81691784, 'r2': 1.0}\n",
            "Epoch: 750 - {'val_loss': 176648.73432291666, 'val_soft_acc': 0.7578125, 'val_r2': 1.0, 'loss': 90081.23485416667, 'soft_acc': 0.82454425, 'r2': 1.0}\n",
            "Epoch: 1000 - {'val_loss': 171972.31395833334, 'val_soft_acc': 0.7703598141670227, 'val_r2': 1.0, 'loss': 87101.684328125, 'soft_acc': 0.8248233, 'r2': 1.0}\n",
            "Epoch: 1250 - {'val_loss': 168640.76390625, 'val_soft_acc': 0.7729640007019043, 'val_r2': 1.0, 'loss': 84929.44958333333, 'soft_acc': 0.8255673, 'r2': 1.0}\n",
            "Epoch: 1500 - {'val_loss': 163746.92098958333, 'val_soft_acc': 0.7627840638160706, 'val_r2': 1.0, 'loss': 82806.77540104167, 'soft_acc': 0.82747394, 'r2': 1.0}\n",
            "Epoch: 1750 - {'val_loss': 160904.76015625, 'val_soft_acc': 0.7755681872367859, 'val_r2': 1.0, 'loss': 81054.74291666667, 'soft_acc': 0.828311, 'r2': 1.0}\n",
            "Epoch: 2000 - {'val_loss': 158059.14651041667, 'val_soft_acc': 0.7732007503509521, 'val_r2': 1.0, 'loss': 79651.17126041667, 'soft_acc': 0.82454425, 'r2': 1.0}\n",
            "Epoch: 2250 - {'val_loss': 155712.06328125, 'val_soft_acc': 0.7833806872367859, 'val_r2': 1.0, 'loss': 78321.471625, 'soft_acc': 0.8306362, 'r2': 1.0}\n",
            "Epoch: 2500 - {'val_loss': 153437.04911458332, 'val_soft_acc': 0.7781723141670227, 'val_r2': 1.0, 'loss': 77203.31495833333, 'soft_acc': 0.8283575, 'r2': 1.0}\n",
            "Epoch: 2750 - {'val_loss': 151869.93604166666, 'val_soft_acc': 0.7807765007019043, 'val_r2': 1.0, 'loss': 76146.196015625, 'soft_acc': 0.82859, 'r2': 1.0}\n",
            "Epoch: 3000 - {'val_loss': 150042.746875, 'val_soft_acc': 0.7961647510528564, 'val_r2': 1.0, 'loss': 75294.20441666666, 'soft_acc': 0.82589287, 'r2': 1.0}\n",
            "Epoch: 3250 - {'val_loss': 148461.10015625, 'val_soft_acc': 0.790956437587738, 'val_r2': 1.0, 'loss': 74354.84188541667, 'soft_acc': 0.8313337, 'r2': 1.0}\n",
            "Epoch: 3500 - {'val_loss': 147150.19239583332, 'val_soft_acc': 0.7883522510528564, 'val_r2': 1.0, 'loss': 73629.15395833334, 'soft_acc': 0.83207774, 'r2': 1.0}\n",
            "Epoch: 3750 - {'val_loss': 145951.19416666665, 'val_soft_acc': 0.790956437587738, 'val_r2': 1.0, 'loss': 72788.01741666667, 'soft_acc': 0.8301246, 'r2': 1.0}\n",
            "Epoch: 4000 - {'val_loss': 144852.08515625, 'val_soft_acc': 0.7961647510528564, 'val_r2': 1.0, 'loss': 72119.40084375, 'soft_acc': 0.8341704, 'r2': 1.0}\n",
            "Epoch: 4250 - {'val_loss': 143691.48119791667, 'val_soft_acc': 0.790956437587738, 'val_r2': 1.0, 'loss': 71537.4408125, 'soft_acc': 0.8336124, 'r2': 1.0}\n",
            "Epoch: 4500 - {'val_loss': 142621.29151041666, 'val_soft_acc': 0.790956437587738, 'val_r2': 1.0, 'loss': 70924.30814583333, 'soft_acc': 0.83458894, 'r2': 1.0}\n",
            "Epoch: 4750 - {'val_loss': 141898.11489583334, 'val_soft_acc': 0.7807765007019043, 'val_r2': 1.0, 'loss': 70475.00220833333, 'soft_acc': 0.83658856, 'r2': 1.0}\n",
            "Epoch: 5000 - {'val_loss': 140901.39609375, 'val_soft_acc': 0.7807765007019043, 'val_r2': 1.0, 'loss': 69906.27035416667, 'soft_acc': 0.83449596, 'r2': 1.0}\n",
            "Epoch: 5250 - {'val_loss': 140184.88744791667, 'val_soft_acc': 0.7807765007019043, 'val_r2': 1.0, 'loss': 69526.07916666666, 'soft_acc': 0.8328218, 'r2': 1.0}\n",
            "Epoch: 5500 - {'val_loss': 139289.65828125, 'val_soft_acc': 0.7833806872367859, 'val_r2': 1.0, 'loss': 69029.43358333333, 'soft_acc': 0.8356585, 'r2': 1.0}\n",
            "Epoch: 5750 - {'val_loss': 138695.23260416667, 'val_soft_acc': 0.7781723141670227, 'val_r2': 1.0, 'loss': 68673.85089583334, 'soft_acc': 0.83375186, 'r2': 1.0}\n",
            "Epoch: 6000 - {'val_loss': 137897.81614583332, 'val_soft_acc': 0.7781723141670227, 'val_r2': 1.0, 'loss': 68269.31675, 'soft_acc': 0.8368211, 'r2': 1.0}\n",
            "Epoch: 6250 - {'val_loss': 137154.69005208334, 'val_soft_acc': 0.7781723141670227, 'val_r2': 1.0, 'loss': 67959.542625, 'soft_acc': 0.83440286, 'r2': 1.0}\n",
            "Epoch: 6500 - {'val_loss': 136562.98729166668, 'val_soft_acc': 0.7833806872367859, 'val_r2': 1.0, 'loss': 67631.82830729167, 'soft_acc': 0.836356, 'r2': 1.0}\n",
            "Epoch: 6750 - {'val_loss': 136305.10333333333, 'val_soft_acc': 0.7833806872367859, 'val_r2': 1.0, 'loss': 67351.91929166667, 'soft_acc': 0.8404948, 'r2': 1.0}\n",
            "Epoch: 7000 - {'val_loss': 135499.71140625, 'val_soft_acc': 0.7833806872367859, 'val_r2': 1.0, 'loss': 67074.33471875, 'soft_acc': 0.83751863, 'r2': 1.0}\n",
            "Epoch: 7250 - {'val_loss': 135114.01140625, 'val_soft_acc': 0.7885890007019043, 'val_r2': 1.0, 'loss': 66800.61740625, 'soft_acc': 0.8399832, 'r2': 1.0}\n",
            "Epoch: 7500 - {'val_loss': 134822.50317708333, 'val_soft_acc': 0.7810132503509521, 'val_r2': 1.0, 'loss': 66549.24597395833, 'soft_acc': 0.8384022, 'r2': 1.0}\n",
            "Epoch: 7750 - {'val_loss': 134136.6065625, 'val_soft_acc': 0.7833806872367859, 'val_r2': 1.0, 'loss': 66351.45014583334, 'soft_acc': 0.84100634, 'r2': 1.0}\n",
            "Epoch: 8000 - {'val_loss': 133638.16817708334, 'val_soft_acc': 0.7784090638160706, 'val_r2': 1.0, 'loss': 66147.93416145834, 'soft_acc': 0.8388672, 'r2': 1.0}\n",
            "Epoch: 8250 - {'val_loss': 133414.85421875, 'val_soft_acc': 0.7758049368858337, 'val_r2': 1.0, 'loss': 65892.17571354167, 'soft_acc': 0.8392857, 'r2': 1.0}\n",
            "Epoch: 8500 - {'val_loss': 133215.743125, 'val_soft_acc': 0.7862215638160706, 'val_r2': 1.0, 'loss': 65755.77633333333, 'soft_acc': 0.83984375, 'r2': 1.0}\n",
            "Epoch: 8750 - {'val_loss': 132675.11895833333, 'val_soft_acc': 0.7836174368858337, 'val_r2': 1.0, 'loss': 65512.045515625, 'soft_acc': 0.8399832, 'r2': 1.0}\n",
            "Epoch: 9000 - {'val_loss': 132480.65270833333, 'val_soft_acc': 0.7784090638160706, 'val_r2': 1.0, 'loss': 65347.05233333333, 'soft_acc': 0.8379836, 'r2': 1.0}\n",
            "Epoch: 9250 - {'val_loss': 132120.58833333335, 'val_soft_acc': 0.7836174368858337, 'val_r2': 1.0, 'loss': 65162.499958333334, 'soft_acc': 0.8403087, 'r2': 1.0}\n",
            "Epoch: 9500 - {'val_loss': 131889.79026041666, 'val_soft_acc': 0.7810132503509521, 'val_r2': 1.0, 'loss': 64999.793375, 'soft_acc': 0.8407273, 'r2': 1.0}\n",
            "Epoch: 9750 - {'val_loss': 131276.9234375, 'val_soft_acc': 0.7810132503509521, 'val_r2': 1.0, 'loss': 64850.086708333336, 'soft_acc': 0.83868116, 'r2': 1.0}\n",
            "Epoch: 10000 - {'val_loss': 131304.24291666667, 'val_soft_acc': 0.7810132503509521, 'val_r2': 1.0, 'loss': 64680.736520833336, 'soft_acc': 0.83658856, 'r2': 1.0}\n"
          ],
          "name": "stdout"
        }
      ]
    },
    {
      "cell_type": "code",
      "metadata": {
        "id": "KYwk_kxuyvqJ",
        "colab_type": "code",
        "outputId": "b5e1e2f2-b66d-4e62-ae48-11c54a9faa1e",
        "colab": {
          "base_uri": "https://localhost:8080/",
          "height": 588
        }
      },
      "source": [
        "# Plot the train/validation loss values\n",
        "plt.figure(figsize=(13,10))\n",
        "_loss = history.history['loss'][250:]\n",
        "_val_loss = history.history['val_loss'][250:]\n",
        "\n",
        "train_loss_plot, = plt.plot(range(1, len(_loss)+1), _loss, label='Train Loss')\n",
        "val_loss_plot, = plt.plot(range(1, len(_val_loss)+1), _val_loss, label='Validation Loss')\n",
        "\n",
        "_ = plt.legend(handles=[train_loss_plot, val_loss_plot])"
      ],
      "execution_count": null,
      "outputs": [
        {
          "output_type": "display_data",
          "data": {
            "image/png": "[encoded data removed]",
            "text/plain": [
              "<Figure size 936x720 with 1 Axes>"
            ]
          },
          "metadata": {
            "tags": [],
            "needs_background": "light"
          }
        }
      ]
    },
    {
      "cell_type": "code",
      "metadata": {
        "id": "i8VtwOFPV6l3",
        "colab_type": "code",
        "outputId": "58b47679-a0b8-47d1-d700-990d86b4c69c",
        "colab": {
          "base_uri": "https://localhost:8080/",
          "height": 531
        }
      },
      "source": [
        "df = y_val.copy()\n",
        "\n",
        "# Add a column for the model's predicted values\n",
        "df['pred'] = model.predict([X_val_continuous, X_val_categorical['area_mapping'],X_val_categorical['type_mapping'],X_val_categorical[['area_mapping','type_mapping']].to_numpy()])\n",
        "\n",
        "# Calculate the difference between the predicted and the actual price\n",
        "df['diff'] = df['pred'] - df['price']\n",
        "\n",
        "# Calculate the absolute difference between the predicted and the actual price\n",
        "df['abs_diff'] = np.abs(df['diff'])\n",
        "\n",
        "# Calculate the percentage of the difference from the actual price\n",
        "df['%diff'] = 100 * (df['diff'] / df['price'])\n",
        "\n",
        "# Calculate the absolute percentage difference from the actual price\n",
        "df['abs_%diff'] = np.abs(df['%diff'])\n",
        "\n",
        "# Sort by the 'abs_diff' field and show the 5 largest mistakes in absolute values\n",
        "df.sort_values(\"abs_diff\", ascending=False).head(5)\n",
        "\n",
        "# Calculate the mean and std. of the diff field\n",
        "diff_mean, diff_std = df['diff'].mean(), df['diff'].std()\n",
        "print(\"The mean is very close to 0 ({mean}) with std. {std}.\".format(mean=round(diff_mean, 2), std=round(diff_std, 2)))\n",
        "\n",
        "# Here is the histogram of the differences\n",
        "plt.figure(figsize=(13,8))\n",
        "plt.hist(df['diff'], bins=100)\n",
        "plt.xlabel(\"$\")\n",
        "plt.ylabel(\"# samples\")\n",
        "_ = plt.title(\"Difference between predicted and actual price\")"
      ],
      "execution_count": null,
      "outputs": [
        {
          "output_type": "stream",
          "text": [
            "The mean is very close to 0 (-16.86) with std. 362.57.\n"
          ],
          "name": "stdout"
        },
        {
          "output_type": "display_data",
          "data": {
            "image/png": "[encoded data removed]",
            "text/plain": [
              "<Figure size 936x576 with 1 Axes>"
            ]
          },
          "metadata": {
            "tags": [],
            "needs_background": "light"
          }
        }
      ]
    }
  ]
}