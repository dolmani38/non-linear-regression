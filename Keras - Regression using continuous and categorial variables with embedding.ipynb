{
  "nbformat": 4,
  "nbformat_minor": 0,
  "metadata": {
    "kernelspec": {
      "display_name": "Python 3",
      "language": "python",
      "name": "python3"
    },
    "language_info": {
      "codemirror_mode": {
        "name": "ipython",
        "version": 3
      },
      "file_extension": ".py",
      "mimetype": "text/x-python",
      "name": "python",
      "nbconvert_exporter": "python",
      "pygments_lexer": "ipython3",
      "version": "3.6.8"
    },
    "colab": {
      "name": "Keras - Regression using continuous and categorial variables with embedding.ipynb",
      "provenance": [],
      "include_colab_link": true
    },
    "accelerator": "GPU"
  },
  "cells": [
    {
      "cell_type": "markdown",
      "metadata": {
        "id": "view-in-github",
        "colab_type": "text"
      },
      "source": [
        "<a href=\"https://colab.research.google.com/github/dolmani38/non-linear-regression/blob/master/Keras%20-%20Regression%20using%20continuous%20and%20categorial%20variables%20with%20embedding.ipynb\" target=\"_parent\"><img src=\"https://colab.research.google.com/assets/colab-badge.svg\" alt=\"Open In Colab\"/></a>"
      ]
    },
    {
      "cell_type": "markdown",
      "metadata": {
        "id": "NbKY5scYq4G8",
        "colab_type": "text"
      },
      "source": [
        "# The purpose of this blog post:\n",
        "\n",
        "1. To show how to implement (technically) a feature vector with both continuous and categorical features. \n",
        "2. To use a Regression head to predict continuous values"
      ]
    },
    {
      "cell_type": "markdown",
      "metadata": {
        "id": "ZFPVbOL2q4HL",
        "colab_type": "text"
      },
      "source": [
        "We would like to predict the housing prices in 3 different suburbs of Tel Aviv (Mercaz, Old North and Florentine).\n",
        "Let's assume that a deterministic function $f(a, s, n)$ exist that determines the price of a house where:\n",
        "* $n$: Number of rooms\n",
        "* $s$: Size (in square meters)\n",
        "* $a$: Area (TLV suburb)\n",
        "\n",
        "For each area $a$ we define a price per square meter $s\\_price(a)$ :\n",
        "* Mercaz: &nbsp;&nbsp;&nbsp; \\$500\n",
        "* Old North: &nbsp;&nbsp;&nbsp; \\$350  \n",
        "* Florentine:  &nbsp;&nbsp;&nbsp; \\$230\n",
        "\n",
        "And an additional price per room $n\\_price(a)$:\n",
        "* Mercaz: &nbsp;&nbsp;&nbsp; \\$150,000  \n",
        "* Old North: &nbsp;&nbsp;&nbsp; \\$80,000  \n",
        "* Florentine: &nbsp;&nbsp;&nbsp; \\$50,000\n",
        "\n",
        "The price of a house in area $a$ with size $s$ and $n$ rooms will be:\n",
        "$$f(a, s, n) = s * s\\_price(a)  + n * n\\_price(a)$$\n",
        "\n",
        "This function is what we will later try to predict with a Regression DNN."
      ]
    },
    {
      "cell_type": "markdown",
      "metadata": {
        "id": "004L8SgKq4HN",
        "colab_type": "text"
      },
      "source": [
        "#### Imports and helper functions"
      ]
    },
    {
      "cell_type": "code",
      "metadata": {
        "id": "C8shY1tnq4HS",
        "colab_type": "code",
        "colab": {
          "base_uri": "https://localhost:8080/",
          "height": 36
        },
        "outputId": "0da06d53-b0a4-4694-ac43-195f38dcde03"
      },
      "source": [
        "import numpy as np\n",
        "import pandas as pd\n",
        "import numpy as np\n",
        "import pandas as pd\n",
        "import keras\n",
        "from keras.models import Sequential\n",
        "from keras.layers import Dense, BatchNormalization\n",
        "from keras.layers import Input, Embedding, Dense\n",
        "from keras.models import Model\n",
        "from keras.callbacks import Callback\n",
        "import matplotlib.pyplot as plt\n",
        "\n",
        "# Bayesian Methods for Hackers style sheet\n",
        "plt.style.use('bmh')\n",
        "\n",
        "np.random.seed(1234567890)\n",
        "\n",
        "from keras import backend as K\n",
        "\n",
        "def r2(y_true, y_pred):\n",
        "    \"\"\"\n",
        "    # custom R2-score metrics for keras backend\n",
        "    :param y_true: 실측 데이터\n",
        "    :param y_pred: 모델에 의한 예측 데이테\n",
        "    :return: R^2 value, 이 값이 높다고 (예:0.99)해서 예측 값이 정확 하다고 할 수 는 없음...\n",
        "    \"\"\"\n",
        "    SS_res = K.sum(K.square(y_true - y_pred))\n",
        "    SS_tot = K.sum(K.square(y_true - K.mean(y_true)))\n",
        "    return (1 - SS_res / (SS_tot + K.epsilon()))\n",
        "\n",
        "def soft_acc(y_true, y_pred):\n",
        "    delta = 600\n",
        "    return K.mean(K.equal(K.round(y_true/delta), K.round(y_pred/delta)))\n",
        "\n",
        "\n",
        "class VerboseCallback(keras.callbacks.Callback):\n",
        "    \"\"\"\n",
        "    kerase.model.fit 함수에서, log 출력을 위한 callback\n",
        "    \"\"\"\n",
        "    def __init__(self, epoch):\n",
        "        self.epoch = epoch\n",
        "        self.progress(\"learning:\", 0, [])\n",
        "\n",
        "    def progress(self, text, current=0, log=None):\n",
        "        g = self.epoch - current\n",
        "        f = 50 / self.epoch\n",
        "        c = int(current * f)\n",
        "        pg = ['=' for i in range(c)] + ['.' for i in range(50 - c)]\n",
        "        print(\"\\r\" + str(text) + \"{}/{}[{}]{}\".format(current, self.epoch, ''.join(pg), ('' if log is None else str(log).strip())),\n",
        "              end=\"\", flush=True)\n",
        "        if self.epoch - current == 0:\n",
        "            print(\"\")\n",
        "\n",
        "    def on_epoch_end(self, epoch, logs=None):\n",
        "        self.progress(\"learning:\", epoch + 1, logs)\n",
        "\n",
        "\n",
        "class PeriodicLogger(Callback):\n",
        "    \"\"\"\n",
        "    A helper callback class that only prints the losses once in 'display' epochs\n",
        "    \"\"\"\n",
        "    def __init__(self, display=100):\n",
        "        self.display = display\n",
        "\n",
        "    def on_train_begin(self, logs={}):      \n",
        "        self.epochs = 0    \n",
        "\n",
        "    def on_epoch_end(self, batch, logs={}):    \n",
        "        self.epochs += 1     \n",
        "        if self.epochs % self.display == 0:\n",
        "            print (\"Epoch: %d - %s\" % (self.epochs, str(logs)))\n",
        " \n",
        "            \n",
        "periodic_logger_250 = PeriodicLogger(250)"
      ],
      "execution_count": 1,
      "outputs": [
        {
          "output_type": "stream",
          "text": [
            "Using TensorFlow backend.\n"
          ],
          "name": "stderr"
        }
      ]
    },
    {
      "cell_type": "markdown",
      "metadata": {
        "id": "rDwKQDCOq4IT",
        "colab_type": "text"
      },
      "source": [
        "#### Define the mapping and a function that computes the house price for each example"
      ]
    },
    {
      "cell_type": "code",
      "metadata": {
        "id": "J9GAic5Sq4IW",
        "colab_type": "code",
        "colab": {}
      },
      "source": [
        "per_meter_mapping = {\n",
        "    'Mercaz': 500,\n",
        "    'Old North': 350,\n",
        "    'Florentine': 230\n",
        "}\n",
        "\n",
        "per_room_additional_price = {\n",
        "    'Mercaz': 15. * 10**4,\n",
        "    'Old North': 8. * 10**4,\n",
        "    'Florentine': 5. * 10**4\n",
        "}\n",
        "\n",
        "per_type_price = {\n",
        "    'fullsize': 3,\n",
        "    'economy': 1.2,\n",
        "    'convertible': 9,\n",
        "    'standard': 2.5,\n",
        "    'premium': 4,\n",
        "    'intermediate': 2,\n",
        "    'luxury': 12,\n",
        "    'compact': 1.5\n",
        "}\n",
        "\n",
        "def house_price_func(row):\n",
        "    \"\"\"\n",
        "    house_price_func is the function f(a,s,n).\n",
        "    \n",
        "    :param row: dict (contains the keys: ['area', 'size', 'n_rooms'])\n",
        "    :return: float\n",
        "    \"\"\"\n",
        "    area, size, n_rooms, ctype = row['area'], row['size'], row['n_rooms'], row['ctype']\n",
        "    return (size * per_meter_mapping[area] - 120) + (n_rooms*n_rooms)/4 * per_room_additional_price[area] * per_type_price[ctype]"
      ],
      "execution_count": 2,
      "outputs": []
    },
    {
      "cell_type": "markdown",
      "metadata": {
        "id": "ZtxgPzR1q4Im",
        "colab_type": "text"
      },
      "source": [
        "### Create toy data"
      ]
    },
    {
      "cell_type": "code",
      "metadata": {
        "id": "OajPApIgq4Ip",
        "colab_type": "code",
        "colab": {}
      },
      "source": [
        "AREAS = ['Mercaz', 'Old North', 'Florentine']\n",
        "HOUSE_TYPE = ['economy','compact','intermediate','standard','fullsize','premium','luxury','convertible']\n",
        "\n",
        "def create_samples(n_samples):\n",
        "    \"\"\"\n",
        "    Helper method that creates dataset DataFrames\n",
        "    \n",
        "    Note that the np.random.choice call only determines the number of rooms and the size of the house\n",
        "    (the price, which we calculate later, is deterministic)\n",
        "    \n",
        "    :param n_samples: int (number of samples for each area (suburb))\n",
        "    :return: pd.DataFrame\n",
        "    \"\"\"\n",
        "    samples = []\n",
        "\n",
        "    for i in range(n_samples):\n",
        "        samples.append([np.random.choice(AREAS), int(np.random.normal(25, 5)),int(np.random.normal(300, 50)), np.random.choice(range(1, 6)),np.random.choice(HOUSE_TYPE)])\n",
        "        \n",
        "    return pd.DataFrame(samples, columns=['area', 'size', 'lamp', 'n_rooms','ctype'])"
      ],
      "execution_count": 3,
      "outputs": []
    },
    {
      "cell_type": "markdown",
      "metadata": {
        "id": "j7ZFQEjcq4I4",
        "colab_type": "text"
      },
      "source": [
        "#### Create the train and validation sets"
      ]
    },
    {
      "cell_type": "code",
      "metadata": {
        "id": "76Q22tDiq4I6",
        "colab_type": "code",
        "colab": {}
      },
      "source": [
        "train = create_samples(n_samples=30000)\n",
        "val = create_samples(n_samples=3000)"
      ],
      "execution_count": 59,
      "outputs": []
    },
    {
      "cell_type": "markdown",
      "metadata": {
        "id": "NdmluV9Oq4JI",
        "colab_type": "text"
      },
      "source": [
        "#### Calculate the prices for each set"
      ]
    },
    {
      "cell_type": "code",
      "metadata": {
        "id": "YGzjn4jWq4JK",
        "colab_type": "code",
        "colab": {}
      },
      "source": [
        "train['price'] = train.apply(house_price_func, axis=1)\n",
        "val['price'] = val.apply(house_price_func, axis=1)"
      ],
      "execution_count": 60,
      "outputs": []
    },
    {
      "cell_type": "markdown",
      "metadata": {
        "id": "ptrZxgOAq4Jc",
        "colab_type": "text"
      },
      "source": [
        "#### Here is the structure of the train/val DataFrame"
      ]
    },
    {
      "cell_type": "code",
      "metadata": {
        "id": "m_nwYiXFq4Jd",
        "colab_type": "code",
        "colab": {
          "base_uri": "https://localhost:8080/",
          "height": 355
        },
        "outputId": "0e446e8e-952d-4c97-cf7f-6a9d254ec766"
      },
      "source": [
        "train.head(10)"
      ],
      "execution_count": 61,
      "outputs": [
        {
          "output_type": "execute_result",
          "data": {
            "text/html": [
              "<div>\n",
              "<style scoped>\n",
              "    .dataframe tbody tr th:only-of-type {\n",
              "        vertical-align: middle;\n",
              "    }\n",
              "\n",
              "    .dataframe tbody tr th {\n",
              "        vertical-align: top;\n",
              "    }\n",
              "\n",
              "    .dataframe thead th {\n",
              "        text-align: right;\n",
              "    }\n",
              "</style>\n",
              "<table border=\"1\" class=\"dataframe\">\n",
              "  <thead>\n",
              "    <tr style=\"text-align: right;\">\n",
              "      <th></th>\n",
              "      <th>area</th>\n",
              "      <th>size</th>\n",
              "      <th>lamp</th>\n",
              "      <th>n_rooms</th>\n",
              "      <th>ctype</th>\n",
              "      <th>price</th>\n",
              "    </tr>\n",
              "  </thead>\n",
              "  <tbody>\n",
              "    <tr>\n",
              "      <th>0</th>\n",
              "      <td>Florentine</td>\n",
              "      <td>21</td>\n",
              "      <td>264</td>\n",
              "      <td>4</td>\n",
              "      <td>luxury</td>\n",
              "      <td>2404710.0</td>\n",
              "    </tr>\n",
              "    <tr>\n",
              "      <th>1</th>\n",
              "      <td>Florentine</td>\n",
              "      <td>20</td>\n",
              "      <td>251</td>\n",
              "      <td>3</td>\n",
              "      <td>intermediate</td>\n",
              "      <td>229480.0</td>\n",
              "    </tr>\n",
              "    <tr>\n",
              "      <th>2</th>\n",
              "      <td>Old North</td>\n",
              "      <td>34</td>\n",
              "      <td>244</td>\n",
              "      <td>5</td>\n",
              "      <td>intermediate</td>\n",
              "      <td>1011780.0</td>\n",
              "    </tr>\n",
              "    <tr>\n",
              "      <th>3</th>\n",
              "      <td>Florentine</td>\n",
              "      <td>13</td>\n",
              "      <td>242</td>\n",
              "      <td>4</td>\n",
              "      <td>luxury</td>\n",
              "      <td>2402870.0</td>\n",
              "    </tr>\n",
              "    <tr>\n",
              "      <th>4</th>\n",
              "      <td>Florentine</td>\n",
              "      <td>24</td>\n",
              "      <td>315</td>\n",
              "      <td>1</td>\n",
              "      <td>premium</td>\n",
              "      <td>55400.0</td>\n",
              "    </tr>\n",
              "    <tr>\n",
              "      <th>5</th>\n",
              "      <td>Mercaz</td>\n",
              "      <td>24</td>\n",
              "      <td>267</td>\n",
              "      <td>2</td>\n",
              "      <td>standard</td>\n",
              "      <td>386880.0</td>\n",
              "    </tr>\n",
              "    <tr>\n",
              "      <th>6</th>\n",
              "      <td>Old North</td>\n",
              "      <td>25</td>\n",
              "      <td>323</td>\n",
              "      <td>4</td>\n",
              "      <td>standard</td>\n",
              "      <td>808630.0</td>\n",
              "    </tr>\n",
              "    <tr>\n",
              "      <th>7</th>\n",
              "      <td>Florentine</td>\n",
              "      <td>16</td>\n",
              "      <td>321</td>\n",
              "      <td>2</td>\n",
              "      <td>intermediate</td>\n",
              "      <td>103560.0</td>\n",
              "    </tr>\n",
              "    <tr>\n",
              "      <th>8</th>\n",
              "      <td>Florentine</td>\n",
              "      <td>31</td>\n",
              "      <td>343</td>\n",
              "      <td>4</td>\n",
              "      <td>compact</td>\n",
              "      <td>307010.0</td>\n",
              "    </tr>\n",
              "    <tr>\n",
              "      <th>9</th>\n",
              "      <td>Old North</td>\n",
              "      <td>16</td>\n",
              "      <td>333</td>\n",
              "      <td>1</td>\n",
              "      <td>convertible</td>\n",
              "      <td>185480.0</td>\n",
              "    </tr>\n",
              "  </tbody>\n",
              "</table>\n",
              "</div>"
            ],
            "text/plain": [
              "         area  size  lamp  n_rooms         ctype      price\n",
              "0  Florentine    21   264        4        luxury  2404710.0\n",
              "1  Florentine    20   251        3  intermediate   229480.0\n",
              "2   Old North    34   244        5  intermediate  1011780.0\n",
              "3  Florentine    13   242        4        luxury  2402870.0\n",
              "4  Florentine    24   315        1       premium    55400.0\n",
              "5      Mercaz    24   267        2      standard   386880.0\n",
              "6   Old North    25   323        4      standard   808630.0\n",
              "7  Florentine    16   321        2  intermediate   103560.0\n",
              "8  Florentine    31   343        4       compact   307010.0\n",
              "9   Old North    16   333        1   convertible   185480.0"
            ]
          },
          "metadata": {
            "tags": []
          },
          "execution_count": 61
        }
      ]
    },
    {
      "cell_type": "markdown",
      "metadata": {
        "id": "uCz-MF8-q4Js",
        "colab_type": "text"
      },
      "source": [
        "#### Define the features and the y vectores\n",
        "We will separate the continuous and categorical variables"
      ]
    },
    {
      "cell_type": "code",
      "metadata": {
        "id": "g7bBaYfVq4Ju",
        "colab_type": "code",
        "colab": {}
      },
      "source": [
        "continuous_cols = ['size', 'n_rooms','lamp']\n",
        "categorical_cols = ['area','ctype']\n",
        "y_col = ['price']\n",
        "\n",
        "X_train_continuous = train[continuous_cols]\n",
        "X_train_categorical = train[categorical_cols]\n",
        "y_train = train[y_col]\n",
        "\n",
        "X_val_continuous = val[continuous_cols]\n",
        "X_val_categorical = val[categorical_cols]\n",
        "y_val = val[y_col]"
      ],
      "execution_count": 62,
      "outputs": []
    },
    {
      "cell_type": "code",
      "metadata": {
        "id": "i3dIc0D_i93d",
        "colab_type": "code",
        "colab": {
          "base_uri": "https://localhost:8080/",
          "height": 465
        },
        "outputId": "b73a2df4-0513-4a22-9607-6d8d611067fa"
      },
      "source": [
        "# 파생변수 생성\n",
        "\n",
        "X_train_continuous['size_n_rooms'] = X_train_continuous['size'] * X_train_continuous['n_rooms']\n",
        "X_train_continuous['size_size'] = X_train_continuous['size'] * X_train_continuous['size']\n",
        "X_train_continuous['n_rooms_n_rooms'] = X_train_continuous['n_rooms'] * X_train_continuous['n_rooms']\n",
        "\n",
        "X_val_continuous['size_n_rooms'] = X_val_continuous['size'] * X_val_continuous['n_rooms']\n",
        "X_val_continuous['size_size'] = X_val_continuous['size'] * X_val_continuous['size']\n",
        "X_val_continuous['n_rooms_n_rooms'] = X_val_continuous['n_rooms'] * X_val_continuous['n_rooms']"
      ],
      "execution_count": 63,
      "outputs": [
        {
          "output_type": "stream",
          "text": [
            "/usr/local/lib/python3.6/dist-packages/ipykernel_launcher.py:3: SettingWithCopyWarning: \n",
            "A value is trying to be set on a copy of a slice from a DataFrame.\n",
            "Try using .loc[row_indexer,col_indexer] = value instead\n",
            "\n",
            "See the caveats in the documentation: https://pandas.pydata.org/pandas-docs/stable/user_guide/indexing.html#returning-a-view-versus-a-copy\n",
            "  This is separate from the ipykernel package so we can avoid doing imports until\n",
            "/usr/local/lib/python3.6/dist-packages/ipykernel_launcher.py:4: SettingWithCopyWarning: \n",
            "A value is trying to be set on a copy of a slice from a DataFrame.\n",
            "Try using .loc[row_indexer,col_indexer] = value instead\n",
            "\n",
            "See the caveats in the documentation: https://pandas.pydata.org/pandas-docs/stable/user_guide/indexing.html#returning-a-view-versus-a-copy\n",
            "  after removing the cwd from sys.path.\n",
            "/usr/local/lib/python3.6/dist-packages/ipykernel_launcher.py:7: SettingWithCopyWarning: \n",
            "A value is trying to be set on a copy of a slice from a DataFrame.\n",
            "Try using .loc[row_indexer,col_indexer] = value instead\n",
            "\n",
            "See the caveats in the documentation: https://pandas.pydata.org/pandas-docs/stable/user_guide/indexing.html#returning-a-view-versus-a-copy\n",
            "  import sys\n",
            "/usr/local/lib/python3.6/dist-packages/ipykernel_launcher.py:8: SettingWithCopyWarning: \n",
            "A value is trying to be set on a copy of a slice from a DataFrame.\n",
            "Try using .loc[row_indexer,col_indexer] = value instead\n",
            "\n",
            "See the caveats in the documentation: https://pandas.pydata.org/pandas-docs/stable/user_guide/indexing.html#returning-a-view-versus-a-copy\n",
            "  \n"
          ],
          "name": "stderr"
        }
      ]
    },
    {
      "cell_type": "code",
      "metadata": {
        "id": "yU6qchzHkAWV",
        "colab_type": "code",
        "colab": {
          "base_uri": "https://localhost:8080/",
          "height": 415
        },
        "outputId": "9c08c170-f6c6-4b11-b389-063d15fbfafc"
      },
      "source": [
        "ds2 = pd.concat([X_train_continuous,X_train_categorical,y_train], axis=1)\n",
        "ds2"
      ],
      "execution_count": 64,
      "outputs": [
        {
          "output_type": "execute_result",
          "data": {
            "text/html": [
              "<div>\n",
              "<style scoped>\n",
              "    .dataframe tbody tr th:only-of-type {\n",
              "        vertical-align: middle;\n",
              "    }\n",
              "\n",
              "    .dataframe tbody tr th {\n",
              "        vertical-align: top;\n",
              "    }\n",
              "\n",
              "    .dataframe thead th {\n",
              "        text-align: right;\n",
              "    }\n",
              "</style>\n",
              "<table border=\"1\" class=\"dataframe\">\n",
              "  <thead>\n",
              "    <tr style=\"text-align: right;\">\n",
              "      <th></th>\n",
              "      <th>size</th>\n",
              "      <th>n_rooms</th>\n",
              "      <th>lamp</th>\n",
              "      <th>size_n_rooms</th>\n",
              "      <th>size_size</th>\n",
              "      <th>n_rooms_n_rooms</th>\n",
              "      <th>area</th>\n",
              "      <th>ctype</th>\n",
              "      <th>price</th>\n",
              "    </tr>\n",
              "  </thead>\n",
              "  <tbody>\n",
              "    <tr>\n",
              "      <th>0</th>\n",
              "      <td>21</td>\n",
              "      <td>4</td>\n",
              "      <td>264</td>\n",
              "      <td>84</td>\n",
              "      <td>441</td>\n",
              "      <td>16</td>\n",
              "      <td>Florentine</td>\n",
              "      <td>luxury</td>\n",
              "      <td>2404710.0</td>\n",
              "    </tr>\n",
              "    <tr>\n",
              "      <th>1</th>\n",
              "      <td>20</td>\n",
              "      <td>3</td>\n",
              "      <td>251</td>\n",
              "      <td>60</td>\n",
              "      <td>400</td>\n",
              "      <td>9</td>\n",
              "      <td>Florentine</td>\n",
              "      <td>intermediate</td>\n",
              "      <td>229480.0</td>\n",
              "    </tr>\n",
              "    <tr>\n",
              "      <th>2</th>\n",
              "      <td>34</td>\n",
              "      <td>5</td>\n",
              "      <td>244</td>\n",
              "      <td>170</td>\n",
              "      <td>1156</td>\n",
              "      <td>25</td>\n",
              "      <td>Old North</td>\n",
              "      <td>intermediate</td>\n",
              "      <td>1011780.0</td>\n",
              "    </tr>\n",
              "    <tr>\n",
              "      <th>3</th>\n",
              "      <td>13</td>\n",
              "      <td>4</td>\n",
              "      <td>242</td>\n",
              "      <td>52</td>\n",
              "      <td>169</td>\n",
              "      <td>16</td>\n",
              "      <td>Florentine</td>\n",
              "      <td>luxury</td>\n",
              "      <td>2402870.0</td>\n",
              "    </tr>\n",
              "    <tr>\n",
              "      <th>4</th>\n",
              "      <td>24</td>\n",
              "      <td>1</td>\n",
              "      <td>315</td>\n",
              "      <td>24</td>\n",
              "      <td>576</td>\n",
              "      <td>1</td>\n",
              "      <td>Florentine</td>\n",
              "      <td>premium</td>\n",
              "      <td>55400.0</td>\n",
              "    </tr>\n",
              "    <tr>\n",
              "      <th>...</th>\n",
              "      <td>...</td>\n",
              "      <td>...</td>\n",
              "      <td>...</td>\n",
              "      <td>...</td>\n",
              "      <td>...</td>\n",
              "      <td>...</td>\n",
              "      <td>...</td>\n",
              "      <td>...</td>\n",
              "      <td>...</td>\n",
              "    </tr>\n",
              "    <tr>\n",
              "      <th>29995</th>\n",
              "      <td>23</td>\n",
              "      <td>5</td>\n",
              "      <td>253</td>\n",
              "      <td>115</td>\n",
              "      <td>529</td>\n",
              "      <td>25</td>\n",
              "      <td>Mercaz</td>\n",
              "      <td>compact</td>\n",
              "      <td>1417630.0</td>\n",
              "    </tr>\n",
              "    <tr>\n",
              "      <th>29996</th>\n",
              "      <td>24</td>\n",
              "      <td>3</td>\n",
              "      <td>341</td>\n",
              "      <td>72</td>\n",
              "      <td>576</td>\n",
              "      <td>9</td>\n",
              "      <td>Florentine</td>\n",
              "      <td>fullsize</td>\n",
              "      <td>342900.0</td>\n",
              "    </tr>\n",
              "    <tr>\n",
              "      <th>29997</th>\n",
              "      <td>28</td>\n",
              "      <td>2</td>\n",
              "      <td>333</td>\n",
              "      <td>56</td>\n",
              "      <td>784</td>\n",
              "      <td>4</td>\n",
              "      <td>Old North</td>\n",
              "      <td>compact</td>\n",
              "      <td>129680.0</td>\n",
              "    </tr>\n",
              "    <tr>\n",
              "      <th>29998</th>\n",
              "      <td>21</td>\n",
              "      <td>2</td>\n",
              "      <td>320</td>\n",
              "      <td>42</td>\n",
              "      <td>441</td>\n",
              "      <td>4</td>\n",
              "      <td>Mercaz</td>\n",
              "      <td>economy</td>\n",
              "      <td>190380.0</td>\n",
              "    </tr>\n",
              "    <tr>\n",
              "      <th>29999</th>\n",
              "      <td>27</td>\n",
              "      <td>5</td>\n",
              "      <td>364</td>\n",
              "      <td>135</td>\n",
              "      <td>729</td>\n",
              "      <td>25</td>\n",
              "      <td>Mercaz</td>\n",
              "      <td>compact</td>\n",
              "      <td>1419630.0</td>\n",
              "    </tr>\n",
              "  </tbody>\n",
              "</table>\n",
              "<p>30000 rows × 9 columns</p>\n",
              "</div>"
            ],
            "text/plain": [
              "       size  n_rooms  lamp  ...        area         ctype      price\n",
              "0        21        4   264  ...  Florentine        luxury  2404710.0\n",
              "1        20        3   251  ...  Florentine  intermediate   229480.0\n",
              "2        34        5   244  ...   Old North  intermediate  1011780.0\n",
              "3        13        4   242  ...  Florentine        luxury  2402870.0\n",
              "4        24        1   315  ...  Florentine       premium    55400.0\n",
              "...     ...      ...   ...  ...         ...           ...        ...\n",
              "29995    23        5   253  ...      Mercaz       compact  1417630.0\n",
              "29996    24        3   341  ...  Florentine      fullsize   342900.0\n",
              "29997    28        2   333  ...   Old North       compact   129680.0\n",
              "29998    21        2   320  ...      Mercaz       economy   190380.0\n",
              "29999    27        5   364  ...      Mercaz       compact  1419630.0\n",
              "\n",
              "[30000 rows x 9 columns]"
            ]
          },
          "metadata": {
            "tags": []
          },
          "execution_count": 64
        }
      ]
    },
    {
      "cell_type": "markdown",
      "metadata": {
        "id": "vXuM3BrVq4KA",
        "colab_type": "text"
      },
      "source": [
        "#### Normalization"
      ]
    },
    {
      "cell_type": "code",
      "metadata": {
        "id": "YzFFJcR-q4KE",
        "colab_type": "code",
        "colab": {}
      },
      "source": [
        "# Normalizing both train and test sets to have 0 mean and std. of 1 using the train set mean and std.\n",
        "# This will give each feature an equal initial importance and speed up the training time\n",
        "# zscore norm\n",
        "train_mean = X_train_continuous.mean(axis=0)\n",
        "train_std = X_train_continuous.std(axis=0)\n",
        "\n",
        "X_train_continuous = X_train_continuous - train_mean\n",
        "X_train_continuous /= train_std\n",
        "\n",
        "X_val_continuous = X_val_continuous - train_mean\n",
        "X_val_continuous /= train_std"
      ],
      "execution_count": 65,
      "outputs": []
    },
    {
      "cell_type": "code",
      "metadata": {
        "id": "Z8krJFMSFOnC",
        "colab_type": "code",
        "colab": {}
      },
      "source": [
        "# min-max norm\n",
        "\n",
        "train_min = X_train_continuous.min(axis=0)\n",
        "train_max = X_train_continuous.max(axis=0)\n",
        "\n",
        "X_train_continuous = X_train_continuous - train_min\n",
        "X_train_continuous /= train_max\n",
        "\n",
        "X_val_continuous = X_val_continuous - train_min\n",
        "X_val_continuous /= train_max"
      ],
      "execution_count": 106,
      "outputs": []
    },
    {
      "cell_type": "markdown",
      "metadata": {
        "id": "bcVGgUTDq4KZ",
        "colab_type": "text"
      },
      "source": [
        "## Build a model using a categorical variable"
      ]
    },
    {
      "cell_type": "markdown",
      "metadata": {
        "id": "uiUZ1vnFq4Kc",
        "colab_type": "text"
      },
      "source": [
        "### First let's define a helper class for the categorical variable"
      ]
    },
    {
      "cell_type": "code",
      "metadata": {
        "id": "y84AQMs8q4Kg",
        "colab_type": "code",
        "colab": {}
      },
      "source": [
        "class EmbeddingMapping():\n",
        "    \"\"\"\n",
        "    Helper class for handling categorical variables\n",
        "    An instance of this class should be defined for each categorical variable we want to use.\n",
        "    \"\"\"\n",
        "    def __init__(self, series):\n",
        "        # get a list of unique values\n",
        "        values = series.unique().tolist()\n",
        "        \n",
        "        # Set a dictionary mapping from values to integer value\n",
        "        # In our example this will be {'Mercaz': 1, 'Old North': 2, 'Florentine': 3}\n",
        "        self.embedding_dict = {value: int_value+1 for int_value, value in enumerate(values)}\n",
        "        \n",
        "        # The num_values will be used as the input_dim when defining the embedding layer. \n",
        "        # It will also be returned for unseen values \n",
        "        self.num_values = len(values) + 1\n",
        "\n",
        "    def get_mapping(self, value):\n",
        "        # If the value was seen in the training set, return its integer mapping\n",
        "        if value in self.embedding_dict:\n",
        "            return self.embedding_dict[value]\n",
        "        \n",
        "        # Else, return the same integer for unseen values\n",
        "        else:\n",
        "            return self.num_values"
      ],
      "execution_count": 66,
      "outputs": []
    },
    {
      "cell_type": "markdown",
      "metadata": {
        "id": "2JkHgbnWq4Kz",
        "colab_type": "text"
      },
      "source": [
        "### Create an embedding column for the train/validation sets"
      ]
    },
    {
      "cell_type": "code",
      "metadata": {
        "id": "GLa0yXViq4K2",
        "colab_type": "code",
        "colab": {}
      },
      "source": [
        "area_mapping = EmbeddingMapping(X_train_categorical['area'])\n",
        "type_mapping = EmbeddingMapping(X_train_categorical['ctype'])\n",
        "\n",
        "X_train_categorical = X_train_categorical.assign(area_mapping=X_train_categorical['area'].apply(area_mapping.get_mapping))\n",
        "X_train_categorical = X_train_categorical.assign(type_mapping=X_train_categorical['ctype'].apply(type_mapping.get_mapping))\n",
        "X_val_categorical = X_val_categorical.assign(area_mapping=X_val_categorical['area'].apply(area_mapping.get_mapping))\n",
        "X_val_categorical = X_val_categorical.assign(type_mapping=X_val_categorical['ctype'].apply(type_mapping.get_mapping))"
      ],
      "execution_count": 67,
      "outputs": []
    },
    {
      "cell_type": "markdown",
      "metadata": {
        "id": "IBj-MCG5q4LC",
        "colab_type": "text"
      },
      "source": [
        "#### A corresponding 'area_mapping' column was added to the train/validation sets"
      ]
    },
    {
      "cell_type": "code",
      "metadata": {
        "id": "hqpq-bdaq4LH",
        "colab_type": "code",
        "colab": {}
      },
      "source": [
        "X_train_continuous_org = X_train_continuous\n",
        "X_train_categorical_org = X_train_categorical\n",
        "X_val_continuous_org = X_val_continuous\n",
        "X_val_categorical_org = X_val_categorical\n",
        "\n",
        "# 학습 대상 변수만 선택\n",
        "X_train_continuous = X_train_continuous_org[['size','n_rooms','n_rooms_n_rooms']]\n",
        "X_train_categorical = X_train_categorical_org\n",
        "X_val_continuous  = X_val_continuous_org[['size','n_rooms','n_rooms_n_rooms']]\n",
        "X_val_categorical = X_val_categorical_org\n"
      ],
      "execution_count": 68,
      "outputs": []
    },
    {
      "cell_type": "code",
      "metadata": {
        "id": "NsPZpAynMK5O",
        "colab_type": "code",
        "colab": {
          "base_uri": "https://localhost:8080/",
          "height": 415
        },
        "outputId": "16b7bb56-b841-49bd-fa4a-1b9a065bca2c"
      },
      "source": [
        "ds2 = pd.concat([X_train_continuous,X_train_categorical,y_train], axis=1)\n",
        "ds2"
      ],
      "execution_count": 69,
      "outputs": [
        {
          "output_type": "execute_result",
          "data": {
            "text/html": [
              "<div>\n",
              "<style scoped>\n",
              "    .dataframe tbody tr th:only-of-type {\n",
              "        vertical-align: middle;\n",
              "    }\n",
              "\n",
              "    .dataframe tbody tr th {\n",
              "        vertical-align: top;\n",
              "    }\n",
              "\n",
              "    .dataframe thead th {\n",
              "        text-align: right;\n",
              "    }\n",
              "</style>\n",
              "<table border=\"1\" class=\"dataframe\">\n",
              "  <thead>\n",
              "    <tr style=\"text-align: right;\">\n",
              "      <th></th>\n",
              "      <th>size</th>\n",
              "      <th>n_rooms</th>\n",
              "      <th>n_rooms_n_rooms</th>\n",
              "      <th>area</th>\n",
              "      <th>ctype</th>\n",
              "      <th>area_mapping</th>\n",
              "      <th>type_mapping</th>\n",
              "      <th>price</th>\n",
              "    </tr>\n",
              "  </thead>\n",
              "  <tbody>\n",
              "    <tr>\n",
              "      <th>0</th>\n",
              "      <td>-0.701979</td>\n",
              "      <td>0.709465</td>\n",
              "      <td>0.581026</td>\n",
              "      <td>Florentine</td>\n",
              "      <td>luxury</td>\n",
              "      <td>1</td>\n",
              "      <td>1</td>\n",
              "      <td>2404710.0</td>\n",
              "    </tr>\n",
              "    <tr>\n",
              "      <th>1</th>\n",
              "      <td>-0.901512</td>\n",
              "      <td>0.003108</td>\n",
              "      <td>-0.228815</td>\n",
              "      <td>Florentine</td>\n",
              "      <td>intermediate</td>\n",
              "      <td>1</td>\n",
              "      <td>2</td>\n",
              "      <td>229480.0</td>\n",
              "    </tr>\n",
              "    <tr>\n",
              "      <th>2</th>\n",
              "      <td>1.891956</td>\n",
              "      <td>1.415822</td>\n",
              "      <td>1.622251</td>\n",
              "      <td>Old North</td>\n",
              "      <td>intermediate</td>\n",
              "      <td>2</td>\n",
              "      <td>2</td>\n",
              "      <td>1011780.0</td>\n",
              "    </tr>\n",
              "    <tr>\n",
              "      <th>3</th>\n",
              "      <td>-2.298246</td>\n",
              "      <td>0.709465</td>\n",
              "      <td>0.581026</td>\n",
              "      <td>Florentine</td>\n",
              "      <td>luxury</td>\n",
              "      <td>1</td>\n",
              "      <td>1</td>\n",
              "      <td>2402870.0</td>\n",
              "    </tr>\n",
              "    <tr>\n",
              "      <th>4</th>\n",
              "      <td>-0.103378</td>\n",
              "      <td>-1.409606</td>\n",
              "      <td>-1.154348</td>\n",
              "      <td>Florentine</td>\n",
              "      <td>premium</td>\n",
              "      <td>1</td>\n",
              "      <td>3</td>\n",
              "      <td>55400.0</td>\n",
              "    </tr>\n",
              "    <tr>\n",
              "      <th>...</th>\n",
              "      <td>...</td>\n",
              "      <td>...</td>\n",
              "      <td>...</td>\n",
              "      <td>...</td>\n",
              "      <td>...</td>\n",
              "      <td>...</td>\n",
              "      <td>...</td>\n",
              "      <td>...</td>\n",
              "    </tr>\n",
              "    <tr>\n",
              "      <th>29995</th>\n",
              "      <td>-0.302912</td>\n",
              "      <td>1.415822</td>\n",
              "      <td>1.622251</td>\n",
              "      <td>Mercaz</td>\n",
              "      <td>compact</td>\n",
              "      <td>3</td>\n",
              "      <td>5</td>\n",
              "      <td>1417630.0</td>\n",
              "    </tr>\n",
              "    <tr>\n",
              "      <th>29996</th>\n",
              "      <td>-0.103378</td>\n",
              "      <td>0.003108</td>\n",
              "      <td>-0.228815</td>\n",
              "      <td>Florentine</td>\n",
              "      <td>fullsize</td>\n",
              "      <td>1</td>\n",
              "      <td>7</td>\n",
              "      <td>342900.0</td>\n",
              "    </tr>\n",
              "    <tr>\n",
              "      <th>29997</th>\n",
              "      <td>0.694756</td>\n",
              "      <td>-0.703249</td>\n",
              "      <td>-0.807273</td>\n",
              "      <td>Old North</td>\n",
              "      <td>compact</td>\n",
              "      <td>2</td>\n",
              "      <td>5</td>\n",
              "      <td>129680.0</td>\n",
              "    </tr>\n",
              "    <tr>\n",
              "      <th>29998</th>\n",
              "      <td>-0.701979</td>\n",
              "      <td>-0.703249</td>\n",
              "      <td>-0.807273</td>\n",
              "      <td>Mercaz</td>\n",
              "      <td>economy</td>\n",
              "      <td>3</td>\n",
              "      <td>8</td>\n",
              "      <td>190380.0</td>\n",
              "    </tr>\n",
              "    <tr>\n",
              "      <th>29999</th>\n",
              "      <td>0.495222</td>\n",
              "      <td>1.415822</td>\n",
              "      <td>1.622251</td>\n",
              "      <td>Mercaz</td>\n",
              "      <td>compact</td>\n",
              "      <td>3</td>\n",
              "      <td>5</td>\n",
              "      <td>1419630.0</td>\n",
              "    </tr>\n",
              "  </tbody>\n",
              "</table>\n",
              "<p>30000 rows × 8 columns</p>\n",
              "</div>"
            ],
            "text/plain": [
              "           size   n_rooms  ...  type_mapping      price\n",
              "0     -0.701979  0.709465  ...             1  2404710.0\n",
              "1     -0.901512  0.003108  ...             2   229480.0\n",
              "2      1.891956  1.415822  ...             2  1011780.0\n",
              "3     -2.298246  0.709465  ...             1  2402870.0\n",
              "4     -0.103378 -1.409606  ...             3    55400.0\n",
              "...         ...       ...  ...           ...        ...\n",
              "29995 -0.302912  1.415822  ...             5  1417630.0\n",
              "29996 -0.103378  0.003108  ...             7   342900.0\n",
              "29997  0.694756 -0.703249  ...             5   129680.0\n",
              "29998 -0.701979 -0.703249  ...             8   190380.0\n",
              "29999  0.495222  1.415822  ...             5  1419630.0\n",
              "\n",
              "[30000 rows x 8 columns]"
            ]
          },
          "metadata": {
            "tags": []
          },
          "execution_count": 69
        }
      ]
    },
    {
      "cell_type": "code",
      "metadata": {
        "id": "-Z8QhlGZMjd-",
        "colab_type": "code",
        "colab": {
          "base_uri": "https://localhost:8080/",
          "height": 613
        },
        "outputId": "af1dc4a1-2962-4fcd-c7b2-2db768431281"
      },
      "source": [
        "# Here is the histogram of the differences\n",
        "plt.figure(figsize=(20,10))\n",
        "plt.hist(y_train['price'], bins=500)\n",
        "plt.xlabel(\"$\")\n",
        "plt.ylabel(\"# Price\")\n",
        "_ = plt.title(\"Price distribution\")"
      ],
      "execution_count": 70,
      "outputs": [
        {
          "output_type": "display_data",
          "data": {
            "image/png": "[encoded data removed]",
            "text/plain": [
              "<Figure size 1440x720 with 1 Axes>"
            ]
          },
          "metadata": {
            "tags": [],
            "needs_background": "light"
          }
        }
      ]
    },
    {
      "cell_type": "markdown",
      "metadata": {
        "id": "AvhRUlptq4LV",
        "colab_type": "text"
      },
      "source": [
        "### Define the input layers"
      ]
    },
    {
      "cell_type": "code",
      "metadata": {
        "id": "rCbTTyL9q4LX",
        "colab_type": "code",
        "colab": {
          "base_uri": "https://localhost:8080/",
          "height": 36
        },
        "outputId": "d9cdfa97-940b-442b-cdef-7152515c15a4"
      },
      "source": [
        "# Define the embedding input\n",
        "cate_input = Input(shape=(2,), dtype='int32') \n",
        "\n",
        "# Decide to what vector size we want to map our 'area' variable. \n",
        "# I'll use 1 here because we only have three areas\n",
        "embeddings_output = 24*3\n",
        "\n",
        "\n",
        "# Let’s define the embedding layer and flatten it\n",
        "cate_embedings = Embedding(output_dim=embeddings_output, input_dim=X_train_categorical.shape[0])(cate_input)\n",
        "cate_embedings = keras.layers.Reshape((embeddings_output*2,))(cate_embedings)\n",
        "print(cate_embedings)\n",
        "# Define the continuous variables input (just like before)\n",
        "continuous_input = Input(shape=(X_train_continuous.shape[1], ))\n",
        "\n",
        "# Concatenate continuous and embeddings inputs\n",
        "all_input = keras.layers.concatenate([continuous_input, cate_embedings])"
      ],
      "execution_count": 44,
      "outputs": [
        {
          "output_type": "stream",
          "text": [
            "Tensor(\"reshape_1/Reshape:0\", shape=(None, 144), dtype=float32)\n"
          ],
          "name": "stdout"
        }
      ]
    },
    {
      "cell_type": "code",
      "metadata": {
        "id": "I7fBjS49MYjd",
        "colab_type": "code",
        "colab": {
          "base_uri": "https://localhost:8080/",
          "height": 36
        },
        "outputId": "8a618198-adbf-4c31-9679-1152345b8796"
      },
      "source": [
        "all_input.shape[1]"
      ],
      "execution_count": 45,
      "outputs": [
        {
          "output_type": "execute_result",
          "data": {
            "text/plain": [
              "147"
            ]
          },
          "metadata": {
            "tags": []
          },
          "execution_count": 45
        }
      ]
    },
    {
      "cell_type": "markdown",
      "metadata": {
        "id": "NfA0YnySq4Lj",
        "colab_type": "text"
      },
      "source": [
        "### To merge them together we will use [Keras Functional API](https://keras.io/getting-started/functional-api-guide/)\n",
        "Will define a simple model with 2 hidden layers, with 25 neurons each."
      ]
    },
    {
      "cell_type": "code",
      "metadata": {
        "id": "btB6M8Liq4Ll",
        "colab_type": "code",
        "colab": {
          "base_uri": "https://localhost:8080/",
          "height": 484
        },
        "outputId": "77832f13-b529-415d-ed6d-b85d4031b145"
      },
      "source": [
        "# Define the model\n",
        "dense1 = Dense(all_input.shape[1]*3, activation='relu')(all_input)\n",
        "dense2 = Dense(int(all_input.shape[1]/6), activation='relu')(dense1)\n",
        "predictions = Dense(1)(dense2)\n",
        "\n",
        "# Note using the input object 'area_input' not 'area_embeddings'\n",
        "model = Model(inputs=[continuous_input, cate_input], outputs=predictions)\n",
        "model.compile(loss='mse', optimizer=keras.optimizers.Adam(lr=.8, beta_1=0.9, beta_2=0.999, decay=1e-03, amsgrad=True),metrics=[soft_acc,r2])\n",
        "model.summary()"
      ],
      "execution_count": 124,
      "outputs": [
        {
          "output_type": "stream",
          "text": [
            "Model: \"model_32\"\n",
            "__________________________________________________________________________________________________\n",
            "Layer (type)                    Output Shape         Param #     Connected to                     \n",
            "==================================================================================================\n",
            "input_21 (InputLayer)           (None, 2)            0                                            \n",
            "__________________________________________________________________________________________________\n",
            "embedding_11 (Embedding)        (None, 2, 72)        216000      input_21[0][0]                   \n",
            "__________________________________________________________________________________________________\n",
            "input_22 (InputLayer)           (None, 3)            0                                            \n",
            "__________________________________________________________________________________________________\n",
            "reshape_11 (Reshape)            (None, 144)          0           embedding_11[0][0]               \n",
            "__________________________________________________________________________________________________\n",
            "concatenate_11 (Concatenate)    (None, 147)          0           input_22[0][0]                   \n",
            "                                                                 reshape_11[0][0]                 \n",
            "__________________________________________________________________________________________________\n",
            "dense_93 (Dense)                (None, 441)          65268       concatenate_11[0][0]             \n",
            "__________________________________________________________________________________________________\n",
            "dense_94 (Dense)                (None, 24)           10608       dense_93[0][0]                   \n",
            "__________________________________________________________________________________________________\n",
            "dense_95 (Dense)                (None, 1)            25          dense_94[0][0]                   \n",
            "==================================================================================================\n",
            "Total params: 291,901\n",
            "Trainable params: 291,901\n",
            "Non-trainable params: 0\n",
            "__________________________________________________________________________________________________\n"
          ],
          "name": "stdout"
        }
      ]
    },
    {
      "cell_type": "markdown",
      "metadata": {
        "id": "Ol3kJiWKq4Lv",
        "colab_type": "text"
      },
      "source": [
        "#### Lets train the model"
      ]
    },
    {
      "cell_type": "code",
      "metadata": {
        "id": "mWOxr788q4Lw",
        "colab_type": "code",
        "colab": {
          "base_uri": "https://localhost:8080/",
          "height": 784
        },
        "outputId": "b3700211-5cd2-4627-970d-b140e02838b2"
      },
      "source": [
        "epochs = 10000\n",
        "\n",
        "# Note continuous and categorical columns are inserted in the same order as defined in all_inputs\n",
        "history = model.fit([X_train_continuous, X_train_categorical[['area_mapping','type_mapping']].to_numpy()], y_train, \n",
        "          epochs=epochs, batch_size=128, \n",
        "          callbacks=[periodic_logger_250], verbose=0,\n",
        "          validation_data=([X_val_continuous, X_val_categorical[['area_mapping','type_mapping']].to_numpy()], y_val))"
      ],
      "execution_count": 126,
      "outputs": [
        {
          "output_type": "stream",
          "text": [
            "Epoch: 250 - {'val_loss': 122790.10822916667, 'val_soft_acc': 0.732481062412262, 'val_r2': 0.9999999403953552, 'loss': 40210.498625, 'soft_acc': 0.80045575, 'r2': 1.0}\n",
            "Epoch: 500 - {'val_loss': 105989.38375, 'val_soft_acc': 0.7585227489471436, 'val_r2': 1.0, 'loss': 31697.423723958334, 'soft_acc': 0.81970793, 'r2': 1.0}\n",
            "Epoch: 750 - {'val_loss': 98861.41239583334, 'val_soft_acc': 0.7786458134651184, 'val_r2': 1.0, 'loss': 27400.56759375, 'soft_acc': 0.83212423, 'r2': 1.0}\n",
            "Epoch: 1000 - {'val_loss': 91456.79328125, 'val_soft_acc': 0.7608901858329773, 'val_r2': 1.0, 'loss': 24610.0685078125, 'soft_acc': 0.83696055, 'r2': 1.0}\n",
            "Epoch: 1250 - {'val_loss': 86927.99989583333, 'val_soft_acc': 0.7990056872367859, 'val_r2': 1.0, 'loss': 22729.705091145832, 'soft_acc': 0.8475168, 'r2': 1.0}\n",
            "Epoch: 1500 - {'val_loss': 82834.66333333333, 'val_soft_acc': 0.7937973141670227, 'val_r2': 1.0, 'loss': 21413.015442708333, 'soft_acc': 0.84714466, 'r2': 1.0}\n",
            "Epoch: 1750 - {'val_loss': 80895.68572916667, 'val_soft_acc': 0.7911931872367859, 'val_r2': 1.0, 'loss': 20272.850942708334, 'soft_acc': 0.85337615, 'r2': 1.0}\n",
            "Epoch: 2000 - {'val_loss': 78668.3884375, 'val_soft_acc': 0.7911931872367859, 'val_r2': 1.0, 'loss': 19390.979411458335, 'soft_acc': 0.85537577, 'r2': 1.0}\n",
            "Epoch: 2250 - {'val_loss': 76546.67963541667, 'val_soft_acc': 0.7937973141670227, 'val_r2': 1.0, 'loss': 18669.973635416667, 'soft_acc': 0.8539806, 'r2': 1.0}\n",
            "Epoch: 2500 - {'val_loss': 75755.17822916666, 'val_soft_acc': 0.7964015007019043, 'val_r2': 1.0, 'loss': 18007.612067708335, 'soft_acc': 0.8613281, 'r2': 1.0}\n",
            "Epoch: 2750 - {'val_loss': 74431.61104166666, 'val_soft_acc': 0.7990056872367859, 'val_r2': 1.0, 'loss': 17518.035088541666, 'soft_acc': 0.859747, 'r2': 1.0}\n",
            "Epoch: 3000 - {'val_loss': 72964.90286458333, 'val_soft_acc': 0.7990056872367859, 'val_r2': 1.0, 'loss': 17014.148046875, 'soft_acc': 0.8625372, 'r2': 1.0}\n",
            "Epoch: 3250 - {'val_loss': 71714.37572916667, 'val_soft_acc': 0.7990056872367859, 'val_r2': 1.0, 'loss': 16603.725046875, 'soft_acc': 0.8654204, 'r2': 1.0}\n",
            "Epoch: 3500 - {'val_loss': 71336.81828125, 'val_soft_acc': 0.8016098141670227, 'val_r2': 1.0, 'loss': 16252.766265625, 'soft_acc': 0.8683966, 'r2': 1.0}\n",
            "Epoch: 3750 - {'val_loss': 70494.09161458333, 'val_soft_acc': 0.8016098141670227, 'val_r2': 1.0, 'loss': 15929.564619791667, 'soft_acc': 0.8681176, 'r2': 1.0}\n",
            "Epoch: 4000 - {'val_loss': 69363.18838541667, 'val_soft_acc': 0.8016098141670227, 'val_r2': 1.0, 'loss': 15595.810572916667, 'soft_acc': 0.86937314, 'r2': 1.0}\n",
            "Epoch: 4250 - {'val_loss': 69070.54817708333, 'val_soft_acc': 0.8094223141670227, 'val_r2': 1.0, 'loss': 15343.7813515625, 'soft_acc': 0.87355846, 'r2': 1.0}\n",
            "Epoch: 4500 - {'val_loss': 68342.17489583333, 'val_soft_acc': 0.8042140007019043, 'val_r2': 1.0, 'loss': 15086.635848958333, 'soft_acc': 0.8716518, 'r2': 1.0}\n",
            "Epoch: 4750 - {'val_loss': 67412.98817708333, 'val_soft_acc': 0.814393937587738, 'val_r2': 1.0, 'loss': 14845.818286458334, 'soft_acc': 0.87648815, 'r2': 1.0}\n",
            "Epoch: 5000 - {'val_loss': 67343.76145833333, 'val_soft_acc': 0.8169980645179749, 'val_r2': 1.0, 'loss': 14635.306369791666, 'soft_acc': 0.87281436, 'r2': 1.0}\n",
            "Epoch: 5250 - {'val_loss': 66462.46338541666, 'val_soft_acc': 0.8117897510528564, 'val_r2': 1.0, 'loss': 14411.399513020833, 'soft_acc': 0.8755581, 'r2': 1.0}\n",
            "Epoch: 5500 - {'val_loss': 66024.89239583333, 'val_soft_acc': 0.814393937587738, 'val_r2': 1.0, 'loss': 14232.682484375, 'soft_acc': 0.8767206, 'r2': 1.0}\n",
            "Epoch: 5750 - {'val_loss': 65603.34578125, 'val_soft_acc': 0.814393937587738, 'val_r2': 1.0, 'loss': 14044.801052083334, 'soft_acc': 0.8773251, 'r2': 1.0}\n",
            "Epoch: 6000 - {'val_loss': 65292.1240625, 'val_soft_acc': 0.814393937587738, 'val_r2': 1.0, 'loss': 13880.5698203125, 'soft_acc': 0.87644154, 'r2': 1.0}\n",
            "Epoch: 6250 - {'val_loss': 64593.50901041667, 'val_soft_acc': 0.8219696879386902, 'val_r2': 1.0, 'loss': 13736.930354166667, 'soft_acc': 0.8782552, 'r2': 1.0}\n",
            "Epoch: 6500 - {'val_loss': 64378.09098958333, 'val_soft_acc': 0.8219696879386902, 'val_r2': 1.0, 'loss': 13598.610272135416, 'soft_acc': 0.88099885, 'r2': 1.0}\n",
            "Epoch: 6750 - {'val_loss': 63999.8784375, 'val_soft_acc': 0.8219696879386902, 'val_r2': 1.0, 'loss': 13458.145765625, 'soft_acc': 0.87769717, 'r2': 1.0}\n",
            "Epoch: 7000 - {'val_loss': 63693.93442708333, 'val_soft_acc': 0.8219696879386902, 'val_r2': 1.0, 'loss': 13322.145618489583, 'soft_acc': 0.8781157, 'r2': 1.0}\n",
            "Epoch: 7250 - {'val_loss': 63350.22739583333, 'val_soft_acc': 0.8219696879386902, 'val_r2': 1.0, 'loss': 13203.353036458333, 'soft_acc': 0.8803944, 'r2': 1.0}\n",
            "Epoch: 7500 - {'val_loss': 63181.95911458333, 'val_soft_acc': 0.8219696879386902, 'val_r2': 1.0, 'loss': 13100.117591145834, 'soft_acc': 0.87774366, 'r2': 1.0}\n",
            "Epoch: 7750 - {'val_loss': 62682.00442708333, 'val_soft_acc': 0.8219696879386902, 'val_r2': 1.0, 'loss': 12982.974643229167, 'soft_acc': 0.88095236, 'r2': 1.0}\n",
            "Epoch: 8000 - {'val_loss': 62429.60140625, 'val_soft_acc': 0.8219696879386902, 'val_r2': 1.0, 'loss': 12872.512721354167, 'soft_acc': 0.8796968, 'r2': 1.0}\n",
            "Epoch: 8250 - {'val_loss': 62228.99567708333, 'val_soft_acc': 0.8297821879386902, 'val_r2': 1.0, 'loss': 12780.131416666667, 'soft_acc': 0.87690663, 'r2': 1.0}\n",
            "Epoch: 8500 - {'val_loss': 61962.07645833334, 'val_soft_acc': 0.8297821879386902, 'val_r2': 1.0, 'loss': 12683.608630208333, 'soft_acc': 0.8798828, 'r2': 1.0}\n",
            "Epoch: 8750 - {'val_loss': 61732.562447916665, 'val_soft_acc': 0.8297821879386902, 'val_r2': 1.0, 'loss': 12588.677348958334, 'soft_acc': 0.8787202, 'r2': 1.0}\n",
            "Epoch: 9000 - {'val_loss': 61480.63072916667, 'val_soft_acc': 0.8297821879386902, 'val_r2': 1.0, 'loss': 12501.226643229167, 'soft_acc': 0.8790457, 'r2': 1.0}\n",
            "Epoch: 9250 - {'val_loss': 61267.914322916666, 'val_soft_acc': 0.832386314868927, 'val_r2': 1.0, 'loss': 12416.007135416667, 'soft_acc': 0.8825335, 'r2': 1.0}\n",
            "Epoch: 9500 - {'val_loss': 61068.142552083336, 'val_soft_acc': 0.832386314868927, 'val_r2': 1.0, 'loss': 12342.9818046875, 'soft_acc': 0.8805339, 'r2': 1.0}\n",
            "Epoch: 9750 - {'val_loss': 60911.256197916664, 'val_soft_acc': 0.832386314868927, 'val_r2': 1.0, 'loss': 12264.570838541667, 'soft_acc': 0.88183594, 'r2': 1.0}\n",
            "Epoch: 10000 - {'val_loss': 60592.70609375, 'val_soft_acc': 0.832386314868927, 'val_r2': 1.0, 'loss': 12195.586860677084, 'soft_acc': 0.88127786, 'r2': 1.0}\n"
          ],
          "name": "stdout"
        }
      ]
    },
    {
      "cell_type": "code",
      "metadata": {
        "id": "TGIAOn3Rq4L9",
        "colab_type": "code",
        "colab": {
          "base_uri": "https://localhost:8080/",
          "height": 582
        },
        "outputId": "80905f21-c969-43fb-c817-0de4494d5d24"
      },
      "source": [
        "# Plot the train/validation loss values\n",
        "plt.figure(figsize=(20,10))\n",
        "_loss = history.history['loss'][250:]\n",
        "_val_loss = history.history['val_loss'][250:]\n",
        "\n",
        "train_loss_plot, = plt.plot(range(1, len(_loss)+1), _loss, label='Train Loss')\n",
        "val_loss_plot, = plt.plot(range(1, len(_val_loss)+1), _val_loss, label='Validation Loss')\n",
        "\n",
        "_ = plt.legend(handles=[train_loss_plot, val_loss_plot])"
      ],
      "execution_count": 127,
      "outputs": [
        {
          "output_type": "display_data",
          "data": {
            "image/png": "[encoded data removed]",
            "text/plain": [
              "<Figure size 1440x720 with 1 Axes>"
            ]
          },
          "metadata": {
            "tags": [],
            "needs_background": "light"
          }
        }
      ]
    },
    {
      "cell_type": "markdown",
      "metadata": {
        "id": "0Bc2iXsSq4MK",
        "colab_type": "text"
      },
      "source": [
        "After ~500 epochs the validation_loss is very low. This would have been a very good result if this was a \"real world problem\", particularly because we are using a quadratic loss function (Mean Square Error) when trying to predict a large value:"
      ]
    },
    {
      "cell_type": "markdown",
      "metadata": {
        "id": "ytZRzEHgq4Md",
        "colab_type": "text"
      },
      "source": [
        "## How good are the model's predictions?"
      ]
    },
    {
      "cell_type": "code",
      "metadata": {
        "id": "1mQ2MD_rq4Me",
        "colab_type": "code",
        "colab": {
          "base_uri": "https://localhost:8080/",
          "height": 769
        },
        "outputId": "5f2d2de2-d585-428e-c6a5-59c18e164554"
      },
      "source": [
        "print (\"This is the average value we are trying to predict: %d\" % y_val.mean().iloc[0])\n",
        "\n",
        "df = y_val.copy()\n",
        "\n",
        "# Add a column for the model's predicted values\n",
        "df['pred'] = model.predict([X_val_continuous, X_val_categorical[['area_mapping','type_mapping']].to_numpy()])\n",
        "\n",
        "# Calculate the difference between the predicted and the actual price\n",
        "df['diff'] = df['pred'] - df['price']\n",
        "\n",
        "# Calculate the absolute difference between the predicted and the actual price\n",
        "df['abs_diff'] = np.abs(df['diff'])\n",
        "\n",
        "# Calculate the percentage of the difference from the actual price\n",
        "df['%diff'] = 100 * (df['diff'] / df['price'])\n",
        "\n",
        "# Calculate the absolute percentage difference from the actual price\n",
        "df['abs_%diff'] = np.abs(df['%diff'])\n",
        "\n",
        "# Sort by the 'abs_diff' field and show the 5 largest mistakes in absolute values\n",
        "print(df.sort_values(\"abs_diff\", ascending=False).head(5))\n",
        "# Calculate the mean and std. of the diff field\n",
        "diff_mean, diff_std = df['diff'].mean(), df['diff'].std()\n",
        "print(\"The mean is very close to 0 ({mean}) with std. {std}.\".format(mean=round(diff_mean, 2), std=round(diff_std, 2)))\n",
        "\n",
        "# Here is the histogram of the differences\n",
        "plt.figure(figsize=(20,10))\n",
        "plt.hist(df['diff'], bins=100)\n",
        "plt.xlabel(\"$\")\n",
        "plt.ylabel(\"# samples\")\n",
        "_ = plt.title(\"Difference between predicted and actual price\")"
      ],
      "execution_count": 128,
      "outputs": [
        {
          "output_type": "stream",
          "text": [
            "This is the average value we are trying to predict: 1068854\n",
            "         price          pred         diff     abs_diff     %diff  abs_%diff\n",
            "202  1806880.0  1.808667e+06  1787.125000  1787.125000  0.098907   0.098907\n",
            "63    457380.0  4.588910e+05  1511.031250  1511.031250  0.330367   0.330367\n",
            "21   1263180.0  1.264591e+06  1410.625000  1410.625000  0.111673   0.111673\n",
            "162   245130.0  2.464071e+05  1277.109375  1277.109375  0.520993   0.520993\n",
            "106   972480.0  9.736444e+05  1164.437500  1164.437500  0.119739   0.119739\n",
            "The mean is very close to 0 (43.38) with std. 242.71.\n"
          ],
          "name": "stdout"
        },
        {
          "output_type": "display_data",
          "data": {
            "image/png": "[encoded data removed]",
            "text/plain": [
              "<Figure size 1440x720 with 1 Axes>"
            ]
          },
          "metadata": {
            "tags": [],
            "needs_background": "light"
          }
        }
      ]
    },
    {
      "cell_type": "code",
      "metadata": {
        "id": "K72ocNv_QhPO",
        "colab_type": "code",
        "colab": {
          "base_uri": "https://localhost:8080/",
          "height": 729
        },
        "outputId": "0ee5ba18-f0e1-4750-c002-8f6f59a8f252"
      },
      "source": [
        "# Sort by the '%diff' field and show the 5 largest proportional mistakes\n",
        "print(df.sort_values(\"abs_%diff\", ascending=False).head(5))\n",
        "\n",
        "# Also, plot the histogram\n",
        "plt.figure(figsize=(20,10))\n",
        "plt.hist(df['%diff'], bins=100)\n",
        "plt.xlabel(\"%\")\n",
        "plt.ylabel(\"# samples\")\n",
        "_ = plt.title(\"% of difference between predicted and actual price\")"
      ],
      "execution_count": 129,
      "outputs": [
        {
          "output_type": "stream",
          "text": [
            "        price           pred         diff     abs_diff     %diff  abs_%diff\n",
            "159   32240.0   32645.308594   405.308594   405.308594  1.257161   1.257161\n",
            "158   19020.0   19234.179688   214.179688   214.179688  1.126076   1.126076\n",
            "233  152870.0  153976.421875  1106.421875  1106.421875  0.723767   0.723767\n",
            "185   61880.0   61477.425781  -402.574219   402.574219 -0.650572   0.650572\n",
            "59    64130.0   64523.863281   393.863281   393.863281  0.614164   0.614164\n"
          ],
          "name": "stdout"
        },
        {
          "output_type": "display_data",
          "data": {
            "image/png": "[encoded data removed]",
            "text/plain": [
              "<Figure size 1440x720 with 1 Axes>"
            ]
          },
          "metadata": {
            "tags": [],
            "needs_background": "light"
          }
        }
      ]
    },
    {
      "cell_type": "code",
      "metadata": {
        "id": "QV-SmHrpbV3Q",
        "colab_type": "code",
        "colab": {
          "base_uri": "https://localhost:8080/",
          "height": 521
        },
        "outputId": "631f11d7-743e-458e-c5ac-06a3bd48b451"
      },
      "source": [
        "!pip install lime"
      ],
      "execution_count": 133,
      "outputs": [
        {
          "output_type": "stream",
          "text": [
            "Collecting lime\n",
            "\u001b[?25l  Downloading https://files.pythonhosted.org/packages/f5/86/91a13127d83d793ecb50eb75e716f76e6eda809b6803c5a4ff462339789e/lime-0.2.0.1.tar.gz (275kB)\n",
            "\r\u001b[K     |█▏                              | 10kB 16.0MB/s eta 0:00:01\r\u001b[K     |██▍                             | 20kB 4.7MB/s eta 0:00:01\r\u001b[K     |███▋                            | 30kB 6.1MB/s eta 0:00:01\r\u001b[K     |████▊                           | 40kB 6.3MB/s eta 0:00:01\r\u001b[K     |██████                          | 51kB 5.3MB/s eta 0:00:01\r\u001b[K     |███████▏                        | 61kB 5.8MB/s eta 0:00:01\r\u001b[K     |████████▎                       | 71kB 6.3MB/s eta 0:00:01\r\u001b[K     |█████████▌                      | 81kB 6.8MB/s eta 0:00:01\r\u001b[K     |██████████▊                     | 92kB 7.2MB/s eta 0:00:01\r\u001b[K     |███████████▉                    | 102kB 7.3MB/s eta 0:00:01\r\u001b[K     |█████████████                   | 112kB 7.3MB/s eta 0:00:01\r\u001b[K     |██████████████▎                 | 122kB 7.3MB/s eta 0:00:01\r\u001b[K     |███████████████▌                | 133kB 7.3MB/s eta 0:00:01\r\u001b[K     |████████████████▋               | 143kB 7.3MB/s eta 0:00:01\r\u001b[K     |█████████████████▉              | 153kB 7.3MB/s eta 0:00:01\r\u001b[K     |███████████████████             | 163kB 7.3MB/s eta 0:00:01\r\u001b[K     |████████████████████▏           | 174kB 7.3MB/s eta 0:00:01\r\u001b[K     |█████████████████████▍          | 184kB 7.3MB/s eta 0:00:01\r\u001b[K     |██████████████████████▋         | 194kB 7.3MB/s eta 0:00:01\r\u001b[K     |███████████████████████▊        | 204kB 7.3MB/s eta 0:00:01\r\u001b[K     |█████████████████████████       | 215kB 7.3MB/s eta 0:00:01\r\u001b[K     |██████████████████████████▏     | 225kB 7.3MB/s eta 0:00:01\r\u001b[K     |███████████████████████████▍    | 235kB 7.3MB/s eta 0:00:01\r\u001b[K     |████████████████████████████▌   | 245kB 7.3MB/s eta 0:00:01\r\u001b[K     |█████████████████████████████▊  | 256kB 7.3MB/s eta 0:00:01\r\u001b[K     |███████████████████████████████ | 266kB 7.3MB/s eta 0:00:01\r\u001b[K     |████████████████████████████████| 276kB 7.3MB/s \n",
            "\u001b[?25hRequirement already satisfied: matplotlib in /usr/local/lib/python3.6/dist-packages (from lime) (3.2.2)\n",
            "Requirement already satisfied: numpy in /usr/local/lib/python3.6/dist-packages (from lime) (1.18.5)\n",
            "Requirement already satisfied: scipy in /usr/local/lib/python3.6/dist-packages (from lime) (1.4.1)\n",
            "Requirement already satisfied: tqdm in /usr/local/lib/python3.6/dist-packages (from lime) (4.41.1)\n",
            "Requirement already satisfied: scikit-learn>=0.18 in /usr/local/lib/python3.6/dist-packages (from lime) (0.22.2.post1)\n",
            "Requirement already satisfied: scikit-image>=0.12 in /usr/local/lib/python3.6/dist-packages (from lime) (0.16.2)\n",
            "Requirement already satisfied: kiwisolver>=1.0.1 in /usr/local/lib/python3.6/dist-packages (from matplotlib->lime) (1.2.0)\n",
            "Requirement already satisfied: cycler>=0.10 in /usr/local/lib/python3.6/dist-packages (from matplotlib->lime) (0.10.0)\n",
            "Requirement already satisfied: python-dateutil>=2.1 in /usr/local/lib/python3.6/dist-packages (from matplotlib->lime) (2.8.1)\n",
            "Requirement already satisfied: pyparsing!=2.0.4,!=2.1.2,!=2.1.6,>=2.0.1 in /usr/local/lib/python3.6/dist-packages (from matplotlib->lime) (2.4.7)\n",
            "Requirement already satisfied: joblib>=0.11 in /usr/local/lib/python3.6/dist-packages (from scikit-learn>=0.18->lime) (0.15.1)\n",
            "Requirement already satisfied: PyWavelets>=0.4.0 in /usr/local/lib/python3.6/dist-packages (from scikit-image>=0.12->lime) (1.1.1)\n",
            "Requirement already satisfied: pillow>=4.3.0 in /usr/local/lib/python3.6/dist-packages (from scikit-image>=0.12->lime) (7.0.0)\n",
            "Requirement already satisfied: networkx>=2.0 in /usr/local/lib/python3.6/dist-packages (from scikit-image>=0.12->lime) (2.4)\n",
            "Requirement already satisfied: imageio>=2.3.0 in /usr/local/lib/python3.6/dist-packages (from scikit-image>=0.12->lime) (2.4.1)\n",
            "Requirement already satisfied: six in /usr/local/lib/python3.6/dist-packages (from cycler>=0.10->matplotlib->lime) (1.12.0)\n",
            "Requirement already satisfied: decorator>=4.3.0 in /usr/local/lib/python3.6/dist-packages (from networkx>=2.0->scikit-image>=0.12->lime) (4.4.2)\n",
            "Building wheels for collected packages: lime\n",
            "  Building wheel for lime (setup.py) ... \u001b[?25l\u001b[?25hdone\n",
            "  Created wheel for lime: filename=lime-0.2.0.1-cp36-none-any.whl size=283845 sha256=c2a1d44910dc58e441f98de355b84372ef8ba4d239af5ee18e3a3d38610ad27a\n",
            "  Stored in directory: /root/.cache/pip/wheels/4c/4f/a5/0bc765457bd41378bf3ce8d17d7495369d6e7ca3b712c60c89\n",
            "Successfully built lime\n",
            "Installing collected packages: lime\n",
            "Successfully installed lime-0.2.0.1\n"
          ],
          "name": "stdout"
        }
      ]
    },
    {
      "cell_type": "code",
      "metadata": {
        "id": "QaBAaRakgWex",
        "colab_type": "code",
        "colab": {}
      },
      "source": [
        "train_ds = pd.concat([X_train_continuous,X_train_categorical[['area_mapping','type_mapping']]], axis=1)\n",
        "val_ds = pd.concat([X_val_continuous,X_val_categorical[['area_mapping','type_mapping']]], axis=1)\n"
      ],
      "execution_count": 130,
      "outputs": []
    },
    {
      "cell_type": "code",
      "metadata": {
        "id": "H4IkARRtjxGy",
        "colab_type": "code",
        "colab": {
          "base_uri": "https://localhost:8080/",
          "height": 415
        },
        "outputId": "e674fd0d-e1f2-448a-b206-f308ae46b1d1"
      },
      "source": [
        "val_ds"
      ],
      "execution_count": 131,
      "outputs": [
        {
          "output_type": "execute_result",
          "data": {
            "text/html": [
              "<div>\n",
              "<style scoped>\n",
              "    .dataframe tbody tr th:only-of-type {\n",
              "        vertical-align: middle;\n",
              "    }\n",
              "\n",
              "    .dataframe tbody tr th {\n",
              "        vertical-align: top;\n",
              "    }\n",
              "\n",
              "    .dataframe thead th {\n",
              "        text-align: right;\n",
              "    }\n",
              "</style>\n",
              "<table border=\"1\" class=\"dataframe\">\n",
              "  <thead>\n",
              "    <tr style=\"text-align: right;\">\n",
              "      <th></th>\n",
              "      <th>size</th>\n",
              "      <th>n_rooms</th>\n",
              "      <th>n_rooms_n_rooms</th>\n",
              "      <th>area_mapping</th>\n",
              "      <th>type_mapping</th>\n",
              "    </tr>\n",
              "  </thead>\n",
              "  <tbody>\n",
              "    <tr>\n",
              "      <th>0</th>\n",
              "      <td>-0.083513</td>\n",
              "      <td>-0.693735</td>\n",
              "      <td>-0.801680</td>\n",
              "      <td>2</td>\n",
              "      <td>7</td>\n",
              "    </tr>\n",
              "    <tr>\n",
              "      <th>1</th>\n",
              "      <td>1.319502</td>\n",
              "      <td>0.009137</td>\n",
              "      <td>-0.224572</td>\n",
              "      <td>1</td>\n",
              "      <td>7</td>\n",
              "    </tr>\n",
              "    <tr>\n",
              "      <th>2</th>\n",
              "      <td>0.718210</td>\n",
              "      <td>0.009137</td>\n",
              "      <td>-0.224572</td>\n",
              "      <td>3</td>\n",
              "      <td>6</td>\n",
              "    </tr>\n",
              "    <tr>\n",
              "      <th>3</th>\n",
              "      <td>0.317349</td>\n",
              "      <td>-1.396607</td>\n",
              "      <td>-1.147944</td>\n",
              "      <td>2</td>\n",
              "      <td>6</td>\n",
              "    </tr>\n",
              "    <tr>\n",
              "      <th>4</th>\n",
              "      <td>1.720363</td>\n",
              "      <td>-1.396607</td>\n",
              "      <td>-1.147944</td>\n",
              "      <td>3</td>\n",
              "      <td>1</td>\n",
              "    </tr>\n",
              "    <tr>\n",
              "      <th>...</th>\n",
              "      <td>...</td>\n",
              "      <td>...</td>\n",
              "      <td>...</td>\n",
              "      <td>...</td>\n",
              "      <td>...</td>\n",
              "    </tr>\n",
              "    <tr>\n",
              "      <th>295</th>\n",
              "      <td>-1.085666</td>\n",
              "      <td>0.712009</td>\n",
              "      <td>0.583379</td>\n",
              "      <td>1</td>\n",
              "      <td>6</td>\n",
              "    </tr>\n",
              "    <tr>\n",
              "      <th>296</th>\n",
              "      <td>-0.885235</td>\n",
              "      <td>-0.693735</td>\n",
              "      <td>-0.801680</td>\n",
              "      <td>3</td>\n",
              "      <td>3</td>\n",
              "    </tr>\n",
              "    <tr>\n",
              "      <th>297</th>\n",
              "      <td>1.920794</td>\n",
              "      <td>-1.396607</td>\n",
              "      <td>-1.147944</td>\n",
              "      <td>3</td>\n",
              "      <td>2</td>\n",
              "    </tr>\n",
              "    <tr>\n",
              "      <th>298</th>\n",
              "      <td>-0.283943</td>\n",
              "      <td>0.009137</td>\n",
              "      <td>-0.224572</td>\n",
              "      <td>2</td>\n",
              "      <td>8</td>\n",
              "    </tr>\n",
              "    <tr>\n",
              "      <th>299</th>\n",
              "      <td>-0.083513</td>\n",
              "      <td>0.009137</td>\n",
              "      <td>-0.224572</td>\n",
              "      <td>1</td>\n",
              "      <td>5</td>\n",
              "    </tr>\n",
              "  </tbody>\n",
              "</table>\n",
              "<p>300 rows × 5 columns</p>\n",
              "</div>"
            ],
            "text/plain": [
              "         size   n_rooms  n_rooms_n_rooms  area_mapping  type_mapping\n",
              "0   -0.083513 -0.693735        -0.801680             2             7\n",
              "1    1.319502  0.009137        -0.224572             1             7\n",
              "2    0.718210  0.009137        -0.224572             3             6\n",
              "3    0.317349 -1.396607        -1.147944             2             6\n",
              "4    1.720363 -1.396607        -1.147944             3             1\n",
              "..        ...       ...              ...           ...           ...\n",
              "295 -1.085666  0.712009         0.583379             1             6\n",
              "296 -0.885235 -0.693735        -0.801680             3             3\n",
              "297  1.920794 -1.396607        -1.147944             3             2\n",
              "298 -0.283943  0.009137        -0.224572             2             8\n",
              "299 -0.083513  0.009137        -0.224572             1             5\n",
              "\n",
              "[300 rows x 5 columns]"
            ]
          },
          "metadata": {
            "tags": []
          },
          "execution_count": 131
        }
      ]
    },
    {
      "cell_type": "code",
      "metadata": {
        "id": "ZzVfiFsObb5d",
        "colab_type": "code",
        "colab": {}
      },
      "source": [
        "# XAI를 위한 lime  정의\n",
        "from lime import lime_tabular, lime_text\n",
        "exp = lime_tabular.LimeTabularExplainer(\n",
        "    train_ds.to_numpy(),\n",
        "    training_labels=y_train.to_numpy(),\n",
        "    feature_names=train_ds.columns,\n",
        "    class_names= y_train.columns,\n",
        "    mode=\"regression\"\n",
        ")\n"
      ],
      "execution_count": 134,
      "outputs": []
    },
    {
      "cell_type": "code",
      "metadata": {
        "id": "Kff6xpteosdT",
        "colab_type": "code",
        "colab": {}
      },
      "source": [
        "# 변수의 영향력 분석\n",
        "# 소팅을 위한 초기화 \n",
        "exp_ana = {}\n",
        "for k in train_ds.columns:\n",
        "  exp_ana[k] = 0\n",
        "\n",
        "# predict 함수 재정의 - lime에서 사용 가능하도록...\n",
        "continue_dim = X_train_continuous.shape[1]\n",
        "input_dim = train_ds.shape[1]\n",
        "def predict(data):\n",
        "    return model.predict([data[:,0:continue_dim],data[:,continue_dim:input_dim]])\n",
        "\n",
        "# validation set의 변수 영향력 분석...\n",
        "for i in range(40): #range(val_ds.shape[0]):\n",
        "    p = exp.explain_instance(np.asarray(val_ds.iloc[i]),predict,num_features=val_ds.shape[1])\n",
        "    for t in p.as_map()[0]:\n",
        "      exp_ana[train_ds.columns[t[0]]] += np.abs(t[1])\n",
        "\n",
        "import operator\n",
        "\n",
        "sorted_x = sorted(exp_ana.items(), key=operator.itemgetter(1))\n",
        "\n",
        "effect_result_table = pd.DataFrame(sorted_x,columns=['Feature', 'Effect'] )\n"
      ],
      "execution_count": 135,
      "outputs": []
    },
    {
      "cell_type": "code",
      "metadata": {
        "id": "kQEz_AfFNwLY",
        "colab_type": "code",
        "colab": {
          "base_uri": "https://localhost:8080/",
          "height": 377
        },
        "outputId": "80e31fec-96b1-430b-8a4f-28dbd43b9bbf"
      },
      "source": [
        "effect_result_table['Effect'] = effect_result_table['Effect']/max(effect_result_table['Effect'])\n",
        "effect_result_table.plot(x='Feature',y='Effect',kind='bar')"
      ],
      "execution_count": 136,
      "outputs": [
        {
          "output_type": "execute_result",
          "data": {
            "text/plain": [
              "<matplotlib.axes._subplots.AxesSubplot at 0x7fe0c5a6d668>"
            ]
          },
          "metadata": {
            "tags": []
          },
          "execution_count": 136
        },
        {
          "output_type": "display_data",
          "data": {
            "image/png": "[encoded data removed]",
            "text/plain": [
              "<Figure size 432x288 with 1 Axes>"
            ]
          },
          "metadata": {
            "tags": [],
            "needs_background": "light"
          }
        }
      ]
    },
    {
      "cell_type": "code",
      "metadata": {
        "id": "Qz55nCLwRlS8",
        "colab_type": "code",
        "colab": {
          "base_uri": "https://localhost:8080/",
          "height": 503
        },
        "outputId": "142d3838-86e7-4bf4-dea9-546e77af27cc"
      },
      "source": [
        "# 학습 대상 변수 전체 선택\n",
        "X_train_continuous = X_train_continuous_org\n",
        "X_train_categorical = X_train_categorical_org\n",
        "X_val_continuous  = X_val_continuous_org\n",
        "X_val_categorical = X_val_categorical_org\n",
        "\n",
        "# Define the embedding input\n",
        "cate_input = Input(shape=(2,), dtype='int32') \n",
        "\n",
        "# Decide to what vector size we want to map our 'area' variable. \n",
        "# I'll use 1 here because we only have three areas\n",
        "embeddings_output = 24\n",
        "\n",
        "\n",
        "# Let’s define the embedding layer and flatten it\n",
        "cate_embedings = Embedding(output_dim=embeddings_output, input_dim=X_train_categorical.shape[0])(cate_input)\n",
        "print(cate_embedings)\n",
        "cate_embedings = keras.layers.Reshape((embeddings_output*2,))(cate_embedings)\n",
        "\n",
        "# Define the continuous variables input (just like before)\n",
        "continuous_input = Input(shape=(X_train_continuous.shape[1], ))\n",
        "\n",
        "# Concatenate continuous and embeddings inputs\n",
        "all_input = keras.layers.concatenate([continuous_input, cate_embedings])\n",
        "\n",
        "# Define the model\n",
        "dense1 = Dense(all_input.shape[1]*2, activation='relu')(all_input)\n",
        "dense2 = Dense(all_input.shape[1], activation='relu')(dense1)\n",
        "predictions = Dense(1)(dense2)\n",
        "# Note using the input object 'area_input' not 'area_embeddings'\n",
        "model = Model(inputs=[continuous_input, cate_input], outputs=predictions)\n",
        "model.compile(loss='mse', optimizer=keras.optimizers.Adam(lr=.8, beta_1=0.9, beta_2=0.999, decay=1e-03, amsgrad=True),metrics=[soft_acc,r2])\n",
        "model.summary()\n"
      ],
      "execution_count": 80,
      "outputs": [
        {
          "output_type": "stream",
          "text": [
            "Tensor(\"embedding_9/embedding_lookup/Identity_1:0\", shape=(None, 2, 24), dtype=float32)\n",
            "Model: \"model_13\"\n",
            "__________________________________________________________________________________________________\n",
            "Layer (type)                    Output Shape         Param #     Connected to                     \n",
            "==================================================================================================\n",
            "input_17 (InputLayer)           (None, 2)            0                                            \n",
            "__________________________________________________________________________________________________\n",
            "embedding_9 (Embedding)         (None, 2, 24)        72000       input_17[0][0]                   \n",
            "__________________________________________________________________________________________________\n",
            "input_18 (InputLayer)           (None, 6)            0                                            \n",
            "__________________________________________________________________________________________________\n",
            "reshape_9 (Reshape)             (None, 48)           0           embedding_9[0][0]                \n",
            "__________________________________________________________________________________________________\n",
            "concatenate_9 (Concatenate)     (None, 54)           0           input_18[0][0]                   \n",
            "                                                                 reshape_9[0][0]                  \n",
            "__________________________________________________________________________________________________\n",
            "dense_37 (Dense)                (None, 108)          5940        concatenate_9[0][0]              \n",
            "__________________________________________________________________________________________________\n",
            "dense_38 (Dense)                (None, 54)           5886        dense_37[0][0]                   \n",
            "__________________________________________________________________________________________________\n",
            "dense_39 (Dense)                (None, 1)            55          dense_38[0][0]                   \n",
            "==================================================================================================\n",
            "Total params: 83,881\n",
            "Trainable params: 83,881\n",
            "Non-trainable params: 0\n",
            "__________________________________________________________________________________________________\n"
          ],
          "name": "stdout"
        }
      ]
    },
    {
      "cell_type": "code",
      "metadata": {
        "id": "adDZVyGqR4pq",
        "colab_type": "code",
        "colab": {
          "base_uri": "https://localhost:8080/",
          "height": 224
        },
        "outputId": "b1401d72-fd14-4996-fae4-0fa5b2fcb235"
      },
      "source": [
        "epochs = 2000\n",
        "\n",
        "# Note continuous and categorical columns are inserted in the same order as defined in all_inputs\n",
        "history = model.fit([X_train_continuous, X_train_categorical[['area_mapping','type_mapping']].to_numpy()], y_train, \n",
        "          epochs=epochs, batch_size=128, \n",
        "          callbacks=[periodic_logger_250], verbose=0,\n",
        "          validation_data=([X_val_continuous, X_val_categorical[['area_mapping','type_mapping']].to_numpy()], y_val))"
      ],
      "execution_count": 81,
      "outputs": [
        {
          "output_type": "stream",
          "text": [
            "/usr/local/lib/python3.6/dist-packages/tensorflow/python/framework/indexed_slices.py:434: UserWarning: Converting sparse IndexedSlices to a dense Tensor of unknown shape. This may consume a large amount of memory.\n",
            "  \"Converting sparse IndexedSlices to a dense Tensor of unknown shape. \"\n"
          ],
          "name": "stderr"
        },
        {
          "output_type": "stream",
          "text": [
            "Epoch: 250 - {'val_loss': 26187096.48, 'val_soft_acc': 0.11292613297700882, 'val_r2': 0.9999895691871643, 'loss': 13828588.08, 'soft_acc': 0.11170015, 'r2': 0.9999946}\n",
            "Epoch: 500 - {'val_loss': 22510108.85333333, 'val_soft_acc': 0.09801136702299118, 'val_r2': 0.9999909400939941, 'loss': 11211363.768, 'soft_acc': 0.13723029, 'r2': 0.9999954}\n",
            "Epoch: 750 - {'val_loss': 19757523.253333334, 'val_soft_acc': 0.11339962482452393, 'val_r2': 0.9999918937683105, 'loss': 9950210.092, 'soft_acc': 0.14718191, 'r2': 0.99999595}\n",
            "Epoch: 1000 - {'val_loss': 15531187.12, 'val_soft_acc': 0.12926135957241058, 'val_r2': 0.9999935626983643, 'loss': 7721098.729333334, 'soft_acc': 0.13337053, 'r2': 0.99999714}\n",
            "Epoch: 1250 - {'val_loss': 13102644.48, 'val_soft_acc': 0.12665720283985138, 'val_r2': 0.9999945759773254, 'loss': 6179716.042666666, 'soft_acc': 0.14225261, 'r2': 0.9999977}\n",
            "Epoch: 1500 - {'val_loss': 12233199.84, 'val_soft_acc': 0.12878787517547607, 'val_r2': 0.9999948143959045, 'loss': 5200991.113333333, 'soft_acc': 0.15824963, 'r2': 0.9999978}\n",
            "Epoch: 1750 - {'val_loss': 11603686.346666666, 'val_soft_acc': 0.13944129645824432, 'val_r2': 0.9999950528144836, 'loss': 4778795.330666667, 'soft_acc': 0.17085193, 'r2': 0.99999803}\n",
            "Epoch: 2000 - {'val_loss': 11374133.44, 'val_soft_acc': 0.13162879645824432, 'val_r2': 0.999995231628418, 'loss': 4530879.802666667, 'soft_acc': 0.17838542, 'r2': 0.99999803}\n"
          ],
          "name": "stdout"
        }
      ]
    },
    {
      "cell_type": "code",
      "metadata": {
        "id": "zTBfEjqmSyf0",
        "colab_type": "code",
        "colab": {
          "base_uri": "https://localhost:8080/",
          "height": 377
        },
        "outputId": "1d519bc3-c3de-409d-9063-c58278dcca7a"
      },
      "source": [
        "train_ds = pd.concat([X_train_continuous,X_train_categorical[['area_mapping','type_mapping']]], axis=1)\n",
        "val_ds = pd.concat([X_val_continuous,X_val_categorical[['area_mapping','type_mapping']]], axis=1)\n",
        "# XAI를 위한 lime  정의\n",
        "from lime import lime_tabular, lime_text\n",
        "exp = lime_tabular.LimeTabularExplainer(\n",
        "    train_ds.to_numpy(),\n",
        "    training_labels=y_train.to_numpy(),\n",
        "    feature_names=train_ds.columns,\n",
        "    class_names= y_train.columns,\n",
        "    mode=\"regression\"\n",
        ")\n",
        "# 변수의 영향력 분석\n",
        "# 소팅을 위한 초기화 \n",
        "exp_ana = {}\n",
        "for k in train_ds.columns:\n",
        "  exp_ana[k] = 0\n",
        "\n",
        "# predict 함수 재정의 - lime에서 사용 가능하도록...\n",
        "continue_dim = X_train_continuous.shape[1]\n",
        "input_dim = train_ds.shape[1]\n",
        "def predict(data):\n",
        "    return model.predict([data[:,0:continue_dim],data[:,continue_dim:input_dim]])\n",
        "\n",
        "# validation set의 변수 영향력 분석...\n",
        "for i in range(40): #range(val_ds.shape[0]):\n",
        "    p = exp.explain_instance(np.asarray(val_ds.iloc[i]),predict,num_features=val_ds.shape[1])\n",
        "    for t in p.as_map()[0]:\n",
        "      exp_ana[train_ds.columns[t[0]]] += np.abs(t[1])\n",
        "\n",
        "import operator\n",
        "\n",
        "sorted_x = sorted(exp_ana.items(), key=operator.itemgetter(1))\n",
        "\n",
        "effect_result_table = pd.DataFrame(sorted_x,columns=['Feature', 'Effect'] )\n",
        "\n",
        "effect_result_table['Effect'] = effect_result_table['Effect']/max(effect_result_table['Effect'])\n",
        "effect_result_table.plot(x='Feature',y='Effect',kind='bar')\n"
      ],
      "execution_count": 82,
      "outputs": [
        {
          "output_type": "execute_result",
          "data": {
            "text/plain": [
              "<matplotlib.axes._subplots.AxesSubplot at 0x7fcbf4c94ef0>"
            ]
          },
          "metadata": {
            "tags": []
          },
          "execution_count": 82
        },
        {
          "output_type": "display_data",
          "data": {
            "image/png": "[encoded data removed]",
            "text/plain": [
              "<Figure size 432x288 with 1 Axes>"
            ]
          },
          "metadata": {
            "tags": [],
            "needs_background": "light"
          }
        }
      ]
    },
    {
      "cell_type": "code",
      "metadata": {
        "id": "D7mUylbCm0p9",
        "colab_type": "code",
        "colab": {
          "base_uri": "https://localhost:8080/",
          "height": 859
        },
        "outputId": "8246e177-092e-402b-99bf-89b37a9899bf"
      },
      "source": [
        "# 끝에 두개... 교차 삭제 테스트\n",
        "X_train_continuous = X_train_continuous_org[['n_rooms_n_rooms','size_n_rooms','n_rooms']]\n",
        "X_val_continuous  = X_val_continuous_org[['n_rooms_n_rooms','size_n_rooms','n_rooms']]\n",
        "\n",
        "print(X_train_continuous)\n",
        "# Define the embedding input\n",
        "cate_input = Input(shape=(2,), dtype='int32') \n",
        "\n",
        "# Decide to what vector size we want to map our 'area' variable. \n",
        "# I'll use 1 here because we only have three areas\n",
        "embeddings_output = 24\n",
        "\n",
        "\n",
        "# Let’s define the embedding layer and flatten it\n",
        "cate_embedings = Embedding(output_dim=embeddings_output, input_dim=X_train_categorical.shape[0])(cate_input)\n",
        "print(cate_embedings)\n",
        "cate_embedings = keras.layers.Reshape((embeddings_output*2,))(cate_embedings)\n",
        "\n",
        "# Define the continuous variables input (just like before)\n",
        "continuous_input = Input(shape=(X_train_continuous.shape[1], ))\n",
        "\n",
        "# Concatenate continuous and embeddings inputs\n",
        "all_input = keras.layers.concatenate([continuous_input, cate_embedings])\n",
        "\n",
        "# Define the model\n",
        "dense1 = Dense(all_input.shape[1]*2, activation='relu')(all_input)\n",
        "dense2 = Dense(all_input.shape[1], activation='relu')(dense1)\n",
        "predictions = Dense(1)(dense2)\n",
        "# Note using the input object 'area_input' not 'area_embeddings'\n",
        "model = Model(inputs=[continuous_input, cate_input], outputs=predictions)\n",
        "model.compile(loss='mse', optimizer=keras.optimizers.Adam(lr=.8, beta_1=0.9, beta_2=0.999, decay=1e-03, amsgrad=True),metrics=[soft_acc,r2])\n",
        "model.summary()\n",
        "\n",
        "epochs = 500\n",
        "# Note continuous and categorical columns are inserted in the same order as defined in all_inputs\n",
        "history = model.fit([X_train_continuous, X_train_categorical[['area_mapping','type_mapping']].to_numpy()], y_train, \n",
        "          epochs=epochs, batch_size=128, \n",
        "          callbacks=[periodic_logger_250], verbose=0,\n",
        "          validation_data=([X_val_continuous, X_val_categorical[['area_mapping','type_mapping']].to_numpy()], y_val))"
      ],
      "execution_count": 92,
      "outputs": [
        {
          "output_type": "stream",
          "text": [
            "      n_rooms_n_rooms  size_n_rooms   n_rooms\n",
            "0           -0.781991     -0.519037 -0.676610\n",
            "1           -0.197834     -0.388512  0.034115\n",
            "2            1.671468      1.517154  1.455564\n",
            "3           -1.132485     -1.197768 -1.387335\n",
            "4            1.671468      2.169779  1.455564\n",
            "...               ...           ...       ...\n",
            "2995         0.619985      0.107483  0.744840\n",
            "2996        -0.781991     -0.727877 -0.676610\n",
            "2997        -0.781991     -1.145558 -0.676610\n",
            "2998        -1.132485     -1.223873 -1.387335\n",
            "2999         1.671468      1.125579  1.455564\n",
            "\n",
            "[3000 rows x 3 columns]\n",
            "Tensor(\"embedding_16/embedding_lookup/Identity_1:0\", shape=(None, 2, 24), dtype=float32)\n",
            "Model: \"model_20\"\n",
            "__________________________________________________________________________________________________\n",
            "Layer (type)                    Output Shape         Param #     Connected to                     \n",
            "==================================================================================================\n",
            "input_31 (InputLayer)           (None, 2)            0                                            \n",
            "__________________________________________________________________________________________________\n",
            "embedding_16 (Embedding)        (None, 2, 24)        72000       input_31[0][0]                   \n",
            "__________________________________________________________________________________________________\n",
            "input_32 (InputLayer)           (None, 3)            0                                            \n",
            "__________________________________________________________________________________________________\n",
            "reshape_16 (Reshape)            (None, 48)           0           embedding_16[0][0]               \n",
            "__________________________________________________________________________________________________\n",
            "concatenate_16 (Concatenate)    (None, 51)           0           input_32[0][0]                   \n",
            "                                                                 reshape_16[0][0]                 \n",
            "__________________________________________________________________________________________________\n",
            "dense_58 (Dense)                (None, 102)          5304        concatenate_16[0][0]             \n",
            "__________________________________________________________________________________________________\n",
            "dense_59 (Dense)                (None, 51)           5253        dense_58[0][0]                   \n",
            "__________________________________________________________________________________________________\n",
            "dense_60 (Dense)                (None, 1)            52          dense_59[0][0]                   \n",
            "==================================================================================================\n",
            "Total params: 82,609\n",
            "Trainable params: 82,609\n",
            "Non-trainable params: 0\n",
            "__________________________________________________________________________________________________\n"
          ],
          "name": "stdout"
        },
        {
          "output_type": "stream",
          "text": [
            "/usr/local/lib/python3.6/dist-packages/tensorflow/python/framework/indexed_slices.py:434: UserWarning: Converting sparse IndexedSlices to a dense Tensor of unknown shape. This may consume a large amount of memory.\n",
            "  \"Converting sparse IndexedSlices to a dense Tensor of unknown shape. \"\n"
          ],
          "name": "stderr"
        },
        {
          "output_type": "stream",
          "text": [
            "Epoch: 250 - {'val_loss': 4074839.53, 'val_soft_acc': 0.14985795319080353, 'val_r2': 0.9999987483024597, 'loss': 3820444.816, 'soft_acc': 0.19652158, 'r2': 0.9999983}\n",
            "Epoch: 500 - {'val_loss': 3133140.8433333333, 'val_soft_acc': 0.2296401411294937, 'val_r2': 0.9999990463256836, 'loss': 2733866.970333333, 'soft_acc': 0.24590774, 'r2': 0.99999905}\n"
          ],
          "name": "stdout"
        }
      ]
    },
    {
      "cell_type": "code",
      "metadata": {
        "id": "VKAWcATRp8MP",
        "colab_type": "code",
        "colab": {
          "base_uri": "https://localhost:8080/",
          "height": 859
        },
        "outputId": "b5563cd1-e317-416d-9769-02a0747cff56"
      },
      "source": [
        "# 끝에 두개... 교차 삭제 테스트\n",
        "X_train_continuous = X_train_continuous_org[['size','n_rooms_n_rooms','n_rooms']]\n",
        "X_val_continuous  = X_val_continuous_org[['size','n_rooms_n_rooms','n_rooms']]\n",
        "\n",
        "print(X_train_continuous)\n",
        "# Define the embedding input\n",
        "cate_input = Input(shape=(2,), dtype='int32') \n",
        "\n",
        "# Decide to what vector size we want to map our 'area' variable. \n",
        "# I'll use 1 here because we only have three areas\n",
        "embeddings_output = 24\n",
        "\n",
        "\n",
        "# Let’s define the embedding layer and flatten it\n",
        "cate_embedings = Embedding(output_dim=embeddings_output, input_dim=X_train_categorical.shape[0])(cate_input)\n",
        "print(cate_embedings)\n",
        "cate_embedings = keras.layers.Reshape((embeddings_output*2,))(cate_embedings)\n",
        "\n",
        "# Define the continuous variables input (just like before)\n",
        "continuous_input = Input(shape=(X_train_continuous.shape[1], ))\n",
        "\n",
        "# Concatenate continuous and embeddings inputs\n",
        "all_input = keras.layers.concatenate([continuous_input, cate_embedings])\n",
        "\n",
        "# Define the model\n",
        "dense1 = Dense(all_input.shape[1]*2, activation='relu')(all_input)\n",
        "dense2 = Dense(all_input.shape[1], activation='relu')(dense1)\n",
        "predictions = Dense(1)(dense2)\n",
        "# Note using the input object 'area_input' not 'area_embeddings'\n",
        "model = Model(inputs=[continuous_input, cate_input], outputs=predictions)\n",
        "model.compile(loss='mse', optimizer=keras.optimizers.Adam(lr=.8, beta_1=0.9, beta_2=0.999, decay=1e-03, amsgrad=True),metrics=[soft_acc,r2])\n",
        "model.summary()\n",
        "\n",
        "epochs = 500\n",
        "# Note continuous and categorical columns are inserted in the same order as defined in all_inputs\n",
        "history = model.fit([X_train_continuous, X_train_categorical[['area_mapping','type_mapping']].to_numpy()], y_train, \n",
        "          epochs=epochs, batch_size=128, \n",
        "          callbacks=[periodic_logger_250], verbose=0,\n",
        "          validation_data=([X_val_continuous, X_val_categorical[['area_mapping','type_mapping']].to_numpy()], y_val))\n"
      ],
      "execution_count": 93,
      "outputs": [
        {
          "output_type": "stream",
          "text": [
            "          size  n_rooms_n_rooms   n_rooms\n",
            "0     0.349450        -0.781991 -0.676610\n",
            "1    -1.069980        -0.197834  0.034115\n",
            "2     0.349450         1.671468  1.455564\n",
            "3     0.349450        -1.132485 -1.387335\n",
            "4     1.363329         1.671468  1.455564\n",
            "...        ...              ...       ...\n",
            "2995 -1.069980         0.619985  0.744840\n",
            "2996 -0.461653        -0.781991 -0.676610\n",
            "2997 -2.083860        -0.781991 -0.676610\n",
            "2998  0.146675        -1.132485 -1.387335\n",
            "2999 -0.258877         1.671468  1.455564\n",
            "\n",
            "[3000 rows x 3 columns]\n",
            "Tensor(\"embedding_17/embedding_lookup/Identity_1:0\", shape=(None, 2, 24), dtype=float32)\n",
            "Model: \"model_21\"\n",
            "__________________________________________________________________________________________________\n",
            "Layer (type)                    Output Shape         Param #     Connected to                     \n",
            "==================================================================================================\n",
            "input_33 (InputLayer)           (None, 2)            0                                            \n",
            "__________________________________________________________________________________________________\n",
            "embedding_17 (Embedding)        (None, 2, 24)        72000       input_33[0][0]                   \n",
            "__________________________________________________________________________________________________\n",
            "input_34 (InputLayer)           (None, 3)            0                                            \n",
            "__________________________________________________________________________________________________\n",
            "reshape_17 (Reshape)            (None, 48)           0           embedding_17[0][0]               \n",
            "__________________________________________________________________________________________________\n",
            "concatenate_17 (Concatenate)    (None, 51)           0           input_34[0][0]                   \n",
            "                                                                 reshape_17[0][0]                 \n",
            "__________________________________________________________________________________________________\n",
            "dense_61 (Dense)                (None, 102)          5304        concatenate_17[0][0]             \n",
            "__________________________________________________________________________________________________\n",
            "dense_62 (Dense)                (None, 51)           5253        dense_61[0][0]                   \n",
            "__________________________________________________________________________________________________\n",
            "dense_63 (Dense)                (None, 1)            52          dense_62[0][0]                   \n",
            "==================================================================================================\n",
            "Total params: 82,609\n",
            "Trainable params: 82,609\n",
            "Non-trainable params: 0\n",
            "__________________________________________________________________________________________________\n"
          ],
          "name": "stdout"
        },
        {
          "output_type": "stream",
          "text": [
            "/usr/local/lib/python3.6/dist-packages/tensorflow/python/framework/indexed_slices.py:434: UserWarning: Converting sparse IndexedSlices to a dense Tensor of unknown shape. This may consume a large amount of memory.\n",
            "  \"Converting sparse IndexedSlices to a dense Tensor of unknown shape. \"\n"
          ],
          "name": "stderr"
        },
        {
          "output_type": "stream",
          "text": [
            "Epoch: 250 - {'val_loss': 1665137.19, 'val_soft_acc': 0.3217329680919647, 'val_r2': 0.9999992847442627, 'loss': 1822144.4683333333, 'soft_acc': 0.32817152, 'r2': 0.9999993}\n",
            "Epoch: 500 - {'val_loss': 1296557.59, 'val_soft_acc': 0.46117424964904785, 'val_r2': 0.999999463558197, 'loss': 1360914.7863333332, 'soft_acc': 0.48842075, 'r2': 0.9999996}\n"
          ],
          "name": "stdout"
        }
      ]
    },
    {
      "cell_type": "code",
      "metadata": {
        "id": "rMxxB1VtUMUL",
        "colab_type": "code",
        "colab": {
          "base_uri": "https://localhost:8080/",
          "height": 251
        },
        "outputId": "61b0ce73-1904-435c-ba6f-d8e99db32240"
      },
      "source": [
        "train_ds = pd.concat([X_train_continuous,X_train_categorical[['area_mapping','type_mapping']]], axis=1)\n",
        "val_ds = pd.concat([X_val_continuous,X_val_categorical[['area_mapping','type_mapping']]], axis=1)\n",
        "# XAI를 위한 lime  정의\n",
        "from lime import lime_tabular, lime_text\n",
        "exp = lime_tabular.LimeTabularExplainer(\n",
        "    train_ds.to_numpy(),\n",
        "    training_labels=y_train.to_numpy(),\n",
        "    feature_names=train_ds.columns,\n",
        "    class_names= y_train.columns,\n",
        "    mode=\"regression\"\n",
        ")\n",
        "# 변수의 영향력 분석\n",
        "# 소팅을 위한 초기화 \n",
        "exp_ana = {}\n",
        "for k in train_ds.columns:\n",
        "  exp_ana[k] = 0\n",
        "\n",
        "# predict 함수 재정의 - lime에서 사용 가능하도록...\n",
        "continue_dim = X_train_continuous.shape[1]\n",
        "input_dim = train_ds.shape[1]\n",
        "def predict(data):\n",
        "    return model.predict([data[:,0:continue_dim],data[:,continue_dim:input_dim]])\n",
        "\n",
        "# validation set의 변수 영향력 분석...\n",
        "for i in range(40): #range(val_ds.shape[0]):\n",
        "    p = exp.explain_instance(np.asarray(val_ds.iloc[i]),predict,num_features=val_ds.shape[1])\n",
        "    for t in p.as_map()[0]:\n",
        "      exp_ana[train_ds.columns[t[0]]] += np.abs(t[1])\n",
        "\n",
        "import operator\n",
        "\n",
        "sorted_x = sorted(exp_ana.items(), key=operator.itemgetter(1))\n",
        "\n",
        "effect_result_table = pd.DataFrame(sorted_x,columns=['Feature', 'Effect'] )\n",
        "\n",
        "effect_result_table['Effect'] = effect_result_table['Effect']/max(effect_result_table['Effect'])\n",
        "effect_result_table.plot(x='Feature',y='Effect',kind='bar')"
      ],
      "execution_count": 1,
      "outputs": [
        {
          "output_type": "error",
          "ename": "NameError",
          "evalue": "ignored",
          "traceback": [
            "\u001b[0;31m---------------------------------------------------------------------------\u001b[0m",
            "\u001b[0;31mNameError\u001b[0m                                 Traceback (most recent call last)",
            "\u001b[0;32m<ipython-input-1-67397c037da9>\u001b[0m in \u001b[0;36m<module>\u001b[0;34m()\u001b[0m\n\u001b[0;32m----> 1\u001b[0;31m \u001b[0mtrain_ds\u001b[0m \u001b[0;34m=\u001b[0m \u001b[0mpd\u001b[0m\u001b[0;34m.\u001b[0m\u001b[0mconcat\u001b[0m\u001b[0;34m(\u001b[0m\u001b[0;34m[\u001b[0m\u001b[0mX_train_continuous\u001b[0m\u001b[0;34m,\u001b[0m\u001b[0mX_train_categorical\u001b[0m\u001b[0;34m[\u001b[0m\u001b[0;34m[\u001b[0m\u001b[0;34m'area_mapping'\u001b[0m\u001b[0;34m,\u001b[0m\u001b[0;34m'type_mapping'\u001b[0m\u001b[0;34m]\u001b[0m\u001b[0;34m]\u001b[0m\u001b[0;34m]\u001b[0m\u001b[0;34m,\u001b[0m \u001b[0maxis\u001b[0m\u001b[0;34m=\u001b[0m\u001b[0;36m1\u001b[0m\u001b[0;34m)\u001b[0m\u001b[0;34m\u001b[0m\u001b[0;34m\u001b[0m\u001b[0m\n\u001b[0m\u001b[1;32m      2\u001b[0m \u001b[0mval_ds\u001b[0m \u001b[0;34m=\u001b[0m \u001b[0mpd\u001b[0m\u001b[0;34m.\u001b[0m\u001b[0mconcat\u001b[0m\u001b[0;34m(\u001b[0m\u001b[0;34m[\u001b[0m\u001b[0mX_val_continuous\u001b[0m\u001b[0;34m,\u001b[0m\u001b[0mX_val_categorical\u001b[0m\u001b[0;34m[\u001b[0m\u001b[0;34m[\u001b[0m\u001b[0;34m'area_mapping'\u001b[0m\u001b[0;34m,\u001b[0m\u001b[0;34m'type_mapping'\u001b[0m\u001b[0;34m]\u001b[0m\u001b[0;34m]\u001b[0m\u001b[0;34m]\u001b[0m\u001b[0;34m,\u001b[0m \u001b[0maxis\u001b[0m\u001b[0;34m=\u001b[0m\u001b[0;36m1\u001b[0m\u001b[0;34m)\u001b[0m\u001b[0;34m\u001b[0m\u001b[0;34m\u001b[0m\u001b[0m\n\u001b[1;32m      3\u001b[0m \u001b[0;31m# XAI를 위한 lime  정의\u001b[0m\u001b[0;34m\u001b[0m\u001b[0;34m\u001b[0m\u001b[0;34m\u001b[0m\u001b[0m\n\u001b[1;32m      4\u001b[0m \u001b[0;32mfrom\u001b[0m \u001b[0mlime\u001b[0m \u001b[0;32mimport\u001b[0m \u001b[0mlime_tabular\u001b[0m\u001b[0;34m,\u001b[0m \u001b[0mlime_text\u001b[0m\u001b[0;34m\u001b[0m\u001b[0;34m\u001b[0m\u001b[0m\n\u001b[1;32m      5\u001b[0m exp = lime_tabular.LimeTabularExplainer(\n",
            "\u001b[0;31mNameError\u001b[0m: name 'pd' is not defined"
          ]
        }
      ]
    },
    {
      "cell_type": "code",
      "metadata": {
        "id": "Tx9zheXjQsYC",
        "colab_type": "code",
        "colab": {
          "base_uri": "https://localhost:8080/",
          "height": 241
        },
        "outputId": "1793fc2f-5352-4232-d826-44b3731816ea"
      },
      "source": [
        "# price를 category로 만들어서 ... classification을 적용해 본다~\n",
        "range_count = 500\n",
        "max = y_train['price'].max()\n",
        "min = y_train['price'].min()\n",
        "wdw = (max-min) / (range_count-1)\n",
        "r = []\n",
        "for idx in range(range_count+1):\n",
        "    r.append(min + (idx * wdw) - wdw)\n",
        "y_train['cate_price'] = pd.cut(y_train['price'], bins=r).cat.codes\n",
        "y_val['cate_price'] = pd.cut(y_val['price'], bins=r).cat.codes"
      ],
      "execution_count": 71,
      "outputs": [
        {
          "output_type": "stream",
          "text": [
            "/usr/local/lib/python3.6/dist-packages/ipykernel_launcher.py:9: SettingWithCopyWarning: \n",
            "A value is trying to be set on a copy of a slice from a DataFrame.\n",
            "Try using .loc[row_indexer,col_indexer] = value instead\n",
            "\n",
            "See the caveats in the documentation: https://pandas.pydata.org/pandas-docs/stable/user_guide/indexing.html#returning-a-view-versus-a-copy\n",
            "  if __name__ == '__main__':\n",
            "/usr/local/lib/python3.6/dist-packages/ipykernel_launcher.py:10: SettingWithCopyWarning: \n",
            "A value is trying to be set on a copy of a slice from a DataFrame.\n",
            "Try using .loc[row_indexer,col_indexer] = value instead\n",
            "\n",
            "See the caveats in the documentation: https://pandas.pydata.org/pandas-docs/stable/user_guide/indexing.html#returning-a-view-versus-a-copy\n",
            "  # Remove the CWD from sys.path while we load stuff.\n"
          ],
          "name": "stderr"
        }
      ]
    },
    {
      "cell_type": "code",
      "metadata": {
        "id": "xbSqi0j4SBph",
        "colab_type": "code",
        "colab": {
          "base_uri": "https://localhost:8080/",
          "height": 613
        },
        "outputId": "7436cb1d-9b2f-4489-d0ef-5637d33d9bbd"
      },
      "source": [
        "# Here is the histogram of the differences\n",
        "plt.figure(figsize=(20,10))\n",
        "plt.hist(y_train['cate_price'], bins=range_count)\n",
        "plt.hist(y_val['cate_price'], bins=range_count)\n",
        "plt.xlabel(\"$\")\n",
        "plt.ylabel(\"# Price\")\n",
        "_ = plt.title(\"Price distribution\")"
      ],
      "execution_count": 72,
      "outputs": [
        {
          "output_type": "display_data",
          "data": {
            "image/png": "[encoded data removed]",
            "text/plain": [
              "<Figure size 1440x720 with 1 Axes>"
            ]
          },
          "metadata": {
            "tags": [],
            "needs_background": "light"
          }
        }
      ]
    },
    {
      "cell_type": "code",
      "metadata": {
        "id": "cbfc4u95eXz2",
        "colab_type": "code",
        "colab": {
          "base_uri": "https://localhost:8080/",
          "height": 764
        },
        "outputId": "29a5cdf6-7a4c-445c-8614-c9f747cf8974"
      },
      "source": [
        "y_train['cate2_price'] = 0\n",
        "print(y_train)\n",
        "y_val['cate2_price'] = 0\n",
        "print(y_val)\n"
      ],
      "execution_count": 113,
      "outputs": [
        {
          "output_type": "stream",
          "text": [
            "           price  cate_price  cate2_price\n",
            "0      2404710.0         106            0\n",
            "1       229480.0          10            0\n",
            "2      1011780.0          45            0\n",
            "3      2402870.0         106            0\n",
            "4        55400.0           2            0\n",
            "...          ...         ...          ...\n",
            "29995  1417630.0          63            0\n",
            "29996   342900.0          15            0\n",
            "29997   129680.0           5            0\n",
            "29998   190380.0           8            0\n",
            "29999  1419630.0          63            0\n",
            "\n",
            "[30000 rows x 3 columns]\n",
            "          price  cate_price  cate2_price\n",
            "0       85880.0           4            0\n",
            "1     1006530.0          44            0\n",
            "2     1254250.0          55            0\n",
            "3      193380.0           8            0\n",
            "4      967230.0          43            0\n",
            "...         ...         ...          ...\n",
            "2995   486530.0          21            0\n",
            "2996   287570.0          12            0\n",
            "2997   610380.0          27            0\n",
            "2998   405860.0          18            0\n",
            "2999  3846530.0         170            0\n",
            "\n",
            "[3000 rows x 3 columns]\n"
          ],
          "name": "stdout"
        },
        {
          "output_type": "stream",
          "text": [
            "/usr/local/lib/python3.6/dist-packages/ipykernel_launcher.py:1: SettingWithCopyWarning: \n",
            "A value is trying to be set on a copy of a slice from a DataFrame.\n",
            "Try using .loc[row_indexer,col_indexer] = value instead\n",
            "\n",
            "See the caveats in the documentation: https://pandas.pydata.org/pandas-docs/stable/user_guide/indexing.html#returning-a-view-versus-a-copy\n",
            "  \"\"\"Entry point for launching an IPython kernel.\n",
            "/usr/local/lib/python3.6/dist-packages/ipykernel_launcher.py:3: SettingWithCopyWarning: \n",
            "A value is trying to be set on a copy of a slice from a DataFrame.\n",
            "Try using .loc[row_indexer,col_indexer] = value instead\n",
            "\n",
            "See the caveats in the documentation: https://pandas.pydata.org/pandas-docs/stable/user_guide/indexing.html#returning-a-view-versus-a-copy\n",
            "  This is separate from the ipykernel package so we can avoid doing imports until\n"
          ],
          "name": "stderr"
        }
      ]
    },
    {
      "cell_type": "code",
      "metadata": {
        "id": "AfVM3nHNRisY",
        "colab_type": "code",
        "colab": {
          "base_uri": "https://localhost:8080/",
          "height": 652
        },
        "outputId": "f40cf6e5-3440-4c2c-f282-27d647919fc1"
      },
      "source": [
        "mt = y_train.groupby('cate_price').count()\n",
        "k=0\n",
        "km={}\n",
        "for cp in mt.index:\n",
        "  k += 1\n",
        "  y_train.loc[y_train['cate_price']==cp, 'cate2_price'] = k\n",
        "  km[cp] = k\n",
        "\n",
        "for cp in mt.index:\n",
        "  y_val.loc[y_val['cate_price']==cp, 'cate2_price'] = km[cp]\n",
        "\n",
        "print(y_train)\n",
        "print(y_val)\n"
      ],
      "execution_count": 114,
      "outputs": [
        {
          "output_type": "stream",
          "text": [
            "/usr/local/lib/python3.6/dist-packages/pandas/core/indexing.py:966: SettingWithCopyWarning: \n",
            "A value is trying to be set on a copy of a slice from a DataFrame.\n",
            "Try using .loc[row_indexer,col_indexer] = value instead\n",
            "\n",
            "See the caveats in the documentation: https://pandas.pydata.org/pandas-docs/stable/user_guide/indexing.html#returning-a-view-versus-a-copy\n",
            "  self.obj[item] = s\n"
          ],
          "name": "stderr"
        },
        {
          "output_type": "stream",
          "text": [
            "           price  cate_price  cate2_price\n",
            "0      2404710.0         106           65\n",
            "1       229480.0          10           11\n",
            "2      1011780.0          45           44\n",
            "3      2402870.0         106           65\n",
            "4        55400.0           2            3\n",
            "...          ...         ...          ...\n",
            "29995  1417630.0          63           54\n",
            "29996   342900.0          15           16\n",
            "29997   129680.0           5            6\n",
            "29998   190380.0           8            9\n",
            "29999  1419630.0          63           54\n",
            "\n",
            "[30000 rows x 3 columns]\n",
            "          price  cate_price  cate2_price\n",
            "0       85880.0           4            5\n",
            "1     1006530.0          44           43\n",
            "2     1254250.0          55           49\n",
            "3      193380.0           8            9\n",
            "4      967230.0          43           42\n",
            "...         ...         ...          ...\n",
            "2995   486530.0          21           22\n",
            "2996   287570.0          12           13\n",
            "2997   610380.0          27           27\n",
            "2998   405860.0          18           19\n",
            "2999  3846530.0         170           72\n",
            "\n",
            "[3000 rows x 3 columns]\n"
          ],
          "name": "stdout"
        }
      ]
    },
    {
      "cell_type": "code",
      "metadata": {
        "id": "fpJy1d3YUim1",
        "colab_type": "code",
        "colab": {}
      },
      "source": [
        "from keras.utils import to_categorical\n",
        "y_train_one_hot = to_categorical(y_train['cate2_price'])\n",
        "y_val_one_hot = to_categorical(y_val['cate2_price'])"
      ],
      "execution_count": 116,
      "outputs": []
    },
    {
      "cell_type": "code",
      "metadata": {
        "id": "PEV0kFVJXyrs",
        "colab_type": "code",
        "colab": {
          "base_uri": "https://localhost:8080/",
          "height": 55
        },
        "outputId": "85ba71b3-056a-485e-8ebb-d0fb0b97c147"
      },
      "source": [
        "print(y_train_one_hot.shape)\n",
        "print(y_val_one_hot.shape)\n"
      ],
      "execution_count": 118,
      "outputs": [
        {
          "output_type": "stream",
          "text": [
            "(30000, 85)\n",
            "(3000, 85)\n"
          ],
          "name": "stdout"
        }
      ]
    },
    {
      "cell_type": "code",
      "metadata": {
        "id": "F3lKZ0UoWuGp",
        "colab_type": "code",
        "colab": {
          "base_uri": "https://localhost:8080/",
          "height": 36
        },
        "outputId": "18a977d3-8d24-4218-8a78-98723699b1ec"
      },
      "source": [
        "# Define the embedding input\n",
        "cate_input = Input(shape=(2,), dtype='int32') \n",
        "\n",
        "# Decide to what vector size we want to map our 'area' variable. \n",
        "# I'll use 1 here because we only have three areas\n",
        "embeddings_output = 24*3\n",
        "\n",
        "\n",
        "# Let’s define the embedding layer and flatten it\n",
        "cate_embedings = Embedding(output_dim=embeddings_output, input_dim=X_train_categorical.shape[0])(cate_input)\n",
        "cate_embedings = keras.layers.Reshape((embeddings_output*2,))(cate_embedings)\n",
        "print(cate_embedings)\n",
        "# Define the continuous variables input (just like before)\n",
        "continuous_input = Input(shape=(X_train_continuous.shape[1], ))\n",
        "\n",
        "# Concatenate continuous and embeddings inputs\n",
        "all_input = keras.layers.concatenate([continuous_input, cate_embedings])"
      ],
      "execution_count": 119,
      "outputs": [
        {
          "output_type": "stream",
          "text": [
            "Tensor(\"reshape_3/Reshape:0\", shape=(None, 144), dtype=float32)\n"
          ],
          "name": "stdout"
        }
      ]
    },
    {
      "cell_type": "code",
      "metadata": {
        "id": "_tQbbAA-U3x2",
        "colab_type": "code",
        "colab": {
          "base_uri": "https://localhost:8080/",
          "height": 447
        },
        "outputId": "9ed5f5df-1471-4566-9353-3ec1ee2f4da8"
      },
      "source": [
        "# Define the model\n",
        "dense1 = Dense(y_train_one_hot.shape[1]*5, activation='relu')(all_input)\n",
        "#dense2 = Dense(all_input.shape[1]*10, activation='relu')(dense1)\n",
        "predictions = Dense(y_train_one_hot.shape[1],activation='softmax')(dense1)\n",
        "\n",
        "# Note using the input object 'area_input' not 'area_embeddings'\n",
        "model = Model(inputs=[continuous_input, cate_input], outputs=predictions)\n",
        "model.compile(loss=keras.losses.categorical_crossentropy, optimizer=keras.optimizers.Adam(lr=.8, beta_1=0.9, beta_2=0.999, decay=1e-03, amsgrad=True),metrics=['accuracy'])\n",
        "model.summary()"
      ],
      "execution_count": 120,
      "outputs": [
        {
          "output_type": "stream",
          "text": [
            "Model: \"model_5\"\n",
            "__________________________________________________________________________________________________\n",
            "Layer (type)                    Output Shape         Param #     Connected to                     \n",
            "==================================================================================================\n",
            "input_5 (InputLayer)            (None, 2)            0                                            \n",
            "__________________________________________________________________________________________________\n",
            "embedding_3 (Embedding)         (None, 2, 72)        2160000     input_5[0][0]                    \n",
            "__________________________________________________________________________________________________\n",
            "input_6 (InputLayer)            (None, 3)            0                                            \n",
            "__________________________________________________________________________________________________\n",
            "reshape_3 (Reshape)             (None, 144)          0           embedding_3[0][0]                \n",
            "__________________________________________________________________________________________________\n",
            "concatenate_3 (Concatenate)     (None, 147)          0           input_6[0][0]                    \n",
            "                                                                 reshape_3[0][0]                  \n",
            "__________________________________________________________________________________________________\n",
            "dense_11 (Dense)                (None, 425)          62900       concatenate_3[0][0]              \n",
            "__________________________________________________________________________________________________\n",
            "dense_12 (Dense)                (None, 85)           36210       dense_11[0][0]                   \n",
            "==================================================================================================\n",
            "Total params: 2,259,110\n",
            "Trainable params: 2,259,110\n",
            "Non-trainable params: 0\n",
            "__________________________________________________________________________________________________\n"
          ],
          "name": "stdout"
        }
      ]
    },
    {
      "cell_type": "code",
      "metadata": {
        "id": "F9AN8UomWKJM",
        "colab_type": "code",
        "colab": {
          "base_uri": "https://localhost:8080/",
          "height": 444
        },
        "outputId": "69c27e0e-7f89-4849-e201-1dcf664ec838"
      },
      "source": [
        "epochs = 500\n",
        "\n",
        "# Note continuous and categorical columns are inserted in the same order as defined in all_inputs\n",
        "history = model.fit([X_train_continuous, X_train_categorical[['area_mapping','type_mapping']].to_numpy()], y_train_one_hot, \n",
        "          epochs=epochs, batch_size=128, \n",
        "          callbacks=[periodic_logger_250], verbose=0,\n",
        "          validation_data=([X_val_continuous, X_val_categorical[['area_mapping','type_mapping']].to_numpy()], y_val_one_hot))"
      ],
      "execution_count": 121,
      "outputs": [
        {
          "output_type": "stream",
          "text": [
            "/usr/local/lib/python3.6/dist-packages/tensorflow/python/framework/indexed_slices.py:434: UserWarning: Converting sparse IndexedSlices to a dense Tensor of unknown shape. This may consume a large amount of memory.\n",
            "  \"Converting sparse IndexedSlices to a dense Tensor of unknown shape. \"\n"
          ],
          "name": "stderr"
        },
        {
          "output_type": "stream",
          "text": [
            "Epoch: 250 - {'val_loss': 4.012602959950765, 'val_accuracy': 0.05066666752099991, 'loss': 4.036183134333292, 'accuracy': 0.0475}\n"
          ],
          "name": "stdout"
        },
        {
          "output_type": "error",
          "ename": "KeyboardInterrupt",
          "evalue": "ignored",
          "traceback": [
            "\u001b[0;31m---------------------------------------------------------------------------\u001b[0m",
            "\u001b[0;31mKeyboardInterrupt\u001b[0m                         Traceback (most recent call last)",
            "\u001b[0;32m<ipython-input-121-9d0eb217ddbd>\u001b[0m in \u001b[0;36m<module>\u001b[0;34m()\u001b[0m\n\u001b[1;32m      5\u001b[0m           \u001b[0mepochs\u001b[0m\u001b[0;34m=\u001b[0m\u001b[0mepochs\u001b[0m\u001b[0;34m,\u001b[0m \u001b[0mbatch_size\u001b[0m\u001b[0;34m=\u001b[0m\u001b[0;36m128\u001b[0m\u001b[0;34m,\u001b[0m\u001b[0;34m\u001b[0m\u001b[0;34m\u001b[0m\u001b[0m\n\u001b[1;32m      6\u001b[0m           \u001b[0mcallbacks\u001b[0m\u001b[0;34m=\u001b[0m\u001b[0;34m[\u001b[0m\u001b[0mperiodic_logger_250\u001b[0m\u001b[0;34m]\u001b[0m\u001b[0;34m,\u001b[0m \u001b[0mverbose\u001b[0m\u001b[0;34m=\u001b[0m\u001b[0;36m0\u001b[0m\u001b[0;34m,\u001b[0m\u001b[0;34m\u001b[0m\u001b[0;34m\u001b[0m\u001b[0m\n\u001b[0;32m----> 7\u001b[0;31m           validation_data=([X_val_continuous, X_val_categorical[['area_mapping','type_mapping']].to_numpy()], y_val_one_hot))\n\u001b[0m",
            "\u001b[0;32m/usr/local/lib/python3.6/dist-packages/keras/engine/training.py\u001b[0m in \u001b[0;36mfit\u001b[0;34m(self, x, y, batch_size, epochs, verbose, callbacks, validation_split, validation_data, shuffle, class_weight, sample_weight, initial_epoch, steps_per_epoch, validation_steps, validation_freq, max_queue_size, workers, use_multiprocessing, **kwargs)\u001b[0m\n\u001b[1;32m   1237\u001b[0m                                         \u001b[0msteps_per_epoch\u001b[0m\u001b[0;34m=\u001b[0m\u001b[0msteps_per_epoch\u001b[0m\u001b[0;34m,\u001b[0m\u001b[0;34m\u001b[0m\u001b[0;34m\u001b[0m\u001b[0m\n\u001b[1;32m   1238\u001b[0m                                         \u001b[0mvalidation_steps\u001b[0m\u001b[0;34m=\u001b[0m\u001b[0mvalidation_steps\u001b[0m\u001b[0;34m,\u001b[0m\u001b[0;34m\u001b[0m\u001b[0;34m\u001b[0m\u001b[0m\n\u001b[0;32m-> 1239\u001b[0;31m                                         validation_freq=validation_freq)\n\u001b[0m\u001b[1;32m   1240\u001b[0m \u001b[0;34m\u001b[0m\u001b[0m\n\u001b[1;32m   1241\u001b[0m     def evaluate(self,\n",
            "\u001b[0;32m/usr/local/lib/python3.6/dist-packages/keras/engine/training_arrays.py\u001b[0m in \u001b[0;36mfit_loop\u001b[0;34m(model, fit_function, fit_inputs, out_labels, batch_size, epochs, verbose, callbacks, val_function, val_inputs, shuffle, initial_epoch, steps_per_epoch, validation_steps, validation_freq)\u001b[0m\n\u001b[1;32m    194\u001b[0m                     \u001b[0mins_batch\u001b[0m\u001b[0;34m[\u001b[0m\u001b[0mi\u001b[0m\u001b[0;34m]\u001b[0m \u001b[0;34m=\u001b[0m \u001b[0mins_batch\u001b[0m\u001b[0;34m[\u001b[0m\u001b[0mi\u001b[0m\u001b[0;34m]\u001b[0m\u001b[0;34m.\u001b[0m\u001b[0mtoarray\u001b[0m\u001b[0;34m(\u001b[0m\u001b[0;34m)\u001b[0m\u001b[0;34m\u001b[0m\u001b[0;34m\u001b[0m\u001b[0m\n\u001b[1;32m    195\u001b[0m \u001b[0;34m\u001b[0m\u001b[0m\n\u001b[0;32m--> 196\u001b[0;31m                 \u001b[0mouts\u001b[0m \u001b[0;34m=\u001b[0m \u001b[0mfit_function\u001b[0m\u001b[0;34m(\u001b[0m\u001b[0mins_batch\u001b[0m\u001b[0;34m)\u001b[0m\u001b[0;34m\u001b[0m\u001b[0;34m\u001b[0m\u001b[0m\n\u001b[0m\u001b[1;32m    197\u001b[0m                 \u001b[0mouts\u001b[0m \u001b[0;34m=\u001b[0m \u001b[0mto_list\u001b[0m\u001b[0;34m(\u001b[0m\u001b[0mouts\u001b[0m\u001b[0;34m)\u001b[0m\u001b[0;34m\u001b[0m\u001b[0;34m\u001b[0m\u001b[0m\n\u001b[1;32m    198\u001b[0m                 \u001b[0;32mfor\u001b[0m \u001b[0ml\u001b[0m\u001b[0;34m,\u001b[0m \u001b[0mo\u001b[0m \u001b[0;32min\u001b[0m \u001b[0mzip\u001b[0m\u001b[0;34m(\u001b[0m\u001b[0mout_labels\u001b[0m\u001b[0;34m,\u001b[0m \u001b[0mouts\u001b[0m\u001b[0;34m)\u001b[0m\u001b[0;34m:\u001b[0m\u001b[0;34m\u001b[0m\u001b[0;34m\u001b[0m\u001b[0m\n",
            "\u001b[0;32m/usr/local/lib/python3.6/dist-packages/tensorflow/python/keras/backend.py\u001b[0m in \u001b[0;36m__call__\u001b[0;34m(self, inputs)\u001b[0m\n\u001b[1;32m   3790\u001b[0m         \u001b[0mvalue\u001b[0m \u001b[0;34m=\u001b[0m \u001b[0mmath_ops\u001b[0m\u001b[0;34m.\u001b[0m\u001b[0mcast\u001b[0m\u001b[0;34m(\u001b[0m\u001b[0mvalue\u001b[0m\u001b[0;34m,\u001b[0m \u001b[0mtensor\u001b[0m\u001b[0;34m.\u001b[0m\u001b[0mdtype\u001b[0m\u001b[0;34m)\u001b[0m\u001b[0;34m\u001b[0m\u001b[0;34m\u001b[0m\u001b[0m\n\u001b[1;32m   3791\u001b[0m       \u001b[0mconverted_inputs\u001b[0m\u001b[0;34m.\u001b[0m\u001b[0mappend\u001b[0m\u001b[0;34m(\u001b[0m\u001b[0mvalue\u001b[0m\u001b[0;34m)\u001b[0m\u001b[0;34m\u001b[0m\u001b[0;34m\u001b[0m\u001b[0m\n\u001b[0;32m-> 3792\u001b[0;31m     \u001b[0moutputs\u001b[0m \u001b[0;34m=\u001b[0m \u001b[0mself\u001b[0m\u001b[0;34m.\u001b[0m\u001b[0m_graph_fn\u001b[0m\u001b[0;34m(\u001b[0m\u001b[0;34m*\u001b[0m\u001b[0mconverted_inputs\u001b[0m\u001b[0;34m)\u001b[0m\u001b[0;34m\u001b[0m\u001b[0;34m\u001b[0m\u001b[0m\n\u001b[0m\u001b[1;32m   3793\u001b[0m \u001b[0;34m\u001b[0m\u001b[0m\n\u001b[1;32m   3794\u001b[0m     \u001b[0;31m# EagerTensor.numpy() will often make a copy to ensure memory safety.\u001b[0m\u001b[0;34m\u001b[0m\u001b[0;34m\u001b[0m\u001b[0;34m\u001b[0m\u001b[0m\n",
            "\u001b[0;32m/usr/local/lib/python3.6/dist-packages/tensorflow/python/eager/function.py\u001b[0m in \u001b[0;36m__call__\u001b[0;34m(self, *args, **kwargs)\u001b[0m\n\u001b[1;32m   1603\u001b[0m       \u001b[0mTypeError\u001b[0m\u001b[0;34m:\u001b[0m \u001b[0mFor\u001b[0m \u001b[0minvalid\u001b[0m \u001b[0mpositional\u001b[0m\u001b[0;34m/\u001b[0m\u001b[0mkeyword\u001b[0m \u001b[0margument\u001b[0m \u001b[0mcombinations\u001b[0m\u001b[0;34m.\u001b[0m\u001b[0;34m\u001b[0m\u001b[0;34m\u001b[0m\u001b[0m\n\u001b[1;32m   1604\u001b[0m     \"\"\"\n\u001b[0;32m-> 1605\u001b[0;31m     \u001b[0;32mreturn\u001b[0m \u001b[0mself\u001b[0m\u001b[0;34m.\u001b[0m\u001b[0m_call_impl\u001b[0m\u001b[0;34m(\u001b[0m\u001b[0margs\u001b[0m\u001b[0;34m,\u001b[0m \u001b[0mkwargs\u001b[0m\u001b[0;34m)\u001b[0m\u001b[0;34m\u001b[0m\u001b[0;34m\u001b[0m\u001b[0m\n\u001b[0m\u001b[1;32m   1606\u001b[0m \u001b[0;34m\u001b[0m\u001b[0m\n\u001b[1;32m   1607\u001b[0m   \u001b[0;32mdef\u001b[0m \u001b[0m_call_impl\u001b[0m\u001b[0;34m(\u001b[0m\u001b[0mself\u001b[0m\u001b[0;34m,\u001b[0m \u001b[0margs\u001b[0m\u001b[0;34m,\u001b[0m \u001b[0mkwargs\u001b[0m\u001b[0;34m,\u001b[0m \u001b[0mcancellation_manager\u001b[0m\u001b[0;34m=\u001b[0m\u001b[0;32mNone\u001b[0m\u001b[0;34m)\u001b[0m\u001b[0;34m:\u001b[0m\u001b[0;34m\u001b[0m\u001b[0;34m\u001b[0m\u001b[0m\n",
            "\u001b[0;32m/usr/local/lib/python3.6/dist-packages/tensorflow/python/eager/function.py\u001b[0m in \u001b[0;36m_call_impl\u001b[0;34m(self, args, kwargs, cancellation_manager)\u001b[0m\n\u001b[1;32m   1643\u001b[0m       raise TypeError(\"Keyword arguments {} unknown. Expected {}.\".format(\n\u001b[1;32m   1644\u001b[0m           list(kwargs.keys()), list(self._arg_keywords)))\n\u001b[0;32m-> 1645\u001b[0;31m     \u001b[0;32mreturn\u001b[0m \u001b[0mself\u001b[0m\u001b[0;34m.\u001b[0m\u001b[0m_call_flat\u001b[0m\u001b[0;34m(\u001b[0m\u001b[0margs\u001b[0m\u001b[0;34m,\u001b[0m \u001b[0mself\u001b[0m\u001b[0;34m.\u001b[0m\u001b[0mcaptured_inputs\u001b[0m\u001b[0;34m,\u001b[0m \u001b[0mcancellation_manager\u001b[0m\u001b[0;34m)\u001b[0m\u001b[0;34m\u001b[0m\u001b[0;34m\u001b[0m\u001b[0m\n\u001b[0m\u001b[1;32m   1646\u001b[0m \u001b[0;34m\u001b[0m\u001b[0m\n\u001b[1;32m   1647\u001b[0m   \u001b[0;32mdef\u001b[0m \u001b[0m_filtered_call\u001b[0m\u001b[0;34m(\u001b[0m\u001b[0mself\u001b[0m\u001b[0;34m,\u001b[0m \u001b[0margs\u001b[0m\u001b[0;34m,\u001b[0m \u001b[0mkwargs\u001b[0m\u001b[0;34m)\u001b[0m\u001b[0;34m:\u001b[0m\u001b[0;34m\u001b[0m\u001b[0;34m\u001b[0m\u001b[0m\n",
            "\u001b[0;32m/usr/local/lib/python3.6/dist-packages/tensorflow/python/eager/function.py\u001b[0m in \u001b[0;36m_call_flat\u001b[0;34m(self, args, captured_inputs, cancellation_manager)\u001b[0m\n\u001b[1;32m   1744\u001b[0m       \u001b[0;31m# No tape is watching; skip to running the function.\u001b[0m\u001b[0;34m\u001b[0m\u001b[0;34m\u001b[0m\u001b[0;34m\u001b[0m\u001b[0m\n\u001b[1;32m   1745\u001b[0m       return self._build_call_outputs(self._inference_function.call(\n\u001b[0;32m-> 1746\u001b[0;31m           ctx, args, cancellation_manager=cancellation_manager))\n\u001b[0m\u001b[1;32m   1747\u001b[0m     forward_backward = self._select_forward_and_backward_functions(\n\u001b[1;32m   1748\u001b[0m         \u001b[0margs\u001b[0m\u001b[0;34m,\u001b[0m\u001b[0;34m\u001b[0m\u001b[0;34m\u001b[0m\u001b[0m\n",
            "\u001b[0;32m/usr/local/lib/python3.6/dist-packages/tensorflow/python/eager/function.py\u001b[0m in \u001b[0;36mcall\u001b[0;34m(self, ctx, args, cancellation_manager)\u001b[0m\n\u001b[1;32m    596\u001b[0m               \u001b[0minputs\u001b[0m\u001b[0;34m=\u001b[0m\u001b[0margs\u001b[0m\u001b[0;34m,\u001b[0m\u001b[0;34m\u001b[0m\u001b[0;34m\u001b[0m\u001b[0m\n\u001b[1;32m    597\u001b[0m               \u001b[0mattrs\u001b[0m\u001b[0;34m=\u001b[0m\u001b[0mattrs\u001b[0m\u001b[0;34m,\u001b[0m\u001b[0;34m\u001b[0m\u001b[0;34m\u001b[0m\u001b[0m\n\u001b[0;32m--> 598\u001b[0;31m               ctx=ctx)\n\u001b[0m\u001b[1;32m    599\u001b[0m         \u001b[0;32melse\u001b[0m\u001b[0;34m:\u001b[0m\u001b[0;34m\u001b[0m\u001b[0;34m\u001b[0m\u001b[0m\n\u001b[1;32m    600\u001b[0m           outputs = execute.execute_with_cancellation(\n",
            "\u001b[0;32m/usr/local/lib/python3.6/dist-packages/tensorflow/python/eager/execute.py\u001b[0m in \u001b[0;36mquick_execute\u001b[0;34m(op_name, num_outputs, inputs, attrs, ctx, name)\u001b[0m\n\u001b[1;32m     58\u001b[0m     \u001b[0mctx\u001b[0m\u001b[0;34m.\u001b[0m\u001b[0mensure_initialized\u001b[0m\u001b[0;34m(\u001b[0m\u001b[0;34m)\u001b[0m\u001b[0;34m\u001b[0m\u001b[0;34m\u001b[0m\u001b[0m\n\u001b[1;32m     59\u001b[0m     tensors = pywrap_tfe.TFE_Py_Execute(ctx._handle, device_name, op_name,\n\u001b[0;32m---> 60\u001b[0;31m                                         inputs, attrs, num_outputs)\n\u001b[0m\u001b[1;32m     61\u001b[0m   \u001b[0;32mexcept\u001b[0m \u001b[0mcore\u001b[0m\u001b[0;34m.\u001b[0m\u001b[0m_NotOkStatusException\u001b[0m \u001b[0;32mas\u001b[0m \u001b[0me\u001b[0m\u001b[0;34m:\u001b[0m\u001b[0;34m\u001b[0m\u001b[0;34m\u001b[0m\u001b[0m\n\u001b[1;32m     62\u001b[0m     \u001b[0;32mif\u001b[0m \u001b[0mname\u001b[0m \u001b[0;32mis\u001b[0m \u001b[0;32mnot\u001b[0m \u001b[0;32mNone\u001b[0m\u001b[0;34m:\u001b[0m\u001b[0;34m\u001b[0m\u001b[0;34m\u001b[0m\u001b[0m\n",
            "\u001b[0;31mKeyboardInterrupt\u001b[0m: "
          ]
        }
      ]
    }
  ]
}